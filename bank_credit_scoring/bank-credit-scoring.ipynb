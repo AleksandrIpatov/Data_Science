{
 "cells": [
  {
   "cell_type": "markdown",
   "id": "7c6e43c2",
   "metadata": {
    "papermill": {
     "duration": 0.050415,
     "end_time": "2021-11-21T19:14:44.261915",
     "exception": false,
     "start_time": "2021-11-21T19:14:44.211500",
     "status": "completed"
    },
    "tags": []
   },
   "source": [
    "# Проект № 5 - Компьютер говорит \"Нет\""
   ]
  },
  {
   "cell_type": "markdown",
   "id": "18ab73ab",
   "metadata": {
    "papermill": {
     "duration": 0.049077,
     "end_time": "2021-11-21T19:14:44.359799",
     "exception": false,
     "start_time": "2021-11-21T19:14:44.310722",
     "status": "completed"
    },
    "tags": []
   },
   "source": [
    "Суть проекта - построить модель банковского скоринга с помощью модели Логистической регрессии"
   ]
  },
  {
   "cell_type": "markdown",
   "id": "6a8d4397",
   "metadata": {
    "execution": {
     "iopub.execute_input": "2021-11-15T18:19:33.422532Z",
     "iopub.status.busy": "2021-11-15T18:19:33.422231Z",
     "iopub.status.idle": "2021-11-15T18:19:33.428642Z",
     "shell.execute_reply": "2021-11-15T18:19:33.427407Z",
     "shell.execute_reply.started": "2021-11-15T18:19:33.422501Z"
    },
    "papermill": {
     "duration": 0.049889,
     "end_time": "2021-11-21T19:14:44.458870",
     "exception": false,
     "start_time": "2021-11-21T19:14:44.408981",
     "status": "completed"
    },
    "tags": []
   },
   "source": [
    "Загружаем библиотеки"
   ]
  },
  {
   "cell_type": "code",
   "execution_count": 1,
   "id": "33872c2f",
   "metadata": {
    "execution": {
     "iopub.execute_input": "2021-11-21T19:14:44.565034Z",
     "iopub.status.busy": "2021-11-21T19:14:44.559906Z",
     "iopub.status.idle": "2021-11-21T19:14:45.928264Z",
     "shell.execute_reply": "2021-11-21T19:14:45.928802Z",
     "shell.execute_reply.started": "2021-11-21T19:14:22.941477Z"
    },
    "papermill": {
     "duration": 1.421701,
     "end_time": "2021-11-21T19:14:45.929129",
     "exception": false,
     "start_time": "2021-11-21T19:14:44.507428",
     "status": "completed"
    },
    "tags": []
   },
   "outputs": [],
   "source": [
    "from pandas import Series\n",
    "import pandas as pd\n",
    "import numpy as np\n",
    "\n",
    "\n",
    "import matplotlib.pyplot as plt\n",
    "import seaborn as sns\n",
    "\n",
    "from sklearn.feature_selection import f_classif, mutual_info_classif\n",
    "from sklearn.preprocessing import LabelEncoder, OneHotEncoder, StandardScaler\n",
    "\n",
    "from sklearn.model_selection import train_test_split\n",
    "from sklearn.linear_model import LogisticRegression\n",
    "\n",
    "\n",
    "from sklearn.metrics import confusion_matrix\n",
    "from sklearn.metrics import auc, roc_auc_score, roc_curve\n",
    "from sklearn.metrics import accuracy_score,precision_score, recall_score, f1_score\n",
    "\n",
    "from datetime import datetime, timedelta"
   ]
  },
  {
   "cell_type": "markdown",
   "id": "656733ec",
   "metadata": {
    "papermill": {
     "duration": 0.050428,
     "end_time": "2021-11-21T19:14:46.028600",
     "exception": false,
     "start_time": "2021-11-21T19:14:45.978172",
     "status": "completed"
    },
    "tags": []
   },
   "source": [
    "Загружаем данные"
   ]
  },
  {
   "cell_type": "code",
   "execution_count": 2,
   "id": "280446ef",
   "metadata": {
    "execution": {
     "iopub.execute_input": "2021-11-21T19:14:46.192222Z",
     "iopub.status.busy": "2021-11-21T19:14:46.191533Z",
     "iopub.status.idle": "2021-11-21T19:14:46.531806Z",
     "shell.execute_reply": "2021-11-21T19:14:46.532301Z",
     "shell.execute_reply.started": "2021-11-21T19:13:49.535152Z"
    },
    "papermill": {
     "duration": 0.454288,
     "end_time": "2021-11-21T19:14:46.532483",
     "exception": false,
     "start_time": "2021-11-21T19:14:46.078195",
     "status": "completed"
    },
    "tags": []
   },
   "outputs": [],
   "source": [
    "PATH_to_file = '/kaggle/input/sf-dst-scoring/'\n",
    "train = pd.read_csv(PATH_to_file + 'train.csv')\n",
    "test = pd.read_csv(PATH_to_file + 'test.csv')\n",
    "sample_submission = pd.read_csv(PATH_to_file + 'sample_submission.csv')"
   ]
  },
  {
   "cell_type": "code",
   "execution_count": 3,
   "id": "1683da3f",
   "metadata": {
    "execution": {
     "iopub.execute_input": "2021-11-21T19:14:46.635787Z",
     "iopub.status.busy": "2021-11-21T19:14:46.635045Z",
     "iopub.status.idle": "2021-11-21T19:14:46.729840Z",
     "shell.execute_reply": "2021-11-21T19:14:46.730366Z",
     "shell.execute_reply.started": "2021-11-21T19:13:49.759538Z"
    },
    "papermill": {
     "duration": 0.147804,
     "end_time": "2021-11-21T19:14:46.730542",
     "exception": false,
     "start_time": "2021-11-21T19:14:46.582738",
     "status": "completed"
    },
    "tags": []
   },
   "outputs": [
    {
     "data": {
      "text/html": [
       "<div>\n",
       "<style scoped>\n",
       "    .dataframe tbody tr th:only-of-type {\n",
       "        vertical-align: middle;\n",
       "    }\n",
       "\n",
       "    .dataframe tbody tr th {\n",
       "        vertical-align: top;\n",
       "    }\n",
       "\n",
       "    .dataframe thead th {\n",
       "        text-align: right;\n",
       "    }\n",
       "</style>\n",
       "<table border=\"1\" class=\"dataframe\">\n",
       "  <thead>\n",
       "    <tr style=\"text-align: right;\">\n",
       "      <th></th>\n",
       "      <th>client_id</th>\n",
       "      <th>app_date</th>\n",
       "      <th>education</th>\n",
       "      <th>sex</th>\n",
       "      <th>age</th>\n",
       "      <th>car</th>\n",
       "      <th>car_type</th>\n",
       "      <th>decline_app_cnt</th>\n",
       "      <th>good_work</th>\n",
       "      <th>score_bki</th>\n",
       "      <th>bki_request_cnt</th>\n",
       "      <th>region_rating</th>\n",
       "      <th>home_address</th>\n",
       "      <th>work_address</th>\n",
       "      <th>income</th>\n",
       "      <th>sna</th>\n",
       "      <th>first_time</th>\n",
       "      <th>foreign_passport</th>\n",
       "      <th>default</th>\n",
       "      <th>train</th>\n",
       "    </tr>\n",
       "  </thead>\n",
       "  <tbody>\n",
       "    <tr>\n",
       "      <th>17022</th>\n",
       "      <td>21419</td>\n",
       "      <td>28JAN2014</td>\n",
       "      <td>UGR</td>\n",
       "      <td>M</td>\n",
       "      <td>54</td>\n",
       "      <td>N</td>\n",
       "      <td>N</td>\n",
       "      <td>0</td>\n",
       "      <td>0</td>\n",
       "      <td>-1.553455</td>\n",
       "      <td>1</td>\n",
       "      <td>40</td>\n",
       "      <td>2</td>\n",
       "      <td>2</td>\n",
       "      <td>20000</td>\n",
       "      <td>1</td>\n",
       "      <td>2</td>\n",
       "      <td>N</td>\n",
       "      <td>0.0</td>\n",
       "      <td>1</td>\n",
       "    </tr>\n",
       "    <tr>\n",
       "      <th>21013</th>\n",
       "      <td>70660</td>\n",
       "      <td>18MAR2014</td>\n",
       "      <td>GRD</td>\n",
       "      <td>F</td>\n",
       "      <td>25</td>\n",
       "      <td>N</td>\n",
       "      <td>N</td>\n",
       "      <td>0</td>\n",
       "      <td>0</td>\n",
       "      <td>-2.442509</td>\n",
       "      <td>0</td>\n",
       "      <td>60</td>\n",
       "      <td>1</td>\n",
       "      <td>1</td>\n",
       "      <td>27500</td>\n",
       "      <td>3</td>\n",
       "      <td>2</td>\n",
       "      <td>Y</td>\n",
       "      <td>0.0</td>\n",
       "      <td>1</td>\n",
       "    </tr>\n",
       "    <tr>\n",
       "      <th>74059</th>\n",
       "      <td>86263</td>\n",
       "      <td>02APR2014</td>\n",
       "      <td>SCH</td>\n",
       "      <td>M</td>\n",
       "      <td>35</td>\n",
       "      <td>N</td>\n",
       "      <td>N</td>\n",
       "      <td>1</td>\n",
       "      <td>0</td>\n",
       "      <td>-1.624181</td>\n",
       "      <td>2</td>\n",
       "      <td>70</td>\n",
       "      <td>2</td>\n",
       "      <td>3</td>\n",
       "      <td>55000</td>\n",
       "      <td>1</td>\n",
       "      <td>3</td>\n",
       "      <td>N</td>\n",
       "      <td>NaN</td>\n",
       "      <td>0</td>\n",
       "    </tr>\n",
       "    <tr>\n",
       "      <th>1936</th>\n",
       "      <td>42275</td>\n",
       "      <td>18FEB2014</td>\n",
       "      <td>GRD</td>\n",
       "      <td>M</td>\n",
       "      <td>65</td>\n",
       "      <td>N</td>\n",
       "      <td>N</td>\n",
       "      <td>0</td>\n",
       "      <td>0</td>\n",
       "      <td>-2.017634</td>\n",
       "      <td>2</td>\n",
       "      <td>60</td>\n",
       "      <td>2</td>\n",
       "      <td>3</td>\n",
       "      <td>45000</td>\n",
       "      <td>1</td>\n",
       "      <td>4</td>\n",
       "      <td>N</td>\n",
       "      <td>0.0</td>\n",
       "      <td>1</td>\n",
       "    </tr>\n",
       "    <tr>\n",
       "      <th>35944</th>\n",
       "      <td>29714</td>\n",
       "      <td>05FEB2014</td>\n",
       "      <td>GRD</td>\n",
       "      <td>F</td>\n",
       "      <td>32</td>\n",
       "      <td>Y</td>\n",
       "      <td>Y</td>\n",
       "      <td>0</td>\n",
       "      <td>0</td>\n",
       "      <td>-2.165630</td>\n",
       "      <td>0</td>\n",
       "      <td>50</td>\n",
       "      <td>2</td>\n",
       "      <td>3</td>\n",
       "      <td>50000</td>\n",
       "      <td>1</td>\n",
       "      <td>3</td>\n",
       "      <td>N</td>\n",
       "      <td>0.0</td>\n",
       "      <td>1</td>\n",
       "    </tr>\n",
       "  </tbody>\n",
       "</table>\n",
       "</div>"
      ],
      "text/plain": [
       "       client_id   app_date education sex  age car car_type  decline_app_cnt  \\\n",
       "17022      21419  28JAN2014       UGR   M   54   N        N                0   \n",
       "21013      70660  18MAR2014       GRD   F   25   N        N                0   \n",
       "74059      86263  02APR2014       SCH   M   35   N        N                1   \n",
       "1936       42275  18FEB2014       GRD   M   65   N        N                0   \n",
       "35944      29714  05FEB2014       GRD   F   32   Y        Y                0   \n",
       "\n",
       "       good_work  score_bki  bki_request_cnt  region_rating  home_address  \\\n",
       "17022          0  -1.553455                1             40             2   \n",
       "21013          0  -2.442509                0             60             1   \n",
       "74059          0  -1.624181                2             70             2   \n",
       "1936           0  -2.017634                2             60             2   \n",
       "35944          0  -2.165630                0             50             2   \n",
       "\n",
       "       work_address  income  sna  first_time foreign_passport  default  train  \n",
       "17022             2   20000    1           2                N      0.0      1  \n",
       "21013             1   27500    3           2                Y      0.0      1  \n",
       "74059             3   55000    1           3                N      NaN      0  \n",
       "1936              3   45000    1           4                N      0.0      1  \n",
       "35944             3   50000    1           3                N      0.0      1  "
      ]
     },
     "execution_count": 3,
     "metadata": {},
     "output_type": "execute_result"
    }
   ],
   "source": [
    "# Объединяем тренировочные и тестовые данные в один датасет.\n",
    "train['train'] = 1 # помечаем тренировочные\n",
    "test['train'] = 0 # помечаем тестовые\n",
    "data = pd.concat([train, test], ignore_index=True)\n",
    "data.sample(5)"
   ]
  },
  {
   "cell_type": "code",
   "execution_count": 4,
   "id": "d8031f7a",
   "metadata": {
    "execution": {
     "iopub.execute_input": "2021-11-21T19:14:46.834794Z",
     "iopub.status.busy": "2021-11-21T19:14:46.834132Z",
     "iopub.status.idle": "2021-11-21T19:14:46.840541Z",
     "shell.execute_reply": "2021-11-21T19:14:46.841504Z",
     "shell.execute_reply.started": "2021-11-21T19:13:49.909404Z"
    },
    "papermill": {
     "duration": 0.060732,
     "end_time": "2021-11-21T19:14:46.841758",
     "exception": false,
     "start_time": "2021-11-21T19:14:46.781026",
     "status": "completed"
    },
    "tags": []
   },
   "outputs": [
    {
     "name": "stdout",
     "output_type": "stream",
     "text": [
      "Размер тренировочного датасета: \n",
      "(73799, 20)\n",
      "Размер тестового датасета: \n",
      "(36349, 19)\n",
      "Размер объединенного датасета: \n",
      "110148\n"
     ]
    }
   ],
   "source": [
    "# Для контроля зафиксируем размер тренировочного и тестового датасетов.\n",
    "print('Размер тренировочного датасета: ', train.shape,\n",
    "      'Размер тестового датасета: ', test.shape, \n",
    "      'Размер объединенного датасета: ',\n",
    "      train.shape[0]+test.shape[0], sep='\\n')"
   ]
  },
  {
   "cell_type": "markdown",
   "id": "574e8f83",
   "metadata": {
    "papermill": {
     "duration": 0.049347,
     "end_time": "2021-11-21T19:14:46.942687",
     "exception": false,
     "start_time": "2021-11-21T19:14:46.893340",
     "status": "completed"
    },
    "tags": []
   },
   "source": [
    "## Описание признаков:\n",
    "client_id - идентификатор клиента\n",
    "\n",
    "education - уровень образования\n",
    "\n",
    "sex - пол заемщика\n",
    "\n",
    "age - возраст заемщика\n",
    "\n",
    "car - флаг наличия автомобиля\n",
    "\n",
    "car_type - флаг автомобиля иномарки\n",
    "\n",
    "decline_app_cnt - количество отказанных прошлых заявок\n",
    "\n",
    "good_work - флаг наличия “хорошей” работы\n",
    "\n",
    "bki_request_cnt - количество запросов в БКИ\n",
    "\n",
    "home_address - категоризатор домашнего адреса\n",
    "\n",
    "work_address - категоризатор рабочего адреса\n",
    "\n",
    "income - доход заемщика\n",
    "\n",
    "foreign_passport - наличие загранпаспорта\n",
    "\n",
    "sna - связь заемщика с клиентами банка\n",
    "\n",
    "first_time - давность наличия информации о заемщике\n",
    "\n",
    "score_bki - скоринговый балл по данным из БКИ\n",
    "\n",
    "region_rating - рейтинг региона\n",
    "\n",
    "app_date - дата подачи заявки\n",
    "\n",
    "default - флаг дефолта по кредиту"
   ]
  },
  {
   "cell_type": "code",
   "execution_count": 5,
   "id": "cbc7ee41",
   "metadata": {
    "execution": {
     "iopub.execute_input": "2021-11-21T19:14:47.049248Z",
     "iopub.status.busy": "2021-11-21T19:14:47.048305Z",
     "iopub.status.idle": "2021-11-21T19:14:47.139287Z",
     "shell.execute_reply": "2021-11-21T19:14:47.139822Z",
     "shell.execute_reply.started": "2021-11-21T18:40:05.010976Z"
    },
    "papermill": {
     "duration": 0.147591,
     "end_time": "2021-11-21T19:14:47.140013",
     "exception": false,
     "start_time": "2021-11-21T19:14:46.992422",
     "status": "completed"
    },
    "tags": []
   },
   "outputs": [
    {
     "name": "stdout",
     "output_type": "stream",
     "text": [
      "<class 'pandas.core.frame.DataFrame'>\n",
      "RangeIndex: 110148 entries, 0 to 110147\n",
      "Data columns (total 20 columns):\n",
      " #   Column            Non-Null Count   Dtype  \n",
      "---  ------            --------------   -----  \n",
      " 0   client_id         110148 non-null  int64  \n",
      " 1   app_date          110148 non-null  object \n",
      " 2   education         109670 non-null  object \n",
      " 3   sex               110148 non-null  object \n",
      " 4   age               110148 non-null  int64  \n",
      " 5   car               110148 non-null  object \n",
      " 6   car_type          110148 non-null  object \n",
      " 7   decline_app_cnt   110148 non-null  int64  \n",
      " 8   good_work         110148 non-null  int64  \n",
      " 9   score_bki         110148 non-null  float64\n",
      " 10  bki_request_cnt   110148 non-null  int64  \n",
      " 11  region_rating     110148 non-null  int64  \n",
      " 12  home_address      110148 non-null  int64  \n",
      " 13  work_address      110148 non-null  int64  \n",
      " 14  income            110148 non-null  int64  \n",
      " 15  sna               110148 non-null  int64  \n",
      " 16  first_time        110148 non-null  int64  \n",
      " 17  foreign_passport  110148 non-null  object \n",
      " 18  default           73799 non-null   float64\n",
      " 19  train             110148 non-null  int64  \n",
      "dtypes: float64(2), int64(12), object(6)\n",
      "memory usage: 16.8+ MB\n"
     ]
    }
   ],
   "source": [
    "data.info()"
   ]
  },
  {
   "cell_type": "markdown",
   "id": "7e32fcc0",
   "metadata": {
    "papermill": {
     "duration": 0.049806,
     "end_time": "2021-11-21T19:14:47.240817",
     "exception": false,
     "start_time": "2021-11-21T19:14:47.191011",
     "status": "completed"
    },
    "tags": []
   },
   "source": [
    "Признак 'client_id' - не нужен, т.к. не влияет на оценку вероятности \"дефолта\" при выдаче кредита. Однако, для представления решения на площадке соревнования Kaggle - нужно сопоставлять данные по client_id - поэтому не убираем столбец "
   ]
  },
  {
   "cell_type": "markdown",
   "id": "752a0dc1",
   "metadata": {
    "papermill": {
     "duration": 0.050062,
     "end_time": "2021-11-21T19:14:47.341138",
     "exception": false,
     "start_time": "2021-11-21T19:14:47.291076",
     "status": "completed"
    },
    "tags": []
   },
   "source": [
    "Проверим число пропущенных значений"
   ]
  },
  {
   "cell_type": "code",
   "execution_count": 6,
   "id": "4909aa24",
   "metadata": {
    "execution": {
     "iopub.execute_input": "2021-11-21T19:14:47.446436Z",
     "iopub.status.busy": "2021-11-21T19:14:47.445329Z",
     "iopub.status.idle": "2021-11-21T19:14:47.528129Z",
     "shell.execute_reply": "2021-11-21T19:14:47.528686Z",
     "shell.execute_reply.started": "2021-11-21T18:41:04.667395Z"
    },
    "papermill": {
     "duration": 0.137513,
     "end_time": "2021-11-21T19:14:47.528875",
     "exception": false,
     "start_time": "2021-11-21T19:14:47.391362",
     "status": "completed"
    },
    "tags": []
   },
   "outputs": [
    {
     "data": {
      "text/plain": [
       "client_id               0\n",
       "app_date                0\n",
       "education             478\n",
       "sex                     0\n",
       "age                     0\n",
       "car                     0\n",
       "car_type                0\n",
       "decline_app_cnt         0\n",
       "good_work               0\n",
       "score_bki               0\n",
       "bki_request_cnt         0\n",
       "region_rating           0\n",
       "home_address            0\n",
       "work_address            0\n",
       "income                  0\n",
       "sna                     0\n",
       "first_time              0\n",
       "foreign_passport        0\n",
       "default             36349\n",
       "train                   0\n",
       "dtype: int64"
      ]
     },
     "execution_count": 6,
     "metadata": {},
     "output_type": "execute_result"
    }
   ],
   "source": [
    "data.isna().sum()"
   ]
  },
  {
   "cell_type": "markdown",
   "id": "df8d745c",
   "metadata": {
    "papermill": {
     "duration": 0.05014,
     "end_time": "2021-11-21T19:14:47.629297",
     "exception": false,
     "start_time": "2021-11-21T19:14:47.579157",
     "status": "completed"
    },
    "tags": []
   },
   "source": [
    "Пропущены значения только в признаке 'education' (не считая значения дефолта на test).\n",
    "Заполним пропуски по данному значению"
   ]
  },
  {
   "cell_type": "code",
   "execution_count": 7,
   "id": "0cd302bd",
   "metadata": {
    "execution": {
     "iopub.execute_input": "2021-11-21T19:14:47.734378Z",
     "iopub.status.busy": "2021-11-21T19:14:47.733339Z",
     "iopub.status.idle": "2021-11-21T19:14:47.772235Z",
     "shell.execute_reply": "2021-11-21T19:14:47.771634Z",
     "shell.execute_reply.started": "2021-11-21T18:41:08.703682Z"
    },
    "papermill": {
     "duration": 0.092416,
     "end_time": "2021-11-21T19:14:47.772387",
     "exception": false,
     "start_time": "2021-11-21T19:14:47.679971",
     "status": "completed"
    },
    "tags": []
   },
   "outputs": [
    {
     "data": {
      "text/plain": [
       "SCH     57998\n",
       "GRD     34768\n",
       "UGR     14748\n",
       "PGR      1865\n",
       "None      478\n",
       "ACD       291\n",
       "Name: education, dtype: int64"
      ]
     },
     "execution_count": 7,
     "metadata": {},
     "output_type": "execute_result"
    }
   ],
   "source": [
    "data.education = data.education.fillna('None')\n",
    "data.education.value_counts()"
   ]
  },
  {
   "cell_type": "markdown",
   "id": "e0013eed",
   "metadata": {
    "papermill": {
     "duration": 0.050584,
     "end_time": "2021-11-21T19:14:47.875223",
     "exception": false,
     "start_time": "2021-11-21T19:14:47.824639",
     "status": "completed"
    },
    "tags": []
   },
   "source": [
    "Замена на 'None' спорный вариант, т.к. его в 1.5 раза больше, чем реально существующий тип ACD. В процессе проверки работоспособности модели возможно применять различные варианты заполнения пропусков (например, на самый частый, либо все имеющиеся в той же пропорции, как и реально указанные)."
   ]
  },
  {
   "cell_type": "code",
   "execution_count": 8,
   "id": "8a9dcf9d",
   "metadata": {
    "execution": {
     "iopub.execute_input": "2021-11-21T19:14:47.981830Z",
     "iopub.status.busy": "2021-11-21T19:14:47.980669Z",
     "iopub.status.idle": "2021-11-21T19:14:48.008634Z",
     "shell.execute_reply": "2021-11-21T19:14:48.009242Z",
     "shell.execute_reply.started": "2021-11-21T18:41:10.230538Z"
    },
    "papermill": {
     "duration": 0.083054,
     "end_time": "2021-11-21T19:14:48.009430",
     "exception": false,
     "start_time": "2021-11-21T19:14:47.926376",
     "status": "completed"
    },
    "tags": []
   },
   "outputs": [
    {
     "data": {
      "text/html": [
       "<div>\n",
       "<style scoped>\n",
       "    .dataframe tbody tr th:only-of-type {\n",
       "        vertical-align: middle;\n",
       "    }\n",
       "\n",
       "    .dataframe tbody tr th {\n",
       "        vertical-align: top;\n",
       "    }\n",
       "\n",
       "    .dataframe thead th {\n",
       "        text-align: right;\n",
       "    }\n",
       "</style>\n",
       "<table border=\"1\" class=\"dataframe\">\n",
       "  <thead>\n",
       "    <tr style=\"text-align: right;\">\n",
       "      <th></th>\n",
       "      <th>client_id</th>\n",
       "      <th>app_date</th>\n",
       "      <th>education</th>\n",
       "      <th>sex</th>\n",
       "      <th>age</th>\n",
       "      <th>car</th>\n",
       "      <th>car_type</th>\n",
       "      <th>decline_app_cnt</th>\n",
       "      <th>good_work</th>\n",
       "      <th>score_bki</th>\n",
       "      <th>bki_request_cnt</th>\n",
       "      <th>region_rating</th>\n",
       "      <th>home_address</th>\n",
       "      <th>work_address</th>\n",
       "      <th>income</th>\n",
       "      <th>sna</th>\n",
       "      <th>first_time</th>\n",
       "      <th>foreign_passport</th>\n",
       "      <th>default</th>\n",
       "      <th>train</th>\n",
       "    </tr>\n",
       "  </thead>\n",
       "  <tbody>\n",
       "    <tr>\n",
       "      <th>102128</th>\n",
       "      <td>85037</td>\n",
       "      <td>01APR2014</td>\n",
       "      <td>GRD</td>\n",
       "      <td>F</td>\n",
       "      <td>27</td>\n",
       "      <td>N</td>\n",
       "      <td>N</td>\n",
       "      <td>0</td>\n",
       "      <td>0</td>\n",
       "      <td>-1.759437</td>\n",
       "      <td>1</td>\n",
       "      <td>60</td>\n",
       "      <td>2</td>\n",
       "      <td>3</td>\n",
       "      <td>28000</td>\n",
       "      <td>1</td>\n",
       "      <td>3</td>\n",
       "      <td>N</td>\n",
       "      <td>NaN</td>\n",
       "      <td>0</td>\n",
       "    </tr>\n",
       "    <tr>\n",
       "      <th>42438</th>\n",
       "      <td>95480</td>\n",
       "      <td>11APR2014</td>\n",
       "      <td>GRD</td>\n",
       "      <td>F</td>\n",
       "      <td>37</td>\n",
       "      <td>N</td>\n",
       "      <td>N</td>\n",
       "      <td>0</td>\n",
       "      <td>0</td>\n",
       "      <td>-2.348444</td>\n",
       "      <td>1</td>\n",
       "      <td>60</td>\n",
       "      <td>2</td>\n",
       "      <td>3</td>\n",
       "      <td>20000</td>\n",
       "      <td>1</td>\n",
       "      <td>2</td>\n",
       "      <td>N</td>\n",
       "      <td>0.0</td>\n",
       "      <td>1</td>\n",
       "    </tr>\n",
       "    <tr>\n",
       "      <th>11436</th>\n",
       "      <td>14047</td>\n",
       "      <td>21JAN2014</td>\n",
       "      <td>SCH</td>\n",
       "      <td>M</td>\n",
       "      <td>46</td>\n",
       "      <td>Y</td>\n",
       "      <td>N</td>\n",
       "      <td>0</td>\n",
       "      <td>0</td>\n",
       "      <td>-2.468647</td>\n",
       "      <td>6</td>\n",
       "      <td>40</td>\n",
       "      <td>2</td>\n",
       "      <td>3</td>\n",
       "      <td>30000</td>\n",
       "      <td>1</td>\n",
       "      <td>3</td>\n",
       "      <td>N</td>\n",
       "      <td>0.0</td>\n",
       "      <td>1</td>\n",
       "    </tr>\n",
       "    <tr>\n",
       "      <th>33566</th>\n",
       "      <td>51840</td>\n",
       "      <td>28FEB2014</td>\n",
       "      <td>PGR</td>\n",
       "      <td>M</td>\n",
       "      <td>27</td>\n",
       "      <td>N</td>\n",
       "      <td>N</td>\n",
       "      <td>1</td>\n",
       "      <td>0</td>\n",
       "      <td>-2.672458</td>\n",
       "      <td>0</td>\n",
       "      <td>80</td>\n",
       "      <td>2</td>\n",
       "      <td>3</td>\n",
       "      <td>10000</td>\n",
       "      <td>1</td>\n",
       "      <td>3</td>\n",
       "      <td>N</td>\n",
       "      <td>0.0</td>\n",
       "      <td>1</td>\n",
       "    </tr>\n",
       "    <tr>\n",
       "      <th>90837</th>\n",
       "      <td>28046</td>\n",
       "      <td>04FEB2014</td>\n",
       "      <td>SCH</td>\n",
       "      <td>M</td>\n",
       "      <td>26</td>\n",
       "      <td>N</td>\n",
       "      <td>N</td>\n",
       "      <td>0</td>\n",
       "      <td>0</td>\n",
       "      <td>-1.852779</td>\n",
       "      <td>6</td>\n",
       "      <td>50</td>\n",
       "      <td>1</td>\n",
       "      <td>1</td>\n",
       "      <td>25000</td>\n",
       "      <td>1</td>\n",
       "      <td>3</td>\n",
       "      <td>N</td>\n",
       "      <td>NaN</td>\n",
       "      <td>0</td>\n",
       "    </tr>\n",
       "    <tr>\n",
       "      <th>8362</th>\n",
       "      <td>34757</td>\n",
       "      <td>11FEB2014</td>\n",
       "      <td>GRD</td>\n",
       "      <td>F</td>\n",
       "      <td>28</td>\n",
       "      <td>Y</td>\n",
       "      <td>N</td>\n",
       "      <td>0</td>\n",
       "      <td>0</td>\n",
       "      <td>-1.503288</td>\n",
       "      <td>3</td>\n",
       "      <td>40</td>\n",
       "      <td>2</td>\n",
       "      <td>3</td>\n",
       "      <td>30000</td>\n",
       "      <td>1</td>\n",
       "      <td>4</td>\n",
       "      <td>Y</td>\n",
       "      <td>0.0</td>\n",
       "      <td>1</td>\n",
       "    </tr>\n",
       "    <tr>\n",
       "      <th>15805</th>\n",
       "      <td>29260</td>\n",
       "      <td>05FEB2014</td>\n",
       "      <td>SCH</td>\n",
       "      <td>M</td>\n",
       "      <td>40</td>\n",
       "      <td>N</td>\n",
       "      <td>N</td>\n",
       "      <td>0</td>\n",
       "      <td>0</td>\n",
       "      <td>-1.968549</td>\n",
       "      <td>9</td>\n",
       "      <td>60</td>\n",
       "      <td>2</td>\n",
       "      <td>3</td>\n",
       "      <td>40000</td>\n",
       "      <td>4</td>\n",
       "      <td>1</td>\n",
       "      <td>N</td>\n",
       "      <td>1.0</td>\n",
       "      <td>1</td>\n",
       "    </tr>\n",
       "    <tr>\n",
       "      <th>20013</th>\n",
       "      <td>52958</td>\n",
       "      <td>01MAR2014</td>\n",
       "      <td>SCH</td>\n",
       "      <td>M</td>\n",
       "      <td>41</td>\n",
       "      <td>N</td>\n",
       "      <td>N</td>\n",
       "      <td>0</td>\n",
       "      <td>0</td>\n",
       "      <td>-1.734178</td>\n",
       "      <td>1</td>\n",
       "      <td>60</td>\n",
       "      <td>1</td>\n",
       "      <td>1</td>\n",
       "      <td>30000</td>\n",
       "      <td>1</td>\n",
       "      <td>3</td>\n",
       "      <td>N</td>\n",
       "      <td>0.0</td>\n",
       "      <td>1</td>\n",
       "    </tr>\n",
       "    <tr>\n",
       "      <th>16516</th>\n",
       "      <td>83263</td>\n",
       "      <td>31MAR2014</td>\n",
       "      <td>SCH</td>\n",
       "      <td>F</td>\n",
       "      <td>55</td>\n",
       "      <td>N</td>\n",
       "      <td>N</td>\n",
       "      <td>0</td>\n",
       "      <td>0</td>\n",
       "      <td>-2.328625</td>\n",
       "      <td>1</td>\n",
       "      <td>40</td>\n",
       "      <td>1</td>\n",
       "      <td>2</td>\n",
       "      <td>10000</td>\n",
       "      <td>1</td>\n",
       "      <td>3</td>\n",
       "      <td>N</td>\n",
       "      <td>0.0</td>\n",
       "      <td>1</td>\n",
       "    </tr>\n",
       "    <tr>\n",
       "      <th>105551</th>\n",
       "      <td>72328</td>\n",
       "      <td>20MAR2014</td>\n",
       "      <td>SCH</td>\n",
       "      <td>F</td>\n",
       "      <td>59</td>\n",
       "      <td>N</td>\n",
       "      <td>N</td>\n",
       "      <td>0</td>\n",
       "      <td>0</td>\n",
       "      <td>-1.871129</td>\n",
       "      <td>1</td>\n",
       "      <td>50</td>\n",
       "      <td>1</td>\n",
       "      <td>2</td>\n",
       "      <td>32000</td>\n",
       "      <td>1</td>\n",
       "      <td>4</td>\n",
       "      <td>N</td>\n",
       "      <td>NaN</td>\n",
       "      <td>0</td>\n",
       "    </tr>\n",
       "    <tr>\n",
       "      <th>5623</th>\n",
       "      <td>67529</td>\n",
       "      <td>16MAR2014</td>\n",
       "      <td>GRD</td>\n",
       "      <td>M</td>\n",
       "      <td>40</td>\n",
       "      <td>Y</td>\n",
       "      <td>N</td>\n",
       "      <td>0</td>\n",
       "      <td>1</td>\n",
       "      <td>-2.668738</td>\n",
       "      <td>3</td>\n",
       "      <td>50</td>\n",
       "      <td>1</td>\n",
       "      <td>2</td>\n",
       "      <td>33000</td>\n",
       "      <td>1</td>\n",
       "      <td>3</td>\n",
       "      <td>Y</td>\n",
       "      <td>0.0</td>\n",
       "      <td>1</td>\n",
       "    </tr>\n",
       "    <tr>\n",
       "      <th>57952</th>\n",
       "      <td>16463</td>\n",
       "      <td>23JAN2014</td>\n",
       "      <td>SCH</td>\n",
       "      <td>M</td>\n",
       "      <td>33</td>\n",
       "      <td>Y</td>\n",
       "      <td>N</td>\n",
       "      <td>1</td>\n",
       "      <td>0</td>\n",
       "      <td>-1.918594</td>\n",
       "      <td>3</td>\n",
       "      <td>40</td>\n",
       "      <td>1</td>\n",
       "      <td>2</td>\n",
       "      <td>30000</td>\n",
       "      <td>1</td>\n",
       "      <td>4</td>\n",
       "      <td>N</td>\n",
       "      <td>0.0</td>\n",
       "      <td>1</td>\n",
       "    </tr>\n",
       "    <tr>\n",
       "      <th>72866</th>\n",
       "      <td>19759</td>\n",
       "      <td>27JAN2014</td>\n",
       "      <td>GRD</td>\n",
       "      <td>M</td>\n",
       "      <td>30</td>\n",
       "      <td>Y</td>\n",
       "      <td>Y</td>\n",
       "      <td>0</td>\n",
       "      <td>0</td>\n",
       "      <td>-2.425193</td>\n",
       "      <td>2</td>\n",
       "      <td>50</td>\n",
       "      <td>1</td>\n",
       "      <td>1</td>\n",
       "      <td>50000</td>\n",
       "      <td>3</td>\n",
       "      <td>3</td>\n",
       "      <td>Y</td>\n",
       "      <td>0.0</td>\n",
       "      <td>1</td>\n",
       "    </tr>\n",
       "    <tr>\n",
       "      <th>27314</th>\n",
       "      <td>7338</td>\n",
       "      <td>14JAN2014</td>\n",
       "      <td>SCH</td>\n",
       "      <td>F</td>\n",
       "      <td>37</td>\n",
       "      <td>N</td>\n",
       "      <td>N</td>\n",
       "      <td>0</td>\n",
       "      <td>0</td>\n",
       "      <td>-1.080159</td>\n",
       "      <td>4</td>\n",
       "      <td>70</td>\n",
       "      <td>1</td>\n",
       "      <td>2</td>\n",
       "      <td>40000</td>\n",
       "      <td>1</td>\n",
       "      <td>3</td>\n",
       "      <td>N</td>\n",
       "      <td>0.0</td>\n",
       "      <td>1</td>\n",
       "    </tr>\n",
       "    <tr>\n",
       "      <th>4851</th>\n",
       "      <td>9845</td>\n",
       "      <td>17JAN2014</td>\n",
       "      <td>SCH</td>\n",
       "      <td>M</td>\n",
       "      <td>35</td>\n",
       "      <td>N</td>\n",
       "      <td>N</td>\n",
       "      <td>0</td>\n",
       "      <td>0</td>\n",
       "      <td>-1.591900</td>\n",
       "      <td>0</td>\n",
       "      <td>70</td>\n",
       "      <td>1</td>\n",
       "      <td>2</td>\n",
       "      <td>40000</td>\n",
       "      <td>2</td>\n",
       "      <td>3</td>\n",
       "      <td>Y</td>\n",
       "      <td>0.0</td>\n",
       "      <td>1</td>\n",
       "    </tr>\n",
       "  </tbody>\n",
       "</table>\n",
       "</div>"
      ],
      "text/plain": [
       "        client_id   app_date education sex  age car car_type  decline_app_cnt  \\\n",
       "102128      85037  01APR2014       GRD   F   27   N        N                0   \n",
       "42438       95480  11APR2014       GRD   F   37   N        N                0   \n",
       "11436       14047  21JAN2014       SCH   M   46   Y        N                0   \n",
       "33566       51840  28FEB2014       PGR   M   27   N        N                1   \n",
       "90837       28046  04FEB2014       SCH   M   26   N        N                0   \n",
       "8362        34757  11FEB2014       GRD   F   28   Y        N                0   \n",
       "15805       29260  05FEB2014       SCH   M   40   N        N                0   \n",
       "20013       52958  01MAR2014       SCH   M   41   N        N                0   \n",
       "16516       83263  31MAR2014       SCH   F   55   N        N                0   \n",
       "105551      72328  20MAR2014       SCH   F   59   N        N                0   \n",
       "5623        67529  16MAR2014       GRD   M   40   Y        N                0   \n",
       "57952       16463  23JAN2014       SCH   M   33   Y        N                1   \n",
       "72866       19759  27JAN2014       GRD   M   30   Y        Y                0   \n",
       "27314        7338  14JAN2014       SCH   F   37   N        N                0   \n",
       "4851         9845  17JAN2014       SCH   M   35   N        N                0   \n",
       "\n",
       "        good_work  score_bki  bki_request_cnt  region_rating  home_address  \\\n",
       "102128          0  -1.759437                1             60             2   \n",
       "42438           0  -2.348444                1             60             2   \n",
       "11436           0  -2.468647                6             40             2   \n",
       "33566           0  -2.672458                0             80             2   \n",
       "90837           0  -1.852779                6             50             1   \n",
       "8362            0  -1.503288                3             40             2   \n",
       "15805           0  -1.968549                9             60             2   \n",
       "20013           0  -1.734178                1             60             1   \n",
       "16516           0  -2.328625                1             40             1   \n",
       "105551          0  -1.871129                1             50             1   \n",
       "5623            1  -2.668738                3             50             1   \n",
       "57952           0  -1.918594                3             40             1   \n",
       "72866           0  -2.425193                2             50             1   \n",
       "27314           0  -1.080159                4             70             1   \n",
       "4851            0  -1.591900                0             70             1   \n",
       "\n",
       "        work_address  income  sna  first_time foreign_passport  default  train  \n",
       "102128             3   28000    1           3                N      NaN      0  \n",
       "42438              3   20000    1           2                N      0.0      1  \n",
       "11436              3   30000    1           3                N      0.0      1  \n",
       "33566              3   10000    1           3                N      0.0      1  \n",
       "90837              1   25000    1           3                N      NaN      0  \n",
       "8362               3   30000    1           4                Y      0.0      1  \n",
       "15805              3   40000    4           1                N      1.0      1  \n",
       "20013              1   30000    1           3                N      0.0      1  \n",
       "16516              2   10000    1           3                N      0.0      1  \n",
       "105551             2   32000    1           4                N      NaN      0  \n",
       "5623               2   33000    1           3                Y      0.0      1  \n",
       "57952              2   30000    1           4                N      0.0      1  \n",
       "72866              1   50000    3           3                Y      0.0      1  \n",
       "27314              2   40000    1           3                N      0.0      1  \n",
       "4851               2   40000    2           3                Y      0.0      1  "
      ]
     },
     "execution_count": 8,
     "metadata": {},
     "output_type": "execute_result"
    }
   ],
   "source": [
    "data.sample(15)"
   ]
  },
  {
   "cell_type": "markdown",
   "id": "9b5b4a54",
   "metadata": {
    "papermill": {
     "duration": 0.055056,
     "end_time": "2021-11-21T19:14:48.119348",
     "exception": false,
     "start_time": "2021-11-21T19:14:48.064292",
     "status": "completed"
    },
    "tags": []
   },
   "source": [
    "Теперь разделим все признаки на 4 типа: категориальные, биномиальные, числовые и дата. Таким образом будет удобнее проводить дальнейший анализ и предобработку данных"
   ]
  },
  {
   "cell_type": "code",
   "execution_count": 9,
   "id": "eb73d354",
   "metadata": {
    "execution": {
     "iopub.execute_input": "2021-11-21T19:14:48.230083Z",
     "iopub.status.busy": "2021-11-21T19:14:48.228818Z",
     "iopub.status.idle": "2021-11-21T19:14:48.234890Z",
     "shell.execute_reply": "2021-11-21T19:14:48.235496Z",
     "shell.execute_reply.started": "2021-11-21T18:41:12.303696Z"
    },
    "papermill": {
     "duration": 0.062769,
     "end_time": "2021-11-21T19:14:48.235698",
     "exception": false,
     "start_time": "2021-11-21T19:14:48.172929",
     "status": "completed"
    },
    "tags": []
   },
   "outputs": [],
   "source": [
    "# Разделяем признаки на 4 типа:\n",
    "\n",
    "# Бинарные признаки\n",
    "bin_cols = ['sex','car','car_type','good_work','foreign_passport']\n",
    "\n",
    "# Категориальные признаки\n",
    "cat_cols = ['education', 'home_address', 'work_address',\n",
    "            'region_rating', 'sna', 'first_time']\n",
    "\n",
    "# Числовые признаки\n",
    "num_cols = ['age', 'decline_app_cnt', 'bki_request_cnt',\n",
    "            'income', 'score_bki']\n",
    "\n",
    "# Дата\n",
    "date_col = ['app_date']"
   ]
  },
  {
   "cell_type": "markdown",
   "id": "f2ce658c",
   "metadata": {
    "papermill": {
     "duration": 0.054004,
     "end_time": "2021-11-21T19:14:48.343202",
     "exception": false,
     "start_time": "2021-11-21T19:14:48.289198",
     "status": "completed"
    },
    "tags": []
   },
   "source": [
    "## Работа с числовыми признаками"
   ]
  },
  {
   "cell_type": "markdown",
   "id": "b47c86d3",
   "metadata": {
    "papermill": {
     "duration": 0.051968,
     "end_time": "2021-11-21T19:14:48.452619",
     "exception": false,
     "start_time": "2021-11-21T19:14:48.400651",
     "status": "completed"
    },
    "tags": []
   },
   "source": [
    "Визуализируем признаки"
   ]
  },
  {
   "cell_type": "code",
   "execution_count": 10,
   "id": "b872fe44",
   "metadata": {
    "execution": {
     "iopub.execute_input": "2021-11-21T19:14:48.559866Z",
     "iopub.status.busy": "2021-11-21T19:14:48.558870Z",
     "iopub.status.idle": "2021-11-21T19:14:49.919724Z",
     "shell.execute_reply": "2021-11-21T19:14:49.919135Z",
     "shell.execute_reply.started": "2021-11-21T18:41:14.394735Z"
    },
    "papermill": {
     "duration": 1.415576,
     "end_time": "2021-11-21T19:14:49.919881",
     "exception": false,
     "start_time": "2021-11-21T19:14:48.504305",
     "status": "completed"
    },
    "tags": []
   },
   "outputs": [
    {
     "name": "stderr",
     "output_type": "stream",
     "text": [
      "/opt/conda/lib/python3.7/site-packages/seaborn/distributions.py:2619: FutureWarning: `distplot` is a deprecated function and will be removed in a future version. Please adapt your code to use either `displot` (a figure-level function with similar flexibility) or `histplot` (an axes-level function for histograms).\n",
      "  warnings.warn(msg, FutureWarning)\n"
     ]
    },
    {
     "data": {
      "image/png": "[encoded data removed]",
      "text/plain": [
       "<Figure size 864x576 with 1 Axes>"
      ]
     },
     "metadata": {
      "needs_background": "light"
     },
     "output_type": "display_data"
    },
    {
     "data": {
      "image/png": "[encoded data removed]",
      "text/plain": [
       "<Figure size 864x576 with 1 Axes>"
      ]
     },
     "metadata": {
      "needs_background": "light"
     },
     "output_type": "display_data"
    },
    {
     "data": {
      "image/png": "[encoded data removed]",
      "text/plain": [
       "<Figure size 864x576 with 1 Axes>"
      ]
     },
     "metadata": {
      "needs_background": "light"
     },
     "output_type": "display_data"
    },
    {
     "data": {
      "image/png": "[encoded data removed]",
      "text/plain": [
       "<Figure size 864x576 with 1 Axes>"
      ]
     },
     "metadata": {
      "needs_background": "light"
     },
     "output_type": "display_data"
    },
    {
     "data": {
      "image/png": "[encoded data removed]",
      "text/plain": [
       "<Figure size 864x576 with 1 Axes>"
      ]
     },
     "metadata": {
      "needs_background": "light"
     },
     "output_type": "display_data"
    }
   ],
   "source": [
    "plt.rcParams[\"figure.figsize\"] = (12, 8)\n",
    "for i in num_cols:\n",
    "    plt.figure()\n",
    "    sns.distplot(data[i], kde = False, rug=False)\n",
    "    plt.title(i)\n",
    "    plt.show()"
   ]
  },
  {
   "cell_type": "markdown",
   "id": "97883cb4",
   "metadata": {
    "papermill": {
     "duration": 0.057572,
     "end_time": "2021-11-21T19:14:50.034201",
     "exception": false,
     "start_time": "2021-11-21T19:14:49.976629",
     "status": "completed"
    },
    "tags": []
   },
   "source": [
    "Среди указанных гистограмм распределения видно, что у признака 'score_bki' (скоринговый балл по данным из БКИ) распределение очень напоминает нормальное распределение. У признака 'age' (возраст) - распределение имеет хвост справа (т.е. у распреедления смещение влево). У оставшихся 3 признаков - более ярко выраженный хвост справа, и распределение скорее логнормальное. Прологарифмируем признаки (кроме 'score_bki')"
   ]
  },
  {
   "cell_type": "code",
   "execution_count": 11,
   "id": "f6fb87a0",
   "metadata": {
    "execution": {
     "iopub.execute_input": "2021-11-21T19:14:50.149465Z",
     "iopub.status.busy": "2021-11-21T19:14:50.148802Z",
     "iopub.status.idle": "2021-11-21T19:14:50.165091Z",
     "shell.execute_reply": "2021-11-21T19:14:50.165613Z",
     "shell.execute_reply.started": "2021-11-21T18:41:16.882917Z"
    },
    "papermill": {
     "duration": 0.075357,
     "end_time": "2021-11-21T19:14:50.165806",
     "exception": false,
     "start_time": "2021-11-21T19:14:50.090449",
     "status": "completed"
    },
    "tags": []
   },
   "outputs": [],
   "source": [
    "log_num_cols = ['age', 'decline_app_cnt',\n",
    "                'bki_request_cnt', 'income']\n",
    "data_log = np.log(data[log_num_cols])"
   ]
  },
  {
   "cell_type": "code",
   "execution_count": 12,
   "id": "47fda605",
   "metadata": {
    "execution": {
     "iopub.execute_input": "2021-11-21T19:14:50.282252Z",
     "iopub.status.busy": "2021-11-21T19:14:50.281520Z",
     "iopub.status.idle": "2021-11-21T19:14:50.290999Z",
     "shell.execute_reply": "2021-11-21T19:14:50.291519Z",
     "shell.execute_reply.started": "2021-11-21T18:41:19.251272Z"
    },
    "papermill": {
     "duration": 0.068811,
     "end_time": "2021-11-21T19:14:50.291699",
     "exception": false,
     "start_time": "2021-11-21T19:14:50.222888",
     "status": "completed"
    },
    "tags": []
   },
   "outputs": [
    {
     "data": {
      "text/html": [
       "<div>\n",
       "<style scoped>\n",
       "    .dataframe tbody tr th:only-of-type {\n",
       "        vertical-align: middle;\n",
       "    }\n",
       "\n",
       "    .dataframe tbody tr th {\n",
       "        vertical-align: top;\n",
       "    }\n",
       "\n",
       "    .dataframe thead th {\n",
       "        text-align: right;\n",
       "    }\n",
       "</style>\n",
       "<table border=\"1\" class=\"dataframe\">\n",
       "  <thead>\n",
       "    <tr style=\"text-align: right;\">\n",
       "      <th></th>\n",
       "      <th>age</th>\n",
       "      <th>decline_app_cnt</th>\n",
       "      <th>bki_request_cnt</th>\n",
       "      <th>income</th>\n",
       "    </tr>\n",
       "  </thead>\n",
       "  <tbody>\n",
       "    <tr>\n",
       "      <th>0</th>\n",
       "      <td>4.127134</td>\n",
       "      <td>-inf</td>\n",
       "      <td>0.000000</td>\n",
       "      <td>9.798127</td>\n",
       "    </tr>\n",
       "    <tr>\n",
       "      <th>1</th>\n",
       "      <td>4.077537</td>\n",
       "      <td>-inf</td>\n",
       "      <td>1.098612</td>\n",
       "      <td>9.852194</td>\n",
       "    </tr>\n",
       "    <tr>\n",
       "      <th>2</th>\n",
       "      <td>3.218876</td>\n",
       "      <td>0.693147</td>\n",
       "      <td>0.000000</td>\n",
       "      <td>10.308953</td>\n",
       "    </tr>\n",
       "  </tbody>\n",
       "</table>\n",
       "</div>"
      ],
      "text/plain": [
       "        age  decline_app_cnt  bki_request_cnt     income\n",
       "0  4.127134             -inf         0.000000   9.798127\n",
       "1  4.077537             -inf         1.098612   9.852194\n",
       "2  3.218876         0.693147         0.000000  10.308953"
      ]
     },
     "execution_count": 12,
     "metadata": {},
     "output_type": "execute_result"
    }
   ],
   "source": [
    "data_log.head(3)"
   ]
  },
  {
   "cell_type": "markdown",
   "id": "9ba2de27",
   "metadata": {
    "papermill": {
     "duration": 0.056147,
     "end_time": "2021-11-21T19:14:50.404249",
     "exception": false,
     "start_time": "2021-11-21T19:14:50.348102",
     "status": "completed"
    },
    "tags": []
   },
   "source": [
    "После логарифмирования распределение признаков 'age' и 'income' стало больше похоже на нормальное распределение (особенно у признака 'income'). Пока-что не будем применять логарифмирование к модели, потом будем испытывать на резульататх метрики. "
   ]
  },
  {
   "cell_type": "code",
   "execution_count": 13,
   "id": "1f175a2a",
   "metadata": {
    "execution": {
     "iopub.execute_input": "2021-11-21T19:14:50.521119Z",
     "iopub.status.busy": "2021-11-21T19:14:50.520252Z",
     "iopub.status.idle": "2021-11-21T19:14:51.055753Z",
     "shell.execute_reply": "2021-11-21T19:14:51.055105Z",
     "shell.execute_reply.started": "2021-11-21T18:41:20.914203Z"
    },
    "papermill": {
     "duration": 0.59523,
     "end_time": "2021-11-21T19:14:51.055922",
     "exception": false,
     "start_time": "2021-11-21T19:14:50.460692",
     "status": "completed"
    },
    "tags": []
   },
   "outputs": [
    {
     "name": "stderr",
     "output_type": "stream",
     "text": [
      "/opt/conda/lib/python3.7/site-packages/seaborn/distributions.py:2619: FutureWarning: `distplot` is a deprecated function and will be removed in a future version. Please adapt your code to use either `displot` (a figure-level function with similar flexibility) or `histplot` (an axes-level function for histograms).\n",
      "  warnings.warn(msg, FutureWarning)\n"
     ]
    },
    {
     "data": {
      "image/png": "[encoded data removed]",
      "text/plain": [
       "<Figure size 864x576 with 1 Axes>"
      ]
     },
     "metadata": {
      "needs_background": "light"
     },
     "output_type": "display_data"
    },
    {
     "data": {
      "image/png": "[encoded data removed]",
      "text/plain": [
       "<Figure size 864x576 with 1 Axes>"
      ]
     },
     "metadata": {
      "needs_background": "light"
     },
     "output_type": "display_data"
    }
   ],
   "source": [
    "for i in ['age', 'income']:\n",
    "    plt.figure()\n",
    "    sns.distplot(data_log[i], kde = False, rug=False)\n",
    "    plt.title(i)\n",
    "    plt.show()"
   ]
  },
  {
   "cell_type": "markdown",
   "id": "cb5d2e96",
   "metadata": {
    "papermill": {
     "duration": 0.058854,
     "end_time": "2021-11-21T19:14:51.175952",
     "exception": false,
     "start_time": "2021-11-21T19:14:51.117098",
     "status": "completed"
    },
    "tags": []
   },
   "source": [
    "С остальными 2 признаками ('decline_app_cnt' и 'bki_request_cnt') сложнее, поскольку логарифмирование выдает значение '-inf'. Поэтому принимаем решение не логарифмировать данные признаки, в случае необходимости повышения качества модели возможно повторно обратиться к этому пункту. "
   ]
  },
  {
   "cell_type": "code",
   "execution_count": 14,
   "id": "64431d88",
   "metadata": {
    "execution": {
     "iopub.execute_input": "2021-11-21T19:14:51.307429Z",
     "iopub.status.busy": "2021-11-21T19:14:51.306667Z",
     "iopub.status.idle": "2021-11-21T19:14:51.321454Z",
     "shell.execute_reply": "2021-11-21T19:14:51.322065Z",
     "shell.execute_reply.started": "2021-11-21T18:41:22.726192Z"
    },
    "papermill": {
     "duration": 0.087179,
     "end_time": "2021-11-21T19:14:51.322241",
     "exception": false,
     "start_time": "2021-11-21T19:14:51.235062",
     "status": "completed"
    },
    "tags": []
   },
   "outputs": [
    {
     "data": {
      "text/plain": [
       "decline_app_cnt  bki_request_cnt\n",
       "-inf             -inf               25090\n",
       "                  0.000000          23370\n",
       "                  0.693147          17048\n",
       "                  1.098612          11190\n",
       "                  1.386294           6730\n",
       "                                    ...  \n",
       " 1.945910         3.258097              1\n",
       "                  2.944439              1\n",
       "                  2.890372              1\n",
       "                  2.833213              1\n",
       " 3.496508         0.693147              1\n",
       "Length: 266, dtype: int64"
      ]
     },
     "execution_count": 14,
     "metadata": {},
     "output_type": "execute_result"
    }
   ],
   "source": [
    "data_log[['decline_app_cnt', 'bki_request_cnt']].value_counts()"
   ]
  },
  {
   "cell_type": "markdown",
   "id": "a251fd21",
   "metadata": {
    "papermill": {
     "duration": 0.058583,
     "end_time": "2021-11-21T19:14:51.440542",
     "exception": false,
     "start_time": "2021-11-21T19:14:51.381959",
     "status": "completed"
    },
    "tags": []
   },
   "source": [
    "Построим Boxplot-ы для оценки численных значений у 'дефолтных' и 'не дефолтных' заемщиков"
   ]
  },
  {
   "cell_type": "code",
   "execution_count": 15,
   "id": "7597da3c",
   "metadata": {
    "execution": {
     "iopub.execute_input": "2021-11-21T19:14:51.560804Z",
     "iopub.status.busy": "2021-11-21T19:14:51.560124Z",
     "iopub.status.idle": "2021-11-21T19:14:52.450826Z",
     "shell.execute_reply": "2021-11-21T19:14:52.450268Z",
     "shell.execute_reply.started": "2021-11-21T18:41:24.403836Z"
    },
    "papermill": {
     "duration": 0.952033,
     "end_time": "2021-11-21T19:14:52.450982",
     "exception": false,
     "start_time": "2021-11-21T19:14:51.498949",
     "status": "completed"
    },
    "tags": []
   },
   "outputs": [
    {
     "data": {
      "image/png": "[encoded data removed]",
      "text/plain": [
       "<Figure size 864x576 with 1 Axes>"
      ]
     },
     "metadata": {
      "needs_background": "light"
     },
     "output_type": "display_data"
    },
    {
     "data": {
      "image/png": "[encoded data removed]",
      "text/plain": [
       "<Figure size 864x576 with 1 Axes>"
      ]
     },
     "metadata": {
      "needs_background": "light"
     },
     "output_type": "display_data"
    },
    {
     "data": {
      "image/png": "[encoded data removed]",
      "text/plain": [
       "<Figure size 864x576 with 1 Axes>"
      ]
     },
     "metadata": {
      "needs_background": "light"
     },
     "output_type": "display_data"
    },
    {
     "data": {
      "image/png": "[encoded data removed]",
      "text/plain": [
       "<Figure size 864x576 with 1 Axes>"
      ]
     },
     "metadata": {
      "needs_background": "light"
     },
     "output_type": "display_data"
    },
    {
     "data": {
      "image/png": "[encoded data removed]",
      "text/plain": [
       "<Figure size 864x576 with 1 Axes>"
      ]
     },
     "metadata": {
      "needs_background": "light"
     },
     "output_type": "display_data"
    }
   ],
   "source": [
    "for i in num_cols:\n",
    "    plt.figure()\n",
    "    sns.boxplot(x = 'default', y = i, data = data)\n",
    "    plt.title(i)\n",
    "    plt.show()"
   ]
  },
  {
   "cell_type": "markdown",
   "id": "96bc8c60",
   "metadata": {
    "papermill": {
     "duration": 0.061989,
     "end_time": "2021-11-21T19:14:52.575874",
     "exception": false,
     "start_time": "2021-11-21T19:14:52.513885",
     "status": "completed"
    },
    "tags": []
   },
   "source": [
    "При построении первой модели для предсказания - не будем вычленять возможные выбросы. Как вариант для повышения результата при оценивании метрики."
   ]
  },
  {
   "cell_type": "markdown",
   "id": "c0bae00e",
   "metadata": {
    "papermill": {
     "duration": 0.061814,
     "end_time": "2021-11-21T19:14:52.700294",
     "exception": false,
     "start_time": "2021-11-21T19:14:52.638480",
     "status": "completed"
    },
    "tags": []
   },
   "source": [
    "Корреляция числовых признаков"
   ]
  },
  {
   "cell_type": "code",
   "execution_count": 16,
   "id": "6a850589",
   "metadata": {
    "execution": {
     "iopub.execute_input": "2021-11-21T19:14:52.834169Z",
     "iopub.status.busy": "2021-11-21T19:14:52.828429Z",
     "iopub.status.idle": "2021-11-21T19:14:53.265745Z",
     "shell.execute_reply": "2021-11-21T19:14:53.265147Z",
     "shell.execute_reply.started": "2021-11-21T18:41:26.290302Z"
    },
    "papermill": {
     "duration": 0.503119,
     "end_time": "2021-11-21T19:14:53.265931",
     "exception": false,
     "start_time": "2021-11-21T19:14:52.762812",
     "status": "completed"
    },
    "tags": []
   },
   "outputs": [
    {
     "data": {
      "image/png": "[encoded data removed]",
      "text/plain": [
       "<Figure size 864x576 with 2 Axes>"
      ]
     },
     "metadata": {
      "needs_background": "light"
     },
     "output_type": "display_data"
    }
   ],
   "source": [
    "sns.heatmap(data[num_cols].corr().abs(), vmin=0, vmax=1);"
   ]
  },
  {
   "cell_type": "code",
   "execution_count": 17,
   "id": "9d95a113",
   "metadata": {
    "execution": {
     "iopub.execute_input": "2021-11-21T19:14:53.397169Z",
     "iopub.status.busy": "2021-11-21T19:14:53.396500Z",
     "iopub.status.idle": "2021-11-21T19:14:53.421032Z",
     "shell.execute_reply": "2021-11-21T19:14:53.421931Z",
     "shell.execute_reply.started": "2021-11-21T18:41:29.289156Z"
    },
    "papermill": {
     "duration": 0.092046,
     "end_time": "2021-11-21T19:14:53.422128",
     "exception": false,
     "start_time": "2021-11-21T19:14:53.330082",
     "status": "completed"
    },
    "tags": []
   },
   "outputs": [
    {
     "data": {
      "text/html": [
       "<div>\n",
       "<style scoped>\n",
       "    .dataframe tbody tr th:only-of-type {\n",
       "        vertical-align: middle;\n",
       "    }\n",
       "\n",
       "    .dataframe tbody tr th {\n",
       "        vertical-align: top;\n",
       "    }\n",
       "\n",
       "    .dataframe thead th {\n",
       "        text-align: right;\n",
       "    }\n",
       "</style>\n",
       "<table border=\"1\" class=\"dataframe\">\n",
       "  <thead>\n",
       "    <tr style=\"text-align: right;\">\n",
       "      <th></th>\n",
       "      <th>age</th>\n",
       "      <th>decline_app_cnt</th>\n",
       "      <th>bki_request_cnt</th>\n",
       "      <th>income</th>\n",
       "      <th>score_bki</th>\n",
       "    </tr>\n",
       "  </thead>\n",
       "  <tbody>\n",
       "    <tr>\n",
       "      <th>age</th>\n",
       "      <td>1.000000</td>\n",
       "      <td>0.111454</td>\n",
       "      <td>0.046975</td>\n",
       "      <td>0.018664</td>\n",
       "      <td>0.104682</td>\n",
       "    </tr>\n",
       "    <tr>\n",
       "      <th>decline_app_cnt</th>\n",
       "      <td>0.111454</td>\n",
       "      <td>1.000000</td>\n",
       "      <td>0.159927</td>\n",
       "      <td>0.022241</td>\n",
       "      <td>0.187869</td>\n",
       "    </tr>\n",
       "    <tr>\n",
       "      <th>bki_request_cnt</th>\n",
       "      <td>0.046975</td>\n",
       "      <td>0.159927</td>\n",
       "      <td>1.000000</td>\n",
       "      <td>0.080475</td>\n",
       "      <td>0.157451</td>\n",
       "    </tr>\n",
       "    <tr>\n",
       "      <th>income</th>\n",
       "      <td>0.018664</td>\n",
       "      <td>0.022241</td>\n",
       "      <td>0.080475</td>\n",
       "      <td>1.000000</td>\n",
       "      <td>0.011721</td>\n",
       "    </tr>\n",
       "    <tr>\n",
       "      <th>score_bki</th>\n",
       "      <td>0.104682</td>\n",
       "      <td>0.187869</td>\n",
       "      <td>0.157451</td>\n",
       "      <td>0.011721</td>\n",
       "      <td>1.000000</td>\n",
       "    </tr>\n",
       "  </tbody>\n",
       "</table>\n",
       "</div>"
      ],
      "text/plain": [
       "                      age  decline_app_cnt  bki_request_cnt    income  \\\n",
       "age              1.000000         0.111454         0.046975  0.018664   \n",
       "decline_app_cnt  0.111454         1.000000         0.159927  0.022241   \n",
       "bki_request_cnt  0.046975         0.159927         1.000000  0.080475   \n",
       "income           0.018664         0.022241         0.080475  1.000000   \n",
       "score_bki        0.104682         0.187869         0.157451  0.011721   \n",
       "\n",
       "                 score_bki  \n",
       "age               0.104682  \n",
       "decline_app_cnt   0.187869  \n",
       "bki_request_cnt   0.157451  \n",
       "income            0.011721  \n",
       "score_bki         1.000000  "
      ]
     },
     "execution_count": 17,
     "metadata": {},
     "output_type": "execute_result"
    }
   ],
   "source": [
    "data[num_cols].corr().abs()"
   ]
  },
  {
   "cell_type": "markdown",
   "id": "c40f4626",
   "metadata": {
    "papermill": {
     "duration": 0.063888,
     "end_time": "2021-11-21T19:14:53.550591",
     "exception": false,
     "start_time": "2021-11-21T19:14:53.486703",
     "status": "completed"
    },
    "tags": []
   },
   "source": [
    "Из матрицы корреляций видно, что все числовые признаки имеют низкую скоррелированность (максимальное значение 0.187), что положительно влияет для линейных моделей, которым важна низкая корреляция признаков. Отсюда следует вывод о том, что все числовые признаки можно оставлять в модели для предсказания"
   ]
  },
  {
   "cell_type": "markdown",
   "id": "8b404b07",
   "metadata": {
    "papermill": {
     "duration": 0.06407,
     "end_time": "2021-11-21T19:14:53.679738",
     "exception": false,
     "start_time": "2021-11-21T19:14:53.615668",
     "status": "completed"
    },
    "tags": []
   },
   "source": [
    "Оценка значимости числовых признаков"
   ]
  },
  {
   "cell_type": "code",
   "execution_count": 18,
   "id": "860d08b5",
   "metadata": {
    "execution": {
     "iopub.execute_input": "2021-11-21T19:14:53.811467Z",
     "iopub.status.busy": "2021-11-21T19:14:53.810760Z",
     "iopub.status.idle": "2021-11-21T19:14:54.033469Z",
     "shell.execute_reply": "2021-11-21T19:14:54.032830Z",
     "shell.execute_reply.started": "2021-11-21T18:41:31.380327Z"
    },
    "papermill": {
     "duration": 0.2894,
     "end_time": "2021-11-21T19:14:54.033616",
     "exception": false,
     "start_time": "2021-11-21T19:14:53.744216",
     "status": "completed"
    },
    "tags": []
   },
   "outputs": [
    {
     "data": {
      "image/png": "[encoded data removed]",
      "text/plain": [
       "<Figure size 864x576 with 1 Axes>"
      ]
     },
     "metadata": {
      "needs_background": "light"
     },
     "output_type": "display_data"
    }
   ],
   "source": [
    "imp_num = pd.Series(f_classif(data.query('train == 1')[num_cols],\n",
    "                              data.query('train == 1')['default'])[0],\n",
    "                    index = num_cols)\n",
    "imp_num.sort_values(inplace = True)\n",
    "imp_num.plot(kind = 'barh');"
   ]
  },
  {
   "cell_type": "markdown",
   "id": "d8e7d282",
   "metadata": {
    "papermill": {
     "duration": 0.0646,
     "end_time": "2021-11-21T19:14:54.163945",
     "exception": false,
     "start_time": "2021-11-21T19:14:54.099345",
     "status": "completed"
    },
    "tags": []
   },
   "source": [
    "###### Среди числовых признаков наиболее значим именно новый признак 'score_bki'"
   ]
  },
  {
   "cell_type": "markdown",
   "id": "a06d4238",
   "metadata": {
    "papermill": {
     "duration": 0.073174,
     "end_time": "2021-11-21T19:14:54.301705",
     "exception": false,
     "start_time": "2021-11-21T19:14:54.228531",
     "status": "completed"
    },
    "tags": []
   },
   "source": [
    "## Работа с бинарными признаками "
   ]
  },
  {
   "cell_type": "code",
   "execution_count": 19,
   "id": "49a1bc9d",
   "metadata": {
    "execution": {
     "iopub.execute_input": "2021-11-21T19:14:54.449356Z",
     "iopub.status.busy": "2021-11-21T19:14:54.448305Z",
     "iopub.status.idle": "2021-11-21T19:14:54.636676Z",
     "shell.execute_reply": "2021-11-21T19:14:54.636109Z",
     "shell.execute_reply.started": "2021-11-21T18:41:35.628309Z"
    },
    "papermill": {
     "duration": 0.256572,
     "end_time": "2021-11-21T19:14:54.636835",
     "exception": false,
     "start_time": "2021-11-21T19:14:54.380263",
     "status": "completed"
    },
    "tags": []
   },
   "outputs": [
    {
     "data": {
      "text/html": [
       "<div>\n",
       "<style scoped>\n",
       "    .dataframe tbody tr th:only-of-type {\n",
       "        vertical-align: middle;\n",
       "    }\n",
       "\n",
       "    .dataframe tbody tr th {\n",
       "        vertical-align: top;\n",
       "    }\n",
       "\n",
       "    .dataframe thead th {\n",
       "        text-align: right;\n",
       "    }\n",
       "</style>\n",
       "<table border=\"1\" class=\"dataframe\">\n",
       "  <thead>\n",
       "    <tr style=\"text-align: right;\">\n",
       "      <th></th>\n",
       "      <th>client_id</th>\n",
       "      <th>app_date</th>\n",
       "      <th>education</th>\n",
       "      <th>sex</th>\n",
       "      <th>age</th>\n",
       "      <th>car</th>\n",
       "      <th>car_type</th>\n",
       "      <th>decline_app_cnt</th>\n",
       "      <th>good_work</th>\n",
       "      <th>score_bki</th>\n",
       "      <th>bki_request_cnt</th>\n",
       "      <th>region_rating</th>\n",
       "      <th>home_address</th>\n",
       "      <th>work_address</th>\n",
       "      <th>income</th>\n",
       "      <th>sna</th>\n",
       "      <th>first_time</th>\n",
       "      <th>foreign_passport</th>\n",
       "      <th>default</th>\n",
       "      <th>train</th>\n",
       "    </tr>\n",
       "  </thead>\n",
       "  <tbody>\n",
       "    <tr>\n",
       "      <th>13249</th>\n",
       "      <td>85786</td>\n",
       "      <td>02APR2014</td>\n",
       "      <td>UGR</td>\n",
       "      <td>1</td>\n",
       "      <td>37</td>\n",
       "      <td>0</td>\n",
       "      <td>0</td>\n",
       "      <td>0</td>\n",
       "      <td>0</td>\n",
       "      <td>-1.657457</td>\n",
       "      <td>2</td>\n",
       "      <td>50</td>\n",
       "      <td>2</td>\n",
       "      <td>3</td>\n",
       "      <td>25000</td>\n",
       "      <td>1</td>\n",
       "      <td>4</td>\n",
       "      <td>0</td>\n",
       "      <td>0.0</td>\n",
       "      <td>1</td>\n",
       "    </tr>\n",
       "    <tr>\n",
       "      <th>27482</th>\n",
       "      <td>66450</td>\n",
       "      <td>15MAR2014</td>\n",
       "      <td>SCH</td>\n",
       "      <td>0</td>\n",
       "      <td>33</td>\n",
       "      <td>1</td>\n",
       "      <td>0</td>\n",
       "      <td>2</td>\n",
       "      <td>0</td>\n",
       "      <td>-1.526128</td>\n",
       "      <td>5</td>\n",
       "      <td>40</td>\n",
       "      <td>2</td>\n",
       "      <td>3</td>\n",
       "      <td>28000</td>\n",
       "      <td>4</td>\n",
       "      <td>1</td>\n",
       "      <td>0</td>\n",
       "      <td>1.0</td>\n",
       "      <td>1</td>\n",
       "    </tr>\n",
       "    <tr>\n",
       "      <th>55005</th>\n",
       "      <td>24513</td>\n",
       "      <td>31JAN2014</td>\n",
       "      <td>UGR</td>\n",
       "      <td>1</td>\n",
       "      <td>30</td>\n",
       "      <td>1</td>\n",
       "      <td>1</td>\n",
       "      <td>0</td>\n",
       "      <td>0</td>\n",
       "      <td>-1.912334</td>\n",
       "      <td>0</td>\n",
       "      <td>50</td>\n",
       "      <td>1</td>\n",
       "      <td>1</td>\n",
       "      <td>25000</td>\n",
       "      <td>1</td>\n",
       "      <td>4</td>\n",
       "      <td>0</td>\n",
       "      <td>0.0</td>\n",
       "      <td>1</td>\n",
       "    </tr>\n",
       "    <tr>\n",
       "      <th>2037</th>\n",
       "      <td>90097</td>\n",
       "      <td>06APR2014</td>\n",
       "      <td>GRD</td>\n",
       "      <td>1</td>\n",
       "      <td>32</td>\n",
       "      <td>0</td>\n",
       "      <td>0</td>\n",
       "      <td>0</td>\n",
       "      <td>0</td>\n",
       "      <td>-1.661350</td>\n",
       "      <td>4</td>\n",
       "      <td>70</td>\n",
       "      <td>2</td>\n",
       "      <td>3</td>\n",
       "      <td>90000</td>\n",
       "      <td>1</td>\n",
       "      <td>3</td>\n",
       "      <td>1</td>\n",
       "      <td>0.0</td>\n",
       "      <td>1</td>\n",
       "    </tr>\n",
       "    <tr>\n",
       "      <th>58748</th>\n",
       "      <td>95770</td>\n",
       "      <td>12APR2014</td>\n",
       "      <td>GRD</td>\n",
       "      <td>1</td>\n",
       "      <td>50</td>\n",
       "      <td>0</td>\n",
       "      <td>0</td>\n",
       "      <td>0</td>\n",
       "      <td>0</td>\n",
       "      <td>-1.559747</td>\n",
       "      <td>1</td>\n",
       "      <td>80</td>\n",
       "      <td>2</td>\n",
       "      <td>3</td>\n",
       "      <td>70000</td>\n",
       "      <td>1</td>\n",
       "      <td>4</td>\n",
       "      <td>1</td>\n",
       "      <td>1.0</td>\n",
       "      <td>1</td>\n",
       "    </tr>\n",
       "  </tbody>\n",
       "</table>\n",
       "</div>"
      ],
      "text/plain": [
       "       client_id   app_date education  sex  age  car  car_type  \\\n",
       "13249      85786  02APR2014       UGR    1   37    0         0   \n",
       "27482      66450  15MAR2014       SCH    0   33    1         0   \n",
       "55005      24513  31JAN2014       UGR    1   30    1         1   \n",
       "2037       90097  06APR2014       GRD    1   32    0         0   \n",
       "58748      95770  12APR2014       GRD    1   50    0         0   \n",
       "\n",
       "       decline_app_cnt  good_work  score_bki  bki_request_cnt  region_rating  \\\n",
       "13249                0          0  -1.657457                2             50   \n",
       "27482                2          0  -1.526128                5             40   \n",
       "55005                0          0  -1.912334                0             50   \n",
       "2037                 0          0  -1.661350                4             70   \n",
       "58748                0          0  -1.559747                1             80   \n",
       "\n",
       "       home_address  work_address  income  sna  first_time  foreign_passport  \\\n",
       "13249             2             3   25000    1           4                 0   \n",
       "27482             2             3   28000    4           1                 0   \n",
       "55005             1             1   25000    1           4                 0   \n",
       "2037              2             3   90000    1           3                 1   \n",
       "58748             2             3   70000    1           4                 1   \n",
       "\n",
       "       default  train  \n",
       "13249      0.0      1  \n",
       "27482      1.0      1  \n",
       "55005      0.0      1  \n",
       "2037       0.0      1  \n",
       "58748      1.0      1  "
      ]
     },
     "execution_count": 19,
     "metadata": {},
     "output_type": "execute_result"
    }
   ],
   "source": [
    "# Для бинарных признаков - используем LabelEncoder\n",
    "\n",
    "label_encoder = LabelEncoder()\n",
    "\n",
    "for column in bin_cols:\n",
    "    data[column] = label_encoder.fit_transform(data[column])\n",
    "    \n",
    "# убедимся в преобразовании    \n",
    "data.sample(5)"
   ]
  },
  {
   "cell_type": "markdown",
   "id": "a5e3d1e6",
   "metadata": {
    "papermill": {
     "duration": 0.064856,
     "end_time": "2021-11-21T19:14:54.767059",
     "exception": false,
     "start_time": "2021-11-21T19:14:54.702203",
     "status": "completed"
    },
    "tags": []
   },
   "source": [
    "## Работа с категориальными признаками "
   ]
  },
  {
   "cell_type": "code",
   "execution_count": 20,
   "id": "112cf5a3",
   "metadata": {
    "execution": {
     "iopub.execute_input": "2021-11-21T19:14:54.902582Z",
     "iopub.status.busy": "2021-11-21T19:14:54.901875Z",
     "iopub.status.idle": "2021-11-21T19:14:54.905423Z",
     "shell.execute_reply": "2021-11-21T19:14:54.905929Z",
     "shell.execute_reply.started": "2021-11-21T18:41:37.378304Z"
    },
    "papermill": {
     "duration": 0.074058,
     "end_time": "2021-11-21T19:14:54.906096",
     "exception": false,
     "start_time": "2021-11-21T19:14:54.832038",
     "status": "completed"
    },
    "tags": []
   },
   "outputs": [
    {
     "data": {
      "text/plain": [
       "6"
      ]
     },
     "execution_count": 20,
     "metadata": {},
     "output_type": "execute_result"
    }
   ],
   "source": [
    "# Сколько изначально столбцов категориальных признаков\n",
    "len(cat_cols)"
   ]
  },
  {
   "cell_type": "markdown",
   "id": "8cd2a84a",
   "metadata": {
    "execution": {
     "iopub.execute_input": "2021-11-16T18:54:49.067013Z",
     "iopub.status.busy": "2021-11-16T18:54:49.066482Z",
     "iopub.status.idle": "2021-11-16T18:54:49.072343Z",
     "shell.execute_reply": "2021-11-16T18:54:49.071443Z",
     "shell.execute_reply.started": "2021-11-16T18:54:49.066964Z"
    },
    "papermill": {
     "duration": 0.067508,
     "end_time": "2021-11-21T19:14:55.039416",
     "exception": false,
     "start_time": "2021-11-21T19:14:54.971908",
     "status": "completed"
    },
    "tags": []
   },
   "source": [
    "В результате категориальные признаки из 6 столбцов преобразуются в 27 столбцов (показано ниже)"
   ]
  },
  {
   "cell_type": "markdown",
   "id": "b712cc46",
   "metadata": {
    "papermill": {
     "duration": 0.065488,
     "end_time": "2021-11-21T19:14:55.171429",
     "exception": false,
     "start_time": "2021-11-21T19:14:55.105941",
     "status": "completed"
    },
    "tags": []
   },
   "source": [
    "## Расчет \"наивной\" модели"
   ]
  },
  {
   "cell_type": "code",
   "execution_count": 21,
   "id": "2f474342",
   "metadata": {
    "execution": {
     "iopub.execute_input": "2021-11-21T19:14:55.309270Z",
     "iopub.status.busy": "2021-11-21T19:14:55.308547Z",
     "iopub.status.idle": "2021-11-21T19:14:55.334344Z",
     "shell.execute_reply": "2021-11-21T19:14:55.334930Z",
     "shell.execute_reply.started": "2021-11-21T18:41:39.628399Z"
    },
    "papermill": {
     "duration": 0.098128,
     "end_time": "2021-11-21T19:14:55.335143",
     "exception": false,
     "start_time": "2021-11-21T19:14:55.237015",
     "status": "completed"
    },
    "tags": []
   },
   "outputs": [],
   "source": [
    "train = data.query('train == 1').drop(['train'], axis=1)\n",
    "test = data.query('train == 0').drop(['train'], axis=1)"
   ]
  },
  {
   "cell_type": "code",
   "execution_count": 22,
   "id": "e9488697",
   "metadata": {
    "execution": {
     "iopub.execute_input": "2021-11-21T19:14:55.475670Z",
     "iopub.status.busy": "2021-11-21T19:14:55.474582Z",
     "iopub.status.idle": "2021-11-21T19:14:55.477395Z",
     "shell.execute_reply": "2021-11-21T19:14:55.476822Z",
     "shell.execute_reply.started": "2021-11-21T18:41:41.5604Z"
    },
    "papermill": {
     "duration": 0.075843,
     "end_time": "2021-11-21T19:14:55.477545",
     "exception": false,
     "start_time": "2021-11-21T19:14:55.401702",
     "status": "completed"
    },
    "tags": []
   },
   "outputs": [],
   "source": [
    "# Вынесем бинарные признаки в X_bin\n",
    "X_bin = train[bin_cols].values"
   ]
  },
  {
   "cell_type": "code",
   "execution_count": 23,
   "id": "94f8022e",
   "metadata": {
    "execution": {
     "iopub.execute_input": "2021-11-21T19:14:55.617525Z",
     "iopub.status.busy": "2021-11-21T19:14:55.616134Z",
     "iopub.status.idle": "2021-11-21T19:14:55.625608Z",
     "shell.execute_reply": "2021-11-21T19:14:55.624921Z",
     "shell.execute_reply.started": "2021-11-21T18:41:41.817662Z"
    },
    "papermill": {
     "duration": 0.082281,
     "end_time": "2021-11-21T19:14:55.625753",
     "exception": false,
     "start_time": "2021-11-21T19:14:55.543472",
     "status": "completed"
    },
    "tags": []
   },
   "outputs": [],
   "source": [
    "# Итогово проведем стандартизацию числовых признаков и вынесем в X_num\n",
    "\n",
    "X_num = StandardScaler().fit_transform(train[num_cols].values)"
   ]
  },
  {
   "cell_type": "code",
   "execution_count": 24,
   "id": "6f3e7562",
   "metadata": {
    "execution": {
     "iopub.execute_input": "2021-11-21T19:14:55.762813Z",
     "iopub.status.busy": "2021-11-21T19:14:55.760426Z",
     "iopub.status.idle": "2021-11-21T19:14:56.008186Z",
     "shell.execute_reply": "2021-11-21T19:14:56.008674Z",
     "shell.execute_reply.started": "2021-11-21T18:41:42.267837Z"
    },
    "papermill": {
     "duration": 0.316968,
     "end_time": "2021-11-21T19:14:56.008879",
     "exception": false,
     "start_time": "2021-11-21T19:14:55.691911",
     "status": "completed"
    },
    "tags": []
   },
   "outputs": [
    {
     "data": {
      "text/plain": [
       "(73799, 27)"
      ]
     },
     "execution_count": 24,
     "metadata": {},
     "output_type": "execute_result"
    }
   ],
   "source": [
    "# Для категориальных признаков - используем OneHotEncoder\n",
    "\n",
    "X_cat = OneHotEncoder(sparse = False).fit_transform(train[cat_cols].values)\n",
    "X_cat.shape"
   ]
  },
  {
   "cell_type": "code",
   "execution_count": 25,
   "id": "eddb7ee4",
   "metadata": {
    "execution": {
     "iopub.execute_input": "2021-11-21T19:14:56.147302Z",
     "iopub.status.busy": "2021-11-21T19:14:56.146541Z",
     "iopub.status.idle": "2021-11-21T19:14:56.971435Z",
     "shell.execute_reply": "2021-11-21T19:14:56.970727Z",
     "shell.execute_reply.started": "2021-11-21T18:41:44.812664Z"
    },
    "papermill": {
     "duration": 0.895326,
     "end_time": "2021-11-21T19:14:56.971591",
     "exception": false,
     "start_time": "2021-11-21T19:14:56.076265",
     "status": "completed"
    },
    "tags": []
   },
   "outputs": [
    {
     "data": {
      "image/png": "[encoded data removed]",
      "text/plain": [
       "<Figure size 864x576 with 1 Axes>"
      ]
     },
     "metadata": {
      "needs_background": "light"
     },
     "output_type": "display_data"
    }
   ],
   "source": [
    "# Объединяем X_tr из разных типов признаков\n",
    "# и выставляем целевую переменную 'default'\n",
    "\n",
    "X = np.hstack([X_num, X_bin, X_cat])\n",
    "y = train['default'].values\n",
    "\n",
    "# Разделяем train - valid\n",
    "\n",
    "X_train, X_test, y_train, y_test = train_test_split(\n",
    "    X,\n",
    "    y,\n",
    "    test_size=0.20,\n",
    "    random_state=42)\n",
    "\n",
    "# Обучаем 'наивную' модель Логистической регрессии\n",
    "model_naive = LogisticRegression(solver='liblinear')\n",
    "model_naive.fit(X_train, y_train)\n",
    "\n",
    "# Предсказываем значения\n",
    "y_pred = model_naive.predict(X_test)\n",
    "\n",
    "# Строим ROC AUC для оценки\n",
    "probs = model_naive.predict_proba(X_test)\n",
    "probs = probs[:,1]\n",
    "\n",
    "\n",
    "fpr, tpr, threshold = roc_curve(y_test, probs)\n",
    "roc_auc = roc_auc_score(y_test, probs)\n",
    "\n",
    "plt.figure()\n",
    "plt.plot([0, 1], label='Baseline', linestyle='--')\n",
    "plt.plot(fpr, tpr, label = 'Regression')\n",
    "plt.title('Logistic Regression ROC AUC = %0.5f' % roc_auc)\n",
    "plt.ylabel('True Positive Rate')\n",
    "plt.xlabel('False Positive Rate')\n",
    "plt.legend(loc = 'lower right')\n",
    "plt.show()"
   ]
  },
  {
   "cell_type": "markdown",
   "id": "3b09ddc1",
   "metadata": {
    "papermill": {
     "duration": 0.068172,
     "end_time": "2021-11-21T19:14:57.110213",
     "exception": false,
     "start_time": "2021-11-21T19:14:57.042041",
     "status": "completed"
    },
    "tags": []
   },
   "source": [
    "У \"наивной\" модели результат метрики ROC AUC = 0.73976. Дальнейшие шаги будем проводить для повышения значения данной метрики."
   ]
  },
  {
   "cell_type": "markdown",
   "id": "2f7a3d34",
   "metadata": {
    "papermill": {
     "duration": 0.067272,
     "end_time": "2021-11-21T19:14:57.246337",
     "exception": false,
     "start_time": "2021-11-21T19:14:57.179065",
     "status": "completed"
    },
    "tags": []
   },
   "source": [
    "## Регуляризация"
   ]
  },
  {
   "cell_type": "markdown",
   "id": "86aed4a1",
   "metadata": {
    "papermill": {
     "duration": 0.067051,
     "end_time": "2021-11-21T19:14:57.381499",
     "exception": false,
     "start_time": "2021-11-21T19:14:57.314448",
     "status": "completed"
    },
    "tags": []
   },
   "source": [
    "Строим с учетом гиперпараметров. Путем ручного подбора определены параметры регуляризации C = 0.018 и тип \"l2'."
   ]
  },
  {
   "cell_type": "code",
   "execution_count": 26,
   "id": "892d82d6",
   "metadata": {
    "execution": {
     "iopub.execute_input": "2021-11-21T19:14:57.525264Z",
     "iopub.status.busy": "2021-11-21T19:14:57.524503Z",
     "iopub.status.idle": "2021-11-21T19:14:58.073699Z",
     "shell.execute_reply": "2021-11-21T19:14:58.074279Z",
     "shell.execute_reply.started": "2021-11-21T18:41:48.951414Z"
    },
    "papermill": {
     "duration": 0.625305,
     "end_time": "2021-11-21T19:14:58.074469",
     "exception": false,
     "start_time": "2021-11-21T19:14:57.449164",
     "status": "completed"
    },
    "tags": []
   },
   "outputs": [
    {
     "data": {
      "image/png": "[encoded data removed]",
      "text/plain": [
       "<Figure size 864x576 with 1 Axes>"
      ]
     },
     "metadata": {
      "needs_background": "light"
     },
     "output_type": "display_data"
    }
   ],
   "source": [
    "model = LogisticRegression(solver='liblinear',\n",
    "                           penalty = 'l2',\n",
    "                           C = 0.018)\n",
    "model.fit(X_train, y_train)\n",
    "y_pred = model.predict(X_test)\n",
    "\n",
    "probs = model.predict_proba(X_test)\n",
    "probs = probs[:,1]\n",
    "\n",
    "\n",
    "fpr, tpr, threshold = roc_curve(y_test, probs)\n",
    "roc_auc = roc_auc_score(y_test, probs)\n",
    "\n",
    "plt.figure()\n",
    "plt.plot([0, 1], label='Baseline', linestyle='--')\n",
    "plt.plot(fpr, tpr, label = 'Regression')\n",
    "plt.title('Logistic Regression ROC AUC = %0.5f' % roc_auc)\n",
    "plt.ylabel('True Positive Rate')\n",
    "plt.xlabel('False Positive Rate')\n",
    "plt.legend(loc = 'lower right')\n",
    "plt.show()"
   ]
  },
  {
   "cell_type": "markdown",
   "id": "bc1dfb43",
   "metadata": {
    "papermill": {
     "duration": 0.069083,
     "end_time": "2021-11-21T19:14:58.218797",
     "exception": false,
     "start_time": "2021-11-21T19:14:58.149714",
     "status": "completed"
    },
    "tags": []
   },
   "source": [
    "С учетом регуляризации на наивной модели ROC AUC = 0.74022"
   ]
  },
  {
   "cell_type": "markdown",
   "id": "1e65e4f1",
   "metadata": {
    "execution": {
     "iopub.execute_input": "2021-11-18T18:18:10.149782Z",
     "iopub.status.busy": "2021-11-18T18:18:10.149498Z",
     "iopub.status.idle": "2021-11-18T18:18:10.156649Z",
     "shell.execute_reply": "2021-11-18T18:18:10.155544Z",
     "shell.execute_reply.started": "2021-11-18T18:18:10.149753Z"
    },
    "papermill": {
     "duration": 0.073796,
     "end_time": "2021-11-21T19:14:58.365431",
     "exception": false,
     "start_time": "2021-11-21T19:14:58.291635",
     "status": "completed"
    },
    "tags": []
   },
   "source": [
    "## Проводим обработку численных признаков 'age', 'income' с помощью логарифмирования"
   ]
  },
  {
   "cell_type": "code",
   "execution_count": 27,
   "id": "75f4b77e",
   "metadata": {
    "execution": {
     "iopub.execute_input": "2021-11-21T19:14:58.508810Z",
     "iopub.status.busy": "2021-11-21T19:14:58.507812Z",
     "iopub.status.idle": "2021-11-21T19:14:58.521978Z",
     "shell.execute_reply": "2021-11-21T19:14:58.522471Z",
     "shell.execute_reply.started": "2021-11-21T18:41:54.804029Z"
    },
    "papermill": {
     "duration": 0.087195,
     "end_time": "2021-11-21T19:14:58.522658",
     "exception": false,
     "start_time": "2021-11-21T19:14:58.435463",
     "status": "completed"
    },
    "tags": []
   },
   "outputs": [],
   "source": [
    "log_num_cols = ['age', 'income']\n",
    "train[log_num_cols] = np.log(train[log_num_cols])"
   ]
  },
  {
   "cell_type": "code",
   "execution_count": 28,
   "id": "85680633",
   "metadata": {
    "execution": {
     "iopub.execute_input": "2021-11-21T19:14:58.666300Z",
     "iopub.status.busy": "2021-11-21T19:14:58.665571Z",
     "iopub.status.idle": "2021-11-21T19:14:58.677402Z",
     "shell.execute_reply": "2021-11-21T19:14:58.676752Z",
     "shell.execute_reply.started": "2021-11-21T18:41:55.248022Z"
    },
    "papermill": {
     "duration": 0.085909,
     "end_time": "2021-11-21T19:14:58.677548",
     "exception": false,
     "start_time": "2021-11-21T19:14:58.591639",
     "status": "completed"
    },
    "tags": []
   },
   "outputs": [],
   "source": [
    "# Итогово проведем стандартизацию числовых признаков с учетом\n",
    "# логарифмирования 'age', 'income'и вынесем в X_num\n",
    "\n",
    "X_num = StandardScaler().fit_transform(train[num_cols].values)"
   ]
  },
  {
   "cell_type": "code",
   "execution_count": 29,
   "id": "dd7e59d3",
   "metadata": {
    "execution": {
     "iopub.execute_input": "2021-11-21T19:14:58.824636Z",
     "iopub.status.busy": "2021-11-21T19:14:58.823944Z",
     "iopub.status.idle": "2021-11-21T19:14:58.998895Z",
     "shell.execute_reply": "2021-11-21T19:14:58.998298Z",
     "shell.execute_reply.started": "2021-11-21T18:41:55.683246Z"
    },
    "papermill": {
     "duration": 0.252427,
     "end_time": "2021-11-21T19:14:58.999039",
     "exception": false,
     "start_time": "2021-11-21T19:14:58.746612",
     "status": "completed"
    },
    "tags": []
   },
   "outputs": [
    {
     "data": {
      "image/png": "[encoded data removed]",
      "text/plain": [
       "<Figure size 864x576 with 1 Axes>"
      ]
     },
     "metadata": {
      "needs_background": "light"
     },
     "output_type": "display_data"
    }
   ],
   "source": [
    "# Оценка вклада признаков\n",
    "imp_num = pd.Series(f_classif(train[num_cols],\n",
    "                              train['default'])[0],\n",
    "                    index = num_cols\n",
    "                   )\n",
    "imp_num.sort_values(inplace = True)\n",
    "imp_num.plot(kind = 'barh');"
   ]
  },
  {
   "cell_type": "markdown",
   "id": "c4820099",
   "metadata": {
    "papermill": {
     "duration": 0.069679,
     "end_time": "2021-11-21T19:14:59.139403",
     "exception": false,
     "start_time": "2021-11-21T19:14:59.069724",
     "status": "completed"
    },
    "tags": []
   },
   "source": [
    "Строим модель с учетом логарифмирования 'age', 'income'"
   ]
  },
  {
   "cell_type": "code",
   "execution_count": 30,
   "id": "cd7428c7",
   "metadata": {
    "execution": {
     "iopub.execute_input": "2021-11-21T19:14:59.283108Z",
     "iopub.status.busy": "2021-11-21T19:14:59.282331Z",
     "iopub.status.idle": "2021-11-21T19:15:00.047855Z",
     "shell.execute_reply": "2021-11-21T19:15:00.047116Z",
     "shell.execute_reply.started": "2021-11-21T18:41:57.230325Z"
    },
    "papermill": {
     "duration": 0.838503,
     "end_time": "2021-11-21T19:15:00.048006",
     "exception": false,
     "start_time": "2021-11-21T19:14:59.209503",
     "status": "completed"
    },
    "tags": []
   },
   "outputs": [
    {
     "data": {
      "image/png": "[encoded data removed]",
      "text/plain": [
       "<Figure size 864x576 with 1 Axes>"
      ]
     },
     "metadata": {
      "needs_background": "light"
     },
     "output_type": "display_data"
    }
   ],
   "source": [
    "# Объединяем\n",
    "X_log = np.hstack([X_num, X_bin, X_cat])\n",
    "y = train['default'].values\n",
    "\n",
    "# Разделяем train - valid\n",
    "X_train, X_test, y_train, y_test = train_test_split(\n",
    "    X_log,\n",
    "    y,\n",
    "    test_size=0.20,\n",
    "    random_state=42)\n",
    "\n",
    "# Обучаем модель Логистической регрессии \n",
    "# с логарифмированием 'age', 'income'\n",
    "model_log = LogisticRegression(solver='liblinear')\n",
    "model_log.fit(X_train, y_train)\n",
    "\n",
    "# Предсказываем значения\n",
    "y_pred = model_log.predict(X_test)\n",
    "\n",
    "# Строим ROC AUC для оценки\n",
    "probs = model_log.predict_proba(X_test)\n",
    "probs = probs[:,1]\n",
    "\n",
    "fpr, tpr, threshold = roc_curve(y_test, probs)\n",
    "roc_auc = roc_auc_score(y_test, probs)\n",
    "\n",
    "plt.figure()\n",
    "plt.plot([0, 1], label='Baseline', linestyle='--')\n",
    "plt.plot(fpr, tpr, label = 'Regression')\n",
    "plt.title('Logistic Regression ROC AUC = %0.5f' % roc_auc)\n",
    "plt.ylabel('True Positive Rate')\n",
    "plt.xlabel('False Positive Rate')\n",
    "plt.legend(loc = 'lower right')\n",
    "plt.show()"
   ]
  },
  {
   "cell_type": "markdown",
   "id": "f332a995",
   "metadata": {
    "papermill": {
     "duration": 0.071078,
     "end_time": "2021-11-21T19:15:00.193237",
     "exception": false,
     "start_time": "2021-11-21T19:15:00.122159",
     "status": "completed"
    },
    "tags": []
   },
   "source": [
    "Результат с учетом логарифмирования 'age', 'income' ROC AUC = 0.73976. Значение ровно такое же, как и у \"наивной модели\" - пользу от логарифмирования нет."
   ]
  },
  {
   "cell_type": "markdown",
   "id": "81efa544",
   "metadata": {
    "papermill": {
     "duration": 0.071415,
     "end_time": "2021-11-21T19:15:00.336275",
     "exception": false,
     "start_time": "2021-11-21T19:15:00.264860",
     "status": "completed"
    },
    "tags": []
   },
   "source": [
    "## Работа с датой"
   ]
  },
  {
   "cell_type": "code",
   "execution_count": 31,
   "id": "eb5895e7",
   "metadata": {
    "execution": {
     "iopub.execute_input": "2021-11-21T19:15:00.483420Z",
     "iopub.status.busy": "2021-11-21T19:15:00.482413Z",
     "iopub.status.idle": "2021-11-21T19:16:10.776511Z",
     "shell.execute_reply": "2021-11-21T19:16:10.775900Z",
     "shell.execute_reply.started": "2021-11-21T18:42:02.985824Z"
    },
    "papermill": {
     "duration": 70.369419,
     "end_time": "2021-11-21T19:16:10.776654",
     "exception": false,
     "start_time": "2021-11-21T19:15:00.407235",
     "status": "completed"
    },
    "tags": []
   },
   "outputs": [
    {
     "name": "stderr",
     "output_type": "stream",
     "text": [
      "/opt/conda/lib/python3.7/site-packages/ipykernel_launcher.py:3: SettingWithCopyWarning: \n",
      "A value is trying to be set on a copy of a slice from a DataFrame\n",
      "\n",
      "See the caveats in the documentation: https://pandas.pydata.org/pandas-docs/stable/user_guide/indexing.html#returning-a-view-versus-a-copy\n",
      "  This is separate from the ipykernel package so we can avoid doing imports until\n"
     ]
    }
   ],
   "source": [
    "for i in range(len(data.app_date)):\n",
    "        data.app_date[i] = datetime.strptime(\n",
    "            data.app_date[i], '%d%b%Y')"
   ]
  },
  {
   "cell_type": "code",
   "execution_count": 32,
   "id": "a83af4d9",
   "metadata": {
    "execution": {
     "iopub.execute_input": "2021-11-21T19:16:10.924746Z",
     "iopub.status.busy": "2021-11-21T19:16:10.923679Z",
     "iopub.status.idle": "2021-11-21T19:16:11.042421Z",
     "shell.execute_reply": "2021-11-21T19:16:11.042959Z",
     "shell.execute_reply.started": "2021-11-21T18:43:11.998441Z"
    },
    "papermill": {
     "duration": 0.194472,
     "end_time": "2021-11-21T19:16:11.043155",
     "exception": false,
     "start_time": "2021-11-21T19:16:10.848683",
     "status": "completed"
    },
    "tags": []
   },
   "outputs": [],
   "source": [
    "data.app_date = pd.to_datetime(data.app_date)\n",
    "\n",
    "# Добавляем категориальный признак месяц\n",
    "data['month'] = data.app_date.dt.month\n",
    "\n",
    "# Добавляем категориальный признак день недели подачи заявки \n",
    "data['day'] = data.app_date.dt.day_of_week\n",
    "\n",
    "# Укажем, сколько дней прошло с момента подачи заявки - числовой\n",
    "data['time_diff'] = (datetime.now() - data.app_date).dt.days"
   ]
  },
  {
   "cell_type": "code",
   "execution_count": 33,
   "id": "0b8fedd9",
   "metadata": {
    "execution": {
     "iopub.execute_input": "2021-11-21T19:16:11.191500Z",
     "iopub.status.busy": "2021-11-21T19:16:11.190764Z",
     "iopub.status.idle": "2021-11-21T19:16:11.234222Z",
     "shell.execute_reply": "2021-11-21T19:16:11.233641Z",
     "shell.execute_reply.started": "2021-11-21T18:43:12.079596Z"
    },
    "papermill": {
     "duration": 0.119907,
     "end_time": "2021-11-21T19:16:11.234379",
     "exception": false,
     "start_time": "2021-11-21T19:16:11.114472",
     "status": "completed"
    },
    "tags": []
   },
   "outputs": [],
   "source": [
    "# Для категориальных признаков 'month' (1,2,3,4) и\n",
    "# 'day of week' (0,1,2,3,4,5,6) - используем OneHotEncoder\n",
    "month_dow = ['month', 'day']\n",
    "X_month_dow = OneHotEncoder(sparse = False).fit_transform(\n",
    "    data.query('train == 1')[month_dow].values)"
   ]
  },
  {
   "cell_type": "code",
   "execution_count": 34,
   "id": "2ac9c88c",
   "metadata": {
    "execution": {
     "iopub.execute_input": "2021-11-21T19:16:11.414999Z",
     "iopub.status.busy": "2021-11-21T19:16:11.412705Z",
     "iopub.status.idle": "2021-11-21T19:16:11.434392Z",
     "shell.execute_reply": "2021-11-21T19:16:11.435145Z",
     "shell.execute_reply.started": "2021-11-21T18:43:21.190122Z"
    },
    "papermill": {
     "duration": 0.109382,
     "end_time": "2021-11-21T19:16:11.435365",
     "exception": false,
     "start_time": "2021-11-21T19:16:11.325983",
     "status": "completed"
    },
    "tags": []
   },
   "outputs": [],
   "source": [
    "# Готовим столбец дней от подачи заявки с учетом стандартиазции\n",
    "time_diff = ['time_diff']\n",
    "X_td = StandardScaler().fit_transform(data.query('train == 1')[time_diff].values)"
   ]
  },
  {
   "cell_type": "markdown",
   "id": "265019c3",
   "metadata": {
    "papermill": {
     "duration": 0.071456,
     "end_time": "2021-11-21T19:16:11.581380",
     "exception": false,
     "start_time": "2021-11-21T19:16:11.509924",
     "status": "completed"
    },
    "tags": []
   },
   "source": [
    "Строим модель с учетом логарифмирования 'age','income' + с добавлением столбца дней от подачи заявки + 'month' + 'day of week' + Регуляризацией l-2"
   ]
  },
  {
   "cell_type": "code",
   "execution_count": 35,
   "id": "6d58108b",
   "metadata": {
    "execution": {
     "iopub.execute_input": "2021-11-21T19:16:11.728043Z",
     "iopub.status.busy": "2021-11-21T19:16:11.727312Z",
     "iopub.status.idle": "2021-11-21T19:16:12.380612Z",
     "shell.execute_reply": "2021-11-21T19:16:12.381161Z",
     "shell.execute_reply.started": "2021-11-21T19:01:05.141593Z"
    },
    "papermill": {
     "duration": 0.728249,
     "end_time": "2021-11-21T19:16:12.381351",
     "exception": false,
     "start_time": "2021-11-21T19:16:11.653102",
     "status": "completed"
    },
    "tags": []
   },
   "outputs": [
    {
     "data": {
      "image/png": "[encoded data removed]",
      "text/plain": [
       "<Figure size 864x576 with 1 Axes>"
      ]
     },
     "metadata": {
      "needs_background": "light"
     },
     "output_type": "display_data"
    }
   ],
   "source": [
    "# Объединяем\n",
    "X_log_td_month_dow = np.hstack(\n",
    "    [X_num, X_bin, X_cat, X_td, X_month_dow])\n",
    "y = train['default'].values\n",
    "\n",
    "# Разделяем train - valid\n",
    "X_train, X_test, y_train, y_test = train_test_split(\n",
    "    X_log_td_month_dow,\n",
    "    y,\n",
    "    test_size=0.20,\n",
    "    random_state=42\n",
    "    )\n",
    "\n",
    "# Обучаем модель Логистической регрессии с логарифмированием 'age',\n",
    "# 'income' + с добавлением столбца дней от подачи заявки + 'month'\n",
    "# + 'day of week' + Регуляризацией l-2\n",
    "model_log_td_month_dow = LogisticRegression(\n",
    "    solver='liblinear',\n",
    "    penalty = 'l2',\n",
    "    C = 0.018\n",
    "    )\n",
    "model_log_td_month_dow.fit(X_train, y_train)\n",
    "\n",
    "# Предсказываем значения\n",
    "y_pred = model_log_td_month_dow.predict(X_test)\n",
    "\n",
    "# Строим ROC AUC для оценки\n",
    "probs = model_log_td_month_dow.predict_proba(X_test)\n",
    "probs = probs[:,1]\n",
    "\n",
    "fpr, tpr, threshold = roc_curve(y_test, probs)\n",
    "roc_auc = roc_auc_score(y_test, probs)\n",
    "\n",
    "plt.figure()\n",
    "plt.plot([0, 1], label='Baseline', linestyle='--')\n",
    "plt.plot(fpr, tpr, label = 'Regression')\n",
    "plt.title('Logistic Regression ROC AUC = %0.5f' % roc_auc)\n",
    "plt.ylabel('True Positive Rate')\n",
    "plt.xlabel('False Positive Rate')\n",
    "plt.legend(loc = 'lower right')\n",
    "plt.show()"
   ]
  },
  {
   "cell_type": "markdown",
   "id": "269c5b6a",
   "metadata": {
    "papermill": {
     "duration": 0.072964,
     "end_time": "2021-11-21T19:16:12.527168",
     "exception": false,
     "start_time": "2021-11-21T19:16:12.454204",
     "status": "completed"
    },
    "tags": []
   },
   "source": [
    "Результат ROC AUC = 0.74322"
   ]
  },
  {
   "cell_type": "code",
   "execution_count": 36,
   "id": "287ff55d",
   "metadata": {
    "execution": {
     "iopub.execute_input": "2021-11-21T19:16:12.682482Z",
     "iopub.status.busy": "2021-11-21T19:16:12.681698Z",
     "iopub.status.idle": "2021-11-21T19:16:12.979469Z",
     "shell.execute_reply": "2021-11-21T19:16:12.980085Z",
     "shell.execute_reply.started": "2021-11-21T18:43:25.770007Z"
    },
    "papermill": {
     "duration": 0.380344,
     "end_time": "2021-11-21T19:16:12.980260",
     "exception": false,
     "start_time": "2021-11-21T19:16:12.599916",
     "status": "completed"
    },
    "tags": []
   },
   "outputs": [
    {
     "data": {
      "text/plain": [
       "array([[12872,    61],\n",
       "       [ 1793,    34]])"
      ]
     },
     "metadata": {},
     "output_type": "display_data"
    },
    {
     "data": {
      "text/plain": [
       "<AxesSubplot:>"
      ]
     },
     "execution_count": 36,
     "metadata": {},
     "output_type": "execute_result"
    },
    {
     "data": {
      "image/png": "[encoded data removed]",
      "text/plain": [
       "<Figure size 864x576 with 2 Axes>"
      ]
     },
     "metadata": {
      "needs_background": "light"
     },
     "output_type": "display_data"
    }
   ],
   "source": [
    "# Confusion matrix:\n",
    "\n",
    "CM = confusion_matrix(y_test, y_pred)\n",
    "display(CM)\n",
    "\n",
    "sns.set_context(context='paper', font_scale=2, rc=None)\n",
    "group_names = ['True Neg', 'False Neg', 'False Pos', 'True Pos']\n",
    "group_counts = ['{0:0.0f}'.format(value) for value in\n",
    "                confusion_matrix(y_test, y_pred).flatten()]\n",
    "labels = [f'{v1}\\n{v2}' for v1, v2 in\n",
    "          zip(group_names, group_counts)]\n",
    "labels = np.asarray(labels).reshape(2, 2)\n",
    "sns.heatmap(confusion_matrix(y_test, y_pred),\n",
    "            annot=labels, fmt='', cmap='Blues')"
   ]
  },
  {
   "cell_type": "code",
   "execution_count": 37,
   "id": "8905cfb1",
   "metadata": {
    "execution": {
     "iopub.execute_input": "2021-11-21T19:16:13.137602Z",
     "iopub.status.busy": "2021-11-21T19:16:13.136565Z",
     "iopub.status.idle": "2021-11-21T19:16:13.159558Z",
     "shell.execute_reply": "2021-11-21T19:16:13.160201Z",
     "shell.execute_reply.started": "2021-11-21T18:43:27.019556Z"
    },
    "papermill": {
     "duration": 0.102806,
     "end_time": "2021-11-21T19:16:13.160449",
     "exception": false,
     "start_time": "2021-11-21T19:16:13.057643",
     "status": "completed"
    },
    "tags": []
   },
   "outputs": [
    {
     "name": "stdout",
     "output_type": "stream",
     "text": [
      "accuracy_score: 0.8744\n",
      "f1_score: 0.0354\n",
      "recall_score: 0.0186\n"
     ]
    }
   ],
   "source": [
    "# Другие метрики\n",
    "print('accuracy_score: {}'.format(np.round(\n",
    "    accuracy_score(y_test, y_pred), 4)))\n",
    "print('f1_score: {}'.format(np.round(\n",
    "    f1_score(y_test, y_pred), 4)))\n",
    "print('recall_score: {}'.format(np.round(\n",
    "    recall_score(y_test, y_pred), 4)))"
   ]
  },
  {
   "cell_type": "markdown",
   "id": "317b552c",
   "metadata": {
    "papermill": {
     "duration": 0.075724,
     "end_time": "2021-11-21T19:16:13.314188",
     "exception": false,
     "start_time": "2021-11-21T19:16:13.238464",
     "status": "completed"
    },
    "tags": []
   },
   "source": [
    "Вывод о модели: модель хорошо предсказывает недефолтного клиента, однако пропускает много дефолтных клиентов."
   ]
  },
  {
   "cell_type": "markdown",
   "id": "9ae6b81d",
   "metadata": {
    "papermill": {
     "duration": 0.079297,
     "end_time": "2021-11-21T19:16:13.472527",
     "exception": false,
     "start_time": "2021-11-21T19:16:13.393230",
     "status": "completed"
    },
    "tags": []
   },
   "source": [
    "## Часть для непосредственно соревнования"
   ]
  },
  {
   "cell_type": "code",
   "execution_count": 38,
   "id": "6a82361c",
   "metadata": {
    "execution": {
     "iopub.execute_input": "2021-11-21T19:16:13.634071Z",
     "iopub.status.busy": "2021-11-21T19:16:13.627598Z",
     "iopub.status.idle": "2021-11-21T19:16:13.985212Z",
     "shell.execute_reply": "2021-11-21T19:16:13.985782Z",
     "shell.execute_reply.started": "2021-11-21T19:04:53.916223Z"
    },
    "papermill": {
     "duration": 0.437922,
     "end_time": "2021-11-21T19:16:13.985970",
     "exception": false,
     "start_time": "2021-11-21T19:16:13.548048",
     "status": "completed"
    },
    "tags": []
   },
   "outputs": [
    {
     "data": {
      "text/html": [
       "<div>\n",
       "<style scoped>\n",
       "    .dataframe tbody tr th:only-of-type {\n",
       "        vertical-align: middle;\n",
       "    }\n",
       "\n",
       "    .dataframe tbody tr th {\n",
       "        vertical-align: top;\n",
       "    }\n",
       "\n",
       "    .dataframe thead th {\n",
       "        text-align: right;\n",
       "    }\n",
       "</style>\n",
       "<table border=\"1\" class=\"dataframe\">\n",
       "  <thead>\n",
       "    <tr style=\"text-align: right;\">\n",
       "      <th></th>\n",
       "      <th>client_id</th>\n",
       "      <th>default</th>\n",
       "    </tr>\n",
       "  </thead>\n",
       "  <tbody>\n",
       "    <tr>\n",
       "      <th>99750</th>\n",
       "      <td>28279</td>\n",
       "      <td>0.025035</td>\n",
       "    </tr>\n",
       "    <tr>\n",
       "      <th>75065</th>\n",
       "      <td>18642</td>\n",
       "      <td>0.109452</td>\n",
       "    </tr>\n",
       "    <tr>\n",
       "      <th>89046</th>\n",
       "      <td>47713</td>\n",
       "      <td>0.036411</td>\n",
       "    </tr>\n",
       "    <tr>\n",
       "      <th>77067</th>\n",
       "      <td>108429</td>\n",
       "      <td>0.051603</td>\n",
       "    </tr>\n",
       "    <tr>\n",
       "      <th>105411</th>\n",
       "      <td>108609</td>\n",
       "      <td>0.028714</td>\n",
       "    </tr>\n",
       "    <tr>\n",
       "      <th>88223</th>\n",
       "      <td>81626</td>\n",
       "      <td>0.352035</td>\n",
       "    </tr>\n",
       "    <tr>\n",
       "      <th>103068</th>\n",
       "      <td>102153</td>\n",
       "      <td>0.026637</td>\n",
       "    </tr>\n",
       "    <tr>\n",
       "      <th>108002</th>\n",
       "      <td>20976</td>\n",
       "      <td>0.136614</td>\n",
       "    </tr>\n",
       "    <tr>\n",
       "      <th>77246</th>\n",
       "      <td>102746</td>\n",
       "      <td>0.032637</td>\n",
       "    </tr>\n",
       "    <tr>\n",
       "      <th>101464</th>\n",
       "      <td>39145</td>\n",
       "      <td>0.055350</td>\n",
       "    </tr>\n",
       "  </tbody>\n",
       "</table>\n",
       "</div>"
      ],
      "text/plain": [
       "        client_id   default\n",
       "99750       28279  0.025035\n",
       "75065       18642  0.109452\n",
       "89046       47713  0.036411\n",
       "77067      108429  0.051603\n",
       "105411     108609  0.028714\n",
       "88223       81626  0.352035\n",
       "103068     102153  0.026637\n",
       "108002      20976  0.136614\n",
       "77246      102746  0.032637\n",
       "101464      39145  0.055350"
      ]
     },
     "metadata": {},
     "output_type": "display_data"
    },
    {
     "data": {
      "text/plain": [
       "(36349, 2)"
      ]
     },
     "metadata": {},
     "output_type": "display_data"
    }
   ],
   "source": [
    "X_cat_test = OneHotEncoder(sparse = False).fit_transform(\n",
    "    test[cat_cols].values)\n",
    "X_num_test = StandardScaler().fit_transform(test[num_cols].values)\n",
    "X_bin_test = test[bin_cols].values\n",
    "X_td_test = StandardScaler().fit_transform(\n",
    "    data.query('train == 0')[time_diff].values)\n",
    "X_month_dow_test = OneHotEncoder(sparse = False).fit_transform(\n",
    "    data.query('train == 0')[month_dow].values)\n",
    "\n",
    "X_test2 = np.hstack([X_num_test,\n",
    "                     X_bin_test,\n",
    "                     X_cat_test,\n",
    "                     X_td_test,\n",
    "                     X_month_dow_test])\n",
    "\n",
    "y_probs = model_log_td_month_dow.predict_proba(X_test2)[:,1]\n",
    "\n",
    "test['default'] = y_probs\n",
    "submission = test[['client_id','default']]\n",
    "display(submission.sample(10))\n",
    "display(submission.shape)\n",
    "\n",
    "submission.to_csv('submission.csv', index=False)"
   ]
  },
  {
   "cell_type": "code",
   "execution_count": null,
   "id": "40736b5e",
   "metadata": {
    "papermill": {
     "duration": 0.080117,
     "end_time": "2021-11-21T19:16:14.144309",
     "exception": false,
     "start_time": "2021-11-21T19:16:14.064192",
     "status": "completed"
    },
    "tags": []
   },
   "outputs": [],
   "source": []
  }
 ],
 "metadata": {
  "kernelspec": {
   "display_name": "Python 3",
   "language": "python",
   "name": "python3"
  },
  "language_info": {
   "codemirror_mode": {
    "name": "ipython",
    "version": 3
   },
   "file_extension": ".py",
   "mimetype": "text/x-python",
   "name": "python",
   "nbconvert_exporter": "python",
   "pygments_lexer": "ipython3",
   "version": "3.7.10"
  },
  "papermill": {
   "default_parameters": {},
   "duration": 100.567227,
   "end_time": "2021-11-21T19:16:14.931693",
   "environment_variables": {},
   "exception": null,
   "input_path": "__notebook__.ipynb",
   "output_path": "__notebook__.ipynb",
   "parameters": {},
   "start_time": "2021-11-21T19:14:34.364466",
   "version": "2.3.3"
  }
 },
 "nbformat": 4,
 "nbformat_minor": 5
}
