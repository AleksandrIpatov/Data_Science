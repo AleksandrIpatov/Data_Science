{
 "cells": [
  {
   "cell_type": "code",
   "execution_count": 1,
   "metadata": {
    "colab": {
     "base_uri": "https://localhost:8080/"
    },
    "id": "N_jLqb_fFpYd",
    "outputId": "3944a8fc-a6b4-4f73-9b02-3af3bf89f2fd"
   },
   "outputs": [
    {
     "name": "stdout",
     "output_type": "stream",
     "text": [
      "Looking in indexes: https://pypi.org/simple, https://us-python.pkg.dev/colab-wheels/public/simple/\n",
      "Requirement already satisfied: annoy in /usr/local/lib/python3.7/dist-packages (1.17.1)\n"
     ]
    }
   ],
   "source": [
    "!pip install annoy"
   ]
  },
  {
   "cell_type": "code",
   "execution_count": 2,
   "metadata": {
    "colab": {
     "base_uri": "https://localhost:8080/"
    },
    "id": "MYHmn1ZVFpKN",
    "outputId": "1d618b5a-26d9-444c-c1a2-b484187be168"
   },
   "outputs": [
    {
     "name": "stdout",
     "output_type": "stream",
     "text": [
      "Looking in indexes: https://pypi.org/simple, https://us-python.pkg.dev/colab-wheels/public/simple/\n",
      "Requirement already satisfied: pymorphy2 in /usr/local/lib/python3.7/dist-packages (0.9.1)\n",
      "Requirement already satisfied: pymorphy2-dicts-ru<3.0,>=2.4 in /usr/local/lib/python3.7/dist-packages (from pymorphy2) (2.4.417127.4579844)\n",
      "Requirement already satisfied: docopt>=0.6 in /usr/local/lib/python3.7/dist-packages (from pymorphy2) (0.6.2)\n",
      "Requirement already satisfied: dawg-python>=0.7.1 in /usr/local/lib/python3.7/dist-packages (from pymorphy2) (0.7.2)\n"
     ]
    }
   ],
   "source": [
    "!pip install pymorphy2"
   ]
  },
  {
   "cell_type": "code",
   "execution_count": 3,
   "metadata": {
    "colab": {
     "base_uri": "https://localhost:8080/"
    },
    "id": "yFay3u_hFpAK",
    "outputId": "5c4ff02f-f520-4525-9d31-2f44fe6a37b8"
   },
   "outputs": [
    {
     "name": "stdout",
     "output_type": "stream",
     "text": [
      "Looking in indexes: https://pypi.org/simple, https://us-python.pkg.dev/colab-wheels/public/simple/\n",
      "Requirement already satisfied: stop_words in /usr/local/lib/python3.7/dist-packages (2018.7.23)\n"
     ]
    }
   ],
   "source": [
    "!pip install stop_words"
   ]
  },
  {
   "cell_type": "code",
   "execution_count": 2,
   "metadata": {
    "id": "yfJMK9fi0sfQ"
   },
   "outputs": [],
   "source": [
    "import pickle\n",
    "import string  \n",
    "import annoy  # библиотека построения индекса приближенного поиска ближайших соседей\n",
    "\n",
    "import pandas as pd\n",
    "import numpy as np\n",
    "\n",
    "from sklearn.model_selection import train_test_split\n",
    "from pymorphy2 import MorphAnalyzer\n",
    "from stop_words import get_stop_words\n",
    "from gensim.models import FastText\n",
    "from gensim.models import Word2Vec\n",
    "from tqdm import tqdm_notebook"
   ]
  },
  {
   "cell_type": "code",
   "execution_count": 5,
   "metadata": {
    "colab": {
     "base_uri": "https://localhost:8080/"
    },
    "id": "NB4E8GZWNNIx",
    "outputId": "315fe67e-99c1-48c5-fac3-5976bfde1a8d"
   },
   "outputs": [
    {
     "name": "stdout",
     "output_type": "stream",
     "text": [
      "NVIDIA-SMI has failed because it couldn't communicate with the NVIDIA driver. Make sure that the latest NVIDIA driver is installed and running.\n",
      "\n"
     ]
    }
   ],
   "source": [
    "# Проверяем GPU count, name\n",
    "!nvidia-smi -L"
   ]
  },
  {
   "cell_type": "code",
   "execution_count": 6,
   "metadata": {
    "colab": {
     "base_uri": "https://localhost:8080/"
    },
    "id": "oaKkLJrqBe6t",
    "outputId": "b9a90571-1325-4c82-9ed4-f6827e2a8742"
   },
   "outputs": [
    {
     "name": "stdout",
     "output_type": "stream",
     "text": [
      "Drive already mounted at /content/drive; to attempt to forcibly remount, call drive.mount(\"/content/drive\", force_remount=True).\n"
     ]
    }
   ],
   "source": [
    "# Подколючаем доступ к Google-Диску\n",
    "from google.colab import drive\n",
    "drive.mount('/content/drive')"
   ]
  },
  {
   "cell_type": "code",
   "execution_count": 2,
   "metadata": {
    "colab": {
     "base_uri": "https://localhost:8080/",
     "height": 336
    },
    "id": "HzXJVtfu24yx",
    "outputId": "9e9bdc6a-c5b0-4a73-bf8d-9ccb5acaf9cf"
   },
   "outputs": [
    {
     "name": "stderr",
     "output_type": "stream",
     "text": [
      "/opt/anaconda3/lib/python3.8/site-packages/IPython/core/interactiveshell.py:3165: DtypeWarning: Columns (1) have mixed types.Specify dtype option on import or set low_memory=False.\n",
      "  has_raised = await self.run_ast_nodes(code_ast.body, cell_name,\n"
     ]
    },
    {
     "data": {
      "text/html": [
       "<div>\n",
       "<style scoped>\n",
       "    .dataframe tbody tr th:only-of-type {\n",
       "        vertical-align: middle;\n",
       "    }\n",
       "\n",
       "    .dataframe tbody tr th {\n",
       "        vertical-align: top;\n",
       "    }\n",
       "\n",
       "    .dataframe thead th {\n",
       "        text-align: right;\n",
       "    }\n",
       "</style>\n",
       "<table border=\"1\" class=\"dataframe\">\n",
       "  <thead>\n",
       "    <tr style=\"text-align: right;\">\n",
       "      <th></th>\n",
       "      <th>sale_date_date</th>\n",
       "      <th>contact_id</th>\n",
       "      <th>shop_id</th>\n",
       "      <th>product_id</th>\n",
       "      <th>name</th>\n",
       "      <th>product_sub_category_id</th>\n",
       "      <th>product_category_id</th>\n",
       "      <th>brand_id</th>\n",
       "      <th>quantity</th>\n",
       "    </tr>\n",
       "  </thead>\n",
       "  <tbody>\n",
       "    <tr>\n",
       "      <th>0</th>\n",
       "      <td>2018-12-07</td>\n",
       "      <td>1260627</td>\n",
       "      <td>1455.0</td>\n",
       "      <td>168308.0</td>\n",
       "      <td>(197312) Пакет-майка 25см х 45см</td>\n",
       "      <td>906.0</td>\n",
       "      <td>205.0</td>\n",
       "      <td>-1.0</td>\n",
       "      <td>1,00</td>\n",
       "    </tr>\n",
       "    <tr>\n",
       "      <th>1</th>\n",
       "      <td>2018-12-07</td>\n",
       "      <td>198287</td>\n",
       "      <td>279.0</td>\n",
       "      <td>134832.0</td>\n",
       "      <td>(62448) Перекись водорода р-р наружн. 3% фл.по...</td>\n",
       "      <td>404.0</td>\n",
       "      <td>93.0</td>\n",
       "      <td>-1.0</td>\n",
       "      <td>1,00</td>\n",
       "    </tr>\n",
       "    <tr>\n",
       "      <th>2</th>\n",
       "      <td>2018-12-07</td>\n",
       "      <td>2418385</td>\n",
       "      <td>848.0</td>\n",
       "      <td>101384.0</td>\n",
       "      <td>(72183) Салициловая кислота р-р спирт 2% фл 40...</td>\n",
       "      <td>404.0</td>\n",
       "      <td>93.0</td>\n",
       "      <td>-1.0</td>\n",
       "      <td>1,00</td>\n",
       "    </tr>\n",
       "    <tr>\n",
       "      <th>3</th>\n",
       "      <td>2018-12-07</td>\n",
       "      <td>1285774</td>\n",
       "      <td>1511.0</td>\n",
       "      <td>168570.0</td>\n",
       "      <td>(197309) Пакет 28см х 50см</td>\n",
       "      <td>906.0</td>\n",
       "      <td>205.0</td>\n",
       "      <td>-1.0</td>\n",
       "      <td>1,00</td>\n",
       "    </tr>\n",
       "    <tr>\n",
       "      <th>4</th>\n",
       "      <td>2018-12-07</td>\n",
       "      <td>1810323</td>\n",
       "      <td>1501.0</td>\n",
       "      <td>168319.0</td>\n",
       "      <td>(197310) Пакет 30см х 60см</td>\n",
       "      <td>906.0</td>\n",
       "      <td>205.0</td>\n",
       "      <td>-1.0</td>\n",
       "      <td>1,00</td>\n",
       "    </tr>\n",
       "  </tbody>\n",
       "</table>\n",
       "</div>"
      ],
      "text/plain": [
       "  sale_date_date contact_id  shop_id  product_id  \\\n",
       "0     2018-12-07    1260627   1455.0    168308.0   \n",
       "1     2018-12-07     198287    279.0    134832.0   \n",
       "2     2018-12-07    2418385    848.0    101384.0   \n",
       "3     2018-12-07    1285774   1511.0    168570.0   \n",
       "4     2018-12-07    1810323   1501.0    168319.0   \n",
       "\n",
       "                                                name  product_sub_category_id  \\\n",
       "0                   (197312) Пакет-майка 25см х 45см                    906.0   \n",
       "1  (62448) Перекись водорода р-р наружн. 3% фл.по...                    404.0   \n",
       "2  (72183) Салициловая кислота р-р спирт 2% фл 40...                    404.0   \n",
       "3                         (197309) Пакет 28см х 50см                    906.0   \n",
       "4                         (197310) Пакет 30см х 60см                    906.0   \n",
       "\n",
       "   product_category_id  brand_id quantity  \n",
       "0                205.0      -1.0     1,00  \n",
       "1                 93.0      -1.0     1,00  \n",
       "2                 93.0      -1.0     1,00  \n",
       "3                205.0      -1.0     1,00  \n",
       "4                205.0      -1.0     1,00  "
      ]
     },
     "execution_count": 2,
     "metadata": {},
     "output_type": "execute_result"
    }
   ],
   "source": [
    "checks = pd.read_csv(\"checks.csv\")\n",
    "checks.head()"
   ]
  },
  {
   "cell_type": "code",
   "execution_count": 14,
   "metadata": {
    "id": "TFIat9Ac-TJd"
   },
   "outputs": [],
   "source": [
    "# Для фильтрации пунктуации\n",
    "exclude = set(string.punctuation)\n",
    "# Для приведения слов в начальной форме\n",
    "morpher = MorphAnalyzer()\n",
    "\n",
    "# Для фильтрации стоп-слов\n",
    "sw = get_stop_words(\"ru\")\n",
    "\n",
    "def preprocess_txt(line):\n",
    "    \"\"\"Функция предобработки текстов\"\"\"\n",
    "    spls = \"\".join(i for i in str(line).strip() if i not in exclude).split()\n",
    "    spls = [morpher.parse(i.lower())[0].normal_form for i in spls]\n",
    "    spls = [i for i in spls if i not in sw and i != \"\"]\n",
    "    return spls"
   ]
  },
  {
   "cell_type": "markdown",
   "metadata": {
    "id": "Y0iYotEPBW77"
   },
   "source": [
    "Значения столбцов в датасете:\n",
    "\n",
    "1) sale_date_date - дата\n",
    "\n",
    "2) contact_id - id кассы\n",
    "\n",
    "3) shop_id - id магазина\n",
    "\n",
    "4) product_id - id товара\n",
    "\n",
    "5) name - название товара\n",
    "\n",
    "6) product_sub_category_id - подкатебгория товара\n",
    "\n",
    "7) product_category_id - категория товара\n",
    "\n",
    "8) brand_id - бренд товара\n",
    "\n",
    "9) quantity - кол-во товаров"
   ]
  },
  {
   "cell_type": "code",
   "execution_count": 12,
   "metadata": {
    "id": "8zR8XskKDaJo"
   },
   "outputs": [],
   "source": [
    "# Смотрим перечень товаров\n",
    "with open(\"Product_dict.pkl\",\"rb\") as f:\n",
    "    product_dict = pickle.load(f)"
   ]
  },
  {
   "cell_type": "code",
   "execution_count": 4,
   "metadata": {
    "id": "44C184viIfq7"
   },
   "outputs": [],
   "source": [
    "# Уберем пропуски в данных по 3 столбцам\n",
    "checks.dropna(axis = 0,subset = ['sale_date_date', \n",
    "                                 'contact_id', \n",
    "                                 'shop_id'], inplace = True)\n",
    "\n",
    "# Введем уникальный идентификаторв чека:\n",
    "checks['check_id'] = checks['sale_date_date'].apply(str) + '_' + \\\n",
    "                     checks['contact_id'].apply(str) + '_' + \\\n",
    "                     checks['shop_id'].apply(str)\n",
    "\n",
    "# Отсортируем по дате для определения валидационной части\n",
    "checks['sale_date_date'] = pd.to_datetime(checks['sale_date_date'])\n",
    "checks.sort_values('sale_date_date', ascending = True, inplace = True) \n",
    "\n",
    "# Поменяем тип product_id в int\n",
    "checks['product_id'] = checks['product_id'].apply(lambda x: int(x))\n",
    "\n",
    "# Разбиваем train-test \n",
    "from sklearn.model_selection import train_test_split\n",
    "train, test = train_test_split(checks, test_size = 0.3, shuffle = False)"
   ]
  },
  {
   "cell_type": "markdown",
   "metadata": {
    "id": "2EK7aH6ODuCr"
   },
   "source": [
    "## Реализация контентных рекомедаций по товарам из product_dict (поиск ближайших похожих товаров)"
   ]
  },
  {
   "cell_type": "code",
   "execution_count": 15,
   "metadata": {
    "id": "7JQwrPkzDal8"
   },
   "outputs": [],
   "source": [
    "# Обработаем словарь товаров\n",
    "product_df = pd.DataFrame.from_dict(product_dict, orient = 'index', columns = ['name'])\n",
    "product_df.reset_index(inplace = True)\n",
    "product_df.rename(columns={'index': 'product_id'}, inplace = True)\n",
    "product_df['text'] = product_df['name'].apply(lambda x: preprocess_txt(str(x)))\n",
    "\n",
    "# Обучим модель FastText на name, длина которых > 3, меньше - бессмыслица\n",
    "sentences = [i for i in product_df['text'] if len(i) > 3]\n",
    "modelFT = FastText(sentences = sentences,\n",
    "                   vector_size = 20, \n",
    "                   min_count = 1, \n",
    "                   window = 5)"
   ]
  },
  {
   "cell_type": "code",
   "execution_count": 61,
   "metadata": {},
   "outputs": [],
   "source": [
    "# # Обучим модель Word2Vec на name, длина которых > 3, меньше - бессмыслица\n",
    "modelW2V_products = Word2Vec(sentences = sentences,\n",
    "                    vector_size = 20, \n",
    "                    min_count = 1, \n",
    "                    window = 5)"
   ]
  },
  {
   "cell_type": "code",
   "execution_count": 16,
   "metadata": {
    "colab": {
     "base_uri": "https://localhost:8080/",
     "height": 117,
     "referenced_widgets": [
      "3efa52e992a44ac0902704b9d5f1f5e3",
      "cd331c2f6cd240d99e5a265ea5880f84",
      "d1eba29ff26d4a0995426954372dd868",
      "50fa4d1ecc2644eebf2f1a5245a50315",
      "98037913e18942e1bb61e88dc07a8c9a",
      "9aa282765cc14a2a9a3b5edca738da0a",
      "f6ab413c3b75423b8a2e506b9c77e498",
      "e3f1977be42e47bcb1c1e0bbb040a339",
      "65c91e261d7843218879e7c85f7108ed",
      "0c479f4a90ce46708cd169b8f3bd1dbf",
      "21313d6f6fde438486ce4a4a4d3f9e75"
     ]
    },
    "id": "QmSbzGSVFg8q",
    "outputId": "cbb0a9e6-c236-4fe5-fd8d-8f07adbe8183"
   },
   "outputs": [
    {
     "name": "stderr",
     "output_type": "stream",
     "text": [
      "<ipython-input-16-a66bf4867325>:8: TqdmDeprecationWarning: This function will be removed in tqdm==5.0.0\n",
      "Please use `tqdm.notebook.tqdm` instead of `tqdm.tqdm_notebook`\n",
      "  for i in tqdm_notebook(range(len(product_df))):\n"
     ]
    },
    {
     "data": {
      "application/vnd.jupyter.widget-view+json": {
       "model_id": "aef567df05e64a6d92162375970370d5",
       "version_major": 2,
       "version_minor": 0
      },
      "text/plain": [
       "  0%|          | 0/30418 [00:00<?, ?it/s]"
      ]
     },
     "metadata": {},
     "output_type": "display_data"
    },
    {
     "data": {
      "text/plain": [
       "True"
      ]
     },
     "execution_count": 16,
     "metadata": {},
     "output_type": "execute_result"
    }
   ],
   "source": [
    "# Для FastText\n",
    "# Для того, чтобы быстро находить товары положим эмбединги их name в ANN индекс\n",
    "# Создадим объект индекса\n",
    "ft_index_product = annoy.AnnoyIndex(20 ,'angular')\n",
    "\n",
    "index_map_product = {}\n",
    "counter = 0\n",
    "\n",
    "for i in tqdm_notebook(range(len(product_df))):\n",
    "    n_ft = 0\n",
    "    index_map_product[counter] = (product_df.loc[i, \"text\"],\n",
    "                                  product_df.loc[i, \"product_id\"],\n",
    "                                  product_df.loc[i, \"name\"])\n",
    "    vector_ft = np.zeros(20)\n",
    "    # Каждое слово обернем в эмбеддинг\n",
    "    for word in product_df.loc[i, \"text\"]:\n",
    "        if word in modelFT.wv.key_to_index:\n",
    "            vector_ft += modelFT.wv[word]\n",
    "            n_ft += 1\n",
    "    if n_ft > 0:\n",
    "        vector_ft = vector_ft / n_ft\n",
    "    ft_index_product.add_item(counter, vector_ft)\n",
    "    counter += 1\n",
    "\n",
    "\n",
    "ft_index_product.build(10)"
   ]
  },
  {
   "cell_type": "code",
   "execution_count": 62,
   "metadata": {},
   "outputs": [
    {
     "name": "stderr",
     "output_type": "stream",
     "text": [
      "<ipython-input-62-56f524f8ab47>:9: TqdmDeprecationWarning: This function will be removed in tqdm==5.0.0\n",
      "Please use `tqdm.notebook.tqdm` instead of `tqdm.tqdm_notebook`\n",
      "  for i in tqdm_notebook(range(len(product_df))):\n"
     ]
    },
    {
     "data": {
      "application/vnd.jupyter.widget-view+json": {
       "model_id": "9d43471fab13411ba6488537d0c02a02",
       "version_major": 2,
       "version_minor": 0
      },
      "text/plain": [
       "  0%|          | 0/30418 [00:00<?, ?it/s]"
      ]
     },
     "metadata": {},
     "output_type": "display_data"
    },
    {
     "data": {
      "text/plain": [
       "True"
      ]
     },
     "execution_count": 62,
     "metadata": {},
     "output_type": "execute_result"
    }
   ],
   "source": [
    "# Для Word2Vec\n",
    "# Для того, чтобы быстро находить товары положим эмбединги их name в ANN индекс\n",
    "# Создадим объект индекса\n",
    "index_product_w2v = annoy.AnnoyIndex(20 ,'angular')\n",
    "\n",
    "index_map_product_w2v = {}\n",
    "counter_w2v = 0\n",
    "\n",
    "for i in tqdm_notebook(range(len(product_df))):\n",
    "    n_w2v = 0\n",
    "    index_map_product_w2v[counter_w2v] = (product_df.loc[i, \"text\"],\n",
    "                                          product_df.loc[i, \"product_id\"],\n",
    "                                          product_df.loc[i, \"name\"])\n",
    "    vector_w2v = np.zeros(20)\n",
    "    # Каждое слово обернем в эмбеддинг\n",
    "    for word in product_df.loc[i, \"text\"]:\n",
    "        if word in modelW2V_products.wv.key_to_index:\n",
    "            vector_w2v += modelW2V_products.wv[word]\n",
    "            n_w2v += 1\n",
    "    if n_w2v > 0:\n",
    "        vector_w2v = vector_w2v / n_w2v\n",
    "    index_product_w2v.add_item(counter_w2v, vector_w2v)\n",
    "    counter_w2v += 1\n",
    "\n",
    "\n",
    "index_product_w2v.build(10)"
   ]
  },
  {
   "cell_type": "code",
   "execution_count": 17,
   "metadata": {
    "id": "obCq-cLkFgxa"
   },
   "outputs": [],
   "source": [
    "def recommend_single(product_id):\n",
    "    \"\"\"Функция рекомендации товара\"\"\"\n",
    "    # Получим name айтема по идентификатору\n",
    "    text = product_df[product_df['product_id']==product_id]['text'].values[0]\n",
    "    \n",
    "    vector_ft = np.zeros(20)\n",
    "    n_ft = 0\n",
    "    # Каждое слово обернем в эмбеддинг\n",
    "    for word in text:\n",
    "        if word in modelFT.wv.key_to_index:\n",
    "            vector_ft += modelFT.wv[word]\n",
    "            n_ft += 1\n",
    "    if n_ft > 0:\n",
    "        vector_ft = vector_ft / n_ft\n",
    "    # Найдем ближайшие по name\n",
    "    rec_items = ft_index_product.get_nns_by_vector(vector_ft, 10)\n",
    "    return [index_map_product[i][2] for i in rec_items]"
   ]
  },
  {
   "cell_type": "code",
   "execution_count": 18,
   "metadata": {
    "colab": {
     "base_uri": "https://localhost:8080/"
    },
    "id": "3QPqZMzATr3M",
    "outputId": "b9592948-aefc-4cd3-8e08-3ec2d8a8c22e"
   },
   "outputs": [
    {
     "data": {
      "text/plain": [
       "['(7.2.A6.201) Гидроксипрогестерон (17-OH-прогестерон) - Тесты репродукции -1',\n",
       " '(7.2.A7.201) Андростендион - Тесты репродукции -1',\n",
       " '(7.2.A4.201) Эстрадиол ( Е2) - Тесты репродукции -1',\n",
       " '(7.2.A5.201) Прогестерон - Тесты репродукции -1',\n",
       " '(0000122403 ) Ранункулус микс -1',\n",
       " '(0000122813 ) Ваксфлауэр микс -1',\n",
       " '(00000013266) Амарилис микс -1',\n",
       " '(47453) Сателлит ПКГ-02 Глюкометр -1',\n",
       " '(0000122441 ) Орхидея микс -1',\n",
       " '(7.2.A8.201) Дегидроэпиандростерон сульфат ( ДГЭА-сульфат ) - Тесты репродукции -1']"
      ]
     },
     "execution_count": 18,
     "metadata": {},
     "output_type": "execute_result"
    }
   ],
   "source": [
    "recommend_single(\"221495\")"
   ]
  },
  {
   "cell_type": "markdown",
   "metadata": {
    "id": "WDcE0ljtZ5P4"
   },
   "source": [
    "## Реализация рекомедаций по чековым последовательностям из train (ниже загружаем уже сформированные группы из чековых данных)"
   ]
  },
  {
   "cell_type": "code",
   "execution_count": 15,
   "metadata": {
    "id": "g1GzoPQCvr1U"
   },
   "outputs": [],
   "source": [
    "# # Уберем лишние столбцы\n",
    "# train.drop(columns = ['sale_date_date', \n",
    "#                        'contact_id', \n",
    "#                        'shop_id', \n",
    "#                        'product_sub_category_id', \n",
    "#                        'product_category_id',\n",
    "#                        'brand_id',\n",
    "#                        'quantity'\n",
    "#                        ], axis=1, inplace=True)\n",
    "# # train['product_id'] = train['product_id'].apply(lambda x: str(x))"
   ]
  },
  {
   "cell_type": "code",
   "execution_count": 16,
   "metadata": {
    "id": "iWBwTWrIvrhi"
   },
   "outputs": [],
   "source": [
    "# # Сгруппируем значения product_id по check_id\n",
    "# agg_func_text = {'product_id': set}\n",
    "# grouped_train = train.groupby(['check_id']).agg(agg_func_text)\n",
    "\n",
    "\n",
    "# Сгруппируем значения name по check_id\n",
    "# agg_func_text = {'name': set}\n",
    "# grouped_train = train.groupby(['check_id']).agg(agg_func_text)\n",
    "\n",
    "# grouped_train['name'] = grouped_train['name'].apply(lambda x: preprocess_txt(x))\n",
    "# grouped_train"
   ]
  },
  {
   "cell_type": "code",
   "execution_count": 3,
   "metadata": {
    "colab": {
     "base_uri": "https://localhost:8080/",
     "height": 204
    },
    "id": "fYOM4k_wvrYC",
    "outputId": "20aefaf9-8eec-4aa0-bfb7-368ae93f1a68"
   },
   "outputs": [
    {
     "data": {
      "text/html": [
       "<div>\n",
       "<style scoped>\n",
       "    .dataframe tbody tr th:only-of-type {\n",
       "        vertical-align: middle;\n",
       "    }\n",
       "\n",
       "    .dataframe tbody tr th {\n",
       "        vertical-align: top;\n",
       "    }\n",
       "\n",
       "    .dataframe thead th {\n",
       "        text-align: right;\n",
       "    }\n",
       "</style>\n",
       "<table border=\"1\" class=\"dataframe\">\n",
       "  <thead>\n",
       "    <tr style=\"text-align: right;\">\n",
       "      <th></th>\n",
       "      <th>Unnamed: 0</th>\n",
       "      <th>name</th>\n",
       "    </tr>\n",
       "  </thead>\n",
       "  <tbody>\n",
       "    <tr>\n",
       "      <th>0</th>\n",
       "      <td>0</td>\n",
       "      <td>['39616', 'пектусин', 'табдрассас№10', '109979...</td>\n",
       "    </tr>\n",
       "    <tr>\n",
       "      <th>1</th>\n",
       "      <td>1</td>\n",
       "      <td>['52707', 'зодак', 'таб', '10', 'мг', '№30', '...</td>\n",
       "    </tr>\n",
       "    <tr>\n",
       "      <th>2</th>\n",
       "      <td>2</td>\n",
       "      <td>['119158', 'минк', 'мыло', 'сливочный', 'печен...</td>\n",
       "    </tr>\n",
       "    <tr>\n",
       "      <th>3</th>\n",
       "      <td>3</td>\n",
       "      <td>['111657', 'кодальнев', 'таб5мг25мг8мг', '№30'...</td>\n",
       "    </tr>\n",
       "    <tr>\n",
       "      <th>4</th>\n",
       "      <td>4</td>\n",
       "      <td>['106041', 'белый', 'уголь', 'актив', 'таб700м...</td>\n",
       "    </tr>\n",
       "  </tbody>\n",
       "</table>\n",
       "</div>"
      ],
      "text/plain": [
       "   Unnamed: 0                                               name\n",
       "0           0  ['39616', 'пектусин', 'табдрассас№10', '109979...\n",
       "1           1  ['52707', 'зодак', 'таб', '10', 'мг', '№30', '...\n",
       "2           2  ['119158', 'минк', 'мыло', 'сливочный', 'печен...\n",
       "3           3  ['111657', 'кодальнев', 'таб5мг25мг8мг', '№30'...\n",
       "4           4  ['106041', 'белый', 'уголь', 'актив', 'таб700м..."
      ]
     },
     "execution_count": 3,
     "metadata": {},
     "output_type": "execute_result"
    }
   ],
   "source": [
    "grouped_train = pd.read_csv(\"grouped_train_final.csv\")\n",
    "grouped_train.head()"
   ]
  },
  {
   "cell_type": "code",
   "execution_count": 6,
   "metadata": {
    "colab": {
     "base_uri": "https://localhost:8080/"
    },
    "id": "3ngacXHb3-H7",
    "outputId": "ba8ecbf6-aa39-4665-f67b-78747564f4b0"
   },
   "outputs": [
    {
     "data": {
      "text/plain": [
       "['39616',\n",
       " 'пектусин',\n",
       " 'табдрассас№10',\n",
       " '109979',\n",
       " 'лортенз',\n",
       " 'табппо5мг50мг',\n",
       " '№30']"
      ]
     },
     "execution_count": 6,
     "metadata": {},
     "output_type": "execute_result"
    }
   ],
   "source": [
    "grouped_train['name'][0].strip(\"'[]\").split(\"', '\")"
   ]
  },
  {
   "cell_type": "code",
   "execution_count": 7,
   "metadata": {
    "id": "jgqXxn9a5j4f"
   },
   "outputs": [],
   "source": [
    "grouped_train['name'] = grouped_train['name'].apply(lambda x: x.strip(\"'[]\").split(\"', '\"))"
   ]
  },
  {
   "cell_type": "code",
   "execution_count": null,
   "metadata": {
    "id": "2Ur9Mwf4kzuK"
   },
   "outputs": [],
   "source": [
    "# # Обучим модель Word2Vec на product_id, длина которых > 1, меньше - бессмыслица\n",
    "# sentences_w2v = [i for i in grouped_train['product_id']]\n",
    "# modelW2V = Word2Vec(sentences = sentences_w2v,\n",
    "#                     size = 20, \n",
    "#                     min_count = 1, \n",
    "#                     window = 5)"
   ]
  },
  {
   "cell_type": "code",
   "execution_count": 10,
   "metadata": {
    "id": "KlMe-tlR9ebg"
   },
   "outputs": [],
   "source": [
    "# Обучим модель Word2Vec на name\n",
    "sentences_w2v = [i for i in grouped_train['name']]\n",
    "modelW2V = Word2Vec(sentences = sentences_w2v,\n",
    "                    vector_size = 20, \n",
    "                    min_count = 1, \n",
    "                    window = 5)"
   ]
  },
  {
   "cell_type": "code",
   "execution_count": null,
   "metadata": {
    "id": "iMdIXUTpuxhp"
   },
   "outputs": [],
   "source": [
    "# def recommend_check_id(*args):\n",
    "#     \"\"\"Функция рекомендации товара по чековой последовательности\"\"\"\n",
    "#     lst = []\n",
    "#     for arg in args:\n",
    "#       lst.append(str(int(arg)))\n",
    "   \n",
    "#     vector_w2v = np.zeros(20)\n",
    "#     n_w2v = 0\n",
    "\n",
    "#     # Каждое слово обернем в эмбеддинг\n",
    "#     for word in lst:\n",
    "#         if word in modelW2V.wv.key_to_index:\n",
    "#             vector_w2v += modelW2V.wv[word]\n",
    "#             n_w2v += 1\n",
    "#     if n_w2v > 0:\n",
    "#         vector_w2v = vector_w2v / n_w2v\n",
    "    \n",
    "#     # Найдем ближайшие по product_id\n",
    "#     rec_items = ft_index_product.get_nns_by_vector(vector_w2v, 20)\n",
    "#     return [index_map_product[i][1] for i in rec_items]"
   ]
  },
  {
   "cell_type": "code",
   "execution_count": 66,
   "metadata": {
    "id": "JIKbCJln9p0Y"
   },
   "outputs": [],
   "source": [
    "def recommend_check_name(*args):\n",
    "    \"\"\"Функция рекомендации товара по чековой последовательности\"\"\"\n",
    "    lst = []\n",
    "    for arg in args:\n",
    "        for i in range(len(product_df[product_df['product_id']==str(arg)]['text'].values[0])):\n",
    "            lst.append(product_df[product_df['product_id']==str(arg)]['text'].values[0][i])\n",
    "   \n",
    "    vector_w2v = np.zeros(20)\n",
    "    n_w2v = 0\n",
    "\n",
    "    # Каждое слово обернем в эмбеддинг\n",
    "    for word in lst:\n",
    "        if word in modelW2V.wv.key_to_index:\n",
    "            vector_w2v += modelW2V.wv[word]\n",
    "            n_w2v += 1\n",
    "    if n_w2v > 0:\n",
    "        vector_w2v = vector_w2v / n_w2v\n",
    "    \n",
    "    # Найдем ближайшие по product_id\n",
    "    rec_items = index_product_w2v.get_nns_by_vector(vector_w2v, 20)\n",
    "    return [index_map_product_w2v[i] for i in rec_items]"
   ]
  },
  {
   "cell_type": "code",
   "execution_count": null,
   "metadata": {
    "id": "vgDtxMYswlMq"
   },
   "outputs": [],
   "source": [
    "# Тестируем ответы на test\n",
    "test.drop(columns = ['sale_date_date', \n",
    "                       'contact_id', \n",
    "                       'shop_id', \n",
    "                       'product_sub_category_id', \n",
    "                       'product_category_id',\n",
    "                       'brand_id',\n",
    "                       'quantity'\n",
    "                       ], axis=1, inplace=True)\n",
    "test['product_id'] = test['product_id'].apply(lambda x: str(x))\n",
    "\n",
    "# Группируем product_id на test\n",
    "agg_func_text = {'product_id': set}\n",
    "grouped_test = test.groupby(['check_id']).agg(agg_func_text)\n",
    "grouped_test['product_id'] = grouped_test['product_id'].apply(lambda x: list(x))\n",
    "grouped_test.tail(20)"
   ]
  },
  {
   "cell_type": "code",
   "execution_count": null,
   "metadata": {},
   "outputs": [],
   "source": [
    "# Пробуем работу рекомендательной системы по факту test"
   ]
  },
  {
   "cell_type": "code",
   "execution_count": 71,
   "metadata": {},
   "outputs": [
    {
     "data": {
      "text/plain": [
       "['72688', 'дротаверин', 'гидрохлорид', 'тб', '40мг', 'n50', '397']"
      ]
     },
     "execution_count": 71,
     "metadata": {},
     "output_type": "execute_result"
    }
   ],
   "source": [
    "product_df[product_df['product_id']==str(109489)]['text'].values[0]"
   ]
  },
  {
   "cell_type": "code",
   "execution_count": 70,
   "metadata": {},
   "outputs": [
    {
     "data": {
      "text/plain": [
       "['96971', 'анальгин', 'таб500мг', '№20', '397']"
      ]
     },
     "execution_count": 70,
     "metadata": {},
     "output_type": "execute_result"
    }
   ],
   "source": [
    "product_df[product_df['product_id']==str(116291)]['text'].values[0]"
   ]
  },
  {
   "cell_type": "code",
   "execution_count": 72,
   "metadata": {},
   "outputs": [
    {
     "data": {
      "text/plain": [
       "['68077',\n",
       " 'пластырькомпресс',\n",
       " 'экстрапласт',\n",
       " 'температура',\n",
       " '5',\n",
       " 'х',\n",
       " '12см',\n",
       " '№3',\n",
       " '670']"
      ]
     },
     "execution_count": 72,
     "metadata": {},
     "output_type": "execute_result"
    }
   ],
   "source": [
    "product_df[product_df['product_id']==str(120163)]['text'].values[0]"
   ]
  },
  {
   "cell_type": "code",
   "execution_count": 67,
   "metadata": {
    "id": "qC0N6COVwk-i"
   },
   "outputs": [
    {
     "data": {
      "text/plain": [
       "[(['179514', 'фенхель', 'масло', 'эфирный', 'фл10мл', '410'],\n",
       "  '155758',\n",
       "  '(179514) Фенхель масло эфирное фл.10мл 410'),\n",
       " (['116972', 'грейпфрут', 'эфирный', 'масло', 'фл10мл', '410'],\n",
       "  '75322',\n",
       "  '(116972) Грейпфрут эфирное масло фл.10мл 410'),\n",
       " (['179458', 'ель', 'масло', 'эфирный', '10мл', '410'],\n",
       "  '155867',\n",
       "  '(179458) Ель масло эфирное 10мл 410'),\n",
       " (['179461', 'жожоба', 'масло', 'эфирный', '10мл', '410'],\n",
       "  '155943',\n",
       "  '(179461) Жожоба масло эфирное 10мл 410'),\n",
       " (['196126', 'илангиланг', 'масло', 'эфирный', '10мл', '410'],\n",
       "  '193745',\n",
       "  '(196126) Иланг-иланг масло эфирное 10мл 410'),\n",
       " (['179561', 'нероли', 'масло', 'эфирный', '10мл', '410'],\n",
       "  '155906',\n",
       "  '(179561) Нероли масло эфирное 10мл 410'),\n",
       " (['196131', 'розмарин', 'масло', 'эфирный', '10мл', '410'],\n",
       "  '213310',\n",
       "  '(196131) Розмарин масло эфирное 10мл 410'),\n",
       " (['179313', 'жасмина', 'масло', 'эфирный', '10мл', '410'],\n",
       "  '155614',\n",
       "  '(179313) Жасмин масло эфирное 10мл 410'),\n",
       " (['200867', 'блюменберг', 'масло', 'эфирный', 'цитронелла', '10мл', '410'],\n",
       "  '213748',\n",
       "  '(200867) Блюменберг Масло эфирное Цитронелла 10мл 410'),\n",
       " (['102141', 'розмарин', 'масло', 'эфирный', '10мл', '410'],\n",
       "  '88276',\n",
       "  '(102141) Розмарин масло эфирное 10мл 410'),\n",
       " (['114139', 'базилик', 'масло', 'эфирный', '10мл', '410'],\n",
       "  '147692',\n",
       "  '(114139) Базилик масло эфирное 10мл 410'),\n",
       " (['188662', 'пеллесан', 'масло', 'эфирный', 'каяпуты', '10мл', '410'],\n",
       "  '163949',\n",
       "  '(188662) Пеллесана масло эфирное Каяпут 10мл 410'),\n",
       " (['40651', 'розмарин', 'масло', 'эфирный', '10мл', '410'],\n",
       "  '77553',\n",
       "  '(40651) Розмарин масло эфирное 10мл 410'),\n",
       " (['108130', 'бергамот', 'масло', 'эфирный', '10мл', '410'],\n",
       "  '98044',\n",
       "  '(108130) Бергамот масло эфирное 10мл 410'),\n",
       " (['200851', 'блюменберг', 'масло', 'эфирный', 'пальмароз', '10мл', '410'],\n",
       "  '214526',\n",
       "  '(200851) Блюменберг Масло эфирное Пальмароза 10мл 410'),\n",
       " (['196125', 'грейпфрут', 'масло', 'эфирный', '10мл', '410'],\n",
       "  '192268',\n",
       "  '(196125) Грейпфрут масло эфирное 10мл 410'),\n",
       " (['196129', 'можжевельник', 'масло', 'эфирный', '10мл', '410'],\n",
       "  '213019',\n",
       "  '(196129) Можжевельник масло эфирное 10мл 410'),\n",
       " (['106213', 'илангиланг', 'масло', 'эфирный', '10мл', '410'],\n",
       "  '148728',\n",
       "  '(106213) Иланг-Иланг масло эфирное 10мл 410'),\n",
       " (['103927', 'пихта', 'эфирный', 'масло', '10мл', '410'],\n",
       "  '99243',\n",
       "  '(103927) Пихта эфирное масло 10мл 410'),\n",
       " (['196124', 'бергамот', 'масло', 'эфирный', '10мл', '410'],\n",
       "  '213267',\n",
       "  '(196124) Бергамот масло эфирное 10мл 410')]"
      ]
     },
     "execution_count": 67,
     "metadata": {},
     "output_type": "execute_result"
    }
   ],
   "source": [
    "recommend_check_name(116291, 109489)\n",
    "#120163"
   ]
  },
  {
   "cell_type": "code",
   "execution_count": 75,
   "metadata": {},
   "outputs": [
    {
     "data": {
      "text/plain": [
       "['68077',\n",
       " 'пластырькомпресс',\n",
       " 'экстрапласт',\n",
       " 'температура',\n",
       " '5',\n",
       " 'х',\n",
       " '12см',\n",
       " '№3',\n",
       " '670']"
      ]
     },
     "execution_count": 75,
     "metadata": {},
     "output_type": "execute_result"
    }
   ],
   "source": [
    "product_df[product_df['product_id']==str(120163)]['text'].values[0]"
   ]
  },
  {
   "cell_type": "code",
   "execution_count": 74,
   "metadata": {},
   "outputs": [
    {
     "data": {
      "text/plain": [
       "['72688', 'дротаверин', 'гидрохлорид', 'тб', '40мг', 'n50', '397']"
      ]
     },
     "execution_count": 74,
     "metadata": {},
     "output_type": "execute_result"
    }
   ],
   "source": [
    "product_df[product_df['product_id']==str(109489)]['text'].values[0]"
   ]
  },
  {
   "cell_type": "code",
   "execution_count": 73,
   "metadata": {},
   "outputs": [
    {
     "data": {
      "text/plain": [
       "['96971', 'анальгин', 'таб500мг', '№20', '397']"
      ]
     },
     "execution_count": 73,
     "metadata": {},
     "output_type": "execute_result"
    }
   ],
   "source": [
    "product_df[product_df['product_id']==str(116291)]['text'].values[0]"
   ]
  },
  {
   "cell_type": "code",
   "execution_count": 69,
   "metadata": {
    "id": "cbAc8hiEwkt2"
   },
   "outputs": [
    {
     "data": {
      "text/plain": [
       "[(['209409', 'марвис', 'зубной', 'паста', 'мятажасмина', '85мл', '529'],\n",
       "  '224397',\n",
       "  '(209409) Марвис Зубная паста Мята-Жасмин 85мл 529'),\n",
       " (['195865', 'апагарда', 'мплюс', 'зубной', 'паста', 'отбеливающ125мл', '529'],\n",
       "  '192226',\n",
       "  '(195865) Апагард М-Плюс Зубная паста отбеливающ.125мл 529'),\n",
       " (['209407', 'марвис', 'зубной', 'паста', 'мятаимбирь', '85мл', '529'],\n",
       "  '224278',\n",
       "  '(209407) Марвис Зубная паста Мята-Имбирь 85мл 529'),\n",
       " (['209410', 'марвис', 'зубной', 'паста', 'мятакорица', '85мл', '529'],\n",
       "  '223052',\n",
       "  '(209410) Марвис Зубная паста Мята-Корица 85мл 529'),\n",
       " (['195866',\n",
       "   'апагарда',\n",
       "   'премио',\n",
       "   'зубной',\n",
       "   'паста',\n",
       "   'отбеливающая100мл',\n",
       "   '529'],\n",
       "  '212952',\n",
       "  '(195866) Апагард Премио Зубная паста отбеливающая100мл 529'),\n",
       " (['36460', 'эльгидиум', 'зубной', 'паста', '100г75мл', '529'],\n",
       "  '65573',\n",
       "  '(36460) Эльгидиум Зубная паста 100г/75мл 529'),\n",
       " (['60782',\n",
       "   'зубной',\n",
       "   'паста',\n",
       "   'сплат',\n",
       "   'special',\n",
       "   'dreamмечта',\n",
       "   'артm130',\n",
       "   '529'],\n",
       "  '61480',\n",
       "  '(60782) Зубная паста СПЛАТ Special Dream/Мечта арт.M-130 529'),\n",
       " (['204014', 'перио', 'зубной', 'паста', 'отбеливать', '285г', '529'],\n",
       "  '216909',\n",
       "  '(204014) Перио Зубная паста отбеливающая 285г 529'),\n",
       " (['92973',\n",
       "   'зубной',\n",
       "   'паста',\n",
       "   'колгейт',\n",
       "   'дюрафат',\n",
       "   '5000',\n",
       "   'ppm',\n",
       "   '51г',\n",
       "   '529'],\n",
       "  '96752',\n",
       "  '(92973) Зубная паста Колгейт Дюрафат 5000 ppm 51г 529'),\n",
       " (['209406', 'марвис', 'зубной', 'паста', 'cвежий', 'мятый', '85мл', '529'],\n",
       "  '224286',\n",
       "  '(209406) Марвис Зубная паста Cвежая Мята 85мл 529'),\n",
       " (['18913',\n",
       "   'зубной',\n",
       "   'паста',\n",
       "   'сплат',\n",
       "   'special',\n",
       "   'sea',\n",
       "   'minerals',\n",
       "   'артs107',\n",
       "   '529'],\n",
       "  '57349',\n",
       "  '(18913) Зубная паста СПЛАТ Special Sea Minerals арт.S-107 529'),\n",
       " (['209405', 'марвис', 'зубной', 'паста', 'мятый', '85мл', '529'],\n",
       "  '223085',\n",
       "  '(209405) Марвис Зубная паста Мята 85мл 529'),\n",
       " (['200408',\n",
       "   'ападента',\n",
       "   'зубной',\n",
       "   'паста',\n",
       "   'реминерализующий',\n",
       "   'перио',\n",
       "   '90г',\n",
       "   '529'],\n",
       "  '234892',\n",
       "  '(200408) Ападент Зубная паста Реминерализующ. Перио 90г 529'),\n",
       " (['195869',\n",
       "   'ападента',\n",
       "   'зубной',\n",
       "   'паста',\n",
       "   'реминерализовать',\n",
       "   '120мл',\n",
       "   '529'],\n",
       "  '213213',\n",
       "  '(195869) Ападент Зубная паста Реминерализующая 120мл 529'),\n",
       " (['120630', 'зубной', 'паста', 'рокс', 'брекетс', 'ортый', '135г', '529'],\n",
       "  '85495',\n",
       "  '(120630) Зубная паста Рокс Про Брекетс & Орто 135г 529'),\n",
       " (['120190', 'зубной', 'паста', 'лакалюта', 'мультиэффект', '75мл', '529'],\n",
       "  '111331',\n",
       "  '(120190) Зубная паста Лакалют Мульти-Эффект 75мл 529'),\n",
       " (['196113', 'зубной', 'паста', 'лакалюта', 'флора', '75мл', '529'],\n",
       "  '167019',\n",
       "  '(196113) Зубная паста Лакалют Флора 75мл 529'),\n",
       " (['64566', 'зубной', 'паста', 'рокс', 'антитабак', '74г', '529'],\n",
       "  '57353',\n",
       "  '(64566) Зубная паста Рокс Антитабак 74г 529'),\n",
       " (['69952', 'зубной', 'паста', 'пародонтакса', 'фтор', '75мл', '529'],\n",
       "  '131027',\n",
       "  '(69952) Зубная паста \"Пародонтакс\" без фтора 75мл 529'),\n",
       " (['113270',\n",
       "   'свисса',\n",
       "   'смайл',\n",
       "   'зубной',\n",
       "   'паста',\n",
       "   'витаминнотравяной',\n",
       "   '75мл',\n",
       "   '529'],\n",
       "  '125902',\n",
       "  '(113270) Свисс Смайл Зубная паста витаминно-травяная 75мл 529')]"
      ]
     },
     "execution_count": 69,
     "metadata": {},
     "output_type": "execute_result"
    }
   ],
   "source": [
    "recommend_check_name(120163, 109489)\n",
    "#116291"
   ]
  },
  {
   "cell_type": "markdown",
   "metadata": {
    "id": "UOIF5CdWwUzA"
   },
   "source": [
    "## Выводы:\n",
    "Самое важное в данном проекте рекомендательной системы то, что нужно уделять много времени валидации результатов, поскольку изначально определена валидационная выборка, как более поздние данные о продажах. Для работы в боевом режиме этому аспекту неюходимо уделить колоссальное количество времени и ресурсов, поскольку признаков, влияющих на результат предсказания можно спроектировать гораздо больше, чем просто имя товара. Например, категории и подкатегории товара, что, несомненно, оказывает влияние на результаты."
   ]
  }
 ],
 "metadata": {
  "colab": {
   "collapsed_sections": [],
   "name": "Ипатов АН - Проект Рекомендательная система для аптек.ipynb",
   "provenance": []
  },
  "gpuClass": "standard",
  "kernelspec": {
   "display_name": "Python 3",
   "language": "python",
   "name": "python3"
  },
  "language_info": {
   "codemirror_mode": {
    "name": "ipython",
    "version": 3
   },
   "file_extension": ".py",
   "mimetype": "text/x-python",
   "name": "python",
   "nbconvert_exporter": "python",
   "pygments_lexer": "ipython3",
   "version": "3.8.8"
  },
  "varInspector": {
   "cols": {
    "lenName": 16,
    "lenType": 16,
    "lenVar": 40
   },
   "kernels_config": {
    "python": {
     "delete_cmd_postfix": "",
     "delete_cmd_prefix": "del ",
     "library": "var_list.py",
     "varRefreshCmd": "print(var_dic_list())"
    },
    "r": {
     "delete_cmd_postfix": ") ",
     "delete_cmd_prefix": "rm(",
     "library": "var_list.r",
     "varRefreshCmd": "cat(var_dic_list()) "
    }
   },
   "types_to_exclude": [
    "module",
    "function",
    "builtin_function_or_method",
    "instance",
    "_Feature"
   ],
   "window_display": false
  },
  "widgets": {
   "application/vnd.jupyter.widget-state+json": {
    "0c479f4a90ce46708cd169b8f3bd1dbf": {
     "model_module": "@jupyter-widgets/base",
     "model_module_version": "1.2.0",
     "model_name": "LayoutModel",
     "state": {
      "_model_module": "@jupyter-widgets/base",
      "_model_module_version": "1.2.0",
      "_model_name": "LayoutModel",
      "_view_count": null,
      "_view_module": "@jupyter-widgets/base",
      "_view_module_version": "1.2.0",
      "_view_name": "LayoutView",
      "align_content": null,
      "align_items": null,
      "align_self": null,
      "border": null,
      "bottom": null,
      "display": null,
      "flex": null,
      "flex_flow": null,
      "grid_area": null,
      "grid_auto_columns": null,
      "grid_auto_flow": null,
      "grid_auto_rows": null,
      "grid_column": null,
      "grid_gap": null,
      "grid_row": null,
      "grid_template_areas": null,
      "grid_template_columns": null,
      "grid_template_rows": null,
      "height": null,
      "justify_content": null,
      "justify_items": null,
      "left": null,
      "margin": null,
      "max_height": null,
      "max_width": null,
      "min_height": null,
      "min_width": null,
      "object_fit": null,
      "object_position": null,
      "order": null,
      "overflow": null,
      "overflow_x": null,
      "overflow_y": null,
      "padding": null,
      "right": null,
      "top": null,
      "visibility": null,
      "width": null
     }
    },
    "21313d6f6fde438486ce4a4a4d3f9e75": {
     "model_module": "@jupyter-widgets/controls",
     "model_module_version": "1.5.0",
     "model_name": "DescriptionStyleModel",
     "state": {
      "_model_module": "@jupyter-widgets/controls",
      "_model_module_version": "1.5.0",
      "_model_name": "DescriptionStyleModel",
      "_view_count": null,
      "_view_module": "@jupyter-widgets/base",
      "_view_module_version": "1.2.0",
      "_view_name": "StyleView",
      "description_width": ""
     }
    },
    "3efa52e992a44ac0902704b9d5f1f5e3": {
     "model_module": "@jupyter-widgets/controls",
     "model_module_version": "1.5.0",
     "model_name": "HBoxModel",
     "state": {
      "_dom_classes": [],
      "_model_module": "@jupyter-widgets/controls",
      "_model_module_version": "1.5.0",
      "_model_name": "HBoxModel",
      "_view_count": null,
      "_view_module": "@jupyter-widgets/controls",
      "_view_module_version": "1.5.0",
      "_view_name": "HBoxView",
      "box_style": "",
      "children": [
       "IPY_MODEL_cd331c2f6cd240d99e5a265ea5880f84",
       "IPY_MODEL_d1eba29ff26d4a0995426954372dd868",
       "IPY_MODEL_50fa4d1ecc2644eebf2f1a5245a50315"
      ],
      "layout": "IPY_MODEL_98037913e18942e1bb61e88dc07a8c9a"
     }
    },
    "50fa4d1ecc2644eebf2f1a5245a50315": {
     "model_module": "@jupyter-widgets/controls",
     "model_module_version": "1.5.0",
     "model_name": "HTMLModel",
     "state": {
      "_dom_classes": [],
      "_model_module": "@jupyter-widgets/controls",
      "_model_module_version": "1.5.0",
      "_model_name": "HTMLModel",
      "_view_count": null,
      "_view_module": "@jupyter-widgets/controls",
      "_view_module_version": "1.5.0",
      "_view_name": "HTMLView",
      "description": "",
      "description_tooltip": null,
      "layout": "IPY_MODEL_0c479f4a90ce46708cd169b8f3bd1dbf",
      "placeholder": "​",
      "style": "IPY_MODEL_21313d6f6fde438486ce4a4a4d3f9e75",
      "value": " 30418/30418 [00:03&lt;00:00, 7879.88it/s]"
     }
    },
    "65c91e261d7843218879e7c85f7108ed": {
     "model_module": "@jupyter-widgets/controls",
     "model_module_version": "1.5.0",
     "model_name": "ProgressStyleModel",
     "state": {
      "_model_module": "@jupyter-widgets/controls",
      "_model_module_version": "1.5.0",
      "_model_name": "ProgressStyleModel",
      "_view_count": null,
      "_view_module": "@jupyter-widgets/base",
      "_view_module_version": "1.2.0",
      "_view_name": "StyleView",
      "bar_color": null,
      "description_width": ""
     }
    },
    "98037913e18942e1bb61e88dc07a8c9a": {
     "model_module": "@jupyter-widgets/base",
     "model_module_version": "1.2.0",
     "model_name": "LayoutModel",
     "state": {
      "_model_module": "@jupyter-widgets/base",
      "_model_module_version": "1.2.0",
      "_model_name": "LayoutModel",
      "_view_count": null,
      "_view_module": "@jupyter-widgets/base",
      "_view_module_version": "1.2.0",
      "_view_name": "LayoutView",
      "align_content": null,
      "align_items": null,
      "align_self": null,
      "border": null,
      "bottom": null,
      "display": null,
      "flex": null,
      "flex_flow": null,
      "grid_area": null,
      "grid_auto_columns": null,
      "grid_auto_flow": null,
      "grid_auto_rows": null,
      "grid_column": null,
      "grid_gap": null,
      "grid_row": null,
      "grid_template_areas": null,
      "grid_template_columns": null,
      "grid_template_rows": null,
      "height": null,
      "justify_content": null,
      "justify_items": null,
      "left": null,
      "margin": null,
      "max_height": null,
      "max_width": null,
      "min_height": null,
      "min_width": null,
      "object_fit": null,
      "object_position": null,
      "order": null,
      "overflow": null,
      "overflow_x": null,
      "overflow_y": null,
      "padding": null,
      "right": null,
      "top": null,
      "visibility": null,
      "width": null
     }
    },
    "9aa282765cc14a2a9a3b5edca738da0a": {
     "model_module": "@jupyter-widgets/base",
     "model_module_version": "1.2.0",
     "model_name": "LayoutModel",
     "state": {
      "_model_module": "@jupyter-widgets/base",
      "_model_module_version": "1.2.0",
      "_model_name": "LayoutModel",
      "_view_count": null,
      "_view_module": "@jupyter-widgets/base",
      "_view_module_version": "1.2.0",
      "_view_name": "LayoutView",
      "align_content": null,
      "align_items": null,
      "align_self": null,
      "border": null,
      "bottom": null,
      "display": null,
      "flex": null,
      "flex_flow": null,
      "grid_area": null,
      "grid_auto_columns": null,
      "grid_auto_flow": null,
      "grid_auto_rows": null,
      "grid_column": null,
      "grid_gap": null,
      "grid_row": null,
      "grid_template_areas": null,
      "grid_template_columns": null,
      "grid_template_rows": null,
      "height": null,
      "justify_content": null,
      "justify_items": null,
      "left": null,
      "margin": null,
      "max_height": null,
      "max_width": null,
      "min_height": null,
      "min_width": null,
      "object_fit": null,
      "object_position": null,
      "order": null,
      "overflow": null,
      "overflow_x": null,
      "overflow_y": null,
      "padding": null,
      "right": null,
      "top": null,
      "visibility": null,
      "width": null
     }
    },
    "cd331c2f6cd240d99e5a265ea5880f84": {
     "model_module": "@jupyter-widgets/controls",
     "model_module_version": "1.5.0",
     "model_name": "HTMLModel",
     "state": {
      "_dom_classes": [],
      "_model_module": "@jupyter-widgets/controls",
      "_model_module_version": "1.5.0",
      "_model_name": "HTMLModel",
      "_view_count": null,
      "_view_module": "@jupyter-widgets/controls",
      "_view_module_version": "1.5.0",
      "_view_name": "HTMLView",
      "description": "",
      "description_tooltip": null,
      "layout": "IPY_MODEL_9aa282765cc14a2a9a3b5edca738da0a",
      "placeholder": "​",
      "style": "IPY_MODEL_f6ab413c3b75423b8a2e506b9c77e498",
      "value": "100%"
     }
    },
    "d1eba29ff26d4a0995426954372dd868": {
     "model_module": "@jupyter-widgets/controls",
     "model_module_version": "1.5.0",
     "model_name": "FloatProgressModel",
     "state": {
      "_dom_classes": [],
      "_model_module": "@jupyter-widgets/controls",
      "_model_module_version": "1.5.0",
      "_model_name": "FloatProgressModel",
      "_view_count": null,
      "_view_module": "@jupyter-widgets/controls",
      "_view_module_version": "1.5.0",
      "_view_name": "ProgressView",
      "bar_style": "success",
      "description": "",
      "description_tooltip": null,
      "layout": "IPY_MODEL_e3f1977be42e47bcb1c1e0bbb040a339",
      "max": 30418,
      "min": 0,
      "orientation": "horizontal",
      "style": "IPY_MODEL_65c91e261d7843218879e7c85f7108ed",
      "value": 30418
     }
    },
    "e3f1977be42e47bcb1c1e0bbb040a339": {
     "model_module": "@jupyter-widgets/base",
     "model_module_version": "1.2.0",
     "model_name": "LayoutModel",
     "state": {
      "_model_module": "@jupyter-widgets/base",
      "_model_module_version": "1.2.0",
      "_model_name": "LayoutModel",
      "_view_count": null,
      "_view_module": "@jupyter-widgets/base",
      "_view_module_version": "1.2.0",
      "_view_name": "LayoutView",
      "align_content": null,
      "align_items": null,
      "align_self": null,
      "border": null,
      "bottom": null,
      "display": null,
      "flex": null,
      "flex_flow": null,
      "grid_area": null,
      "grid_auto_columns": null,
      "grid_auto_flow": null,
      "grid_auto_rows": null,
      "grid_column": null,
      "grid_gap": null,
      "grid_row": null,
      "grid_template_areas": null,
      "grid_template_columns": null,
      "grid_template_rows": null,
      "height": null,
      "justify_content": null,
      "justify_items": null,
      "left": null,
      "margin": null,
      "max_height": null,
      "max_width": null,
      "min_height": null,
      "min_width": null,
      "object_fit": null,
      "object_position": null,
      "order": null,
      "overflow": null,
      "overflow_x": null,
      "overflow_y": null,
      "padding": null,
      "right": null,
      "top": null,
      "visibility": null,
      "width": null
     }
    },
    "f6ab413c3b75423b8a2e506b9c77e498": {
     "model_module": "@jupyter-widgets/controls",
     "model_module_version": "1.5.0",
     "model_name": "DescriptionStyleModel",
     "state": {
      "_model_module": "@jupyter-widgets/controls",
      "_model_module_version": "1.5.0",
      "_model_name": "DescriptionStyleModel",
      "_view_count": null,
      "_view_module": "@jupyter-widgets/base",
      "_view_module_version": "1.2.0",
      "_view_name": "StyleView",
      "description_width": ""
     }
    }
   }
  }
 },
 "nbformat": 4,
 "nbformat_minor": 1
}
