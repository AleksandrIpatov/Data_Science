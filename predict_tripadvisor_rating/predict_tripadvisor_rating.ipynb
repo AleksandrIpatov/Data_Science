{
 "cells": [
  {
   "cell_type": "markdown",
   "metadata": {},
   "source": [
    "# Predict TripAdvisor Rating\n",
    "## В этом соревновании нам предстоит предсказать рейтинг ресторана в TripAdvisor"
   ]
  },
  {
   "cell_type": "markdown",
   "metadata": {},
   "source": [
    "# import"
   ]
  },
  {
   "cell_type": "code",
   "execution_count": 1,
   "metadata": {
    "_cell_guid": "b1076dfc-b9ad-4769-8c92-a6c4dae69d19",
    "_uuid": "8f2839f25d086af736a60e9eeb907d3b93b6e0e5",
    "execution": {
     "iopub.execute_input": "2021-09-19T17:46:31.088257Z",
     "iopub.status.busy": "2021-09-19T17:46:31.087863Z",
     "iopub.status.idle": "2021-09-19T17:46:34.037115Z",
     "shell.execute_reply": "2021-09-19T17:46:34.035864Z",
     "shell.execute_reply.started": "2021-09-19T17:46:31.088191Z"
    }
   },
   "outputs": [
    {
     "name": "stdout",
     "output_type": "stream",
     "text": [
      "/kaggle/input/europe-cities-31/cities.csv\n",
      "/kaggle/input/cities-31/cities.csv\n",
      "/kaggle/input/sf-dst-restaurant-rating/sample_submission.csv\n",
      "/kaggle/input/sf-dst-restaurant-rating/main_task.csv\n",
      "/kaggle/input/sf-dst-restaurant-rating/kaggle_task.csv\n"
     ]
    }
   ],
   "source": [
    "# This Python 3 environment comes with many helpful analytics libraries installed\n",
    "# It is defined by the kaggle/python docker image: https://github.com/kaggle/docker-python\n",
    "# For example, here's several helpful packages to load in \n",
    "\n",
    "import numpy as np # linear algebra\n",
    "import pandas as pd # data processing, CSV file I/O (e.g. pd.read_csv)\n",
    "\n",
    "import re\n",
    "from datetime import datetime, timedelta\n",
    "\n",
    "import matplotlib.pyplot as plt\n",
    "import seaborn as sns \n",
    "%matplotlib inline\n",
    "\n",
    "# Загружаем специальный удобный инструмент для разделения датасета:\n",
    "from sklearn.model_selection import train_test_split\n",
    "\n",
    "# Input data files are available in the \"../input/\" directory.\n",
    "# For example, running this (by clicking run or pressing Shift+Enter) will list all files under the input directory\n",
    "\n",
    "import os\n",
    "for dirname, _, filenames in os.walk('/kaggle/input'):\n",
    "    for filename in filenames:\n",
    "        print(os.path.join(dirname, filename))"
   ]
  },
  {
   "cell_type": "code",
   "execution_count": 2,
   "metadata": {
    "execution": {
     "iopub.execute_input": "2021-09-19T17:46:34.041249Z",
     "iopub.status.busy": "2021-09-19T17:46:34.040939Z",
     "iopub.status.idle": "2021-09-19T17:46:34.044599Z",
     "shell.execute_reply": "2021-09-19T17:46:34.043895Z",
     "shell.execute_reply.started": "2021-09-19T17:46:34.041188Z"
    }
   },
   "outputs": [],
   "source": [
    "# всегда фиксируйте RANDOM_SEED, чтобы ваши эксперименты были воспроизводимы!\n",
    "RANDOM_SEED = 42"
   ]
  },
  {
   "cell_type": "code",
   "execution_count": 3,
   "metadata": {
    "execution": {
     "iopub.execute_input": "2021-09-19T17:46:34.046234Z",
     "iopub.status.busy": "2021-09-19T17:46:34.04579Z",
     "iopub.status.idle": "2021-09-19T17:46:37.606807Z",
     "shell.execute_reply": "2021-09-19T17:46:37.605471Z",
     "shell.execute_reply.started": "2021-09-19T17:46:34.046178Z"
    }
   },
   "outputs": [],
   "source": [
    "# зафиксируем версию пакетов, чтобы эксперименты были воспроизводимы:\n",
    "!pip freeze > requirements.txt"
   ]
  },
  {
   "cell_type": "markdown",
   "metadata": {},
   "source": [
    "# DATA"
   ]
  },
  {
   "cell_type": "code",
   "execution_count": 4,
   "metadata": {
    "_cell_guid": "79c7e3d0-c299-4dcb-8224-4455121ee9b0",
    "_uuid": "d629ff2d2480ee46fbb7e2d37f6b5fab8052498a",
    "execution": {
     "iopub.execute_input": "2021-09-19T17:46:37.610497Z",
     "iopub.status.busy": "2021-09-19T17:46:37.610095Z",
     "iopub.status.idle": "2021-09-19T17:46:38.019583Z",
     "shell.execute_reply": "2021-09-19T17:46:38.018492Z",
     "shell.execute_reply.started": "2021-09-19T17:46:37.610421Z"
    }
   },
   "outputs": [],
   "source": [
    "DATA_DIR = '/kaggle/input/sf-dst-restaurant-rating/'\n",
    "df_train = pd.read_csv(DATA_DIR+'/main_task.csv')\n",
    "df_test = pd.read_csv(DATA_DIR+'kaggle_task.csv')\n",
    "sample_submission = pd.read_csv(DATA_DIR+'/sample_submission.csv')"
   ]
  },
  {
   "cell_type": "code",
   "execution_count": 5,
   "metadata": {
    "execution": {
     "iopub.execute_input": "2021-09-19T17:46:38.022421Z",
     "iopub.status.busy": "2021-09-19T17:46:38.022128Z",
     "iopub.status.idle": "2021-09-19T17:46:38.03582Z",
     "shell.execute_reply": "2021-09-19T17:46:38.034563Z",
     "shell.execute_reply.started": "2021-09-19T17:46:38.022384Z"
    }
   },
   "outputs": [],
   "source": [
    "# Подгружаю свой датасет с доп. данными по 31 городу\n",
    "df_cities = pd.read_csv('/kaggle/input/cities-31/cities.csv')"
   ]
  },
  {
   "cell_type": "code",
   "execution_count": 6,
   "metadata": {
    "execution": {
     "iopub.execute_input": "2021-09-17T19:24:44.049037Z",
     "iopub.status.busy": "2021-09-17T19:24:44.048656Z",
     "iopub.status.idle": "2021-09-17T19:24:44.060379Z",
     "shell.execute_reply": "2021-09-17T19:24:44.059381Z",
     "shell.execute_reply.started": "2021-09-17T19:24:44.048961Z"
    }
   },
   "outputs": [
    {
     "name": "stdout",
     "output_type": "stream",
     "text": [
      "<class 'pandas.core.frame.DataFrame'>\n",
      "RangeIndex: 31 entries, 0 to 30\n",
      "Data columns (total 7 columns):\n",
      "City                   31 non-null object\n",
      "Население              31 non-null float64\n",
      "Площадь                31 non-null float64\n",
      "Уровень_жизни          31 non-null float64\n",
      "Столица                31 non-null int64\n",
      "Месячный_доход         31 non-null float64\n",
      "Плотность населения    31 non-null float64\n",
      "dtypes: float64(5), int64(1), object(1)\n",
      "memory usage: 1.8+ KB\n"
     ]
    }
   ],
   "source": [
    "df_cities.info()"
   ]
  },
  {
   "cell_type": "code",
   "execution_count": 7,
   "metadata": {
    "execution": {
     "iopub.execute_input": "2021-09-17T19:16:29.418289Z",
     "iopub.status.busy": "2021-09-17T19:16:29.417912Z",
     "iopub.status.idle": "2021-09-17T19:16:29.461274Z",
     "shell.execute_reply": "2021-09-17T19:16:29.460399Z",
     "shell.execute_reply.started": "2021-09-17T19:16:29.41823Z"
    }
   },
   "outputs": [
    {
     "name": "stdout",
     "output_type": "stream",
     "text": [
      "<class 'pandas.core.frame.DataFrame'>\n",
      "RangeIndex: 40000 entries, 0 to 39999\n",
      "Data columns (total 10 columns):\n",
      "Restaurant_id        40000 non-null object\n",
      "City                 40000 non-null object\n",
      "Cuisine Style        30717 non-null object\n",
      "Ranking              40000 non-null float64\n",
      "Rating               40000 non-null float64\n",
      "Price Range          26114 non-null object\n",
      "Number of Reviews    37457 non-null float64\n",
      "Reviews              40000 non-null object\n",
      "URL_TA               40000 non-null object\n",
      "ID_TA                40000 non-null object\n",
      "dtypes: float64(3), object(7)\n",
      "memory usage: 3.1+ MB\n"
     ]
    }
   ],
   "source": [
    "df_train.info()"
   ]
  },
  {
   "cell_type": "code",
   "execution_count": 8,
   "metadata": {
    "execution": {
     "iopub.execute_input": "2021-09-17T19:15:45.15065Z",
     "iopub.status.busy": "2021-09-17T19:15:45.150179Z",
     "iopub.status.idle": "2021-09-17T19:15:45.169711Z",
     "shell.execute_reply": "2021-09-17T19:15:45.168746Z",
     "shell.execute_reply.started": "2021-09-17T19:15:45.150609Z"
    }
   },
   "outputs": [
    {
     "data": {
      "text/html": [
       "<div>\n",
       "<style scoped>\n",
       "    .dataframe tbody tr th:only-of-type {\n",
       "        vertical-align: middle;\n",
       "    }\n",
       "\n",
       "    .dataframe tbody tr th {\n",
       "        vertical-align: top;\n",
       "    }\n",
       "\n",
       "    .dataframe thead th {\n",
       "        text-align: right;\n",
       "    }\n",
       "</style>\n",
       "<table border=\"1\" class=\"dataframe\">\n",
       "  <thead>\n",
       "    <tr style=\"text-align: right;\">\n",
       "      <th></th>\n",
       "      <th>Restaurant_id</th>\n",
       "      <th>City</th>\n",
       "      <th>Cuisine Style</th>\n",
       "      <th>Ranking</th>\n",
       "      <th>Rating</th>\n",
       "      <th>Price Range</th>\n",
       "      <th>Number of Reviews</th>\n",
       "      <th>Reviews</th>\n",
       "      <th>URL_TA</th>\n",
       "      <th>ID_TA</th>\n",
       "    </tr>\n",
       "  </thead>\n",
       "  <tbody>\n",
       "    <tr>\n",
       "      <th>0</th>\n",
       "      <td>id_5569</td>\n",
       "      <td>Paris</td>\n",
       "      <td>['European', 'French', 'International']</td>\n",
       "      <td>5570.0</td>\n",
       "      <td>3.5</td>\n",
       "      <td>$$ - $$$</td>\n",
       "      <td>194.0</td>\n",
       "      <td>[['Good food at your doorstep', 'A good hotel ...</td>\n",
       "      <td>/Restaurant_Review-g187147-d1912643-Reviews-R_...</td>\n",
       "      <td>d1912643</td>\n",
       "    </tr>\n",
       "    <tr>\n",
       "      <th>1</th>\n",
       "      <td>id_1535</td>\n",
       "      <td>Stockholm</td>\n",
       "      <td>NaN</td>\n",
       "      <td>1537.0</td>\n",
       "      <td>4.0</td>\n",
       "      <td>NaN</td>\n",
       "      <td>10.0</td>\n",
       "      <td>[['Unique cuisine', 'Delicious Nepalese food']...</td>\n",
       "      <td>/Restaurant_Review-g189852-d7992032-Reviews-Bu...</td>\n",
       "      <td>d7992032</td>\n",
       "    </tr>\n",
       "    <tr>\n",
       "      <th>2</th>\n",
       "      <td>id_352</td>\n",
       "      <td>London</td>\n",
       "      <td>['Japanese', 'Sushi', 'Asian', 'Grill', 'Veget...</td>\n",
       "      <td>353.0</td>\n",
       "      <td>4.5</td>\n",
       "      <td>$$$$</td>\n",
       "      <td>688.0</td>\n",
       "      <td>[['Catch up with friends', 'Not exceptional'],...</td>\n",
       "      <td>/Restaurant_Review-g186338-d8632781-Reviews-RO...</td>\n",
       "      <td>d8632781</td>\n",
       "    </tr>\n",
       "    <tr>\n",
       "      <th>3</th>\n",
       "      <td>id_3456</td>\n",
       "      <td>Berlin</td>\n",
       "      <td>NaN</td>\n",
       "      <td>3458.0</td>\n",
       "      <td>5.0</td>\n",
       "      <td>NaN</td>\n",
       "      <td>3.0</td>\n",
       "      <td>[[], []]</td>\n",
       "      <td>/Restaurant_Review-g187323-d1358776-Reviews-Es...</td>\n",
       "      <td>d1358776</td>\n",
       "    </tr>\n",
       "    <tr>\n",
       "      <th>4</th>\n",
       "      <td>id_615</td>\n",
       "      <td>Munich</td>\n",
       "      <td>['German', 'Central European', 'Vegetarian Fri...</td>\n",
       "      <td>621.0</td>\n",
       "      <td>4.0</td>\n",
       "      <td>$$ - $$$</td>\n",
       "      <td>84.0</td>\n",
       "      <td>[['Best place to try a Bavarian food', 'Nice b...</td>\n",
       "      <td>/Restaurant_Review-g187309-d6864963-Reviews-Au...</td>\n",
       "      <td>d6864963</td>\n",
       "    </tr>\n",
       "  </tbody>\n",
       "</table>\n",
       "</div>"
      ],
      "text/plain": [
       "  Restaurant_id       City                                      Cuisine Style  \\\n",
       "0       id_5569      Paris            ['European', 'French', 'International']   \n",
       "1       id_1535  Stockholm                                                NaN   \n",
       "2        id_352     London  ['Japanese', 'Sushi', 'Asian', 'Grill', 'Veget...   \n",
       "3       id_3456     Berlin                                                NaN   \n",
       "4        id_615     Munich  ['German', 'Central European', 'Vegetarian Fri...   \n",
       "\n",
       "   Ranking  Rating Price Range  Number of Reviews  \\\n",
       "0   5570.0     3.5    $$ - $$$              194.0   \n",
       "1   1537.0     4.0         NaN               10.0   \n",
       "2    353.0     4.5        $$$$              688.0   \n",
       "3   3458.0     5.0         NaN                3.0   \n",
       "4    621.0     4.0    $$ - $$$               84.0   \n",
       "\n",
       "                                             Reviews  \\\n",
       "0  [['Good food at your doorstep', 'A good hotel ...   \n",
       "1  [['Unique cuisine', 'Delicious Nepalese food']...   \n",
       "2  [['Catch up with friends', 'Not exceptional'],...   \n",
       "3                                           [[], []]   \n",
       "4  [['Best place to try a Bavarian food', 'Nice b...   \n",
       "\n",
       "                                              URL_TA     ID_TA  \n",
       "0  /Restaurant_Review-g187147-d1912643-Reviews-R_...  d1912643  \n",
       "1  /Restaurant_Review-g189852-d7992032-Reviews-Bu...  d7992032  \n",
       "2  /Restaurant_Review-g186338-d8632781-Reviews-RO...  d8632781  \n",
       "3  /Restaurant_Review-g187323-d1358776-Reviews-Es...  d1358776  \n",
       "4  /Restaurant_Review-g187309-d6864963-Reviews-Au...  d6864963  "
      ]
     },
     "execution_count": 8,
     "metadata": {},
     "output_type": "execute_result"
    }
   ],
   "source": [
    "df_train.head(5)"
   ]
  },
  {
   "cell_type": "code",
   "execution_count": 9,
   "metadata": {
    "execution": {
     "iopub.execute_input": "2021-09-17T19:15:27.359599Z",
     "iopub.status.busy": "2021-09-17T19:15:27.359317Z",
     "iopub.status.idle": "2021-09-17T19:15:27.375056Z",
     "shell.execute_reply": "2021-09-17T19:15:27.373931Z",
     "shell.execute_reply.started": "2021-09-17T19:15:27.359564Z"
    }
   },
   "outputs": [
    {
     "name": "stdout",
     "output_type": "stream",
     "text": [
      "<class 'pandas.core.frame.DataFrame'>\n",
      "RangeIndex: 10000 entries, 0 to 9999\n",
      "Data columns (total 9 columns):\n",
      "Restaurant_id        10000 non-null object\n",
      "City                 10000 non-null object\n",
      "Cuisine Style        7693 non-null object\n",
      "Ranking              10000 non-null float64\n",
      "Price Range          6525 non-null object\n",
      "Number of Reviews    9343 non-null float64\n",
      "Reviews              9998 non-null object\n",
      "URL_TA               10000 non-null object\n",
      "ID_TA                10000 non-null object\n",
      "dtypes: float64(2), object(7)\n",
      "memory usage: 703.2+ KB\n"
     ]
    }
   ],
   "source": [
    "df_test.info()"
   ]
  },
  {
   "cell_type": "code",
   "execution_count": 10,
   "metadata": {
    "execution": {
     "iopub.execute_input": "2021-09-17T16:55:12.352077Z",
     "iopub.status.busy": "2021-09-17T16:55:12.351726Z",
     "iopub.status.idle": "2021-09-17T16:55:12.374966Z",
     "shell.execute_reply": "2021-09-17T16:55:12.374207Z",
     "shell.execute_reply.started": "2021-09-17T16:55:12.352024Z"
    }
   },
   "outputs": [
    {
     "data": {
      "text/html": [
       "<div>\n",
       "<style scoped>\n",
       "    .dataframe tbody tr th:only-of-type {\n",
       "        vertical-align: middle;\n",
       "    }\n",
       "\n",
       "    .dataframe tbody tr th {\n",
       "        vertical-align: top;\n",
       "    }\n",
       "\n",
       "    .dataframe thead th {\n",
       "        text-align: right;\n",
       "    }\n",
       "</style>\n",
       "<table border=\"1\" class=\"dataframe\">\n",
       "  <thead>\n",
       "    <tr style=\"text-align: right;\">\n",
       "      <th></th>\n",
       "      <th>Restaurant_id</th>\n",
       "      <th>City</th>\n",
       "      <th>Cuisine Style</th>\n",
       "      <th>Ranking</th>\n",
       "      <th>Price Range</th>\n",
       "      <th>Number of Reviews</th>\n",
       "      <th>Reviews</th>\n",
       "      <th>URL_TA</th>\n",
       "      <th>ID_TA</th>\n",
       "    </tr>\n",
       "  </thead>\n",
       "  <tbody>\n",
       "    <tr>\n",
       "      <th>0</th>\n",
       "      <td>id_0</td>\n",
       "      <td>Paris</td>\n",
       "      <td>['Bar', 'Pub']</td>\n",
       "      <td>12963.0</td>\n",
       "      <td>$$ - $$$</td>\n",
       "      <td>4.0</td>\n",
       "      <td>[[], []]</td>\n",
       "      <td>/Restaurant_Review-g187147-d10746918-Reviews-L...</td>\n",
       "      <td>d10746918</td>\n",
       "    </tr>\n",
       "    <tr>\n",
       "      <th>1</th>\n",
       "      <td>id_1</td>\n",
       "      <td>Helsinki</td>\n",
       "      <td>['European', 'Scandinavian', 'Gluten Free Opti...</td>\n",
       "      <td>106.0</td>\n",
       "      <td>$$ - $$$</td>\n",
       "      <td>97.0</td>\n",
       "      <td>[['Very good reviews!', 'Fine dining in Hakani...</td>\n",
       "      <td>/Restaurant_Review-g189934-d6674944-Reviews-Ra...</td>\n",
       "      <td>d6674944</td>\n",
       "    </tr>\n",
       "    <tr>\n",
       "      <th>2</th>\n",
       "      <td>id_2</td>\n",
       "      <td>Edinburgh</td>\n",
       "      <td>['Vegetarian Friendly']</td>\n",
       "      <td>810.0</td>\n",
       "      <td>$$ - $$$</td>\n",
       "      <td>28.0</td>\n",
       "      <td>[['Better than the Links', 'Ivy Black'], ['12/...</td>\n",
       "      <td>/Restaurant_Review-g186525-d13129638-Reviews-B...</td>\n",
       "      <td>d13129638</td>\n",
       "    </tr>\n",
       "    <tr>\n",
       "      <th>3</th>\n",
       "      <td>id_3</td>\n",
       "      <td>London</td>\n",
       "      <td>['Italian', 'Mediterranean', 'European', 'Vege...</td>\n",
       "      <td>1669.0</td>\n",
       "      <td>$$$$</td>\n",
       "      <td>202.0</td>\n",
       "      <td>[['Most exquisite', 'Delicious and authentic']...</td>\n",
       "      <td>/Restaurant_Review-g186338-d680417-Reviews-Qui...</td>\n",
       "      <td>d680417</td>\n",
       "    </tr>\n",
       "    <tr>\n",
       "      <th>4</th>\n",
       "      <td>id_4</td>\n",
       "      <td>Bratislava</td>\n",
       "      <td>['Italian', 'Mediterranean', 'European', 'Seaf...</td>\n",
       "      <td>37.0</td>\n",
       "      <td>$$$$</td>\n",
       "      <td>162.0</td>\n",
       "      <td>[['Always the best in bratislava', 'Very good ...</td>\n",
       "      <td>/Restaurant_Review-g274924-d1112354-Reviews-Ma...</td>\n",
       "      <td>d1112354</td>\n",
       "    </tr>\n",
       "  </tbody>\n",
       "</table>\n",
       "</div>"
      ],
      "text/plain": [
       "  Restaurant_id        City  \\\n",
       "0          id_0       Paris   \n",
       "1          id_1    Helsinki   \n",
       "2          id_2   Edinburgh   \n",
       "3          id_3      London   \n",
       "4          id_4  Bratislava   \n",
       "\n",
       "                                       Cuisine Style  Ranking Price Range  \\\n",
       "0                                     ['Bar', 'Pub']  12963.0    $$ - $$$   \n",
       "1  ['European', 'Scandinavian', 'Gluten Free Opti...    106.0    $$ - $$$   \n",
       "2                            ['Vegetarian Friendly']    810.0    $$ - $$$   \n",
       "3  ['Italian', 'Mediterranean', 'European', 'Vege...   1669.0        $$$$   \n",
       "4  ['Italian', 'Mediterranean', 'European', 'Seaf...     37.0        $$$$   \n",
       "\n",
       "   Number of Reviews                                            Reviews  \\\n",
       "0                4.0                                           [[], []]   \n",
       "1               97.0  [['Very good reviews!', 'Fine dining in Hakani...   \n",
       "2               28.0  [['Better than the Links', 'Ivy Black'], ['12/...   \n",
       "3              202.0  [['Most exquisite', 'Delicious and authentic']...   \n",
       "4              162.0  [['Always the best in bratislava', 'Very good ...   \n",
       "\n",
       "                                              URL_TA      ID_TA  \n",
       "0  /Restaurant_Review-g187147-d10746918-Reviews-L...  d10746918  \n",
       "1  /Restaurant_Review-g189934-d6674944-Reviews-Ra...   d6674944  \n",
       "2  /Restaurant_Review-g186525-d13129638-Reviews-B...  d13129638  \n",
       "3  /Restaurant_Review-g186338-d680417-Reviews-Qui...    d680417  \n",
       "4  /Restaurant_Review-g274924-d1112354-Reviews-Ma...   d1112354  "
      ]
     },
     "execution_count": 10,
     "metadata": {},
     "output_type": "execute_result"
    }
   ],
   "source": [
    "df_test.head(5)"
   ]
  },
  {
   "cell_type": "code",
   "execution_count": 11,
   "metadata": {
    "execution": {
     "iopub.execute_input": "2021-09-17T16:55:21.469586Z",
     "iopub.status.busy": "2021-09-17T16:55:21.469007Z",
     "iopub.status.idle": "2021-09-17T16:55:21.480515Z",
     "shell.execute_reply": "2021-09-17T16:55:21.479619Z",
     "shell.execute_reply.started": "2021-09-17T16:55:21.469517Z"
    }
   },
   "outputs": [
    {
     "data": {
      "text/html": [
       "<div>\n",
       "<style scoped>\n",
       "    .dataframe tbody tr th:only-of-type {\n",
       "        vertical-align: middle;\n",
       "    }\n",
       "\n",
       "    .dataframe tbody tr th {\n",
       "        vertical-align: top;\n",
       "    }\n",
       "\n",
       "    .dataframe thead th {\n",
       "        text-align: right;\n",
       "    }\n",
       "</style>\n",
       "<table border=\"1\" class=\"dataframe\">\n",
       "  <thead>\n",
       "    <tr style=\"text-align: right;\">\n",
       "      <th></th>\n",
       "      <th>Restaurant_id</th>\n",
       "      <th>Rating</th>\n",
       "    </tr>\n",
       "  </thead>\n",
       "  <tbody>\n",
       "    <tr>\n",
       "      <th>0</th>\n",
       "      <td>id_0</td>\n",
       "      <td>2.0</td>\n",
       "    </tr>\n",
       "    <tr>\n",
       "      <th>1</th>\n",
       "      <td>id_1</td>\n",
       "      <td>2.5</td>\n",
       "    </tr>\n",
       "    <tr>\n",
       "      <th>2</th>\n",
       "      <td>id_2</td>\n",
       "      <td>4.0</td>\n",
       "    </tr>\n",
       "    <tr>\n",
       "      <th>3</th>\n",
       "      <td>id_3</td>\n",
       "      <td>1.0</td>\n",
       "    </tr>\n",
       "    <tr>\n",
       "      <th>4</th>\n",
       "      <td>id_4</td>\n",
       "      <td>4.0</td>\n",
       "    </tr>\n",
       "  </tbody>\n",
       "</table>\n",
       "</div>"
      ],
      "text/plain": [
       "  Restaurant_id  Rating\n",
       "0          id_0     2.0\n",
       "1          id_1     2.5\n",
       "2          id_2     4.0\n",
       "3          id_3     1.0\n",
       "4          id_4     4.0"
      ]
     },
     "execution_count": 11,
     "metadata": {},
     "output_type": "execute_result"
    }
   ],
   "source": [
    "sample_submission.head(5)"
   ]
  },
  {
   "cell_type": "code",
   "execution_count": 12,
   "metadata": {
    "execution": {
     "iopub.execute_input": "2021-09-17T19:15:33.79183Z",
     "iopub.status.busy": "2021-09-17T19:15:33.791469Z",
     "iopub.status.idle": "2021-09-17T19:15:33.802809Z",
     "shell.execute_reply": "2021-09-17T19:15:33.801064Z",
     "shell.execute_reply.started": "2021-09-17T19:15:33.791766Z"
    }
   },
   "outputs": [
    {
     "name": "stdout",
     "output_type": "stream",
     "text": [
      "<class 'pandas.core.frame.DataFrame'>\n",
      "RangeIndex: 10000 entries, 0 to 9999\n",
      "Data columns (total 2 columns):\n",
      "Restaurant_id    10000 non-null object\n",
      "Rating           10000 non-null float64\n",
      "dtypes: float64(1), object(1)\n",
      "memory usage: 156.4+ KB\n"
     ]
    }
   ],
   "source": [
    "sample_submission.info()"
   ]
  },
  {
   "cell_type": "code",
   "execution_count": 13,
   "metadata": {
    "execution": {
     "iopub.execute_input": "2021-09-19T17:46:41.333987Z",
     "iopub.status.busy": "2021-09-19T17:46:41.333611Z",
     "iopub.status.idle": "2021-09-19T17:46:41.403221Z",
     "shell.execute_reply": "2021-09-19T17:46:41.402075Z",
     "shell.execute_reply.started": "2021-09-19T17:46:41.333924Z"
    }
   },
   "outputs": [],
   "source": [
    "# ВАЖНО! дря корректной обработки признаков объединяем трейн и тест в один датасет\n",
    "df_train['sample'] = 1 # помечаем где у нас трейн\n",
    "df_test['sample'] = 0 # помечаем где у нас тест\n",
    "df_test['Rating'] = 0 # в тесте у нас нет значения Rating, мы его должны предсказать, по этому пока просто заполняем нулями\n",
    "\n",
    "data = df_test.append(df_train, sort=False).reset_index(drop=True) # объединяем"
   ]
  },
  {
   "cell_type": "code",
   "execution_count": 14,
   "metadata": {
    "execution": {
     "iopub.execute_input": "2021-09-17T18:57:44.210256Z",
     "iopub.status.busy": "2021-09-17T18:57:44.20991Z",
     "iopub.status.idle": "2021-09-17T18:57:44.262433Z",
     "shell.execute_reply": "2021-09-17T18:57:44.260689Z",
     "shell.execute_reply.started": "2021-09-17T18:57:44.210207Z"
    }
   },
   "outputs": [
    {
     "name": "stdout",
     "output_type": "stream",
     "text": [
      "<class 'pandas.core.frame.DataFrame'>\n",
      "RangeIndex: 50000 entries, 0 to 49999\n",
      "Data columns (total 11 columns):\n",
      "Restaurant_id        50000 non-null object\n",
      "City                 50000 non-null object\n",
      "Cuisine Style        38410 non-null object\n",
      "Ranking              50000 non-null float64\n",
      "Price Range          32639 non-null object\n",
      "Number of Reviews    46800 non-null float64\n",
      "Reviews              49998 non-null object\n",
      "URL_TA               50000 non-null object\n",
      "ID_TA                50000 non-null object\n",
      "sample               50000 non-null int64\n",
      "Rating               50000 non-null float64\n",
      "dtypes: float64(3), int64(1), object(7)\n",
      "memory usage: 4.2+ MB\n"
     ]
    }
   ],
   "source": [
    "data.info()"
   ]
  },
  {
   "cell_type": "markdown",
   "metadata": {},
   "source": [
    "Подробнее по признакам:\n",
    "* City: Город \n",
    "* Cuisine Style: Кухня\n",
    "* Ranking: Ранг ресторана относительно других ресторанов в этом городе\n",
    "* Price Range: Цены в ресторане в 3 категориях\n",
    "* Number of Reviews: Количество отзывов\n",
    "* Reviews: 2 последних отзыва и даты этих отзывов\n",
    "* URL_TA: страница ресторана на 'www.tripadvisor.com' \n",
    "* ID_TA: ID ресторана в TripAdvisor\n",
    "* Rating: Рейтинг ресторана"
   ]
  },
  {
   "cell_type": "code",
   "execution_count": 15,
   "metadata": {
    "execution": {
     "iopub.execute_input": "2021-09-14T04:29:34.872224Z",
     "iopub.status.busy": "2021-09-14T04:29:34.871838Z",
     "iopub.status.idle": "2021-09-14T04:29:34.881695Z",
     "shell.execute_reply": "2021-09-14T04:29:34.880174Z",
     "shell.execute_reply.started": "2021-09-14T04:29:34.872156Z"
    }
   },
   "outputs": [
    {
     "data": {
      "text/plain": [
       "Index(['Restaurant_id', 'City', 'Cuisine Style', 'Ranking', 'Price Range',\n",
       "       'Number of Reviews', 'Reviews', 'URL_TA', 'ID_TA', 'sample', 'Rating'],\n",
       "      dtype='object')"
      ]
     },
     "execution_count": 15,
     "metadata": {},
     "output_type": "execute_result"
    }
   ],
   "source": [
    "data.columns"
   ]
  },
  {
   "cell_type": "markdown",
   "metadata": {},
   "source": [
    "Как видим, большинство признаков у нас требует очистки и предварительной обработки."
   ]
  },
  {
   "cell_type": "markdown",
   "metadata": {},
   "source": [
    "## 1. Обработка NAN "
   ]
  },
  {
   "cell_type": "code",
   "execution_count": 16,
   "metadata": {
    "execution": {
     "iopub.execute_input": "2021-09-19T17:46:47.551416Z",
     "iopub.status.busy": "2021-09-19T17:46:47.551072Z",
     "iopub.status.idle": "2021-09-19T17:46:47.558365Z",
     "shell.execute_reply": "2021-09-19T17:46:47.557505Z",
     "shell.execute_reply.started": "2021-09-19T17:46:47.551359Z"
    }
   },
   "outputs": [],
   "source": [
    "# Добавляем столбец с информацией о пропусках в Number of Reviews\n",
    "data['Number_of_Reviews_isNAN'] = pd.isna(data['Number of Reviews']).astype('uint8')"
   ]
  },
  {
   "cell_type": "code",
   "execution_count": 17,
   "metadata": {
    "execution": {
     "iopub.execute_input": "2021-09-19T17:46:48.153856Z",
     "iopub.status.busy": "2021-09-19T17:46:48.153308Z",
     "iopub.status.idle": "2021-09-19T17:46:48.173314Z",
     "shell.execute_reply": "2021-09-19T17:46:48.172444Z",
     "shell.execute_reply.started": "2021-09-19T17:46:48.153798Z"
    }
   },
   "outputs": [],
   "source": [
    "# Заполняю некоторые пропуски, большинство будет заполнено ниже\n",
    "data['Cuisine Style'].fillna('Vegetarian Friendly', inplace=True) # самый часто повторяющийся вид кухни\n",
    "data['Reviews'].fillna('', inplace=True)"
   ]
  },
  {
   "cell_type": "code",
   "execution_count": 18,
   "metadata": {
    "execution": {
     "iopub.execute_input": "2021-09-17T18:58:12.368389Z",
     "iopub.status.busy": "2021-09-17T18:58:12.368046Z",
     "iopub.status.idle": "2021-09-17T18:58:12.392727Z",
     "shell.execute_reply": "2021-09-17T18:58:12.391078Z",
     "shell.execute_reply.started": "2021-09-17T18:58:12.36832Z"
    }
   },
   "outputs": [
    {
     "data": {
      "text/html": [
       "<div>\n",
       "<style scoped>\n",
       "    .dataframe tbody tr th:only-of-type {\n",
       "        vertical-align: middle;\n",
       "    }\n",
       "\n",
       "    .dataframe tbody tr th {\n",
       "        vertical-align: top;\n",
       "    }\n",
       "\n",
       "    .dataframe thead th {\n",
       "        text-align: right;\n",
       "    }\n",
       "</style>\n",
       "<table border=\"1\" class=\"dataframe\">\n",
       "  <thead>\n",
       "    <tr style=\"text-align: right;\">\n",
       "      <th></th>\n",
       "      <th>Restaurant_id</th>\n",
       "      <th>City</th>\n",
       "      <th>Cuisine Style</th>\n",
       "      <th>Ranking</th>\n",
       "      <th>Price Range</th>\n",
       "      <th>Number of Reviews</th>\n",
       "      <th>Reviews</th>\n",
       "      <th>URL_TA</th>\n",
       "      <th>ID_TA</th>\n",
       "      <th>sample</th>\n",
       "      <th>Rating</th>\n",
       "      <th>Number_of_Reviews_isNAN</th>\n",
       "    </tr>\n",
       "  </thead>\n",
       "  <tbody>\n",
       "    <tr>\n",
       "      <th>41457</th>\n",
       "      <td>id_4969</td>\n",
       "      <td>Rome</td>\n",
       "      <td>['Italian']</td>\n",
       "      <td>4970.0</td>\n",
       "      <td>$$ - $$$</td>\n",
       "      <td>72.0</td>\n",
       "      <td>[['Simple but Great value', 'Good spot for cas...</td>\n",
       "      <td>/Restaurant_Review-g187791-d4323991-Reviews-Ba...</td>\n",
       "      <td>d4323991</td>\n",
       "      <td>1</td>\n",
       "      <td>3.5</td>\n",
       "      <td>0</td>\n",
       "    </tr>\n",
       "    <tr>\n",
       "      <th>49351</th>\n",
       "      <td>id_1626</td>\n",
       "      <td>Lisbon</td>\n",
       "      <td>['European', 'Portuguese']</td>\n",
       "      <td>1627.0</td>\n",
       "      <td>$$ - $$$</td>\n",
       "      <td>29.0</td>\n",
       "      <td>[['Unique', 'Great Restaurant but Fairly Price...</td>\n",
       "      <td>/Restaurant_Review-g189158-d3570226-Reviews-O_...</td>\n",
       "      <td>d3570226</td>\n",
       "      <td>1</td>\n",
       "      <td>4.0</td>\n",
       "      <td>0</td>\n",
       "    </tr>\n",
       "  </tbody>\n",
       "</table>\n",
       "</div>"
      ],
      "text/plain": [
       "      Restaurant_id    City               Cuisine Style  Ranking Price Range  \\\n",
       "41457       id_4969    Rome                 ['Italian']   4970.0    $$ - $$$   \n",
       "49351       id_1626  Lisbon  ['European', 'Portuguese']   1627.0    $$ - $$$   \n",
       "\n",
       "       Number of Reviews                                            Reviews  \\\n",
       "41457               72.0  [['Simple but Great value', 'Good spot for cas...   \n",
       "49351               29.0  [['Unique', 'Great Restaurant but Fairly Price...   \n",
       "\n",
       "                                                  URL_TA     ID_TA  sample  \\\n",
       "41457  /Restaurant_Review-g187791-d4323991-Reviews-Ba...  d4323991       1   \n",
       "49351  /Restaurant_Review-g189158-d3570226-Reviews-O_...  d3570226       1   \n",
       "\n",
       "       Rating  Number_of_Reviews_isNAN  \n",
       "41457     3.5                        0  \n",
       "49351     4.0                        0  "
      ]
     },
     "execution_count": 18,
     "metadata": {},
     "output_type": "execute_result"
    }
   ],
   "source": [
    "data.sample(2)"
   ]
  },
  {
   "cell_type": "markdown",
   "metadata": {},
   "source": [
    "### 2. Обработка признаков\n",
    "Для начала посмотрим какие признаки у нас могут быть категориальными."
   ]
  },
  {
   "cell_type": "code",
   "execution_count": 19,
   "metadata": {
    "execution": {
     "iopub.execute_input": "2021-09-13T16:38:30.255952Z",
     "iopub.status.busy": "2021-09-13T16:38:30.255561Z",
     "iopub.status.idle": "2021-09-13T16:38:30.399742Z",
     "shell.execute_reply": "2021-09-13T16:38:30.398983Z",
     "shell.execute_reply.started": "2021-09-13T16:38:30.255889Z"
    }
   },
   "outputs": [
    {
     "data": {
      "text/plain": [
       "Restaurant_id              13094\n",
       "City                          31\n",
       "Cuisine Style              10732\n",
       "Ranking                    12975\n",
       "Price Range                    4\n",
       "Number of Reviews           1574\n",
       "Reviews                    41858\n",
       "URL_TA                     49963\n",
       "ID_TA                      49963\n",
       "sample                         2\n",
       "Rating                        10\n",
       "Number_of_Reviews_isNAN        2\n",
       "dtype: int64"
      ]
     },
     "execution_count": 19,
     "metadata": {},
     "output_type": "execute_result"
    }
   ],
   "source": [
    "data.nunique(dropna=False)"
   ]
  },
  {
   "cell_type": "code",
   "execution_count": 20,
   "metadata": {
    "execution": {
     "iopub.execute_input": "2021-09-19T17:46:59.963469Z",
     "iopub.status.busy": "2021-09-19T17:46:59.962964Z",
     "iopub.status.idle": "2021-09-19T17:46:59.993999Z",
     "shell.execute_reply": "2021-09-19T17:46:59.993294Z",
     "shell.execute_reply.started": "2021-09-19T17:46:59.963427Z"
    }
   },
   "outputs": [],
   "source": [
    "# One-Hot Encoding - 31 город из City\n",
    "data = pd.concat([data,pd.get_dummies(data['City'])],axis=1)"
   ]
  },
  {
   "cell_type": "code",
   "execution_count": 21,
   "metadata": {
    "execution": {
     "iopub.execute_input": "2021-09-15T19:44:04.630262Z",
     "iopub.status.busy": "2021-09-15T19:44:04.629977Z",
     "iopub.status.idle": "2021-09-15T19:44:04.660967Z",
     "shell.execute_reply": "2021-09-15T19:44:04.66027Z",
     "shell.execute_reply.started": "2021-09-15T19:44:04.630219Z"
    },
    "scrolled": true
   },
   "outputs": [
    {
     "data": {
      "text/html": [
       "<div>\n",
       "<style scoped>\n",
       "    .dataframe tbody tr th:only-of-type {\n",
       "        vertical-align: middle;\n",
       "    }\n",
       "\n",
       "    .dataframe tbody tr th {\n",
       "        vertical-align: top;\n",
       "    }\n",
       "\n",
       "    .dataframe thead th {\n",
       "        text-align: right;\n",
       "    }\n",
       "</style>\n",
       "<table border=\"1\" class=\"dataframe\">\n",
       "  <thead>\n",
       "    <tr style=\"text-align: right;\">\n",
       "      <th></th>\n",
       "      <th>Restaurant_id</th>\n",
       "      <th>City</th>\n",
       "      <th>Cuisine Style</th>\n",
       "      <th>Ranking</th>\n",
       "      <th>Price Range</th>\n",
       "      <th>Number of Reviews</th>\n",
       "      <th>Reviews</th>\n",
       "      <th>URL_TA</th>\n",
       "      <th>ID_TA</th>\n",
       "      <th>sample</th>\n",
       "      <th>...</th>\n",
       "      <th>Munich</th>\n",
       "      <th>Oporto</th>\n",
       "      <th>Oslo</th>\n",
       "      <th>Paris</th>\n",
       "      <th>Prague</th>\n",
       "      <th>Rome</th>\n",
       "      <th>Stockholm</th>\n",
       "      <th>Vienna</th>\n",
       "      <th>Warsaw</th>\n",
       "      <th>Zurich</th>\n",
       "    </tr>\n",
       "  </thead>\n",
       "  <tbody>\n",
       "    <tr>\n",
       "      <th>0</th>\n",
       "      <td>id_0</td>\n",
       "      <td>Paris</td>\n",
       "      <td>['Bar', 'Pub']</td>\n",
       "      <td>12963.0</td>\n",
       "      <td>$$ - $$$</td>\n",
       "      <td>4.0</td>\n",
       "      <td>[[], []]</td>\n",
       "      <td>/Restaurant_Review-g187147-d10746918-Reviews-L...</td>\n",
       "      <td>d10746918</td>\n",
       "      <td>0</td>\n",
       "      <td>...</td>\n",
       "      <td>0</td>\n",
       "      <td>0</td>\n",
       "      <td>0</td>\n",
       "      <td>1</td>\n",
       "      <td>0</td>\n",
       "      <td>0</td>\n",
       "      <td>0</td>\n",
       "      <td>0</td>\n",
       "      <td>0</td>\n",
       "      <td>0</td>\n",
       "    </tr>\n",
       "    <tr>\n",
       "      <th>1</th>\n",
       "      <td>id_1</td>\n",
       "      <td>Helsinki</td>\n",
       "      <td>['European', 'Scandinavian', 'Gluten Free Opti...</td>\n",
       "      <td>106.0</td>\n",
       "      <td>$$ - $$$</td>\n",
       "      <td>97.0</td>\n",
       "      <td>[['Very good reviews!', 'Fine dining in Hakani...</td>\n",
       "      <td>/Restaurant_Review-g189934-d6674944-Reviews-Ra...</td>\n",
       "      <td>d6674944</td>\n",
       "      <td>0</td>\n",
       "      <td>...</td>\n",
       "      <td>0</td>\n",
       "      <td>0</td>\n",
       "      <td>0</td>\n",
       "      <td>0</td>\n",
       "      <td>0</td>\n",
       "      <td>0</td>\n",
       "      <td>0</td>\n",
       "      <td>0</td>\n",
       "      <td>0</td>\n",
       "      <td>0</td>\n",
       "    </tr>\n",
       "    <tr>\n",
       "      <th>2</th>\n",
       "      <td>id_2</td>\n",
       "      <td>Edinburgh</td>\n",
       "      <td>['Vegetarian Friendly']</td>\n",
       "      <td>810.0</td>\n",
       "      <td>$$ - $$$</td>\n",
       "      <td>28.0</td>\n",
       "      <td>[['Better than the Links', 'Ivy Black'], ['12/...</td>\n",
       "      <td>/Restaurant_Review-g186525-d13129638-Reviews-B...</td>\n",
       "      <td>d13129638</td>\n",
       "      <td>0</td>\n",
       "      <td>...</td>\n",
       "      <td>0</td>\n",
       "      <td>0</td>\n",
       "      <td>0</td>\n",
       "      <td>0</td>\n",
       "      <td>0</td>\n",
       "      <td>0</td>\n",
       "      <td>0</td>\n",
       "      <td>0</td>\n",
       "      <td>0</td>\n",
       "      <td>0</td>\n",
       "    </tr>\n",
       "    <tr>\n",
       "      <th>3</th>\n",
       "      <td>id_3</td>\n",
       "      <td>London</td>\n",
       "      <td>['Italian', 'Mediterranean', 'European', 'Vege...</td>\n",
       "      <td>1669.0</td>\n",
       "      <td>$$$$</td>\n",
       "      <td>202.0</td>\n",
       "      <td>[['Most exquisite', 'Delicious and authentic']...</td>\n",
       "      <td>/Restaurant_Review-g186338-d680417-Reviews-Qui...</td>\n",
       "      <td>d680417</td>\n",
       "      <td>0</td>\n",
       "      <td>...</td>\n",
       "      <td>0</td>\n",
       "      <td>0</td>\n",
       "      <td>0</td>\n",
       "      <td>0</td>\n",
       "      <td>0</td>\n",
       "      <td>0</td>\n",
       "      <td>0</td>\n",
       "      <td>0</td>\n",
       "      <td>0</td>\n",
       "      <td>0</td>\n",
       "    </tr>\n",
       "    <tr>\n",
       "      <th>4</th>\n",
       "      <td>id_4</td>\n",
       "      <td>Bratislava</td>\n",
       "      <td>['Italian', 'Mediterranean', 'European', 'Seaf...</td>\n",
       "      <td>37.0</td>\n",
       "      <td>$$$$</td>\n",
       "      <td>162.0</td>\n",
       "      <td>[['Always the best in bratislava', 'Very good ...</td>\n",
       "      <td>/Restaurant_Review-g274924-d1112354-Reviews-Ma...</td>\n",
       "      <td>d1112354</td>\n",
       "      <td>0</td>\n",
       "      <td>...</td>\n",
       "      <td>0</td>\n",
       "      <td>0</td>\n",
       "      <td>0</td>\n",
       "      <td>0</td>\n",
       "      <td>0</td>\n",
       "      <td>0</td>\n",
       "      <td>0</td>\n",
       "      <td>0</td>\n",
       "      <td>0</td>\n",
       "      <td>0</td>\n",
       "    </tr>\n",
       "  </tbody>\n",
       "</table>\n",
       "<p>5 rows × 43 columns</p>\n",
       "</div>"
      ],
      "text/plain": [
       "  Restaurant_id        City  \\\n",
       "0          id_0       Paris   \n",
       "1          id_1    Helsinki   \n",
       "2          id_2   Edinburgh   \n",
       "3          id_3      London   \n",
       "4          id_4  Bratislava   \n",
       "\n",
       "                                       Cuisine Style  Ranking Price Range  \\\n",
       "0                                     ['Bar', 'Pub']  12963.0    $$ - $$$   \n",
       "1  ['European', 'Scandinavian', 'Gluten Free Opti...    106.0    $$ - $$$   \n",
       "2                            ['Vegetarian Friendly']    810.0    $$ - $$$   \n",
       "3  ['Italian', 'Mediterranean', 'European', 'Vege...   1669.0        $$$$   \n",
       "4  ['Italian', 'Mediterranean', 'European', 'Seaf...     37.0        $$$$   \n",
       "\n",
       "   Number of Reviews                                            Reviews  \\\n",
       "0                4.0                                           [[], []]   \n",
       "1               97.0  [['Very good reviews!', 'Fine dining in Hakani...   \n",
       "2               28.0  [['Better than the Links', 'Ivy Black'], ['12/...   \n",
       "3              202.0  [['Most exquisite', 'Delicious and authentic']...   \n",
       "4              162.0  [['Always the best in bratislava', 'Very good ...   \n",
       "\n",
       "                                              URL_TA      ID_TA  sample  ...  \\\n",
       "0  /Restaurant_Review-g187147-d10746918-Reviews-L...  d10746918       0  ...   \n",
       "1  /Restaurant_Review-g189934-d6674944-Reviews-Ra...   d6674944       0  ...   \n",
       "2  /Restaurant_Review-g186525-d13129638-Reviews-B...  d13129638       0  ...   \n",
       "3  /Restaurant_Review-g186338-d680417-Reviews-Qui...    d680417       0  ...   \n",
       "4  /Restaurant_Review-g274924-d1112354-Reviews-Ma...   d1112354       0  ...   \n",
       "\n",
       "   Munich  Oporto  Oslo  Paris  Prague  Rome  Stockholm  Vienna  Warsaw  \\\n",
       "0       0       0     0      1       0     0          0       0       0   \n",
       "1       0       0     0      0       0     0          0       0       0   \n",
       "2       0       0     0      0       0     0          0       0       0   \n",
       "3       0       0     0      0       0     0          0       0       0   \n",
       "4       0       0     0      0       0     0          0       0       0   \n",
       "\n",
       "   Zurich  \n",
       "0       0  \n",
       "1       0  \n",
       "2       0  \n",
       "3       0  \n",
       "4       0  \n",
       "\n",
       "[5 rows x 43 columns]"
      ]
     },
     "execution_count": 21,
     "metadata": {},
     "output_type": "execute_result"
    }
   ],
   "source": [
    "data.head(5)"
   ]
  },
  {
   "cell_type": "code",
   "execution_count": 22,
   "metadata": {
    "execution": {
     "iopub.execute_input": "2021-09-13T16:38:39.051033Z",
     "iopub.status.busy": "2021-09-13T16:38:39.050677Z",
     "iopub.status.idle": "2021-09-13T16:38:39.097391Z",
     "shell.execute_reply": "2021-09-13T16:38:39.09673Z",
     "shell.execute_reply.started": "2021-09-13T16:38:39.050972Z"
    }
   },
   "outputs": [
    {
     "data": {
      "text/html": [
       "<div>\n",
       "<style scoped>\n",
       "    .dataframe tbody tr th:only-of-type {\n",
       "        vertical-align: middle;\n",
       "    }\n",
       "\n",
       "    .dataframe tbody tr th {\n",
       "        vertical-align: top;\n",
       "    }\n",
       "\n",
       "    .dataframe thead th {\n",
       "        text-align: right;\n",
       "    }\n",
       "</style>\n",
       "<table border=\"1\" class=\"dataframe\">\n",
       "  <thead>\n",
       "    <tr style=\"text-align: right;\">\n",
       "      <th></th>\n",
       "      <th>Restaurant_id</th>\n",
       "      <th>City</th>\n",
       "      <th>Cuisine Style</th>\n",
       "      <th>Ranking</th>\n",
       "      <th>Price Range</th>\n",
       "      <th>Number of Reviews</th>\n",
       "      <th>Reviews</th>\n",
       "      <th>URL_TA</th>\n",
       "      <th>ID_TA</th>\n",
       "      <th>sample</th>\n",
       "      <th>...</th>\n",
       "      <th>Munich</th>\n",
       "      <th>Oporto</th>\n",
       "      <th>Oslo</th>\n",
       "      <th>Paris</th>\n",
       "      <th>Prague</th>\n",
       "      <th>Rome</th>\n",
       "      <th>Stockholm</th>\n",
       "      <th>Vienna</th>\n",
       "      <th>Warsaw</th>\n",
       "      <th>Zurich</th>\n",
       "    </tr>\n",
       "  </thead>\n",
       "  <tbody>\n",
       "    <tr>\n",
       "      <th>2753</th>\n",
       "      <td>id_2753</td>\n",
       "      <td>London</td>\n",
       "      <td>['Asian', 'Thai']</td>\n",
       "      <td>15346.0</td>\n",
       "      <td>$$ - $$$</td>\n",
       "      <td>53.0</td>\n",
       "      <td>[['A very curry Christmas', 'First visit and p...</td>\n",
       "      <td>/Restaurant_Review-g186338-d1063172-Reviews-Pe...</td>\n",
       "      <td>d1063172</td>\n",
       "      <td>0</td>\n",
       "      <td>...</td>\n",
       "      <td>0</td>\n",
       "      <td>0</td>\n",
       "      <td>0</td>\n",
       "      <td>0</td>\n",
       "      <td>0</td>\n",
       "      <td>0</td>\n",
       "      <td>0</td>\n",
       "      <td>0</td>\n",
       "      <td>0</td>\n",
       "      <td>0</td>\n",
       "    </tr>\n",
       "    <tr>\n",
       "      <th>11940</th>\n",
       "      <td>id_2942</td>\n",
       "      <td>Brussels</td>\n",
       "      <td>Vegetarian Friendly</td>\n",
       "      <td>2940.0</td>\n",
       "      <td>NaN</td>\n",
       "      <td>2.0</td>\n",
       "      <td>[['Not a good idea', \"Don't bother\"], ['07/26/...</td>\n",
       "      <td>/Restaurant_Review-g188644-d10467508-Reviews-L...</td>\n",
       "      <td>d10467508</td>\n",
       "      <td>1</td>\n",
       "      <td>...</td>\n",
       "      <td>0</td>\n",
       "      <td>0</td>\n",
       "      <td>0</td>\n",
       "      <td>0</td>\n",
       "      <td>0</td>\n",
       "      <td>0</td>\n",
       "      <td>0</td>\n",
       "      <td>0</td>\n",
       "      <td>0</td>\n",
       "      <td>0</td>\n",
       "    </tr>\n",
       "    <tr>\n",
       "      <th>31644</th>\n",
       "      <td>id_3770</td>\n",
       "      <td>Milan</td>\n",
       "      <td>Vegetarian Friendly</td>\n",
       "      <td>3772.0</td>\n",
       "      <td>NaN</td>\n",
       "      <td>2.0</td>\n",
       "      <td>[[], []]</td>\n",
       "      <td>/Restaurant_Review-g187849-d8338343-Reviews-Ca...</td>\n",
       "      <td>d8338343</td>\n",
       "      <td>1</td>\n",
       "      <td>...</td>\n",
       "      <td>0</td>\n",
       "      <td>0</td>\n",
       "      <td>0</td>\n",
       "      <td>0</td>\n",
       "      <td>0</td>\n",
       "      <td>0</td>\n",
       "      <td>0</td>\n",
       "      <td>0</td>\n",
       "      <td>0</td>\n",
       "      <td>0</td>\n",
       "    </tr>\n",
       "    <tr>\n",
       "      <th>16823</th>\n",
       "      <td>id_6060</td>\n",
       "      <td>Paris</td>\n",
       "      <td>['French', 'European', 'Vegetarian Friendly']</td>\n",
       "      <td>6061.0</td>\n",
       "      <td>$$ - $$$</td>\n",
       "      <td>59.0</td>\n",
       "      <td>[['Great crepes - cute place', 'Best crepe in ...</td>\n",
       "      <td>/Restaurant_Review-g187147-d10836293-Reviews-2...</td>\n",
       "      <td>d10836293</td>\n",
       "      <td>1</td>\n",
       "      <td>...</td>\n",
       "      <td>0</td>\n",
       "      <td>0</td>\n",
       "      <td>0</td>\n",
       "      <td>1</td>\n",
       "      <td>0</td>\n",
       "      <td>0</td>\n",
       "      <td>0</td>\n",
       "      <td>0</td>\n",
       "      <td>0</td>\n",
       "      <td>0</td>\n",
       "    </tr>\n",
       "    <tr>\n",
       "      <th>13406</th>\n",
       "      <td>id_71</td>\n",
       "      <td>Prague</td>\n",
       "      <td>['Mediterranean', 'Italian', 'European', 'Vege...</td>\n",
       "      <td>72.0</td>\n",
       "      <td>$$ - $$$</td>\n",
       "      <td>751.0</td>\n",
       "      <td>[['Amazing Italian!', 'New Years'], ['01/08/20...</td>\n",
       "      <td>/Restaurant_Review-g274707-d694914-Reviews-Cic...</td>\n",
       "      <td>d694914</td>\n",
       "      <td>1</td>\n",
       "      <td>...</td>\n",
       "      <td>0</td>\n",
       "      <td>0</td>\n",
       "      <td>0</td>\n",
       "      <td>0</td>\n",
       "      <td>1</td>\n",
       "      <td>0</td>\n",
       "      <td>0</td>\n",
       "      <td>0</td>\n",
       "      <td>0</td>\n",
       "      <td>0</td>\n",
       "    </tr>\n",
       "  </tbody>\n",
       "</table>\n",
       "<p>5 rows × 43 columns</p>\n",
       "</div>"
      ],
      "text/plain": [
       "      Restaurant_id      City  \\\n",
       "2753        id_2753    London   \n",
       "11940       id_2942  Brussels   \n",
       "31644       id_3770     Milan   \n",
       "16823       id_6060     Paris   \n",
       "13406         id_71    Prague   \n",
       "\n",
       "                                           Cuisine Style  Ranking Price Range  \\\n",
       "2753                                   ['Asian', 'Thai']  15346.0    $$ - $$$   \n",
       "11940                                Vegetarian Friendly   2940.0         NaN   \n",
       "31644                                Vegetarian Friendly   3772.0         NaN   \n",
       "16823      ['French', 'European', 'Vegetarian Friendly']   6061.0    $$ - $$$   \n",
       "13406  ['Mediterranean', 'Italian', 'European', 'Vege...     72.0    $$ - $$$   \n",
       "\n",
       "       Number of Reviews                                            Reviews  \\\n",
       "2753                53.0  [['A very curry Christmas', 'First visit and p...   \n",
       "11940                2.0  [['Not a good idea', \"Don't bother\"], ['07/26/...   \n",
       "31644                2.0                                           [[], []]   \n",
       "16823               59.0  [['Great crepes - cute place', 'Best crepe in ...   \n",
       "13406              751.0  [['Amazing Italian!', 'New Years'], ['01/08/20...   \n",
       "\n",
       "                                                  URL_TA      ID_TA  sample  \\\n",
       "2753   /Restaurant_Review-g186338-d1063172-Reviews-Pe...   d1063172       0   \n",
       "11940  /Restaurant_Review-g188644-d10467508-Reviews-L...  d10467508       1   \n",
       "31644  /Restaurant_Review-g187849-d8338343-Reviews-Ca...   d8338343       1   \n",
       "16823  /Restaurant_Review-g187147-d10836293-Reviews-2...  d10836293       1   \n",
       "13406  /Restaurant_Review-g274707-d694914-Reviews-Cic...    d694914       1   \n",
       "\n",
       "       ...  Munich  Oporto  Oslo  Paris  Prague  Rome  Stockholm  Vienna  \\\n",
       "2753   ...       0       0     0      0       0     0          0       0   \n",
       "11940  ...       0       0     0      0       0     0          0       0   \n",
       "31644  ...       0       0     0      0       0     0          0       0   \n",
       "16823  ...       0       0     0      1       0     0          0       0   \n",
       "13406  ...       0       0     0      0       1     0          0       0   \n",
       "\n",
       "       Warsaw  Zurich  \n",
       "2753        0       0  \n",
       "11940       0       0  \n",
       "31644       0       0  \n",
       "16823       0       0  \n",
       "13406       0       0  \n",
       "\n",
       "[5 rows x 43 columns]"
      ]
     },
     "execution_count": 22,
     "metadata": {},
     "output_type": "execute_result"
    }
   ],
   "source": [
    "data.sample(5)"
   ]
  },
  {
   "cell_type": "markdown",
   "metadata": {},
   "source": [
    "По описанию 'Price Range' это - Цены в ресторане.  \n",
    "Их можно поставить по возрастанию (значит это не категориальный признак). А это значит, что их можно заменить последовательными числами, например 1,2,3  "
   ]
  },
  {
   "cell_type": "code",
   "execution_count": 23,
   "metadata": {
    "execution": {
     "iopub.execute_input": "2021-09-19T17:47:04.718532Z",
     "iopub.status.busy": "2021-09-19T17:47:04.717954Z",
     "iopub.status.idle": "2021-09-19T17:47:04.739692Z",
     "shell.execute_reply": "2021-09-19T17:47:04.738938Z",
     "shell.execute_reply.started": "2021-09-19T17:47:04.718471Z"
    }
   },
   "outputs": [],
   "source": [
    "# Работа над признаком Price Range - прохожусь словарем по элементам \n",
    "# + заполняю пропуски 0\n",
    "dict_price = {\n",
    "    '$$$$': 3, \n",
    "    '$$ - $$$': 2, \n",
    "    '$': 1\n",
    "    }\n",
    "data['Price Range'] = data['Price Range'].map(dict_price) \n",
    "data['Price Range'].fillna(0, inplace=True) "
   ]
  },
  {
   "cell_type": "code",
   "execution_count": 24,
   "metadata": {
    "execution": {
     "iopub.execute_input": "2021-09-19T17:47:10.100588Z",
     "iopub.status.busy": "2021-09-19T17:47:10.100017Z",
     "iopub.status.idle": "2021-09-19T17:48:21.650357Z",
     "shell.execute_reply": "2021-09-19T17:48:21.649294Z",
     "shell.execute_reply.started": "2021-09-19T17:47:10.100523Z"
    }
   },
   "outputs": [
    {
     "name": "stderr",
     "output_type": "stream",
     "text": [
      "/opt/conda/lib/python3.6/site-packages/ipykernel_launcher.py:10: SettingWithCopyWarning: \n",
      "A value is trying to be set on a copy of a slice from a DataFrame\n",
      "\n",
      "See the caveats in the documentation: http://pandas.pydata.org/pandas-docs/stable/user_guide/indexing.html#returning-a-view-versus-a-copy\n",
      "  # Remove the CWD from sys.path while we load stuff.\n",
      "/opt/conda/lib/python3.6/site-packages/ipykernel_launcher.py:13: SettingWithCopyWarning: \n",
      "A value is trying to be set on a copy of a slice from a DataFrame\n",
      "\n",
      "See the caveats in the documentation: http://pandas.pydata.org/pandas-docs/stable/user_guide/indexing.html#returning-a-view-versus-a-copy\n",
      "  del sys.path[0]\n"
     ]
    }
   ],
   "source": [
    "# Обработка признака Cuisine Style (чистка от скобок и прочих символов)\n",
    "# и формирование нового признака cuisine_count - число кухонь в ресторане\n",
    "cuisine_list = []\n",
    "df_list = []\n",
    "data['cuisine_count'] = 1\n",
    "for i in range(len(data['Cuisine Style'])):\n",
    "    if type(data['Cuisine Style'][i]) is str:\n",
    "        for x, y in (\"[\", \"\"), (\"]\", \"\"), (\"[[\", \"\"), (\"]]\",\"\"):\n",
    "            data['Cuisine Style'][i] = data[\n",
    "                'Cuisine Style'][i].replace(x, y)\n",
    "        df_list = data['Cuisine Style'][i].split(', ')\n",
    "        lenght_i = len(df_list)\n",
    "        data['cuisine_count'][i] = lenght_i\n",
    "        for j in range(len(data['Cuisine Style'][i].split(\"', '\"))):\n",
    "            cuisine_list.append(df_list[j].strip(\"'\"))"
   ]
  },
  {
   "cell_type": "code",
   "execution_count": 25,
   "metadata": {
    "execution": {
     "iopub.execute_input": "2021-09-18T08:22:24.021576Z",
     "iopub.status.busy": "2021-09-18T08:22:24.021031Z",
     "iopub.status.idle": "2021-09-18T08:24:29.248511Z",
     "shell.execute_reply": "2021-09-18T08:24:29.2477Z",
     "shell.execute_reply.started": "2021-09-18T08:22:24.021362Z"
    }
   },
   "outputs": [],
   "source": [
    "# Ухудшает результаты работы модели! - не использую\n",
    "# One-Hot обработка \"своими руками\" всех видов кухонь Cuisine_Style, \n",
    "# представленных во всех строках (125 кухонь)\n",
    "\n",
    "# cuisine_set = set(cuisine_list) # list с кухнями преобразуем в set\n",
    "# cuisine_list_set = list(cuisine_set) # вновь list для цикла\n",
    "# for i in range(len(cuisine_set)):\n",
    "#     data[cuisine_list_set[i]] = 0\n",
    "# for i in range(len(data['Cuisine Style'])):\n",
    "#     for j in range(len(cuisine_list_set)):\n",
    "#         if cuisine_list_set[j] in data['Cuisine Style'][i]:\n",
    "#             data[cuisine_list_set[j]][i] = 1"
   ]
  },
  {
   "cell_type": "code",
   "execution_count": 26,
   "metadata": {
    "execution": {
     "iopub.execute_input": "2021-09-19T17:48:21.65264Z",
     "iopub.status.busy": "2021-09-19T17:48:21.652352Z",
     "iopub.status.idle": "2021-09-19T17:49:55.386854Z",
     "shell.execute_reply": "2021-09-19T17:49:55.386133Z",
     "shell.execute_reply.started": "2021-09-19T17:48:21.652576Z"
    }
   },
   "outputs": [
    {
     "name": "stderr",
     "output_type": "stream",
     "text": [
      "/opt/conda/lib/python3.6/site-packages/ipykernel_launcher.py:13: SettingWithCopyWarning: \n",
      "A value is trying to be set on a copy of a slice from a DataFrame\n",
      "\n",
      "See the caveats in the documentation: http://pandas.pydata.org/pandas-docs/stable/user_guide/indexing.html#returning-a-view-versus-a-copy\n",
      "  del sys.path[0]\n",
      "/opt/conda/lib/python3.6/site-packages/ipykernel_launcher.py:33: SettingWithCopyWarning: \n",
      "A value is trying to be set on a copy of a slice from a DataFrame\n",
      "\n",
      "See the caveats in the documentation: http://pandas.pydata.org/pandas-docs/stable/user_guide/indexing.html#returning-a-view-versus-a-copy\n",
      "/opt/conda/lib/python3.6/site-packages/ipykernel_launcher.py:23: SettingWithCopyWarning: \n",
      "A value is trying to be set on a copy of a slice from a DataFrame\n",
      "\n",
      "See the caveats in the documentation: http://pandas.pydata.org/pandas-docs/stable/user_guide/indexing.html#returning-a-view-versus-a-copy\n",
      "/opt/conda/lib/python3.6/site-packages/ipykernel_launcher.py:24: SettingWithCopyWarning: \n",
      "A value is trying to be set on a copy of a slice from a DataFrame\n",
      "\n",
      "See the caveats in the documentation: http://pandas.pydata.org/pandas-docs/stable/user_guide/indexing.html#returning-a-view-versus-a-copy\n",
      "/opt/conda/lib/python3.6/site-packages/ipykernel_launcher.py:25: SettingWithCopyWarning: \n",
      "A value is trying to be set on a copy of a slice from a DataFrame\n",
      "\n",
      "See the caveats in the documentation: http://pandas.pydata.org/pandas-docs/stable/user_guide/indexing.html#returning-a-view-versus-a-copy\n",
      "/opt/conda/lib/python3.6/site-packages/ipykernel_launcher.py:26: SettingWithCopyWarning: \n",
      "A value is trying to be set on a copy of a slice from a DataFrame\n",
      "\n",
      "See the caveats in the documentation: http://pandas.pydata.org/pandas-docs/stable/user_guide/indexing.html#returning-a-view-versus-a-copy\n",
      "/opt/conda/lib/python3.6/site-packages/ipykernel_launcher.py:29: SettingWithCopyWarning: \n",
      "A value is trying to be set on a copy of a slice from a DataFrame\n",
      "\n",
      "See the caveats in the documentation: http://pandas.pydata.org/pandas-docs/stable/user_guide/indexing.html#returning-a-view-versus-a-copy\n",
      "/opt/conda/lib/python3.6/site-packages/ipykernel_launcher.py:30: SettingWithCopyWarning: \n",
      "A value is trying to be set on a copy of a slice from a DataFrame\n",
      "\n",
      "See the caveats in the documentation: http://pandas.pydata.org/pandas-docs/stable/user_guide/indexing.html#returning-a-view-versus-a-copy\n"
     ]
    }
   ],
   "source": [
    "# Обработка признака Reviews с дальнейшей обработкой дат\n",
    "# если значение отстутствует - отметка об этом в Reviews_isNAN\n",
    "df_list_2 = []\n",
    "data['date_1_review'] = 0 # дней от 1 отзыва до текущей даты\n",
    "data['date_2_review'] = 0 # дней от 2 отзыва до текущей даты\n",
    "data['date_review_diff'] = 0 # разница в днях между 2 отзывами\n",
    "data['Reviews_isNAN'] = 0 # информация о пропущенных значениях\n",
    "data['days_to_now'] = 0 # значение в днях до текущей даты\n",
    "NOW = datetime.now() # текущее время\n",
    "for i in range(len(data['Reviews'])):\n",
    "    for x, y in (\"[\", \"\"), (\"]\", \"\"), (\"[[\", \"\"), (\"]]\",\"\"):\n",
    "        \"\"\"Чистим Reviews от лишних символов, определяем vars\"\"\"\n",
    "        data['Reviews'][i] = data['Reviews'][i].replace(x, y)\n",
    "    df_list_2 = data['Reviews'][i].split(\"', '\")\n",
    "    for j in range(len(df_list_2)):\n",
    "        df_list_2[j] = df_list_2[j].strip(\"'\")\n",
    "    if len(df_list_2) == 4: # проверка на 2 отзыва в Reviews\n",
    "        dt1 = datetime.strptime(df_list_2[2], '%m/%d/%Y')\n",
    "        dt2 = datetime.strptime(df_list_2[3], '%m/%d/%Y')\n",
    "        diff = dt2 - dt1\n",
    "        days_1 = abs((dt1 - NOW).days)\n",
    "        days_2 = abs((dt2 - NOW).days)\n",
    "        data['days_to_now'][i] = min(days_1, days_2)\n",
    "        data['date_review_diff'][i] = abs(diff.days)\n",
    "        data['date_1_review'][i] = days_1\n",
    "        data['date_2_review'][i] = days_2\n",
    "    if len(df_list_2) == 2: # проверка на только 1 отзыв в Reviews\n",
    "        dt1 = datetime.strptime(df_list_2[1], '%m/%d/%Y')\n",
    "        data['days_to_now'][i] = abs((dt1 - NOW).days)\n",
    "        data['date_1_review'][i] = abs((dt1 - NOW).days)\n",
    "    if len(data['Reviews'][i]) < 10: \n",
    "        # если строка короткая - значит необходимо отметить в isNAN\n",
    "        data['Reviews_isNAN'][i] = 1"
   ]
  },
  {
   "cell_type": "code",
   "execution_count": 27,
   "metadata": {
    "execution": {
     "iopub.execute_input": "2021-09-19T17:49:55.388846Z",
     "iopub.status.busy": "2021-09-19T17:49:55.388309Z",
     "iopub.status.idle": "2021-09-19T17:49:55.568104Z",
     "shell.execute_reply": "2021-09-19T17:49:55.567466Z",
     "shell.execute_reply.started": "2021-09-19T17:49:55.388788Z"
    }
   },
   "outputs": [],
   "source": [
    "# Работа со статистическими данными по городам\n",
    "df_007 = pd.DataFrame() # новый датафрейм\n",
    "df_007['Mean_Reviews_in_town'] = data.groupby('City')[\n",
    "    'Number of Reviews'].mean() \n",
    "df_007['Count_Reviews_in_town'] = data.groupby('City')[\n",
    "    'Number of Reviews'].sum() / 10000\n",
    "df_007['Mean_date_diff_in_town'] = data.groupby('City')[\n",
    "    'date_review_diff'].mean()\n",
    "df_007['Count_rest_in_town'] = data.groupby('City')[\n",
    "    'City'].count()\n",
    "df_007['Mean_date_1_in_town'] = data.groupby('City')[\n",
    "    'date_1_review'].mean()\n",
    "df_007['Mean_date_2_in_town'] = data.groupby('City')[\n",
    "    'date_2_review'].mean()\n",
    "df_007['Mean_days_to_now'] = data.groupby('City')[\n",
    "    'days_to_now'].mean()\n",
    "df_007['Mean_Ranking_in_town'] = data.groupby('City')[\n",
    "    'Ranking'].mean()\n",
    "df_007['Sum_Ranking_in_town'] = data.groupby('City')[\n",
    "    'Ranking'].sum()"
   ]
  },
  {
   "cell_type": "code",
   "execution_count": 28,
   "metadata": {
    "execution": {
     "iopub.execute_input": "2021-09-19T17:49:55.569981Z",
     "iopub.status.busy": "2021-09-19T17:49:55.569465Z",
     "iopub.status.idle": "2021-09-19T17:49:55.633932Z",
     "shell.execute_reply": "2021-09-19T17:49:55.633146Z",
     "shell.execute_reply.started": "2021-09-19T17:49:55.569927Z"
    }
   },
   "outputs": [],
   "source": [
    "# Объединяем датафреймы по столбцу City\n",
    "data = data.merge(df_007, on='City', how='left')"
   ]
  },
  {
   "cell_type": "code",
   "execution_count": 29,
   "metadata": {
    "execution": {
     "iopub.execute_input": "2021-09-19T17:49:55.636795Z",
     "iopub.status.busy": "2021-09-19T17:49:55.636283Z",
     "iopub.status.idle": "2021-09-19T17:50:05.882874Z",
     "shell.execute_reply": "2021-09-19T17:50:05.881985Z",
     "shell.execute_reply.started": "2021-09-19T17:49:55.63674Z"
    }
   },
   "outputs": [
    {
     "name": "stderr",
     "output_type": "stream",
     "text": [
      "/opt/conda/lib/python3.6/site-packages/ipykernel_launcher.py:6: SettingWithCopyWarning: \n",
      "A value is trying to be set on a copy of a slice from a DataFrame\n",
      "\n",
      "See the caveats in the documentation: http://pandas.pydata.org/pandas-docs/stable/user_guide/indexing.html#returning-a-view-versus-a-copy\n",
      "  \n",
      "/opt/conda/lib/python3.6/site-packages/ipykernel_launcher.py:8: SettingWithCopyWarning: \n",
      "A value is trying to be set on a copy of a slice from a DataFrame\n",
      "\n",
      "See the caveats in the documentation: http://pandas.pydata.org/pandas-docs/stable/user_guide/indexing.html#returning-a-view-versus-a-copy\n",
      "  \n",
      "/opt/conda/lib/python3.6/site-packages/ipykernel_launcher.py:10: SettingWithCopyWarning: \n",
      "A value is trying to be set on a copy of a slice from a DataFrame\n",
      "\n",
      "See the caveats in the documentation: http://pandas.pydata.org/pandas-docs/stable/user_guide/indexing.html#returning-a-view-versus-a-copy\n",
      "  # Remove the CWD from sys.path while we load stuff.\n",
      "/opt/conda/lib/python3.6/site-packages/ipykernel_launcher.py:12: SettingWithCopyWarning: \n",
      "A value is trying to be set on a copy of a slice from a DataFrame\n",
      "\n",
      "See the caveats in the documentation: http://pandas.pydata.org/pandas-docs/stable/user_guide/indexing.html#returning-a-view-versus-a-copy\n",
      "  if sys.path[0] == '':\n",
      "/opt/conda/lib/python3.6/site-packages/ipykernel_launcher.py:4: SettingWithCopyWarning: \n",
      "A value is trying to be set on a copy of a slice from a DataFrame\n",
      "\n",
      "See the caveats in the documentation: http://pandas.pydata.org/pandas-docs/stable/user_guide/indexing.html#returning-a-view-versus-a-copy\n",
      "  after removing the cwd from sys.path.\n"
     ]
    }
   ],
   "source": [
    "# Заполняем остальные пропуски средними значениями признаков\n",
    "for i in range(len(data['City'])):\n",
    "    if pd.isna(data['Number of Reviews'][i]):\n",
    "        data['Number of Reviews'][i] = data['Mean_Reviews_in_town'][i]\n",
    "    if data['date_review_diff'][i] == 0:\n",
    "        data['date_review_diff'][i] = data['Mean_date_diff_in_town'][i]\n",
    "    if data['date_2_review'][i] == 0:\n",
    "        data['date_2_review'][i] = data['Mean_date_2_in_town'][i]\n",
    "    if data['date_1_review'][i] == 0:\n",
    "        data['date_1_review'][i] = data['Mean_date_1_in_town'][i]\n",
    "    if data['days_to_now'][i] == 0:\n",
    "        data['days_to_now'][i] = data['Mean_days_to_now'][i]"
   ]
  },
  {
   "cell_type": "code",
   "execution_count": 30,
   "metadata": {
    "execution": {
     "iopub.execute_input": "2021-09-19T17:50:05.884813Z",
     "iopub.status.busy": "2021-09-19T17:50:05.884534Z",
     "iopub.status.idle": "2021-09-19T17:50:05.943941Z",
     "shell.execute_reply": "2021-09-19T17:50:05.943079Z",
     "shell.execute_reply.started": "2021-09-19T17:50:05.884762Z"
    }
   },
   "outputs": [],
   "source": [
    "# Объединяем датафрейм с новым датафреймом \n",
    "# с информацией о 31 городе из столбца City\n",
    "data = data.merge(df_cities, on='City', how='left')"
   ]
  },
  {
   "cell_type": "code",
   "execution_count": 31,
   "metadata": {
    "execution": {
     "iopub.execute_input": "2021-09-19T17:50:05.945794Z",
     "iopub.status.busy": "2021-09-19T17:50:05.945367Z",
     "iopub.status.idle": "2021-09-19T17:50:06.031849Z",
     "shell.execute_reply": "2021-09-19T17:50:06.030485Z",
     "shell.execute_reply.started": "2021-09-19T17:50:05.945701Z"
    }
   },
   "outputs": [],
   "source": [
    "# Формируем новые признаки на основе имеющихся\n",
    "# Физический смысл многих отсутствует\n",
    "data['Rank_in_town_new'] = data['Count_rest_in_town'] / data['Ranking']\n",
    "data['Mean_Rank_Count_rest'] = (data['Mean_Ranking_in_town']/\n",
    "                                data['Count_rest_in_town'])\n",
    "data['Mean_Rank_to_Rank'] = (data['Mean_Ranking_in_town']/\n",
    "                             data['Ranking'])\n",
    "data['Otnosit_Rank_town'] = ((data['Count_rest_in_town'] -\n",
    "                             data['Ranking'])/\n",
    "                            data['Count_rest_in_town'] - 1)\n",
    "data['Otnosit_Rank_to_mean'] = ((data['Mean_Ranking_in_town'] -\n",
    "                                 data['Ranking'])/\n",
    "                                data['Mean_Ranking_in_town'])\n",
    "data['Otnosit_Reviews_to_mean'] = ((data['Number of Reviews'] -\n",
    "                                    data['Mean_Reviews_in_town'])/\n",
    "                                   data['Mean_Reviews_in_town'])\n",
    "data['Sum_Ranking_in_town'] = data['Sum_Ranking_in_town'] / \\\n",
    "                              10000000\n",
    "data['Plotn_Otnosit_Rank_town'] = data['Плотность населения'] / \\\n",
    "                                  data['Otnosit_Rank_town'] \n",
    "data['Otnosit_Rank_town_NoR'] = data['Otnosit_Rank_town'] * \\\n",
    "                                data['Number of Reviews'] \n",
    "data['Otnosit_Rant_mean_NoR'] = data['Otnosit_Rank_to_mean'] * \\\n",
    "                                data['Number of Reviews'] \n",
    "data['NoR_Ranking'] = data['Number of Reviews'] / \\\n",
    "                      data['Ranking']"
   ]
  },
  {
   "cell_type": "code",
   "execution_count": 32,
   "metadata": {
    "execution": {
     "iopub.execute_input": "2021-09-19T17:50:06.033706Z",
     "iopub.status.busy": "2021-09-19T17:50:06.033385Z",
     "iopub.status.idle": "2021-09-19T17:50:06.131591Z",
     "shell.execute_reply": "2021-09-19T17:50:06.130594Z",
     "shell.execute_reply.started": "2021-09-19T17:50:06.033654Z"
    }
   },
   "outputs": [],
   "source": [
    "# Убираем снижающие эффективность модели признаки\n",
    "data.drop(['Mean_date_1_in_town'], axis = 1, inplace=True)\n",
    "data.drop(['Mean_Reviews_in_town'], axis = 1, inplace=True)\n",
    "data.drop(['Restaurant_id','ID_TA'], axis = 1, inplace=True)\n",
    "data.drop(['Площадь'], axis = 1, inplace=True)"
   ]
  },
  {
   "cell_type": "code",
   "execution_count": 33,
   "metadata": {
    "execution": {
     "iopub.execute_input": "2021-09-18T08:31:36.028238Z",
     "iopub.status.busy": "2021-09-18T08:31:36.028003Z",
     "iopub.status.idle": "2021-09-18T08:31:36.035733Z",
     "shell.execute_reply": "2021-09-18T08:31:36.034865Z",
     "shell.execute_reply.started": "2021-09-18T08:31:36.028197Z"
    }
   },
   "outputs": [
    {
     "data": {
      "text/plain": [
       "Index(['City', 'Cuisine Style', 'Ranking', 'Price Range', 'Number of Reviews',\n",
       "       'Reviews', 'URL_TA', 'sample', 'Rating', 'Number_of_Reviews_isNAN',\n",
       "       'Amsterdam', 'Athens', 'Barcelona', 'Berlin', 'Bratislava', 'Brussels',\n",
       "       'Budapest', 'Copenhagen', 'Dublin', 'Edinburgh', 'Geneva', 'Hamburg',\n",
       "       'Helsinki', 'Krakow', 'Lisbon', 'Ljubljana', 'London', 'Luxembourg',\n",
       "       'Lyon', 'Madrid', 'Milan', 'Munich', 'Oporto', 'Oslo', 'Paris',\n",
       "       'Prague', 'Rome', 'Stockholm', 'Vienna', 'Warsaw', 'Zurich',\n",
       "       'cuisine_count', 'date_1_review', 'date_2_review', 'date_review_diff',\n",
       "       'Reviews_isNAN', 'days_to_now', 'Count_Reviews_in_town',\n",
       "       'Mean_date_diff_in_town', 'Count_rest_in_town', 'Mean_date_2_in_town',\n",
       "       'Mean_days_to_now', 'Mean_Ranking_in_town', 'Sum_Ranking_in_town',\n",
       "       'Население', 'Уровень_жизни', 'Столица', 'Месячный_доход',\n",
       "       'Плотность населения', 'Rank_in_town_new', 'Mean_Rank_Count_rest',\n",
       "       'Mean_Rank_to_Rank', 'Otnosit_Rank_town', 'Otnosit_Rank_to_mean',\n",
       "       'Otnosit_Reviews_to_mean', 'Plotn_Otnosit_Rank_town',\n",
       "       'Otnosit_Rank_town_NoR', 'Otnosit_Rant_mean_NoR', 'NoR_Ranking'],\n",
       "      dtype='object')"
      ]
     },
     "execution_count": 33,
     "metadata": {},
     "output_type": "execute_result"
    }
   ],
   "source": [
    "data.columns"
   ]
  },
  {
   "cell_type": "code",
   "execution_count": 34,
   "metadata": {
    "execution": {
     "iopub.execute_input": "2021-09-18T08:32:10.198509Z",
     "iopub.status.busy": "2021-09-18T08:32:10.198107Z",
     "iopub.status.idle": "2021-09-18T08:32:10.243403Z",
     "shell.execute_reply": "2021-09-18T08:32:10.242225Z",
     "shell.execute_reply.started": "2021-09-18T08:32:10.198453Z"
    }
   },
   "outputs": [
    {
     "data": {
      "text/html": [
       "<div>\n",
       "<style scoped>\n",
       "    .dataframe tbody tr th:only-of-type {\n",
       "        vertical-align: middle;\n",
       "    }\n",
       "\n",
       "    .dataframe tbody tr th {\n",
       "        vertical-align: top;\n",
       "    }\n",
       "\n",
       "    .dataframe thead th {\n",
       "        text-align: right;\n",
       "    }\n",
       "</style>\n",
       "<table border=\"1\" class=\"dataframe\">\n",
       "  <thead>\n",
       "    <tr style=\"text-align: right;\">\n",
       "      <th></th>\n",
       "      <th>City</th>\n",
       "      <th>Cuisine Style</th>\n",
       "      <th>Ranking</th>\n",
       "      <th>Price Range</th>\n",
       "      <th>Number of Reviews</th>\n",
       "      <th>Reviews</th>\n",
       "      <th>URL_TA</th>\n",
       "      <th>sample</th>\n",
       "      <th>Rating</th>\n",
       "      <th>Number_of_Reviews_isNAN</th>\n",
       "      <th>...</th>\n",
       "      <th>Rank_in_town_new</th>\n",
       "      <th>Mean_Rank_Count_rest</th>\n",
       "      <th>Mean_Rank_to_Rank</th>\n",
       "      <th>Otnosit_Rank_town</th>\n",
       "      <th>Otnosit_Rank_to_mean</th>\n",
       "      <th>Otnosit_Reviews_to_mean</th>\n",
       "      <th>Plotn_Otnosit_Rank_town</th>\n",
       "      <th>Otnosit_Rank_town_NoR</th>\n",
       "      <th>Otnosit_Rant_mean_NoR</th>\n",
       "      <th>NoR_Ranking</th>\n",
       "    </tr>\n",
       "  </thead>\n",
       "  <tbody>\n",
       "    <tr>\n",
       "      <th>35307</th>\n",
       "      <td>Milan</td>\n",
       "      <td>'Japanese', 'Seafood', 'Sushi', 'Asian', 'Soup...</td>\n",
       "      <td>913.0</td>\n",
       "      <td>2.0</td>\n",
       "      <td>362.0</td>\n",
       "      <td>'Authentic traditional Japanese cuisine.', 'go...</td>\n",
       "      <td>/Restaurant_Review-g187849-d2386060-Reviews-En...</td>\n",
       "      <td>1</td>\n",
       "      <td>4.0</td>\n",
       "      <td>0</td>\n",
       "      <td>...</td>\n",
       "      <td>2.950712</td>\n",
       "      <td>1.152943</td>\n",
       "      <td>3.402002</td>\n",
       "      <td>-0.338901</td>\n",
       "      <td>0.706055</td>\n",
       "      <td>1.150935</td>\n",
       "      <td>-223.522752</td>\n",
       "      <td>-122.682257</td>\n",
       "      <td>255.592068</td>\n",
       "      <td>0.396495</td>\n",
       "    </tr>\n",
       "    <tr>\n",
       "      <th>1797</th>\n",
       "      <td>Milan</td>\n",
       "      <td>Vegetarian Friendly</td>\n",
       "      <td>3943.0</td>\n",
       "      <td>0.0</td>\n",
       "      <td>9.0</td>\n",
       "      <td>'Good stop for gelato as you explore the Na......</td>\n",
       "      <td>/Restaurant_Review-g187849-d10862809-Reviews-G...</td>\n",
       "      <td>0</td>\n",
       "      <td>0.0</td>\n",
       "      <td>0</td>\n",
       "      <td>...</td>\n",
       "      <td>0.683236</td>\n",
       "      <td>1.152943</td>\n",
       "      <td>0.787732</td>\n",
       "      <td>-1.463623</td>\n",
       "      <td>-0.269467</td>\n",
       "      <td>-0.946524</td>\n",
       "      <td>-51.756600</td>\n",
       "      <td>-13.172606</td>\n",
       "      <td>-2.425203</td>\n",
       "      <td>0.002283</td>\n",
       "    </tr>\n",
       "    <tr>\n",
       "      <th>20593</th>\n",
       "      <td>Berlin</td>\n",
       "      <td>'Vegetarian Friendly'</td>\n",
       "      <td>539.0</td>\n",
       "      <td>2.0</td>\n",
       "      <td>55.0</td>\n",
       "      <td>'Yummy', 'Wonderful place, good food', '12/02/...</td>\n",
       "      <td>/Restaurant_Review-g187323-d1344179-Reviews-Ma...</td>\n",
       "      <td>1</td>\n",
       "      <td>4.5</td>\n",
       "      <td>0</td>\n",
       "      <td>...</td>\n",
       "      <td>5.018553</td>\n",
       "      <td>1.203482</td>\n",
       "      <td>6.039736</td>\n",
       "      <td>-0.199261</td>\n",
       "      <td>0.834430</td>\n",
       "      <td>-0.137555</td>\n",
       "      <td>-205.064484</td>\n",
       "      <td>-10.959335</td>\n",
       "      <td>45.893642</td>\n",
       "      <td>0.102041</td>\n",
       "    </tr>\n",
       "    <tr>\n",
       "      <th>49881</th>\n",
       "      <td>Paris</td>\n",
       "      <td>'French', 'Japanese'</td>\n",
       "      <td>6774.0</td>\n",
       "      <td>2.0</td>\n",
       "      <td>9.0</td>\n",
       "      <td>'Just awesome', 'A must try in Paris', '07/06/...</td>\n",
       "      <td>/Restaurant_Review-g187147-d12535525-Reviews-R...</td>\n",
       "      <td>1</td>\n",
       "      <td>4.5</td>\n",
       "      <td>0</td>\n",
       "      <td>...</td>\n",
       "      <td>0.901683</td>\n",
       "      <td>1.135979</td>\n",
       "      <td>1.024292</td>\n",
       "      <td>-1.109037</td>\n",
       "      <td>0.023716</td>\n",
       "      <td>-0.923104</td>\n",
       "      <td>-184.486641</td>\n",
       "      <td>-9.981336</td>\n",
       "      <td>0.213447</td>\n",
       "      <td>0.001329</td>\n",
       "    </tr>\n",
       "    <tr>\n",
       "      <th>29228</th>\n",
       "      <td>Barcelona</td>\n",
       "      <td>'Mediterranean'</td>\n",
       "      <td>7702.0</td>\n",
       "      <td>0.0</td>\n",
       "      <td>3.0</td>\n",
       "      <td>,</td>\n",
       "      <td>/Restaurant_Review-g187497-d7341143-Reviews-Ja...</td>\n",
       "      <td>1</td>\n",
       "      <td>1.5</td>\n",
       "      <td>0</td>\n",
       "      <td>...</td>\n",
       "      <td>0.440795</td>\n",
       "      <td>1.142687</td>\n",
       "      <td>0.503690</td>\n",
       "      <td>-2.268630</td>\n",
       "      <td>-0.985347</td>\n",
       "      <td>-0.977890</td>\n",
       "      <td>-72.629944</td>\n",
       "      <td>-6.805891</td>\n",
       "      <td>-2.956041</td>\n",
       "      <td>0.000390</td>\n",
       "    </tr>\n",
       "    <tr>\n",
       "      <th>20263</th>\n",
       "      <td>London</td>\n",
       "      <td>'Indian', 'Asian', 'Balti', 'Bangladeshi', 'Ea...</td>\n",
       "      <td>15467.0</td>\n",
       "      <td>2.0</td>\n",
       "      <td>96.0</td>\n",
       "      <td>'Mediocre at best', 'Lunch', '02/01/2017', '05...</td>\n",
       "      <td>/Restaurant_Review-g186338-d8448187-Reviews-Ga...</td>\n",
       "      <td>1</td>\n",
       "      <td>3.0</td>\n",
       "      <td>0</td>\n",
       "      <td>...</td>\n",
       "      <td>0.465055</td>\n",
       "      <td>1.135786</td>\n",
       "      <td>0.528202</td>\n",
       "      <td>-2.150285</td>\n",
       "      <td>-0.893213</td>\n",
       "      <td>-0.304188</td>\n",
       "      <td>-26.512815</td>\n",
       "      <td>-206.427360</td>\n",
       "      <td>-85.748493</td>\n",
       "      <td>0.006207</td>\n",
       "    </tr>\n",
       "    <tr>\n",
       "      <th>14834</th>\n",
       "      <td>Prague</td>\n",
       "      <td>'International', 'European', 'Czech', 'Central...</td>\n",
       "      <td>545.0</td>\n",
       "      <td>2.0</td>\n",
       "      <td>111.0</td>\n",
       "      <td>'Deer Saddle and Wild Boar', 'Just Sufficient ...</td>\n",
       "      <td>/Restaurant_Review-g274707-d11951567-Reviews-D...</td>\n",
       "      <td>1</td>\n",
       "      <td>4.0</td>\n",
       "      <td>0</td>\n",
       "      <td>...</td>\n",
       "      <td>3.332110</td>\n",
       "      <td>1.149218</td>\n",
       "      <td>3.829320</td>\n",
       "      <td>-0.300110</td>\n",
       "      <td>0.738857</td>\n",
       "      <td>-0.107557</td>\n",
       "      <td>-89.690461</td>\n",
       "      <td>-33.312225</td>\n",
       "      <td>82.013133</td>\n",
       "      <td>0.203670</td>\n",
       "    </tr>\n",
       "    <tr>\n",
       "      <th>8310</th>\n",
       "      <td>Munich</td>\n",
       "      <td>'Middle Eastern', 'Persian', 'Halal', 'Vegetar...</td>\n",
       "      <td>728.0</td>\n",
       "      <td>2.0</td>\n",
       "      <td>61.0</td>\n",
       "      <td>'kind of oriental flair good simple food', 'Ex...</td>\n",
       "      <td>/Restaurant_Review-g187309-d742677-Reviews-Deh...</td>\n",
       "      <td>0</td>\n",
       "      <td>0.0</td>\n",
       "      <td>0</td>\n",
       "      <td>...</td>\n",
       "      <td>1.572802</td>\n",
       "      <td>1.196767</td>\n",
       "      <td>1.882277</td>\n",
       "      <td>-0.635808</td>\n",
       "      <td>0.468729</td>\n",
       "      <td>-0.214417</td>\n",
       "      <td>-74.417718</td>\n",
       "      <td>-38.784279</td>\n",
       "      <td>28.592446</td>\n",
       "      <td>0.083791</td>\n",
       "    </tr>\n",
       "    <tr>\n",
       "      <th>18093</th>\n",
       "      <td>Barcelona</td>\n",
       "      <td>Vegetarian Friendly</td>\n",
       "      <td>5399.0</td>\n",
       "      <td>0.0</td>\n",
       "      <td>5.0</td>\n",
       "      <td>'Not bad', '08/04/2015'</td>\n",
       "      <td>/Restaurant_Review-g187497-d5614420-Reviews-La...</td>\n",
       "      <td>1</td>\n",
       "      <td>4.0</td>\n",
       "      <td>0</td>\n",
       "      <td>...</td>\n",
       "      <td>0.628820</td>\n",
       "      <td>1.142687</td>\n",
       "      <td>0.718545</td>\n",
       "      <td>-1.590280</td>\n",
       "      <td>-0.391702</td>\n",
       "      <td>-0.963149</td>\n",
       "      <td>-103.611008</td>\n",
       "      <td>-7.951399</td>\n",
       "      <td>-1.958510</td>\n",
       "      <td>0.000926</td>\n",
       "    </tr>\n",
       "    <tr>\n",
       "      <th>22332</th>\n",
       "      <td>Athens</td>\n",
       "      <td>Vegetarian Friendly</td>\n",
       "      <td>1376.0</td>\n",
       "      <td>0.0</td>\n",
       "      <td>15.0</td>\n",
       "      <td>'Voodoo-ing', 'Good bar but', '11/24/2017', '0...</td>\n",
       "      <td>/Restaurant_Review-g189400-d3709223-Reviews-Vo...</td>\n",
       "      <td>1</td>\n",
       "      <td>3.5</td>\n",
       "      <td>0</td>\n",
       "      <td>...</td>\n",
       "      <td>0.563953</td>\n",
       "      <td>1.134296</td>\n",
       "      <td>0.639690</td>\n",
       "      <td>-1.773196</td>\n",
       "      <td>-0.563256</td>\n",
       "      <td>-0.840404</td>\n",
       "      <td>-9.089589</td>\n",
       "      <td>-26.597938</td>\n",
       "      <td>-8.448845</td>\n",
       "      <td>0.010901</td>\n",
       "    </tr>\n",
       "  </tbody>\n",
       "</table>\n",
       "<p>10 rows × 69 columns</p>\n",
       "</div>"
      ],
      "text/plain": [
       "            City                                      Cuisine Style  Ranking  \\\n",
       "35307      Milan  'Japanese', 'Seafood', 'Sushi', 'Asian', 'Soup...    913.0   \n",
       "1797       Milan                                Vegetarian Friendly   3943.0   \n",
       "20593     Berlin                              'Vegetarian Friendly'    539.0   \n",
       "49881      Paris                               'French', 'Japanese'   6774.0   \n",
       "29228  Barcelona                                    'Mediterranean'   7702.0   \n",
       "20263     London  'Indian', 'Asian', 'Balti', 'Bangladeshi', 'Ea...  15467.0   \n",
       "14834     Prague  'International', 'European', 'Czech', 'Central...    545.0   \n",
       "8310      Munich  'Middle Eastern', 'Persian', 'Halal', 'Vegetar...    728.0   \n",
       "18093  Barcelona                                Vegetarian Friendly   5399.0   \n",
       "22332     Athens                                Vegetarian Friendly   1376.0   \n",
       "\n",
       "       Price Range  Number of Reviews  \\\n",
       "35307          2.0              362.0   \n",
       "1797           0.0                9.0   \n",
       "20593          2.0               55.0   \n",
       "49881          2.0                9.0   \n",
       "29228          0.0                3.0   \n",
       "20263          2.0               96.0   \n",
       "14834          2.0              111.0   \n",
       "8310           2.0               61.0   \n",
       "18093          0.0                5.0   \n",
       "22332          0.0               15.0   \n",
       "\n",
       "                                                 Reviews  \\\n",
       "35307  'Authentic traditional Japanese cuisine.', 'go...   \n",
       "1797   'Good stop for gelato as you explore the Na......   \n",
       "20593  'Yummy', 'Wonderful place, good food', '12/02/...   \n",
       "49881  'Just awesome', 'A must try in Paris', '07/06/...   \n",
       "29228                                                 ,    \n",
       "20263  'Mediocre at best', 'Lunch', '02/01/2017', '05...   \n",
       "14834  'Deer Saddle and Wild Boar', 'Just Sufficient ...   \n",
       "8310   'kind of oriental flair good simple food', 'Ex...   \n",
       "18093                            'Not bad', '08/04/2015'   \n",
       "22332  'Voodoo-ing', 'Good bar but', '11/24/2017', '0...   \n",
       "\n",
       "                                                  URL_TA  sample  Rating  \\\n",
       "35307  /Restaurant_Review-g187849-d2386060-Reviews-En...       1     4.0   \n",
       "1797   /Restaurant_Review-g187849-d10862809-Reviews-G...       0     0.0   \n",
       "20593  /Restaurant_Review-g187323-d1344179-Reviews-Ma...       1     4.5   \n",
       "49881  /Restaurant_Review-g187147-d12535525-Reviews-R...       1     4.5   \n",
       "29228  /Restaurant_Review-g187497-d7341143-Reviews-Ja...       1     1.5   \n",
       "20263  /Restaurant_Review-g186338-d8448187-Reviews-Ga...       1     3.0   \n",
       "14834  /Restaurant_Review-g274707-d11951567-Reviews-D...       1     4.0   \n",
       "8310   /Restaurant_Review-g187309-d742677-Reviews-Deh...       0     0.0   \n",
       "18093  /Restaurant_Review-g187497-d5614420-Reviews-La...       1     4.0   \n",
       "22332  /Restaurant_Review-g189400-d3709223-Reviews-Vo...       1     3.5   \n",
       "\n",
       "       Number_of_Reviews_isNAN  ...  Rank_in_town_new  Mean_Rank_Count_rest  \\\n",
       "35307                        0  ...          2.950712              1.152943   \n",
       "1797                         0  ...          0.683236              1.152943   \n",
       "20593                        0  ...          5.018553              1.203482   \n",
       "49881                        0  ...          0.901683              1.135979   \n",
       "29228                        0  ...          0.440795              1.142687   \n",
       "20263                        0  ...          0.465055              1.135786   \n",
       "14834                        0  ...          3.332110              1.149218   \n",
       "8310                         0  ...          1.572802              1.196767   \n",
       "18093                        0  ...          0.628820              1.142687   \n",
       "22332                        0  ...          0.563953              1.134296   \n",
       "\n",
       "       Mean_Rank_to_Rank  Otnosit_Rank_town  Otnosit_Rank_to_mean  \\\n",
       "35307           3.402002          -0.338901              0.706055   \n",
       "1797            0.787732          -1.463623             -0.269467   \n",
       "20593           6.039736          -0.199261              0.834430   \n",
       "49881           1.024292          -1.109037              0.023716   \n",
       "29228           0.503690          -2.268630             -0.985347   \n",
       "20263           0.528202          -2.150285             -0.893213   \n",
       "14834           3.829320          -0.300110              0.738857   \n",
       "8310            1.882277          -0.635808              0.468729   \n",
       "18093           0.718545          -1.590280             -0.391702   \n",
       "22332           0.639690          -1.773196             -0.563256   \n",
       "\n",
       "       Otnosit_Reviews_to_mean  Plotn_Otnosit_Rank_town  \\\n",
       "35307                 1.150935              -223.522752   \n",
       "1797                 -0.946524               -51.756600   \n",
       "20593                -0.137555              -205.064484   \n",
       "49881                -0.923104              -184.486641   \n",
       "29228                -0.977890               -72.629944   \n",
       "20263                -0.304188               -26.512815   \n",
       "14834                -0.107557               -89.690461   \n",
       "8310                 -0.214417               -74.417718   \n",
       "18093                -0.963149              -103.611008   \n",
       "22332                -0.840404                -9.089589   \n",
       "\n",
       "       Otnosit_Rank_town_NoR  Otnosit_Rant_mean_NoR  NoR_Ranking  \n",
       "35307            -122.682257             255.592068     0.396495  \n",
       "1797              -13.172606              -2.425203     0.002283  \n",
       "20593             -10.959335              45.893642     0.102041  \n",
       "49881              -9.981336               0.213447     0.001329  \n",
       "29228              -6.805891              -2.956041     0.000390  \n",
       "20263            -206.427360             -85.748493     0.006207  \n",
       "14834             -33.312225              82.013133     0.203670  \n",
       "8310              -38.784279              28.592446     0.083791  \n",
       "18093              -7.951399              -1.958510     0.000926  \n",
       "22332             -26.597938              -8.448845     0.010901  \n",
       "\n",
       "[10 rows x 69 columns]"
      ]
     },
     "execution_count": 34,
     "metadata": {},
     "output_type": "execute_result"
    }
   ],
   "source": [
    "data.sample(10)"
   ]
  },
  {
   "cell_type": "markdown",
   "metadata": {},
   "source": [
    "# EDA "
   ]
  },
  {
   "cell_type": "markdown",
   "metadata": {},
   "source": [
    "### Посмотрим распределение признака"
   ]
  },
  {
   "cell_type": "markdown",
   "metadata": {},
   "source": [
    "# Визуализировать будем новый датафрейм - тренировочная часть с учетом новых признаков"
   ]
  },
  {
   "cell_type": "code",
   "execution_count": 35,
   "metadata": {
    "execution": {
     "iopub.execute_input": "2021-09-19T17:50:29.527066Z",
     "iopub.status.busy": "2021-09-19T17:50:29.52669Z",
     "iopub.status.idle": "2021-09-19T17:50:29.555264Z",
     "shell.execute_reply": "2021-09-19T17:50:29.554229Z",
     "shell.execute_reply.started": "2021-09-19T17:50:29.527004Z"
    }
   },
   "outputs": [],
   "source": [
    "df_train_new = data.query('sample == 1')"
   ]
  },
  {
   "cell_type": "code",
   "execution_count": 36,
   "metadata": {
    "execution": {
     "iopub.execute_input": "2021-09-19T17:50:30.073666Z",
     "iopub.status.busy": "2021-09-19T17:50:30.073303Z",
     "iopub.status.idle": "2021-09-19T17:50:30.557707Z",
     "shell.execute_reply": "2021-09-19T17:50:30.557056Z",
     "shell.execute_reply.started": "2021-09-19T17:50:30.073614Z"
    }
   },
   "outputs": [
    {
     "data": {
      "image/png": "[encoded data removed]",
      "text/plain": [
       "<Figure size 720x504 with 1 Axes>"
      ]
     },
     "metadata": {
      "needs_background": "light"
     },
     "output_type": "display_data"
    }
   ],
   "source": [
    "plt.rcParams['figure.figsize'] = (10,7)\n",
    "df_train_new['Ranking'].hist(bins=100);"
   ]
  },
  {
   "cell_type": "code",
   "execution_count": 37,
   "metadata": {
    "execution": {
     "iopub.execute_input": "2021-09-19T17:50:39.230613Z",
     "iopub.status.busy": "2021-09-19T17:50:39.230262Z",
     "iopub.status.idle": "2021-09-19T17:50:39.702854Z",
     "shell.execute_reply": "2021-09-19T17:50:39.701752Z",
     "shell.execute_reply.started": "2021-09-19T17:50:39.230557Z"
    }
   },
   "outputs": [
    {
     "data": {
      "image/png": "[encoded data removed]",
      "text/plain": [
       "<Figure size 720x504 with 1 Axes>"
      ]
     },
     "metadata": {
      "needs_background": "light"
     },
     "output_type": "display_data"
    }
   ],
   "source": [
    "df_train_new['City'].value_counts(ascending=True).plot(kind='barh');"
   ]
  },
  {
   "cell_type": "code",
   "execution_count": 38,
   "metadata": {
    "execution": {
     "iopub.execute_input": "2021-09-19T17:50:46.148501Z",
     "iopub.status.busy": "2021-09-19T17:50:46.148182Z",
     "iopub.status.idle": "2021-09-19T17:50:46.658506Z",
     "shell.execute_reply": "2021-09-19T17:50:46.657352Z",
     "shell.execute_reply.started": "2021-09-19T17:50:46.148447Z"
    }
   },
   "outputs": [
    {
     "data": {
      "image/png": "[encoded data removed]",
      "text/plain": [
       "<Figure size 720x504 with 1 Axes>"
      ]
     },
     "metadata": {
      "needs_background": "light"
     },
     "output_type": "display_data"
    }
   ],
   "source": [
    "df_train_new['Ranking'][df_train_new['City'] =='London'].hist(bins=100);"
   ]
  },
  {
   "cell_type": "markdown",
   "metadata": {
    "execution": {
     "iopub.execute_input": "2021-09-18T13:14:22.929838Z",
     "iopub.status.busy": "2021-09-18T13:14:22.929143Z",
     "iopub.status.idle": "2021-09-18T13:14:22.937593Z",
     "shell.execute_reply": "2021-09-18T13:14:22.936509Z",
     "shell.execute_reply.started": "2021-09-18T13:14:22.929764Z"
    }
   },
   "source": [
    "Проанализируем введенные новые признаки (Mean_Rank_to_Rank - средний ранк в городе к ранку ресторана)"
   ]
  },
  {
   "cell_type": "code",
   "execution_count": 39,
   "metadata": {
    "execution": {
     "iopub.execute_input": "2021-09-19T17:50:54.341388Z",
     "iopub.status.busy": "2021-09-19T17:50:54.340794Z",
     "iopub.status.idle": "2021-09-19T17:50:56.931869Z",
     "shell.execute_reply": "2021-09-19T17:50:56.930843Z",
     "shell.execute_reply.started": "2021-09-19T17:50:54.341315Z"
    }
   },
   "outputs": [
    {
     "data": {
      "image/png": "[encoded data removed]",
      "text/plain": [
       "<Figure size 720x504 with 1 Axes>"
      ]
     },
     "metadata": {
      "needs_background": "light"
     },
     "output_type": "display_data"
    }
   ],
   "source": [
    "df_train_new.query('City == \"London\" & Mean_Rank_to_Rank < 20')['Mean_Rank_to_Rank'].hist(bins=1000);"
   ]
  },
  {
   "cell_type": "code",
   "execution_count": 40,
   "metadata": {},
   "outputs": [],
   "source": [
    "# Создаем датафрейм для визуализации с учетом np.log() от признак\n",
    "df_visual = df_train_new.copy()"
   ]
  },
  {
   "cell_type": "code",
   "execution_count": 41,
   "metadata": {
    "execution": {
     "iopub.execute_input": "2021-09-19T18:09:49.49884Z",
     "iopub.status.busy": "2021-09-19T18:09:49.498534Z",
     "iopub.status.idle": "2021-09-19T18:09:55.952234Z",
     "shell.execute_reply": "2021-09-19T18:09:55.9512Z",
     "shell.execute_reply.started": "2021-09-19T18:09:49.498791Z"
    }
   },
   "outputs": [
    {
     "name": "stderr",
     "output_type": "stream",
     "text": [
      "/opt/conda/lib/python3.6/site-packages/pandas/core/series.py:856: RuntimeWarning: invalid value encountered in log\n",
      "  result = getattr(ufunc, method)(*inputs, **kwargs)\n"
     ]
    },
    {
     "data": {
      "image/png": "[encoded data removed]",
      "text/plain": [
       "<Figure size 720x504 with 1 Axes>"
      ]
     },
     "metadata": {
      "needs_background": "light"
     },
     "output_type": "display_data"
    }
   ],
   "source": [
    "# По виду распределения кажется, что оно логарифмически нормальное \n",
    "df_visual['Mean_Rank_to_Rank'] = np.log(df_train_new['Mean_Rank_to_Rank'])\n",
    "log_1 = df_visual.query(\n",
    "                'City == \"London\" & Mean_Rank_to_Rank < 20'\n",
    "                )['Mean_Rank_to_Rank'].hist(bins=1000);\n",
    "# Возьмем еще раз логарифм - тогда распределение становится нормальным\n",
    "df_visual['Mean_Rank_to_Rank'] = np.log(df_visual['Mean_Rank_to_Rank'])\n",
    "log_2 = df_visual.query(\n",
    "                'City == \"London\" & Mean_Rank_to_Rank < 20'\n",
    "                )['Mean_Rank_to_Rank'].hist(bins=1000);"
   ]
  },
  {
   "cell_type": "code",
   "execution_count": 42,
   "metadata": {
    "execution": {
     "iopub.execute_input": "2021-09-19T18:11:25.925572Z",
     "iopub.status.busy": "2021-09-19T18:11:25.925243Z",
     "iopub.status.idle": "2021-09-19T18:11:28.74694Z",
     "shell.execute_reply": "2021-09-19T18:11:28.745958Z",
     "shell.execute_reply.started": "2021-09-19T18:11:25.925521Z"
    }
   },
   "outputs": [
    {
     "data": {
      "image/png": "[encoded data removed]",
      "text/plain": [
       "<Figure size 720x504 with 1 Axes>"
      ]
     },
     "metadata": {
      "needs_background": "light"
     },
     "output_type": "display_data"
    }
   ],
   "source": [
    "# посмотрим на топ 10 городов\n",
    "for x in (df_train_new['City'].value_counts())[0:10].index:\n",
    "    df_train_new['Ranking'][df_train_new['City'] == x].hist(bins=100);\n",
    "plt.show()"
   ]
  },
  {
   "cell_type": "code",
   "execution_count": 43,
   "metadata": {
    "execution": {
     "iopub.execute_input": "2021-09-19T18:11:32.58755Z",
     "iopub.status.busy": "2021-09-19T18:11:32.587002Z",
     "iopub.status.idle": "2021-09-19T18:11:58.055585Z",
     "shell.execute_reply": "2021-09-19T18:11:58.054404Z",
     "shell.execute_reply.started": "2021-09-19T18:11:32.587505Z"
    }
   },
   "outputs": [
    {
     "data": {
      "image/png": "[encoded data removed]",
      "text/plain": [
       "<Figure size 720x504 with 1 Axes>"
      ]
     },
     "metadata": {
      "needs_background": "light"
     },
     "output_type": "display_data"
    }
   ],
   "source": [
    "# посмотрим на топ 10 городов\n",
    "for x in (df_train_new['City'].value_counts())[0:10].index:\n",
    "    df_train_new['Mean_Rank_to_Rank'][(df_train_new['City'] == x) & (df_train_new['Mean_Rank_to_Rank'] < 6)].hist(bins=1000);\n",
    "plt.show()"
   ]
  },
  {
   "cell_type": "markdown",
   "metadata": {},
   "source": [
    "Получается, что Ranking имеет нормальное распределение, просто в больших городах больше ресторанов, из-за мы этого имеем смещение.\n"
   ]
  },
  {
   "cell_type": "markdown",
   "metadata": {},
   "source": [
    "## Вывод - значит, что относительные величины, которые увязывают значение Ранка со средним значением ранка в городе и другие, распределены нормально (при взятии 2 раз логарифма от признака) и дают более объективную связь. Таким образом, ввод в модель признаков относительных оценок позволяет нормировать взаимосвязь между Ранком в соответствии с городом, вне зависимости от того, сколько ресторанов представлено в городе в изначальном датафрейме."
   ]
  },
  {
   "cell_type": "code",
   "execution_count": 44,
   "metadata": {
    "execution": {
     "iopub.execute_input": "2021-09-19T18:15:07.759244Z",
     "iopub.status.busy": "2021-09-19T18:15:07.758849Z",
     "iopub.status.idle": "2021-09-19T18:15:12.968221Z",
     "shell.execute_reply": "2021-09-19T18:15:12.966726Z",
     "shell.execute_reply.started": "2021-09-19T18:15:07.759197Z"
    }
   },
   "outputs": [
    {
     "data": {
      "image/png": "[encoded data removed]",
      "text/plain": [
       "<Figure size 720x504 with 1 Axes>"
      ]
     },
     "metadata": {
      "needs_background": "light"
     },
     "output_type": "display_data"
    }
   ],
   "source": [
    "# df_vusial имеет признак Mean_Rank_to_Rank с учетом взятия \n",
    "# 2 раз логарифма\n",
    "df_train_new.query('Mean_Rank_to_Rank < 20')['Mean_Rank_to_Rank'].hist(bins=1000);\n",
    "df_visual.query('Mean_Rank_to_Rank < 20')['Mean_Rank_to_Rank'].hist(bins=1000);"
   ]
  },
  {
   "cell_type": "markdown",
   "metadata": {},
   "source": [
    "### Посмотрим распределение целевой переменной"
   ]
  },
  {
   "cell_type": "code",
   "execution_count": 45,
   "metadata": {
    "execution": {
     "iopub.execute_input": "2021-09-19T18:15:20.086379Z",
     "iopub.status.busy": "2021-09-19T18:15:20.085863Z",
     "iopub.status.idle": "2021-09-19T18:15:20.364492Z",
     "shell.execute_reply": "2021-09-19T18:15:20.363484Z",
     "shell.execute_reply.started": "2021-09-19T18:15:20.086333Z"
    }
   },
   "outputs": [
    {
     "data": {
      "image/png": "[encoded data removed]",
      "text/plain": [
       "<Figure size 720x504 with 1 Axes>"
      ]
     },
     "metadata": {
      "needs_background": "light"
     },
     "output_type": "display_data"
    }
   ],
   "source": [
    "df_train_new['Rating'].value_counts(ascending=True).plot(kind='barh');"
   ]
  },
  {
   "cell_type": "markdown",
   "metadata": {},
   "source": [
    "### Посмотрим распределение целевой переменной относительно признака"
   ]
  },
  {
   "cell_type": "code",
   "execution_count": 46,
   "metadata": {
    "execution": {
     "iopub.execute_input": "2021-09-19T18:15:26.170584Z",
     "iopub.status.busy": "2021-09-19T18:15:26.17006Z",
     "iopub.status.idle": "2021-09-19T18:15:26.677342Z",
     "shell.execute_reply": "2021-09-19T18:15:26.67628Z",
     "shell.execute_reply.started": "2021-09-19T18:15:26.17054Z"
    }
   },
   "outputs": [
    {
     "data": {
      "image/png": "[encoded data removed]",
      "text/plain": [
       "<Figure size 720x504 with 1 Axes>"
      ]
     },
     "metadata": {
      "needs_background": "light"
     },
     "output_type": "display_data"
    }
   ],
   "source": [
    "df_train_new['Ranking'][df_train_new['Rating'] == 5].hist(bins=100);"
   ]
  },
  {
   "cell_type": "code",
   "execution_count": 47,
   "metadata": {
    "execution": {
     "iopub.execute_input": "2021-09-19T18:16:39.794357Z",
     "iopub.status.busy": "2021-09-19T18:16:39.794024Z",
     "iopub.status.idle": "2021-09-19T18:16:42.276455Z",
     "shell.execute_reply": "2021-09-19T18:16:42.274875Z",
     "shell.execute_reply.started": "2021-09-19T18:16:39.794293Z"
    }
   },
   "outputs": [
    {
     "data": {
      "text/plain": [
       "8169.707354372306"
      ]
     },
     "execution_count": 47,
     "metadata": {},
     "output_type": "execute_result"
    },
    {
     "data": {
      "image/png": "[encoded data removed]",
      "text/plain": [
       "<Figure size 720x504 with 1 Axes>"
      ]
     },
     "metadata": {
      "needs_background": "light"
     },
     "output_type": "display_data"
    }
   ],
   "source": [
    "df_train_new.query('Rating >= 4 & Mean_Rank_to_Rank < 50')['Mean_Rank_to_Rank'].hist(bins=1000);\n",
    "df_train_new.query('Rating >= 4')['Mean_Rank_to_Rank'].max()"
   ]
  },
  {
   "cell_type": "code",
   "execution_count": 48,
   "metadata": {
    "execution": {
     "iopub.execute_input": "2021-09-19T18:20:07.103503Z",
     "iopub.status.busy": "2021-09-19T18:20:07.102833Z",
     "iopub.status.idle": "2021-09-19T18:20:09.670024Z",
     "shell.execute_reply": "2021-09-19T18:20:09.669037Z",
     "shell.execute_reply.started": "2021-09-19T18:20:07.103423Z"
    }
   },
   "outputs": [
    {
     "data": {
      "image/png": "[encoded data removed]",
      "text/plain": [
       "<Figure size 720x504 with 1 Axes>"
      ]
     },
     "metadata": {
      "needs_background": "light"
     },
     "output_type": "display_data"
    }
   ],
   "source": [
    "# С учетом взятия 2 раз логарифма от 'Mean_Rank_to_Rank'\n",
    "df_visual.query('Rating >= 4 & Mean_Rank_to_Rank < 50')['Mean_Rank_to_Rank'].hist(bins=1000);"
   ]
  },
  {
   "cell_type": "code",
   "execution_count": 49,
   "metadata": {
    "execution": {
     "iopub.execute_input": "2021-09-19T18:20:30.228272Z",
     "iopub.status.busy": "2021-09-19T18:20:30.227876Z",
     "iopub.status.idle": "2021-09-19T18:20:32.724438Z",
     "shell.execute_reply": "2021-09-19T18:20:32.723358Z",
     "shell.execute_reply.started": "2021-09-19T18:20:30.228208Z"
    }
   },
   "outputs": [
    {
     "data": {
      "image/png": "[encoded data removed]",
      "text/plain": [
       "<Figure size 720x504 with 1 Axes>"
      ]
     },
     "metadata": {
      "needs_background": "light"
     },
     "output_type": "display_data"
    }
   ],
   "source": [
    "df_train_new.query('2 < Rating <= 3.5 & Mean_Rank_to_Rank < 6')['Mean_Rank_to_Rank'].hist(bins=1000);"
   ]
  },
  {
   "cell_type": "code",
   "execution_count": 50,
   "metadata": {
    "execution": {
     "iopub.execute_input": "2021-09-19T18:21:44.584874Z",
     "iopub.status.busy": "2021-09-19T18:21:44.584427Z",
     "iopub.status.idle": "2021-09-19T18:21:45.055109Z",
     "shell.execute_reply": "2021-09-19T18:21:45.053694Z",
     "shell.execute_reply.started": "2021-09-19T18:21:44.584805Z"
    }
   },
   "outputs": [
    {
     "data": {
      "image/png": "[encoded data removed]",
      "text/plain": [
       "<Figure size 720x504 with 1 Axes>"
      ]
     },
     "metadata": {
      "needs_background": "light"
     },
     "output_type": "display_data"
    }
   ],
   "source": [
    "# С учетом взятия 2 раз логарифма от 'Mean_Rank_to_Rank'\n",
    "df_visual.query('2 < Rating <= 3.5 & Mean_Rank_to_Rank < 6')['Mean_Rank_to_Rank'].hist(bins=100);"
   ]
  },
  {
   "cell_type": "code",
   "execution_count": 51,
   "metadata": {
    "execution": {
     "iopub.execute_input": "2021-09-19T18:18:23.587616Z",
     "iopub.status.busy": "2021-09-19T18:18:23.587222Z",
     "iopub.status.idle": "2021-09-19T18:18:24.427609Z",
     "shell.execute_reply": "2021-09-19T18:18:24.426622Z",
     "shell.execute_reply.started": "2021-09-19T18:18:23.587552Z"
    }
   },
   "outputs": [
    {
     "data": {
      "image/png": "[encoded data removed]",
      "text/plain": [
       "<Figure size 720x504 with 1 Axes>"
      ]
     },
     "metadata": {
      "needs_background": "light"
     },
     "output_type": "display_data"
    }
   ],
   "source": [
    "df_train_new.query('0 < Rating <= 2.5')['Mean_Rank_to_Rank'].hist(bins=250);"
   ]
  },
  {
   "cell_type": "markdown",
   "metadata": {},
   "source": [
    "## Вывод по результатам анализа значения величины Mean_Rank_to_Rank: При низком рейтинге ресторана (например, от 3 и ниже) значение величины находится в пределах от 0.5 до 2. Чем выше рейтинг ресторана, следовательно ниже его Ранк, следовательно данная относительная оценка - становится все больше (например, при рейтинге от 4 и выше - доходит до нескольких тысяч (max - 8169).\n",
    "\n",
    "Сам по себе показатель Ranking - довольно не информативный показатель. Однако, при наличии его в модели результаты МАЕ ниже, чем при его отсутствии. Все-таки, для физической интерпретации и понимания гораздо полезнее оперировать относительными или средними оценками. Они добавлены в достаточном количестве (полагаю, даже в излишнем, но все равно они повышают результат МАЕ).\n",
    "\n",
    "С учетом взятия 2 раз логарифма от величины Mean_Rank_to_Rank - распределение становится похожим на нормальное."
   ]
  },
  {
   "cell_type": "markdown",
   "metadata": {},
   "source": [
    "## Аналогично Ранку рассмотрим распределение числа отзывов и относительной величины"
   ]
  },
  {
   "cell_type": "code",
   "execution_count": 52,
   "metadata": {
    "execution": {
     "iopub.execute_input": "2021-09-19T18:25:00.322097Z",
     "iopub.status.busy": "2021-09-19T18:25:00.321722Z",
     "iopub.status.idle": "2021-09-19T18:25:01.686033Z",
     "shell.execute_reply": "2021-09-19T18:25:01.684445Z",
     "shell.execute_reply.started": "2021-09-19T18:25:00.322047Z"
    }
   },
   "outputs": [
    {
     "data": {
      "image/png": "[encoded data removed]",
      "text/plain": [
       "<Figure size 720x504 with 1 Axes>"
      ]
     },
     "metadata": {
      "needs_background": "light"
     },
     "output_type": "display_data"
    }
   ],
   "source": [
    "df_train_new['Number of Reviews'][df_train_new['Number of Reviews'] < 500].hist(bins=500);"
   ]
  },
  {
   "cell_type": "code",
   "execution_count": 53,
   "metadata": {
    "execution": {
     "iopub.execute_input": "2021-09-19T18:25:04.834247Z",
     "iopub.status.busy": "2021-09-19T18:25:04.833845Z",
     "iopub.status.idle": "2021-09-19T18:25:06.20629Z",
     "shell.execute_reply": "2021-09-19T18:25:06.205122Z",
     "shell.execute_reply.started": "2021-09-19T18:25:04.83418Z"
    }
   },
   "outputs": [
    {
     "data": {
      "image/png": "[encoded data removed]",
      "text/plain": [
       "<Figure size 720x504 with 1 Axes>"
      ]
     },
     "metadata": {
      "needs_background": "light"
     },
     "output_type": "display_data"
    }
   ],
   "source": [
    "df_train_new['Otnosit_Reviews_to_mean'][df_train_new['Otnosit_Reviews_to_mean'] < 10].hist(bins=500);"
   ]
  },
  {
   "cell_type": "markdown",
   "metadata": {},
   "source": [
    "Общий вид распределения \"Number of Reviews\" и \"Otnosit_Reviews_to_mean\" одинаковый, единственное - что значения в относительном варианте колеблются в меньшем диапазоне, что, по-моему мнению, положительно влияет на вычислительную точность модели и результате МАЕ. Аналогично по городам."
   ]
  },
  {
   "cell_type": "code",
   "execution_count": 54,
   "metadata": {
    "execution": {
     "iopub.execute_input": "2021-09-18T13:24:21.079513Z",
     "iopub.status.busy": "2021-09-18T13:24:21.079166Z",
     "iopub.status.idle": "2021-09-18T13:24:22.432449Z",
     "shell.execute_reply": "2021-09-18T13:24:22.431527Z",
     "shell.execute_reply.started": "2021-09-18T13:24:21.079458Z"
    }
   },
   "outputs": [
    {
     "data": {
      "image/png": "[encoded data removed]",
      "text/plain": [
       "<Figure size 1080x720 with 2 Axes>"
      ]
     },
     "metadata": {
      "needs_background": "light"
     },
     "output_type": "display_data"
    }
   ],
   "source": [
    "# Корреляция признаков\n",
    "plt.rcParams['figure.figsize'] = (15,10)\n",
    "sns.heatmap(data.drop(['sample'], axis=1).corr(),);"
   ]
  },
  {
   "cell_type": "markdown",
   "metadata": {},
   "source": [
    "# На представленной таблице корреляции (тепловой карте) видны несколько обратнопропорциональных признаков в правой нижней части (черные клетки). Однако, при проведении экспериментов по чистке взаимозависимых признаков из модели выяснилось, что вычленение данных признаков из модели - увеличивает абсолютную ошибку МАЕ. Кроме того, насколько полагаю, в задаче, которая не является задачей линейной регрессии, сильно скоррелированные признаки не оказывают сильного пагубного воздействия на результаты."
   ]
  },
  {
   "cell_type": "markdown",
   "metadata": {},
   "source": [
    "# Data Preprocessing\n",
    "Теперь, для удобства и воспроизводимости кода, завернем всю обработку в одну большую функцию."
   ]
  },
  {
   "cell_type": "code",
   "execution_count": 55,
   "metadata": {
    "execution": {
     "iopub.execute_input": "2021-09-19T18:25:36.227038Z",
     "iopub.status.busy": "2021-09-19T18:25:36.226662Z",
     "iopub.status.idle": "2021-09-19T18:25:36.541014Z",
     "shell.execute_reply": "2021-09-19T18:25:36.540224Z",
     "shell.execute_reply.started": "2021-09-19T18:25:36.226979Z"
    }
   },
   "outputs": [
    {
     "name": "stdout",
     "output_type": "stream",
     "text": [
      "<class 'pandas.core.frame.DataFrame'>\n",
      "RangeIndex: 50000 entries, 0 to 49999\n",
      "Data columns (total 11 columns):\n",
      "Restaurant_id        50000 non-null object\n",
      "City                 50000 non-null object\n",
      "Cuisine Style        38410 non-null object\n",
      "Ranking              50000 non-null float64\n",
      "Price Range          32639 non-null object\n",
      "Number of Reviews    46800 non-null float64\n",
      "Reviews              49998 non-null object\n",
      "URL_TA               50000 non-null object\n",
      "ID_TA                50000 non-null object\n",
      "sample               50000 non-null int64\n",
      "Rating               50000 non-null float64\n",
      "dtypes: float64(3), int64(1), object(7)\n",
      "memory usage: 4.2+ MB\n"
     ]
    }
   ],
   "source": [
    "# на всякий случай, заново подгружаем данные\n",
    "df_train = pd.read_csv(DATA_DIR+'/main_task.csv')\n",
    "df_test = pd.read_csv(DATA_DIR+'/kaggle_task.csv')\n",
    "df_cities = pd.read_csv('/kaggle/input/cities-31/cities.csv')\n",
    "df_train['sample'] = 1 # помечаем где у нас трейн\n",
    "df_test['sample'] = 0 # помечаем где у нас тест\n",
    "df_test['Rating'] = 0 # в тесте у нас нет значения Rating, мы его должны предсказать, по этому пока просто заполняем нулями\n",
    "\n",
    "data = df_test.append(df_train, sort=False).reset_index(drop=True) # объединяем\n",
    "data.info()"
   ]
  },
  {
   "cell_type": "code",
   "execution_count": 56,
   "metadata": {
    "execution": {
     "iopub.execute_input": "2021-09-19T18:26:51.088164Z",
     "iopub.status.busy": "2021-09-19T18:26:51.08779Z",
     "iopub.status.idle": "2021-09-19T18:26:51.139015Z",
     "shell.execute_reply": "2021-09-19T18:26:51.13775Z",
     "shell.execute_reply.started": "2021-09-19T18:26:51.088106Z"
    }
   },
   "outputs": [],
   "source": [
    "def preproc_data(df_input):\n",
    "    '''includes several functions to pre-process the predictor data.'''\n",
    "    \n",
    "    df_output = df_input.copy()\n",
    "    \n",
    "    # Добавляем столбец с информацией о пропусках в Number of Reviews\n",
    "    df_output['Number_of_Reviews_isNAN'] = pd.isna(\n",
    "        df_output['Number of Reviews']).astype('uint8')\n",
    "    \n",
    "    # Заполняю некоторые пропуски, большинство будет заполнено ниже\n",
    "    df_output['Cuisine Style'].fillna('Vegetarian Friendly', inplace=True) \n",
    "    df_output['Reviews'].fillna('', inplace=True)\n",
    "    \n",
    "    # One-Hot Encoding - 31 город из City\n",
    "    df_output = pd.concat([df_output,pd.get_dummies(df_output['City'])],axis=1)\n",
    "    \n",
    "    # Работа над признаком Price Range - прохожусь словарем по элементам \n",
    "    # + заполняю пропуски 0\n",
    "    dict_price = {\n",
    "        '$$$$': 3, \n",
    "        '$$ - $$$': 2, \n",
    "        '$': 1\n",
    "        }\n",
    "    df_output['Price Range'] = df_output['Price Range'].map(dict_price) \n",
    "    df_output['Price Range'].fillna(0, inplace=True) \n",
    "    \n",
    "    # Обработка признака Cuisine Style (чистка от скобок и прочих символов)\n",
    "    # и формирование нового признака cuisine_count - число кухонь в ресторане\n",
    "    cuisine_list = []\n",
    "    df_list = []\n",
    "    df_output['cuisine_count'] = 1\n",
    "    for i in range(len(df_output['Cuisine Style'])):\n",
    "        if type(df_output['Cuisine Style'][i]) is str:\n",
    "            for x, y in (\"[\", \"\"), (\"]\", \"\"), (\"[[\", \"\"), (\"]]\",\"\"):\n",
    "                df_output['Cuisine Style'][i] = df_output[\n",
    "                    'Cuisine Style'][i].replace(x, y)\n",
    "            df_list = df_output['Cuisine Style'][i].split(', ')\n",
    "            lenght_i = len(df_list)\n",
    "            df_output['cuisine_count'][i] = lenght_i\n",
    "            for j in range(len(df_output['Cuisine Style'][i].split(\"', '\"))):\n",
    "                cuisine_list.append(df_list[j].strip(\"'\"))\n",
    "    \n",
    "    \n",
    "    # Обработка признака Reviews с дальнейшей обработкой дат\n",
    "    # если значение отстутствует - отметка об этом в Reviews_isNAN\n",
    "    df_list_2 = []\n",
    "    df_output['date_1_review'] = 0 # дней от 1 отзыва до текущей даты\n",
    "    df_output['date_2_review'] = 0 # дней от 2 отзыва до текущей даты\n",
    "    df_output['date_review_diff'] = 0 # разница в днях между 2 отзывами\n",
    "    df_output['Reviews_isNAN'] = 0 # информация о пропущенных значениях\n",
    "    df_output['days_to_now'] = 0 # значение в днях до текущей даты\n",
    "    NOW = datetime.now() # текущее время\n",
    "    for i in range(len(df_output['Reviews'])):\n",
    "        for x, y in (\"[\", \"\"), (\"]\", \"\"), (\"[[\", \"\"), (\"]]\",\"\"):\n",
    "            \"\"\"Чистим Reviews от лишних символов, определяем vars\"\"\"\n",
    "            df_output['Reviews'][i] = df_output['Reviews'][i].replace(x, y)\n",
    "        df_list_2 = df_output['Reviews'][i].split(\"', '\")\n",
    "        for j in range(len(df_list_2)):\n",
    "            df_list_2[j] = df_list_2[j].strip(\"'\")\n",
    "        if len(df_list_2) == 4: # проверка на 2 отзыва в Reviews\n",
    "            dt1 = datetime.strptime(df_list_2[2], '%m/%d/%Y')\n",
    "            dt2 = datetime.strptime(df_list_2[3], '%m/%d/%Y')\n",
    "            diff = dt2 - dt1\n",
    "            days_1 = abs((dt1 - NOW).days)\n",
    "            days_2 = abs((dt2 - NOW).days)\n",
    "            df_output['days_to_now'][i] = min(days_1, days_2)\n",
    "            df_output['date_review_diff'][i] = abs(diff.days)\n",
    "            df_output['date_1_review'][i] = days_1\n",
    "            df_output['date_2_review'][i] = days_2\n",
    "        if len(df_list_2) == 2: # проверка на только 1 отзыв в Reviews\n",
    "            dt1 = datetime.strptime(df_list_2[1], '%m/%d/%Y')\n",
    "            df_output['days_to_now'][i] = abs((dt1 - NOW).days)\n",
    "            df_output['date_1_review'][i] = abs((dt1 - NOW).days)\n",
    "        if len(df_output['Reviews'][i]) < 10: \n",
    "        # если строка короткая - значит необходимо отметить в isNAN\n",
    "            df_output['Reviews_isNAN'][i] = 1\n",
    "    \n",
    "    # Работа со статистическими данными по городам\n",
    "    df_007 = pd.DataFrame() # новый датафрейм\n",
    "    df_007['Mean_Reviews_in_town'] = df_output.groupby('City')[\n",
    "        'Number of Reviews'].mean() \n",
    "    df_007['Count_Reviews_in_town'] = df_output.groupby('City')[\n",
    "        'Number of Reviews'].sum() / 10000\n",
    "    df_007['Mean_date_diff_in_town'] = df_output.groupby('City')[\n",
    "        'date_review_diff'].mean()\n",
    "    df_007['Count_rest_in_town'] = df_output.groupby('City')[\n",
    "        'City'].count()\n",
    "    df_007['Mean_date_1_in_town'] = df_output.groupby('City')[\n",
    "        'date_1_review'].mean()\n",
    "    df_007['Mean_date_2_in_town'] = df_output.groupby('City')[\n",
    "        'date_2_review'].mean()\n",
    "    df_007['Mean_days_to_now'] = df_output.groupby('City')[\n",
    "        'days_to_now'].mean()\n",
    "    df_007['Mean_Ranking_in_town'] = df_output.groupby('City')[\n",
    "        'Ranking'].mean()\n",
    "    df_007['Sum_Ranking_in_town'] = df_output.groupby('City')[\n",
    "        'Ranking'].sum()\n",
    "    \n",
    "    # Объединяем датафреймы по столбцу City\n",
    "    df_output = df_output.merge(df_007, on='City', how='left')\n",
    "    \n",
    "    # Заполняем остальные пропуски средними значениями признаков\n",
    "    for i in range(len(df_output['City'])):\n",
    "        if pd.isna(df_output['Number of Reviews'][i]):\n",
    "            df_output['Number of Reviews'][i] = \\\n",
    "            df_output['Mean_Reviews_in_town'][i]\n",
    "        if df_output['date_review_diff'][i] == 0:\n",
    "            df_output['date_review_diff'][i] = \\\n",
    "            df_output['Mean_date_diff_in_town'][i]\n",
    "        if df_output['date_2_review'][i] == 0:\n",
    "            df_output['date_2_review'][i] = \\\n",
    "            df_output['Mean_date_2_in_town'][i]\n",
    "        if df_output['date_1_review'][i] == 0:\n",
    "            df_output['date_1_review'][i] = \\\n",
    "            df_output['Mean_date_1_in_town'][i]\n",
    "        if df_output['days_to_now'][i] == 0:\n",
    "            df_output['days_to_now'][i] = \\\n",
    "            df_output['Mean_days_to_now'][i]\n",
    "    \n",
    "    # Объединяем датафрейм с новым датафреймом \n",
    "    # с информацией о 31 городе из столбца City\n",
    "    df_output = df_output.merge(df_cities, on='City', how='left')\n",
    "    \n",
    "    # Формируем новые признаки на основе имеющихся\n",
    "    # Физический смысл многих отсутствует\n",
    "    df_output['Rank_in_town_new'] = \\\n",
    "        df_output['Count_rest_in_town'] / \\\n",
    "        df_output['Ranking']\n",
    "    df_output['Mean_Rank_Count_rest'] = \\\n",
    "        df_output['Mean_Ranking_in_town'] / \\\n",
    "        df_output['Count_rest_in_town']\n",
    "    df_output['Mean_Rank_to_Rank'] = \\\n",
    "        df_output['Mean_Ranking_in_town'] / df_output['Ranking']\n",
    "    df_output['Otnosit_Rank_town'] = (\n",
    "        (df_output['Count_rest_in_town'] - \\\n",
    "         df_output['Ranking']) / \\\n",
    "        df_output['Count_rest_in_town'] - 1)\n",
    "    df_output['Otnosit_Rank_to_mean'] = (\n",
    "        (df_output['Mean_Ranking_in_town'] - \\\n",
    "         df_output['Ranking']) / \\\n",
    "        df_output['Mean_Ranking_in_town'])\n",
    "    df_output['Otnosit_Reviews_to_mean'] = (\n",
    "        (df_output['Number of Reviews'] - \\\n",
    "         df_output['Mean_Reviews_in_town']) / \\\n",
    "        df_output['Mean_Reviews_in_town'])\n",
    "    df_output['Sum_Ranking_in_town'] = \\\n",
    "        df_output['Sum_Ranking_in_town'] / 10000000\n",
    "    df_output['Plotn_Otnosit_Rank_town'] = \\\n",
    "        df_output['Плотность населения'] / \\\n",
    "        df_output['Otnosit_Rank_town'] \n",
    "    df_output['Otnosit_Rank_town_NoR'] = \\\n",
    "        df_output['Otnosit_Rank_town'] * \\\n",
    "        df_output['Number of Reviews'] \n",
    "    df_output['Otnosit_Rant_mean_NoR'] = \\\n",
    "        df_output['Otnosit_Rank_to_mean'] * \\\n",
    "        df_output['Number of Reviews'] \n",
    "    df_output['NoR_Ranking'] = \\\n",
    "        df_output['Number of Reviews'] / \\\n",
    "        df_output['Ranking']\n",
    "    \n",
    "    # Убираем снижающие эффективность модели признаки\n",
    "    df_output.drop(['Mean_date_1_in_town'], axis = 1, inplace=True)\n",
    "    df_output.drop(['Mean_Reviews_in_town'], axis = 1, inplace=True)\n",
    "    df_output.drop(['Restaurant_id','ID_TA'], axis = 1, inplace=True)\n",
    "    df_output.drop(['Площадь'], axis = 1, inplace=True)\n",
    "    \n",
    "    \n",
    "    # ################### 1. Предобработка ###################################\n",
    "    # убираем не нужные для модели признаки\n",
    "    \n",
    "    # ################### 2. NAN ###################################################\n",
    "    # Далее заполняем пропуски, \n",
    "    \n",
    "    # ################### 3. Encoding ##############################################\n",
    "    # для One-Hot Encoding в pandas есть готовая функция - get_dummies. \n",
    "    # Особенно радует параметр dummy_na\n",
    "    # df_output = pd.get_dummies(df_output, columns=[ 'City',], dummy_na=True)\n",
    "   \n",
    "    # ################### 4. Feature Engineering ###################################\n",
    "    # тут ваш код не генерацию новых фитчей\n",
    "    \n",
    "    # ################### 5. Clean ###################################################\n",
    "    # убираем признаки которые еще не успели обработать, \n",
    "    # модель на признаках с dtypes \"object\" обучаться не будет, просто их удалим\n",
    "    object_columns = [s for s in df_output.columns if df_output[s].dtypes == 'object']\n",
    "    df_output.drop(object_columns, axis = 1, inplace=True)\n",
    "    \n",
    "    return df_output"
   ]
  },
  {
   "cell_type": "markdown",
   "metadata": {},
   "source": [
    "#### Запускаем и проверяем что получилось"
   ]
  },
  {
   "cell_type": "code",
   "execution_count": 57,
   "metadata": {
    "execution": {
     "iopub.execute_input": "2021-09-19T18:27:05.078718Z",
     "iopub.status.busy": "2021-09-19T18:27:05.078385Z",
     "iopub.status.idle": "2021-09-19T18:30:07.919708Z",
     "shell.execute_reply": "2021-09-19T18:30:07.918603Z",
     "shell.execute_reply.started": "2021-09-19T18:27:05.078642Z"
    }
   },
   "outputs": [
    {
     "name": "stderr",
     "output_type": "stream",
     "text": [
      "/opt/conda/lib/python3.6/site-packages/ipykernel_launcher.py:36: SettingWithCopyWarning: \n",
      "A value is trying to be set on a copy of a slice from a DataFrame\n",
      "\n",
      "See the caveats in the documentation: http://pandas.pydata.org/pandas-docs/stable/user_guide/indexing.html#returning-a-view-versus-a-copy\n",
      "/opt/conda/lib/python3.6/site-packages/ipykernel_launcher.py:39: SettingWithCopyWarning: \n",
      "A value is trying to be set on a copy of a slice from a DataFrame\n",
      "\n",
      "See the caveats in the documentation: http://pandas.pydata.org/pandas-docs/stable/user_guide/indexing.html#returning-a-view-versus-a-copy\n",
      "/opt/conda/lib/python3.6/site-packages/ipykernel_launcher.py:56: SettingWithCopyWarning: \n",
      "A value is trying to be set on a copy of a slice from a DataFrame\n",
      "\n",
      "See the caveats in the documentation: http://pandas.pydata.org/pandas-docs/stable/user_guide/indexing.html#returning-a-view-versus-a-copy\n",
      "/opt/conda/lib/python3.6/site-packages/ipykernel_launcher.py:76: SettingWithCopyWarning: \n",
      "A value is trying to be set on a copy of a slice from a DataFrame\n",
      "\n",
      "See the caveats in the documentation: http://pandas.pydata.org/pandas-docs/stable/user_guide/indexing.html#returning-a-view-versus-a-copy\n",
      "/opt/conda/lib/python3.6/site-packages/ipykernel_launcher.py:66: SettingWithCopyWarning: \n",
      "A value is trying to be set on a copy of a slice from a DataFrame\n",
      "\n",
      "See the caveats in the documentation: http://pandas.pydata.org/pandas-docs/stable/user_guide/indexing.html#returning-a-view-versus-a-copy\n",
      "/opt/conda/lib/python3.6/site-packages/ipykernel_launcher.py:67: SettingWithCopyWarning: \n",
      "A value is trying to be set on a copy of a slice from a DataFrame\n",
      "\n",
      "See the caveats in the documentation: http://pandas.pydata.org/pandas-docs/stable/user_guide/indexing.html#returning-a-view-versus-a-copy\n",
      "/opt/conda/lib/python3.6/site-packages/ipykernel_launcher.py:68: SettingWithCopyWarning: \n",
      "A value is trying to be set on a copy of a slice from a DataFrame\n",
      "\n",
      "See the caveats in the documentation: http://pandas.pydata.org/pandas-docs/stable/user_guide/indexing.html#returning-a-view-versus-a-copy\n",
      "/opt/conda/lib/python3.6/site-packages/ipykernel_launcher.py:69: SettingWithCopyWarning: \n",
      "A value is trying to be set on a copy of a slice from a DataFrame\n",
      "\n",
      "See the caveats in the documentation: http://pandas.pydata.org/pandas-docs/stable/user_guide/indexing.html#returning-a-view-versus-a-copy\n",
      "/opt/conda/lib/python3.6/site-packages/ipykernel_launcher.py:72: SettingWithCopyWarning: \n",
      "A value is trying to be set on a copy of a slice from a DataFrame\n",
      "\n",
      "See the caveats in the documentation: http://pandas.pydata.org/pandas-docs/stable/user_guide/indexing.html#returning-a-view-versus-a-copy\n",
      "/opt/conda/lib/python3.6/site-packages/ipykernel_launcher.py:73: SettingWithCopyWarning: \n",
      "A value is trying to be set on a copy of a slice from a DataFrame\n",
      "\n",
      "See the caveats in the documentation: http://pandas.pydata.org/pandas-docs/stable/user_guide/indexing.html#returning-a-view-versus-a-copy\n",
      "/opt/conda/lib/python3.6/site-packages/ipykernel_launcher.py:109: SettingWithCopyWarning: \n",
      "A value is trying to be set on a copy of a slice from a DataFrame\n",
      "\n",
      "See the caveats in the documentation: http://pandas.pydata.org/pandas-docs/stable/user_guide/indexing.html#returning-a-view-versus-a-copy\n",
      "/opt/conda/lib/python3.6/site-packages/ipykernel_launcher.py:112: SettingWithCopyWarning: \n",
      "A value is trying to be set on a copy of a slice from a DataFrame\n",
      "\n",
      "See the caveats in the documentation: http://pandas.pydata.org/pandas-docs/stable/user_guide/indexing.html#returning-a-view-versus-a-copy\n",
      "/opt/conda/lib/python3.6/site-packages/ipykernel_launcher.py:115: SettingWithCopyWarning: \n",
      "A value is trying to be set on a copy of a slice from a DataFrame\n",
      "\n",
      "See the caveats in the documentation: http://pandas.pydata.org/pandas-docs/stable/user_guide/indexing.html#returning-a-view-versus-a-copy\n",
      "/opt/conda/lib/python3.6/site-packages/ipykernel_launcher.py:118: SettingWithCopyWarning: \n",
      "A value is trying to be set on a copy of a slice from a DataFrame\n",
      "\n",
      "See the caveats in the documentation: http://pandas.pydata.org/pandas-docs/stable/user_guide/indexing.html#returning-a-view-versus-a-copy\n",
      "/opt/conda/lib/python3.6/site-packages/ipykernel_launcher.py:106: SettingWithCopyWarning: \n",
      "A value is trying to be set on a copy of a slice from a DataFrame\n",
      "\n",
      "See the caveats in the documentation: http://pandas.pydata.org/pandas-docs/stable/user_guide/indexing.html#returning-a-view-versus-a-copy\n"
     ]
    },
    {
     "data": {
      "text/html": [
       "<div>\n",
       "<style scoped>\n",
       "    .dataframe tbody tr th:only-of-type {\n",
       "        vertical-align: middle;\n",
       "    }\n",
       "\n",
       "    .dataframe tbody tr th {\n",
       "        vertical-align: top;\n",
       "    }\n",
       "\n",
       "    .dataframe thead th {\n",
       "        text-align: right;\n",
       "    }\n",
       "</style>\n",
       "<table border=\"1\" class=\"dataframe\">\n",
       "  <thead>\n",
       "    <tr style=\"text-align: right;\">\n",
       "      <th></th>\n",
       "      <th>Ranking</th>\n",
       "      <th>Price Range</th>\n",
       "      <th>Number of Reviews</th>\n",
       "      <th>sample</th>\n",
       "      <th>Rating</th>\n",
       "      <th>Number_of_Reviews_isNAN</th>\n",
       "      <th>Amsterdam</th>\n",
       "      <th>Athens</th>\n",
       "      <th>Barcelona</th>\n",
       "      <th>Berlin</th>\n",
       "      <th>...</th>\n",
       "      <th>Rank_in_town_new</th>\n",
       "      <th>Mean_Rank_Count_rest</th>\n",
       "      <th>Mean_Rank_to_Rank</th>\n",
       "      <th>Otnosit_Rank_town</th>\n",
       "      <th>Otnosit_Rank_to_mean</th>\n",
       "      <th>Otnosit_Reviews_to_mean</th>\n",
       "      <th>Plotn_Otnosit_Rank_town</th>\n",
       "      <th>Otnosit_Rank_town_NoR</th>\n",
       "      <th>Otnosit_Rant_mean_NoR</th>\n",
       "      <th>NoR_Ranking</th>\n",
       "    </tr>\n",
       "  </thead>\n",
       "  <tbody>\n",
       "    <tr>\n",
       "      <th>6910</th>\n",
       "      <td>1227.0</td>\n",
       "      <td>0.0</td>\n",
       "      <td>134.148581</td>\n",
       "      <td>0</td>\n",
       "      <td>0.0</td>\n",
       "      <td>1</td>\n",
       "      <td>0</td>\n",
       "      <td>0</td>\n",
       "      <td>0</td>\n",
       "      <td>0</td>\n",
       "      <td>...</td>\n",
       "      <td>0.523227</td>\n",
       "      <td>1.171393</td>\n",
       "      <td>0.612905</td>\n",
       "      <td>-1.911215</td>\n",
       "      <td>-0.631575</td>\n",
       "      <td>0.000000</td>\n",
       "      <td>-29.598599</td>\n",
       "      <td>-256.386774</td>\n",
       "      <td>-84.724835</td>\n",
       "      <td>0.109331</td>\n",
       "    </tr>\n",
       "    <tr>\n",
       "      <th>11408</th>\n",
       "      <td>181.0</td>\n",
       "      <td>2.0</td>\n",
       "      <td>659.000000</td>\n",
       "      <td>1</td>\n",
       "      <td>4.5</td>\n",
       "      <td>0</td>\n",
       "      <td>0</td>\n",
       "      <td>0</td>\n",
       "      <td>0</td>\n",
       "      <td>0</td>\n",
       "      <td>...</td>\n",
       "      <td>10.033149</td>\n",
       "      <td>1.149218</td>\n",
       "      <td>11.530274</td>\n",
       "      <td>-0.099670</td>\n",
       "      <td>0.913272</td>\n",
       "      <td>4.298376</td>\n",
       "      <td>-270.062438</td>\n",
       "      <td>-65.682269</td>\n",
       "      <td>601.846112</td>\n",
       "      <td>3.640884</td>\n",
       "    </tr>\n",
       "    <tr>\n",
       "      <th>33236</th>\n",
       "      <td>6963.0</td>\n",
       "      <td>2.0</td>\n",
       "      <td>57.000000</td>\n",
       "      <td>1</td>\n",
       "      <td>4.0</td>\n",
       "      <td>0</td>\n",
       "      <td>0</td>\n",
       "      <td>0</td>\n",
       "      <td>0</td>\n",
       "      <td>0</td>\n",
       "      <td>...</td>\n",
       "      <td>1.033032</td>\n",
       "      <td>1.135786</td>\n",
       "      <td>1.173303</td>\n",
       "      <td>-0.968024</td>\n",
       "      <td>0.147705</td>\n",
       "      <td>-0.586862</td>\n",
       "      <td>-58.893251</td>\n",
       "      <td>-55.177395</td>\n",
       "      <td>8.419190</td>\n",
       "      <td>0.008186</td>\n",
       "    </tr>\n",
       "    <tr>\n",
       "      <th>19723</th>\n",
       "      <td>293.0</td>\n",
       "      <td>2.0</td>\n",
       "      <td>128.000000</td>\n",
       "      <td>1</td>\n",
       "      <td>4.5</td>\n",
       "      <td>0</td>\n",
       "      <td>0</td>\n",
       "      <td>0</td>\n",
       "      <td>0</td>\n",
       "      <td>0</td>\n",
       "      <td>...</td>\n",
       "      <td>5.621160</td>\n",
       "      <td>1.133777</td>\n",
       "      <td>6.373141</td>\n",
       "      <td>-0.177899</td>\n",
       "      <td>0.843091</td>\n",
       "      <td>0.001329</td>\n",
       "      <td>-284.164274</td>\n",
       "      <td>-22.771099</td>\n",
       "      <td>107.915712</td>\n",
       "      <td>0.436860</td>\n",
       "    </tr>\n",
       "    <tr>\n",
       "      <th>26685</th>\n",
       "      <td>110.0</td>\n",
       "      <td>2.0</td>\n",
       "      <td>1126.000000</td>\n",
       "      <td>1</td>\n",
       "      <td>4.0</td>\n",
       "      <td>0</td>\n",
       "      <td>0</td>\n",
       "      <td>0</td>\n",
       "      <td>0</td>\n",
       "      <td>1</td>\n",
       "      <td>...</td>\n",
       "      <td>24.590909</td>\n",
       "      <td>1.203482</td>\n",
       "      <td>29.594707</td>\n",
       "      <td>-0.040665</td>\n",
       "      <td>0.966210</td>\n",
       "      <td>16.656600</td>\n",
       "      <td>-1004.815973</td>\n",
       "      <td>-45.789279</td>\n",
       "      <td>1087.952656</td>\n",
       "      <td>10.236364</td>\n",
       "    </tr>\n",
       "    <tr>\n",
       "      <th>12835</th>\n",
       "      <td>1429.0</td>\n",
       "      <td>0.0</td>\n",
       "      <td>25.000000</td>\n",
       "      <td>1</td>\n",
       "      <td>4.0</td>\n",
       "      <td>0</td>\n",
       "      <td>0</td>\n",
       "      <td>0</td>\n",
       "      <td>0</td>\n",
       "      <td>0</td>\n",
       "      <td>...</td>\n",
       "      <td>1.270819</td>\n",
       "      <td>1.149218</td>\n",
       "      <td>1.460448</td>\n",
       "      <td>-0.786894</td>\n",
       "      <td>0.315278</td>\n",
       "      <td>-0.798999</td>\n",
       "      <td>-34.206649</td>\n",
       "      <td>-19.672357</td>\n",
       "      <td>7.881960</td>\n",
       "      <td>0.017495</td>\n",
       "    </tr>\n",
       "    <tr>\n",
       "      <th>13009</th>\n",
       "      <td>1472.0</td>\n",
       "      <td>1.0</td>\n",
       "      <td>111.000000</td>\n",
       "      <td>1</td>\n",
       "      <td>4.0</td>\n",
       "      <td>0</td>\n",
       "      <td>0</td>\n",
       "      <td>0</td>\n",
       "      <td>1</td>\n",
       "      <td>0</td>\n",
       "      <td>...</td>\n",
       "      <td>2.306386</td>\n",
       "      <td>1.142687</td>\n",
       "      <td>2.635477</td>\n",
       "      <td>-0.433579</td>\n",
       "      <td>0.620562</td>\n",
       "      <td>-0.181917</td>\n",
       "      <td>-380.024342</td>\n",
       "      <td>-48.127246</td>\n",
       "      <td>68.882393</td>\n",
       "      <td>0.075408</td>\n",
       "    </tr>\n",
       "    <tr>\n",
       "      <th>40568</th>\n",
       "      <td>4061.0</td>\n",
       "      <td>1.0</td>\n",
       "      <td>15.000000</td>\n",
       "      <td>1</td>\n",
       "      <td>4.0</td>\n",
       "      <td>0</td>\n",
       "      <td>0</td>\n",
       "      <td>0</td>\n",
       "      <td>1</td>\n",
       "      <td>0</td>\n",
       "      <td>...</td>\n",
       "      <td>0.836001</td>\n",
       "      <td>1.142687</td>\n",
       "      <td>0.955288</td>\n",
       "      <td>-1.196171</td>\n",
       "      <td>-0.046805</td>\n",
       "      <td>-0.889448</td>\n",
       "      <td>-137.748296</td>\n",
       "      <td>-17.942563</td>\n",
       "      <td>-0.702079</td>\n",
       "      <td>0.003694</td>\n",
       "    </tr>\n",
       "    <tr>\n",
       "      <th>13637</th>\n",
       "      <td>2796.0</td>\n",
       "      <td>2.0</td>\n",
       "      <td>64.000000</td>\n",
       "      <td>1</td>\n",
       "      <td>3.0</td>\n",
       "      <td>0</td>\n",
       "      <td>0</td>\n",
       "      <td>0</td>\n",
       "      <td>0</td>\n",
       "      <td>0</td>\n",
       "      <td>...</td>\n",
       "      <td>0.469957</td>\n",
       "      <td>1.173441</td>\n",
       "      <td>0.551467</td>\n",
       "      <td>-2.127854</td>\n",
       "      <td>-0.813345</td>\n",
       "      <td>-0.309207</td>\n",
       "      <td>-26.360747</td>\n",
       "      <td>-136.182648</td>\n",
       "      <td>-52.054081</td>\n",
       "      <td>0.022890</td>\n",
       "    </tr>\n",
       "    <tr>\n",
       "      <th>25778</th>\n",
       "      <td>2091.0</td>\n",
       "      <td>2.0</td>\n",
       "      <td>24.000000</td>\n",
       "      <td>1</td>\n",
       "      <td>4.5</td>\n",
       "      <td>0</td>\n",
       "      <td>0</td>\n",
       "      <td>0</td>\n",
       "      <td>0</td>\n",
       "      <td>0</td>\n",
       "      <td>...</td>\n",
       "      <td>1.238164</td>\n",
       "      <td>1.147444</td>\n",
       "      <td>1.420724</td>\n",
       "      <td>-0.807648</td>\n",
       "      <td>0.296133</td>\n",
       "      <td>-0.917181</td>\n",
       "      <td>-27.615761</td>\n",
       "      <td>-19.383546</td>\n",
       "      <td>7.107200</td>\n",
       "      <td>0.011478</td>\n",
       "    </tr>\n",
       "  </tbody>\n",
       "</table>\n",
       "<p>10 rows × 65 columns</p>\n",
       "</div>"
      ],
      "text/plain": [
       "       Ranking  Price Range  Number of Reviews  sample  Rating  \\\n",
       "6910    1227.0          0.0         134.148581       0     0.0   \n",
       "11408    181.0          2.0         659.000000       1     4.5   \n",
       "33236   6963.0          2.0          57.000000       1     4.0   \n",
       "19723    293.0          2.0         128.000000       1     4.5   \n",
       "26685    110.0          2.0        1126.000000       1     4.0   \n",
       "12835   1429.0          0.0          25.000000       1     4.0   \n",
       "13009   1472.0          1.0         111.000000       1     4.0   \n",
       "40568   4061.0          1.0          15.000000       1     4.0   \n",
       "13637   2796.0          2.0          64.000000       1     3.0   \n",
       "25778   2091.0          2.0          24.000000       1     4.5   \n",
       "\n",
       "       Number_of_Reviews_isNAN  Amsterdam  Athens  Barcelona  Berlin  ...  \\\n",
       "6910                         1          0       0          0       0  ...   \n",
       "11408                        0          0       0          0       0  ...   \n",
       "33236                        0          0       0          0       0  ...   \n",
       "19723                        0          0       0          0       0  ...   \n",
       "26685                        0          0       0          0       1  ...   \n",
       "12835                        0          0       0          0       0  ...   \n",
       "13009                        0          0       0          1       0  ...   \n",
       "40568                        0          0       0          1       0  ...   \n",
       "13637                        0          0       0          0       0  ...   \n",
       "25778                        0          0       0          0       0  ...   \n",
       "\n",
       "       Rank_in_town_new  Mean_Rank_Count_rest  Mean_Rank_to_Rank  \\\n",
       "6910           0.523227              1.171393           0.612905   \n",
       "11408         10.033149              1.149218          11.530274   \n",
       "33236          1.033032              1.135786           1.173303   \n",
       "19723          5.621160              1.133777           6.373141   \n",
       "26685         24.590909              1.203482          29.594707   \n",
       "12835          1.270819              1.149218           1.460448   \n",
       "13009          2.306386              1.142687           2.635477   \n",
       "40568          0.836001              1.142687           0.955288   \n",
       "13637          0.469957              1.173441           0.551467   \n",
       "25778          1.238164              1.147444           1.420724   \n",
       "\n",
       "       Otnosit_Rank_town  Otnosit_Rank_to_mean  Otnosit_Reviews_to_mean  \\\n",
       "6910           -1.911215             -0.631575                 0.000000   \n",
       "11408          -0.099670              0.913272                 4.298376   \n",
       "33236          -0.968024              0.147705                -0.586862   \n",
       "19723          -0.177899              0.843091                 0.001329   \n",
       "26685          -0.040665              0.966210                16.656600   \n",
       "12835          -0.786894              0.315278                -0.798999   \n",
       "13009          -0.433579              0.620562                -0.181917   \n",
       "40568          -1.196171             -0.046805                -0.889448   \n",
       "13637          -2.127854             -0.813345                -0.309207   \n",
       "25778          -0.807648              0.296133                -0.917181   \n",
       "\n",
       "       Plotn_Otnosit_Rank_town  Otnosit_Rank_town_NoR  Otnosit_Rant_mean_NoR  \\\n",
       "6910                -29.598599            -256.386774             -84.724835   \n",
       "11408              -270.062438             -65.682269             601.846112   \n",
       "33236               -58.893251             -55.177395               8.419190   \n",
       "19723              -284.164274             -22.771099             107.915712   \n",
       "26685             -1004.815973             -45.789279            1087.952656   \n",
       "12835               -34.206649             -19.672357               7.881960   \n",
       "13009              -380.024342             -48.127246              68.882393   \n",
       "40568              -137.748296             -17.942563              -0.702079   \n",
       "13637               -26.360747            -136.182648             -52.054081   \n",
       "25778               -27.615761             -19.383546               7.107200   \n",
       "\n",
       "       NoR_Ranking  \n",
       "6910      0.109331  \n",
       "11408     3.640884  \n",
       "33236     0.008186  \n",
       "19723     0.436860  \n",
       "26685    10.236364  \n",
       "12835     0.017495  \n",
       "13009     0.075408  \n",
       "40568     0.003694  \n",
       "13637     0.022890  \n",
       "25778     0.011478  \n",
       "\n",
       "[10 rows x 65 columns]"
      ]
     },
     "execution_count": 57,
     "metadata": {},
     "output_type": "execute_result"
    }
   ],
   "source": [
    "df_preproc = preproc_data(data)\n",
    "df_preproc.sample(10)"
   ]
  },
  {
   "cell_type": "code",
   "execution_count": 58,
   "metadata": {
    "execution": {
     "iopub.execute_input": "2021-09-19T18:30:07.922975Z",
     "iopub.status.busy": "2021-09-19T18:30:07.922272Z",
     "iopub.status.idle": "2021-09-19T18:30:07.953956Z",
     "shell.execute_reply": "2021-09-19T18:30:07.952964Z",
     "shell.execute_reply.started": "2021-09-19T18:30:07.922873Z"
    }
   },
   "outputs": [
    {
     "name": "stdout",
     "output_type": "stream",
     "text": [
      "<class 'pandas.core.frame.DataFrame'>\n",
      "Int64Index: 50000 entries, 0 to 49999\n",
      "Data columns (total 65 columns):\n",
      "Ranking                    50000 non-null float64\n",
      "Price Range                50000 non-null float64\n",
      "Number of Reviews          50000 non-null float64\n",
      "sample                     50000 non-null int64\n",
      "Rating                     50000 non-null float64\n",
      "Number_of_Reviews_isNAN    50000 non-null uint8\n",
      "Amsterdam                  50000 non-null uint8\n",
      "Athens                     50000 non-null uint8\n",
      "Barcelona                  50000 non-null uint8\n",
      "Berlin                     50000 non-null uint8\n",
      "Bratislava                 50000 non-null uint8\n",
      "Brussels                   50000 non-null uint8\n",
      "Budapest                   50000 non-null uint8\n",
      "Copenhagen                 50000 non-null uint8\n",
      "Dublin                     50000 non-null uint8\n",
      "Edinburgh                  50000 non-null uint8\n",
      "Geneva                     50000 non-null uint8\n",
      "Hamburg                    50000 non-null uint8\n",
      "Helsinki                   50000 non-null uint8\n",
      "Krakow                     50000 non-null uint8\n",
      "Lisbon                     50000 non-null uint8\n",
      "Ljubljana                  50000 non-null uint8\n",
      "London                     50000 non-null uint8\n",
      "Luxembourg                 50000 non-null uint8\n",
      "Lyon                       50000 non-null uint8\n",
      "Madrid                     50000 non-null uint8\n",
      "Milan                      50000 non-null uint8\n",
      "Munich                     50000 non-null uint8\n",
      "Oporto                     50000 non-null uint8\n",
      "Oslo                       50000 non-null uint8\n",
      "Paris                      50000 non-null uint8\n",
      "Prague                     50000 non-null uint8\n",
      "Rome                       50000 non-null uint8\n",
      "Stockholm                  50000 non-null uint8\n",
      "Vienna                     50000 non-null uint8\n",
      "Warsaw                     50000 non-null uint8\n",
      "Zurich                     50000 non-null uint8\n",
      "cuisine_count              50000 non-null int64\n",
      "date_1_review              50000 non-null int64\n",
      "date_2_review              50000 non-null int64\n",
      "date_review_diff           50000 non-null int64\n",
      "Reviews_isNAN              50000 non-null int64\n",
      "days_to_now                50000 non-null int64\n",
      "Count_Reviews_in_town      50000 non-null float64\n",
      "Mean_date_diff_in_town     50000 non-null float64\n",
      "Count_rest_in_town         50000 non-null int64\n",
      "Mean_date_2_in_town        50000 non-null float64\n",
      "Mean_days_to_now           50000 non-null float64\n",
      "Mean_Ranking_in_town       50000 non-null float64\n",
      "Sum_Ranking_in_town        50000 non-null float64\n",
      "Население                  50000 non-null float64\n",
      "Уровень_жизни              50000 non-null float64\n",
      "Столица                    50000 non-null int64\n",
      "Месячный_доход             50000 non-null float64\n",
      "Плотность населения        50000 non-null float64\n",
      "Rank_in_town_new           50000 non-null float64\n",
      "Mean_Rank_Count_rest       50000 non-null float64\n",
      "Mean_Rank_to_Rank          50000 non-null float64\n",
      "Otnosit_Rank_town          50000 non-null float64\n",
      "Otnosit_Rank_to_mean       50000 non-null float64\n",
      "Otnosit_Reviews_to_mean    50000 non-null float64\n",
      "Plotn_Otnosit_Rank_town    50000 non-null float64\n",
      "Otnosit_Rank_town_NoR      50000 non-null float64\n",
      "Otnosit_Rant_mean_NoR      50000 non-null float64\n",
      "NoR_Ranking                50000 non-null float64\n",
      "dtypes: float64(24), int64(9), uint8(32)\n",
      "memory usage: 14.5 MB\n"
     ]
    }
   ],
   "source": [
    "df_preproc.info()"
   ]
  },
  {
   "cell_type": "code",
   "execution_count": 59,
   "metadata": {
    "execution": {
     "iopub.execute_input": "2021-09-19T18:30:07.956425Z",
     "iopub.status.busy": "2021-09-19T18:30:07.955778Z",
     "iopub.status.idle": "2021-09-19T18:30:07.996617Z",
     "shell.execute_reply": "2021-09-19T18:30:07.995686Z",
     "shell.execute_reply.started": "2021-09-19T18:30:07.956364Z"
    }
   },
   "outputs": [],
   "source": [
    "# Теперь выделим тестовую часть\n",
    "train_data = df_preproc.query('sample == 1').drop(['sample'], axis=1)\n",
    "test_data = df_preproc.query('sample == 0').drop(['sample'], axis=1)\n",
    "\n",
    "y = train_data.Rating.values            # наш таргет\n",
    "X = train_data.drop(['Rating'], axis=1)"
   ]
  },
  {
   "cell_type": "markdown",
   "metadata": {},
   "source": [
    "**Перед тем как отправлять наши данные на обучение, разделим данные на еще один тест и трейн, для валидации. \n",
    "Это поможет нам проверить, как хорошо наша модель работает, до отправки submissiona на kaggle.**"
   ]
  },
  {
   "cell_type": "code",
   "execution_count": 60,
   "metadata": {
    "execution": {
     "iopub.execute_input": "2021-09-19T18:30:07.9988Z",
     "iopub.status.busy": "2021-09-19T18:30:07.998448Z",
     "iopub.status.idle": "2021-09-19T18:30:08.031231Z",
     "shell.execute_reply": "2021-09-19T18:30:08.030279Z",
     "shell.execute_reply.started": "2021-09-19T18:30:07.998745Z"
    }
   },
   "outputs": [],
   "source": [
    "# Воспользуемся специальной функцие train_test_split для разбивки тестовых данных\n",
    "# выделим 20% данных на валидацию (параметр test_size)\n",
    "X_train, X_test, y_train, y_test = train_test_split(X, y, test_size=0.2, random_state=RANDOM_SEED)"
   ]
  },
  {
   "cell_type": "code",
   "execution_count": 61,
   "metadata": {
    "execution": {
     "iopub.execute_input": "2021-09-19T18:30:08.034503Z",
     "iopub.status.busy": "2021-09-19T18:30:08.03419Z",
     "iopub.status.idle": "2021-09-19T18:30:08.042005Z",
     "shell.execute_reply": "2021-09-19T18:30:08.041096Z",
     "shell.execute_reply.started": "2021-09-19T18:30:08.034446Z"
    }
   },
   "outputs": [
    {
     "data": {
      "text/plain": [
       "((10000, 64), (40000, 64), (40000, 63), (32000, 63), (8000, 63))"
      ]
     },
     "execution_count": 61,
     "metadata": {},
     "output_type": "execute_result"
    }
   ],
   "source": [
    "# проверяем\n",
    "test_data.shape, train_data.shape, X.shape, X_train.shape, X_test.shape"
   ]
  },
  {
   "cell_type": "markdown",
   "metadata": {},
   "source": [
    "# Model \n",
    "Сам ML"
   ]
  },
  {
   "cell_type": "code",
   "execution_count": 62,
   "metadata": {
    "execution": {
     "iopub.execute_input": "2021-09-19T18:30:08.043971Z",
     "iopub.status.busy": "2021-09-19T18:30:08.043591Z",
     "iopub.status.idle": "2021-09-19T18:30:08.223174Z",
     "shell.execute_reply": "2021-09-19T18:30:08.222216Z",
     "shell.execute_reply.started": "2021-09-19T18:30:08.043916Z"
    }
   },
   "outputs": [],
   "source": [
    "# Импортируем необходимые библиотеки:\n",
    "from sklearn.ensemble import RandomForestRegressor # инструмент для создания и обучения модели\n",
    "from sklearn import metrics # инструменты для оценки точности модели"
   ]
  },
  {
   "cell_type": "code",
   "execution_count": 63,
   "metadata": {
    "execution": {
     "iopub.execute_input": "2021-09-19T18:30:08.225137Z",
     "iopub.status.busy": "2021-09-19T18:30:08.224823Z",
     "iopub.status.idle": "2021-09-19T18:30:08.231441Z",
     "shell.execute_reply": "2021-09-19T18:30:08.230334Z",
     "shell.execute_reply.started": "2021-09-19T18:30:08.225082Z"
    }
   },
   "outputs": [],
   "source": [
    "# Создаём модель (НАСТРОЙКИ НЕ ТРОГАЕМ)\n",
    "model = RandomForestRegressor(n_estimators=100, verbose=1, n_jobs=-1, random_state=RANDOM_SEED)"
   ]
  },
  {
   "cell_type": "code",
   "execution_count": 64,
   "metadata": {
    "execution": {
     "iopub.execute_input": "2021-09-19T18:30:08.234284Z",
     "iopub.status.busy": "2021-09-19T18:30:08.233769Z",
     "iopub.status.idle": "2021-09-19T18:30:34.308568Z",
     "shell.execute_reply": "2021-09-19T18:30:34.30723Z",
     "shell.execute_reply.started": "2021-09-19T18:30:08.234197Z"
    }
   },
   "outputs": [
    {
     "name": "stderr",
     "output_type": "stream",
     "text": [
      "[Parallel(n_jobs=-1)]: Using backend ThreadingBackend with 4 concurrent workers.\n",
      "[Parallel(n_jobs=-1)]: Done  42 tasks      | elapsed:   10.7s\n",
      "[Parallel(n_jobs=-1)]: Done 100 out of 100 | elapsed:   24.4s finished\n",
      "[Parallel(n_jobs=4)]: Using backend ThreadingBackend with 4 concurrent workers.\n",
      "[Parallel(n_jobs=4)]: Done  42 tasks      | elapsed:    0.0s\n",
      "[Parallel(n_jobs=4)]: Done 100 out of 100 | elapsed:    0.1s finished\n"
     ]
    }
   ],
   "source": [
    "# Обучаем модель на тестовом наборе данных\n",
    "model.fit(X_train, y_train)\n",
    "\n",
    "# Используем обученную модель для предсказания рейтинга ресторанов в тестовой выборке.\n",
    "# Предсказанные значения записываем в переменную y_pred\n",
    "y_pred = model.predict(X_test)"
   ]
  },
  {
   "cell_type": "code",
   "execution_count": 65,
   "metadata": {
    "execution": {
     "iopub.execute_input": "2021-09-19T18:30:34.310945Z",
     "iopub.status.busy": "2021-09-19T18:30:34.310523Z",
     "iopub.status.idle": "2021-09-19T18:30:34.321669Z",
     "shell.execute_reply": "2021-09-19T18:30:34.320321Z",
     "shell.execute_reply.started": "2021-09-19T18:30:34.310845Z"
    }
   },
   "outputs": [],
   "source": [
    "def rating(prediction):\n",
    "    if prediction <= 0.25:\n",
    "        return 0\n",
    "    elif 0.25 < prediction <= 0.75:\n",
    "        return 0.5\n",
    "    elif 0.75 < prediction <= 1.25:\n",
    "        return 1\n",
    "    elif 1.25 < prediction <= 1.75:\n",
    "        return 1.5\n",
    "    elif 1.75 < prediction <= 2.25:\n",
    "        return 2\n",
    "    elif 2.25 < prediction <= 2.75:\n",
    "        return 2.5\n",
    "    elif 2.75 < prediction <= 3.25:\n",
    "        return 3\n",
    "    elif 3.25 < prediction <= 3.75:\n",
    "        return 3.5\n",
    "    elif 3.75 < prediction <= 4.25:\n",
    "        return 4\n",
    "    elif 4.25 < prediction <= 4.75:\n",
    "        return 4.5\n",
    "    else:\n",
    "        return 5"
   ]
  },
  {
   "cell_type": "code",
   "execution_count": 66,
   "metadata": {
    "execution": {
     "iopub.execute_input": "2021-09-19T18:30:34.324763Z",
     "iopub.status.busy": "2021-09-19T18:30:34.32414Z",
     "iopub.status.idle": "2021-09-19T18:30:34.368423Z",
     "shell.execute_reply": "2021-09-19T18:30:34.367348Z",
     "shell.execute_reply.started": "2021-09-19T18:30:34.324686Z"
    }
   },
   "outputs": [],
   "source": [
    "for i in range(len(y_pred)):\n",
    "    y_pred[i] = rating(y_pred[i])"
   ]
  },
  {
   "cell_type": "code",
   "execution_count": 67,
   "metadata": {
    "execution": {
     "iopub.execute_input": "2021-09-19T18:30:34.370073Z",
     "iopub.status.busy": "2021-09-19T18:30:34.369818Z",
     "iopub.status.idle": "2021-09-19T18:30:34.376816Z",
     "shell.execute_reply": "2021-09-19T18:30:34.37571Z",
     "shell.execute_reply.started": "2021-09-19T18:30:34.370037Z"
    }
   },
   "outputs": [
    {
     "name": "stdout",
     "output_type": "stream",
     "text": [
      "MAE: 0.1665\n"
     ]
    }
   ],
   "source": [
    "# Сравниваем предсказанные значения (y_pred) с реальными (y_test), и смотрим насколько они в среднем отличаются\n",
    "# Метрика называется Mean Absolute Error (MAE) и показывает среднее отклонение предсказанных значений от фактических.\n",
    "print('MAE:', metrics.mean_absolute_error(y_test, y_pred))"
   ]
  },
  {
   "cell_type": "code",
   "execution_count": 68,
   "metadata": {
    "execution": {
     "iopub.execute_input": "2021-09-19T18:30:34.378958Z",
     "iopub.status.busy": "2021-09-19T18:30:34.378491Z",
     "iopub.status.idle": "2021-09-19T18:30:34.859258Z",
     "shell.execute_reply": "2021-09-19T18:30:34.858235Z",
     "shell.execute_reply.started": "2021-09-19T18:30:34.378902Z"
    }
   },
   "outputs": [
    {
     "data": {
      "text/plain": [
       "<matplotlib.axes._subplots.AxesSubplot at 0x7f65ca691ba8>"
      ]
     },
     "execution_count": 68,
     "metadata": {},
     "output_type": "execute_result"
    },
    {
     "data": {
      "image/png": "[encoded data removed]",
      "text/plain": [
       "<Figure size 720x720 with 1 Axes>"
      ]
     },
     "metadata": {
      "needs_background": "light"
     },
     "output_type": "display_data"
    }
   ],
   "source": [
    "# в RandomForestRegressor есть возможность вывести самые важные признаки для модели\n",
    "plt.rcParams['figure.figsize'] = (10,10)\n",
    "feat_importances = pd.Series(model.feature_importances_, index=X.columns)\n",
    "feat_importances.nlargest(15).plot(kind='barh')"
   ]
  },
  {
   "cell_type": "markdown",
   "metadata": {},
   "source": [
    "# Submission\n",
    "Если все устраевает - готовим Submission на кагл"
   ]
  },
  {
   "cell_type": "code",
   "execution_count": 69,
   "metadata": {
    "execution": {
     "iopub.execute_input": "2021-09-19T18:31:23.12176Z",
     "iopub.status.busy": "2021-09-19T18:31:23.121173Z",
     "iopub.status.idle": "2021-09-19T18:31:23.157421Z",
     "shell.execute_reply": "2021-09-19T18:31:23.15663Z",
     "shell.execute_reply.started": "2021-09-19T18:31:23.12171Z"
    }
   },
   "outputs": [
    {
     "data": {
      "text/html": [
       "<div>\n",
       "<style scoped>\n",
       "    .dataframe tbody tr th:only-of-type {\n",
       "        vertical-align: middle;\n",
       "    }\n",
       "\n",
       "    .dataframe tbody tr th {\n",
       "        vertical-align: top;\n",
       "    }\n",
       "\n",
       "    .dataframe thead th {\n",
       "        text-align: right;\n",
       "    }\n",
       "</style>\n",
       "<table border=\"1\" class=\"dataframe\">\n",
       "  <thead>\n",
       "    <tr style=\"text-align: right;\">\n",
       "      <th></th>\n",
       "      <th>Ranking</th>\n",
       "      <th>Price Range</th>\n",
       "      <th>Number of Reviews</th>\n",
       "      <th>Rating</th>\n",
       "      <th>Number_of_Reviews_isNAN</th>\n",
       "      <th>Amsterdam</th>\n",
       "      <th>Athens</th>\n",
       "      <th>Barcelona</th>\n",
       "      <th>Berlin</th>\n",
       "      <th>Bratislava</th>\n",
       "      <th>...</th>\n",
       "      <th>Rank_in_town_new</th>\n",
       "      <th>Mean_Rank_Count_rest</th>\n",
       "      <th>Mean_Rank_to_Rank</th>\n",
       "      <th>Otnosit_Rank_town</th>\n",
       "      <th>Otnosit_Rank_to_mean</th>\n",
       "      <th>Otnosit_Reviews_to_mean</th>\n",
       "      <th>Plotn_Otnosit_Rank_town</th>\n",
       "      <th>Otnosit_Rank_town_NoR</th>\n",
       "      <th>Otnosit_Rant_mean_NoR</th>\n",
       "      <th>NoR_Ranking</th>\n",
       "    </tr>\n",
       "  </thead>\n",
       "  <tbody>\n",
       "    <tr>\n",
       "      <th>3710</th>\n",
       "      <td>2425.0</td>\n",
       "      <td>0.0</td>\n",
       "      <td>75.197479</td>\n",
       "      <td>0.0</td>\n",
       "      <td>1</td>\n",
       "      <td>0</td>\n",
       "      <td>0</td>\n",
       "      <td>0</td>\n",
       "      <td>0</td>\n",
       "      <td>0</td>\n",
       "      <td>...</td>\n",
       "      <td>0.425979</td>\n",
       "      <td>1.197950</td>\n",
       "      <td>0.510302</td>\n",
       "      <td>-2.347531</td>\n",
       "      <td>-0.959624</td>\n",
       "      <td>0.000000</td>\n",
       "      <td>-21.788596</td>\n",
       "      <td>-176.528448</td>\n",
       "      <td>-72.161330</td>\n",
       "      <td>0.031009</td>\n",
       "    </tr>\n",
       "    <tr>\n",
       "      <th>6428</th>\n",
       "      <td>85.0</td>\n",
       "      <td>2.0</td>\n",
       "      <td>74.000000</td>\n",
       "      <td>0.0</td>\n",
       "      <td>0</td>\n",
       "      <td>0</td>\n",
       "      <td>0</td>\n",
       "      <td>0</td>\n",
       "      <td>0</td>\n",
       "      <td>0</td>\n",
       "      <td>...</td>\n",
       "      <td>5.741176</td>\n",
       "      <td>1.132315</td>\n",
       "      <td>6.500820</td>\n",
       "      <td>-0.174180</td>\n",
       "      <td>0.846173</td>\n",
       "      <td>-0.260032</td>\n",
       "      <td>-85.165295</td>\n",
       "      <td>-12.889344</td>\n",
       "      <td>62.616820</td>\n",
       "      <td>0.870588</td>\n",
       "    </tr>\n",
       "    <tr>\n",
       "      <th>4650</th>\n",
       "      <td>2270.0</td>\n",
       "      <td>2.0</td>\n",
       "      <td>35.000000</td>\n",
       "      <td>0.0</td>\n",
       "      <td>0</td>\n",
       "      <td>0</td>\n",
       "      <td>0</td>\n",
       "      <td>0</td>\n",
       "      <td>0</td>\n",
       "      <td>0</td>\n",
       "      <td>...</td>\n",
       "      <td>0.455066</td>\n",
       "      <td>1.197950</td>\n",
       "      <td>0.545146</td>\n",
       "      <td>-2.197483</td>\n",
       "      <td>-0.834370</td>\n",
       "      <td>-0.534559</td>\n",
       "      <td>-23.276364</td>\n",
       "      <td>-76.911907</td>\n",
       "      <td>-29.202949</td>\n",
       "      <td>0.015419</td>\n",
       "    </tr>\n",
       "    <tr>\n",
       "      <th>1512</th>\n",
       "      <td>1475.0</td>\n",
       "      <td>0.0</td>\n",
       "      <td>7.000000</td>\n",
       "      <td>0.0</td>\n",
       "      <td>0</td>\n",
       "      <td>0</td>\n",
       "      <td>0</td>\n",
       "      <td>0</td>\n",
       "      <td>0</td>\n",
       "      <td>0</td>\n",
       "      <td>...</td>\n",
       "      <td>0.692203</td>\n",
       "      <td>1.193988</td>\n",
       "      <td>0.826483</td>\n",
       "      <td>-1.444662</td>\n",
       "      <td>-0.209947</td>\n",
       "      <td>-0.955886</td>\n",
       "      <td>-23.103587</td>\n",
       "      <td>-10.112635</td>\n",
       "      <td>-1.469629</td>\n",
       "      <td>0.004746</td>\n",
       "    </tr>\n",
       "    <tr>\n",
       "      <th>8623</th>\n",
       "      <td>804.0</td>\n",
       "      <td>2.0</td>\n",
       "      <td>15.000000</td>\n",
       "      <td>0.0</td>\n",
       "      <td>0</td>\n",
       "      <td>0</td>\n",
       "      <td>0</td>\n",
       "      <td>0</td>\n",
       "      <td>0</td>\n",
       "      <td>0</td>\n",
       "      <td>...</td>\n",
       "      <td>0.733831</td>\n",
       "      <td>1.208860</td>\n",
       "      <td>0.887098</td>\n",
       "      <td>-1.362712</td>\n",
       "      <td>-0.127271</td>\n",
       "      <td>-0.758739</td>\n",
       "      <td>-91.980193</td>\n",
       "      <td>-20.440678</td>\n",
       "      <td>-1.909060</td>\n",
       "      <td>0.018657</td>\n",
       "    </tr>\n",
       "    <tr>\n",
       "      <th>5106</th>\n",
       "      <td>1396.0</td>\n",
       "      <td>2.0</td>\n",
       "      <td>8.000000</td>\n",
       "      <td>0.0</td>\n",
       "      <td>0</td>\n",
       "      <td>0</td>\n",
       "      <td>0</td>\n",
       "      <td>0</td>\n",
       "      <td>0</td>\n",
       "      <td>0</td>\n",
       "      <td>...</td>\n",
       "      <td>0.598854</td>\n",
       "      <td>1.162833</td>\n",
       "      <td>0.696367</td>\n",
       "      <td>-1.669856</td>\n",
       "      <td>-0.436025</td>\n",
       "      <td>-0.948145</td>\n",
       "      <td>-22.093169</td>\n",
       "      <td>-13.358852</td>\n",
       "      <td>-3.488199</td>\n",
       "      <td>0.005731</td>\n",
       "    </tr>\n",
       "    <tr>\n",
       "      <th>9278</th>\n",
       "      <td>6222.0</td>\n",
       "      <td>0.0</td>\n",
       "      <td>2.000000</td>\n",
       "      <td>0.0</td>\n",
       "      <td>0</td>\n",
       "      <td>0</td>\n",
       "      <td>0</td>\n",
       "      <td>0</td>\n",
       "      <td>1</td>\n",
       "      <td>0</td>\n",
       "      <td>...</td>\n",
       "      <td>0.434748</td>\n",
       "      <td>1.203482</td>\n",
       "      <td>0.523211</td>\n",
       "      <td>-2.300185</td>\n",
       "      <td>-0.911275</td>\n",
       "      <td>-0.968638</td>\n",
       "      <td>-17.764345</td>\n",
       "      <td>-4.600370</td>\n",
       "      <td>-1.822551</td>\n",
       "      <td>0.000321</td>\n",
       "    </tr>\n",
       "    <tr>\n",
       "      <th>773</th>\n",
       "      <td>265.0</td>\n",
       "      <td>1.0</td>\n",
       "      <td>24.000000</td>\n",
       "      <td>0.0</td>\n",
       "      <td>0</td>\n",
       "      <td>0</td>\n",
       "      <td>1</td>\n",
       "      <td>0</td>\n",
       "      <td>0</td>\n",
       "      <td>0</td>\n",
       "      <td>...</td>\n",
       "      <td>2.928302</td>\n",
       "      <td>1.134296</td>\n",
       "      <td>3.321562</td>\n",
       "      <td>-0.341495</td>\n",
       "      <td>0.698937</td>\n",
       "      <td>-0.744647</td>\n",
       "      <td>-47.197261</td>\n",
       "      <td>-8.195876</td>\n",
       "      <td>16.774484</td>\n",
       "      <td>0.090566</td>\n",
       "    </tr>\n",
       "    <tr>\n",
       "      <th>2344</th>\n",
       "      <td>9839.0</td>\n",
       "      <td>0.0</td>\n",
       "      <td>4.000000</td>\n",
       "      <td>0.0</td>\n",
       "      <td>0</td>\n",
       "      <td>0</td>\n",
       "      <td>0</td>\n",
       "      <td>0</td>\n",
       "      <td>0</td>\n",
       "      <td>0</td>\n",
       "      <td>...</td>\n",
       "      <td>0.731070</td>\n",
       "      <td>1.135786</td>\n",
       "      <td>0.830339</td>\n",
       "      <td>-1.367858</td>\n",
       "      <td>-0.204327</td>\n",
       "      <td>-0.971008</td>\n",
       "      <td>-41.678393</td>\n",
       "      <td>-5.471431</td>\n",
       "      <td>-0.817308</td>\n",
       "      <td>0.000407</td>\n",
       "    </tr>\n",
       "    <tr>\n",
       "      <th>175</th>\n",
       "      <td>5122.0</td>\n",
       "      <td>0.0</td>\n",
       "      <td>62.000000</td>\n",
       "      <td>0.0</td>\n",
       "      <td>0</td>\n",
       "      <td>0</td>\n",
       "      <td>0</td>\n",
       "      <td>0</td>\n",
       "      <td>0</td>\n",
       "      <td>0</td>\n",
       "      <td>...</td>\n",
       "      <td>0.505467</td>\n",
       "      <td>1.147444</td>\n",
       "      <td>0.579995</td>\n",
       "      <td>-1.978370</td>\n",
       "      <td>-0.724154</td>\n",
       "      <td>-0.786050</td>\n",
       "      <td>-11.273830</td>\n",
       "      <td>-122.658942</td>\n",
       "      <td>-44.897520</td>\n",
       "      <td>0.012105</td>\n",
       "    </tr>\n",
       "  </tbody>\n",
       "</table>\n",
       "<p>10 rows × 64 columns</p>\n",
       "</div>"
      ],
      "text/plain": [
       "      Ranking  Price Range  Number of Reviews  Rating  \\\n",
       "3710   2425.0          0.0          75.197479     0.0   \n",
       "6428     85.0          2.0          74.000000     0.0   \n",
       "4650   2270.0          2.0          35.000000     0.0   \n",
       "1512   1475.0          0.0           7.000000     0.0   \n",
       "8623    804.0          2.0          15.000000     0.0   \n",
       "5106   1396.0          2.0           8.000000     0.0   \n",
       "9278   6222.0          0.0           2.000000     0.0   \n",
       "773     265.0          1.0          24.000000     0.0   \n",
       "2344   9839.0          0.0           4.000000     0.0   \n",
       "175    5122.0          0.0          62.000000     0.0   \n",
       "\n",
       "      Number_of_Reviews_isNAN  Amsterdam  Athens  Barcelona  Berlin  \\\n",
       "3710                        1          0       0          0       0   \n",
       "6428                        0          0       0          0       0   \n",
       "4650                        0          0       0          0       0   \n",
       "1512                        0          0       0          0       0   \n",
       "8623                        0          0       0          0       0   \n",
       "5106                        0          0       0          0       0   \n",
       "9278                        0          0       0          0       1   \n",
       "773                         0          0       1          0       0   \n",
       "2344                        0          0       0          0       0   \n",
       "175                         0          0       0          0       0   \n",
       "\n",
       "      Bratislava  ...  Rank_in_town_new  Mean_Rank_Count_rest  \\\n",
       "3710           0  ...          0.425979              1.197950   \n",
       "6428           0  ...          5.741176              1.132315   \n",
       "4650           0  ...          0.455066              1.197950   \n",
       "1512           0  ...          0.692203              1.193988   \n",
       "8623           0  ...          0.733831              1.208860   \n",
       "5106           0  ...          0.598854              1.162833   \n",
       "9278           0  ...          0.434748              1.203482   \n",
       "773            0  ...          2.928302              1.134296   \n",
       "2344           0  ...          0.731070              1.135786   \n",
       "175            0  ...          0.505467              1.147444   \n",
       "\n",
       "      Mean_Rank_to_Rank  Otnosit_Rank_town  Otnosit_Rank_to_mean  \\\n",
       "3710           0.510302          -2.347531             -0.959624   \n",
       "6428           6.500820          -0.174180              0.846173   \n",
       "4650           0.545146          -2.197483             -0.834370   \n",
       "1512           0.826483          -1.444662             -0.209947   \n",
       "8623           0.887098          -1.362712             -0.127271   \n",
       "5106           0.696367          -1.669856             -0.436025   \n",
       "9278           0.523211          -2.300185             -0.911275   \n",
       "773            3.321562          -0.341495              0.698937   \n",
       "2344           0.830339          -1.367858             -0.204327   \n",
       "175            0.579995          -1.978370             -0.724154   \n",
       "\n",
       "      Otnosit_Reviews_to_mean  Plotn_Otnosit_Rank_town  Otnosit_Rank_town_NoR  \\\n",
       "3710                 0.000000               -21.788596            -176.528448   \n",
       "6428                -0.260032               -85.165295             -12.889344   \n",
       "4650                -0.534559               -23.276364             -76.911907   \n",
       "1512                -0.955886               -23.103587             -10.112635   \n",
       "8623                -0.758739               -91.980193             -20.440678   \n",
       "5106                -0.948145               -22.093169             -13.358852   \n",
       "9278                -0.968638               -17.764345              -4.600370   \n",
       "773                 -0.744647               -47.197261              -8.195876   \n",
       "2344                -0.971008               -41.678393              -5.471431   \n",
       "175                 -0.786050               -11.273830            -122.658942   \n",
       "\n",
       "      Otnosit_Rant_mean_NoR  NoR_Ranking  \n",
       "3710             -72.161330     0.031009  \n",
       "6428              62.616820     0.870588  \n",
       "4650             -29.202949     0.015419  \n",
       "1512              -1.469629     0.004746  \n",
       "8623              -1.909060     0.018657  \n",
       "5106              -3.488199     0.005731  \n",
       "9278              -1.822551     0.000321  \n",
       "773               16.774484     0.090566  \n",
       "2344              -0.817308     0.000407  \n",
       "175              -44.897520     0.012105  \n",
       "\n",
       "[10 rows x 64 columns]"
      ]
     },
     "execution_count": 69,
     "metadata": {},
     "output_type": "execute_result"
    }
   ],
   "source": [
    "test_data.sample(10)"
   ]
  },
  {
   "cell_type": "code",
   "execution_count": 70,
   "metadata": {
    "execution": {
     "iopub.execute_input": "2021-09-19T18:31:23.998315Z",
     "iopub.status.busy": "2021-09-19T18:31:23.997849Z",
     "iopub.status.idle": "2021-09-19T18:31:24.005177Z",
     "shell.execute_reply": "2021-09-19T18:31:24.004218Z",
     "shell.execute_reply.started": "2021-09-19T18:31:23.998274Z"
    }
   },
   "outputs": [],
   "source": [
    "test_data = test_data.drop(['Rating'], axis=1)"
   ]
  },
  {
   "cell_type": "code",
   "execution_count": 71,
   "metadata": {
    "execution": {
     "iopub.execute_input": "2021-09-19T18:31:24.679711Z",
     "iopub.status.busy": "2021-09-19T18:31:24.679388Z",
     "iopub.status.idle": "2021-09-19T18:31:24.694577Z",
     "shell.execute_reply": "2021-09-19T18:31:24.693295Z",
     "shell.execute_reply.started": "2021-09-19T18:31:24.679656Z"
    }
   },
   "outputs": [
    {
     "data": {
      "text/html": [
       "<div>\n",
       "<style scoped>\n",
       "    .dataframe tbody tr th:only-of-type {\n",
       "        vertical-align: middle;\n",
       "    }\n",
       "\n",
       "    .dataframe tbody tr th {\n",
       "        vertical-align: top;\n",
       "    }\n",
       "\n",
       "    .dataframe thead th {\n",
       "        text-align: right;\n",
       "    }\n",
       "</style>\n",
       "<table border=\"1\" class=\"dataframe\">\n",
       "  <thead>\n",
       "    <tr style=\"text-align: right;\">\n",
       "      <th></th>\n",
       "      <th>Restaurant_id</th>\n",
       "      <th>Rating</th>\n",
       "    </tr>\n",
       "  </thead>\n",
       "  <tbody>\n",
       "    <tr>\n",
       "      <th>0</th>\n",
       "      <td>id_0</td>\n",
       "      <td>2.0</td>\n",
       "    </tr>\n",
       "    <tr>\n",
       "      <th>1</th>\n",
       "      <td>id_1</td>\n",
       "      <td>2.5</td>\n",
       "    </tr>\n",
       "    <tr>\n",
       "      <th>2</th>\n",
       "      <td>id_2</td>\n",
       "      <td>4.0</td>\n",
       "    </tr>\n",
       "    <tr>\n",
       "      <th>3</th>\n",
       "      <td>id_3</td>\n",
       "      <td>1.0</td>\n",
       "    </tr>\n",
       "    <tr>\n",
       "      <th>4</th>\n",
       "      <td>id_4</td>\n",
       "      <td>4.0</td>\n",
       "    </tr>\n",
       "    <tr>\n",
       "      <th>...</th>\n",
       "      <td>...</td>\n",
       "      <td>...</td>\n",
       "    </tr>\n",
       "    <tr>\n",
       "      <th>9995</th>\n",
       "      <td>id_9995</td>\n",
       "      <td>3.0</td>\n",
       "    </tr>\n",
       "    <tr>\n",
       "      <th>9996</th>\n",
       "      <td>id_9996</td>\n",
       "      <td>1.5</td>\n",
       "    </tr>\n",
       "    <tr>\n",
       "      <th>9997</th>\n",
       "      <td>id_9997</td>\n",
       "      <td>4.5</td>\n",
       "    </tr>\n",
       "    <tr>\n",
       "      <th>9998</th>\n",
       "      <td>id_9998</td>\n",
       "      <td>1.0</td>\n",
       "    </tr>\n",
       "    <tr>\n",
       "      <th>9999</th>\n",
       "      <td>id_9999</td>\n",
       "      <td>2.5</td>\n",
       "    </tr>\n",
       "  </tbody>\n",
       "</table>\n",
       "<p>10000 rows × 2 columns</p>\n",
       "</div>"
      ],
      "text/plain": [
       "     Restaurant_id  Rating\n",
       "0             id_0     2.0\n",
       "1             id_1     2.5\n",
       "2             id_2     4.0\n",
       "3             id_3     1.0\n",
       "4             id_4     4.0\n",
       "...            ...     ...\n",
       "9995       id_9995     3.0\n",
       "9996       id_9996     1.5\n",
       "9997       id_9997     4.5\n",
       "9998       id_9998     1.0\n",
       "9999       id_9999     2.5\n",
       "\n",
       "[10000 rows x 2 columns]"
      ]
     },
     "execution_count": 71,
     "metadata": {},
     "output_type": "execute_result"
    }
   ],
   "source": [
    "sample_submission"
   ]
  },
  {
   "cell_type": "code",
   "execution_count": 72,
   "metadata": {
    "execution": {
     "iopub.execute_input": "2021-09-19T18:31:27.66253Z",
     "iopub.status.busy": "2021-09-19T18:31:27.662182Z",
     "iopub.status.idle": "2021-09-19T18:31:27.875664Z",
     "shell.execute_reply": "2021-09-19T18:31:27.874931Z",
     "shell.execute_reply.started": "2021-09-19T18:31:27.662473Z"
    }
   },
   "outputs": [
    {
     "name": "stderr",
     "output_type": "stream",
     "text": [
      "[Parallel(n_jobs=4)]: Using backend ThreadingBackend with 4 concurrent workers.\n",
      "[Parallel(n_jobs=4)]: Done  42 tasks      | elapsed:    0.1s\n",
      "[Parallel(n_jobs=4)]: Done 100 out of 100 | elapsed:    0.1s finished\n"
     ]
    }
   ],
   "source": [
    "predict_submission = model.predict(test_data)"
   ]
  },
  {
   "cell_type": "code",
   "execution_count": 73,
   "metadata": {
    "execution": {
     "iopub.execute_input": "2021-09-19T18:31:28.049144Z",
     "iopub.status.busy": "2021-09-19T18:31:28.048815Z",
     "iopub.status.idle": "2021-09-19T18:31:28.056104Z",
     "shell.execute_reply": "2021-09-19T18:31:28.054875Z",
     "shell.execute_reply.started": "2021-09-19T18:31:28.049104Z"
    }
   },
   "outputs": [
    {
     "data": {
      "text/plain": [
       "array([3.1  , 4.25 , 4.385, ..., 3.   , 4.46 , 4.395])"
      ]
     },
     "execution_count": 73,
     "metadata": {},
     "output_type": "execute_result"
    }
   ],
   "source": [
    "predict_submission"
   ]
  },
  {
   "cell_type": "code",
   "execution_count": 74,
   "metadata": {
    "execution": {
     "iopub.execute_input": "2021-09-19T18:31:28.492463Z",
     "iopub.status.busy": "2021-09-19T18:31:28.491967Z",
     "iopub.status.idle": "2021-09-19T18:31:28.534812Z",
     "shell.execute_reply": "2021-09-19T18:31:28.534102Z",
     "shell.execute_reply.started": "2021-09-19T18:31:28.49242Z"
    }
   },
   "outputs": [],
   "source": [
    "for i in range(len(predict_submission)):\n",
    "    predict_submission[i] = rating(predict_submission[i])"
   ]
  },
  {
   "cell_type": "code",
   "execution_count": 75,
   "metadata": {
    "execution": {
     "iopub.execute_input": "2021-09-19T18:31:28.978455Z",
     "iopub.status.busy": "2021-09-19T18:31:28.977937Z",
     "iopub.status.idle": "2021-09-19T18:31:28.984088Z",
     "shell.execute_reply": "2021-09-19T18:31:28.983468Z",
     "shell.execute_reply.started": "2021-09-19T18:31:28.978409Z"
    }
   },
   "outputs": [
    {
     "data": {
      "text/plain": [
       "array([3. , 4. , 4.5, ..., 3. , 4.5, 4.5])"
      ]
     },
     "execution_count": 75,
     "metadata": {},
     "output_type": "execute_result"
    }
   ],
   "source": [
    "predict_submission"
   ]
  },
  {
   "cell_type": "code",
   "execution_count": 76,
   "metadata": {
    "execution": {
     "iopub.execute_input": "2021-09-19T18:31:30.578174Z",
     "iopub.status.busy": "2021-09-19T18:31:30.57781Z",
     "iopub.status.idle": "2021-09-19T18:31:31.074357Z",
     "shell.execute_reply": "2021-09-19T18:31:31.073324Z",
     "shell.execute_reply.started": "2021-09-19T18:31:30.578121Z"
    }
   },
   "outputs": [
    {
     "data": {
      "text/html": [
       "<div>\n",
       "<style scoped>\n",
       "    .dataframe tbody tr th:only-of-type {\n",
       "        vertical-align: middle;\n",
       "    }\n",
       "\n",
       "    .dataframe tbody tr th {\n",
       "        vertical-align: top;\n",
       "    }\n",
       "\n",
       "    .dataframe thead th {\n",
       "        text-align: right;\n",
       "    }\n",
       "</style>\n",
       "<table border=\"1\" class=\"dataframe\">\n",
       "  <thead>\n",
       "    <tr style=\"text-align: right;\">\n",
       "      <th></th>\n",
       "      <th>Restaurant_id</th>\n",
       "      <th>Rating</th>\n",
       "    </tr>\n",
       "  </thead>\n",
       "  <tbody>\n",
       "    <tr>\n",
       "      <th>0</th>\n",
       "      <td>id_0</td>\n",
       "      <td>3.0</td>\n",
       "    </tr>\n",
       "    <tr>\n",
       "      <th>1</th>\n",
       "      <td>id_1</td>\n",
       "      <td>4.0</td>\n",
       "    </tr>\n",
       "    <tr>\n",
       "      <th>2</th>\n",
       "      <td>id_2</td>\n",
       "      <td>4.5</td>\n",
       "    </tr>\n",
       "    <tr>\n",
       "      <th>3</th>\n",
       "      <td>id_3</td>\n",
       "      <td>4.5</td>\n",
       "    </tr>\n",
       "    <tr>\n",
       "      <th>4</th>\n",
       "      <td>id_4</td>\n",
       "      <td>4.5</td>\n",
       "    </tr>\n",
       "    <tr>\n",
       "      <th>5</th>\n",
       "      <td>id_5</td>\n",
       "      <td>4.5</td>\n",
       "    </tr>\n",
       "    <tr>\n",
       "      <th>6</th>\n",
       "      <td>id_6</td>\n",
       "      <td>2.0</td>\n",
       "    </tr>\n",
       "    <tr>\n",
       "      <th>7</th>\n",
       "      <td>id_7</td>\n",
       "      <td>2.5</td>\n",
       "    </tr>\n",
       "    <tr>\n",
       "      <th>8</th>\n",
       "      <td>id_8</td>\n",
       "      <td>4.5</td>\n",
       "    </tr>\n",
       "    <tr>\n",
       "      <th>9</th>\n",
       "      <td>id_9</td>\n",
       "      <td>4.5</td>\n",
       "    </tr>\n",
       "  </tbody>\n",
       "</table>\n",
       "</div>"
      ],
      "text/plain": [
       "  Restaurant_id  Rating\n",
       "0          id_0     3.0\n",
       "1          id_1     4.0\n",
       "2          id_2     4.5\n",
       "3          id_3     4.5\n",
       "4          id_4     4.5\n",
       "5          id_5     4.5\n",
       "6          id_6     2.0\n",
       "7          id_7     2.5\n",
       "8          id_8     4.5\n",
       "9          id_9     4.5"
      ]
     },
     "execution_count": 76,
     "metadata": {},
     "output_type": "execute_result"
    }
   ],
   "source": [
    "sample_submission['Rating'] = predict_submission\n",
    "sample_submission.to_csv('submission.csv', index=False)\n",
    "sample_submission.head(10)"
   ]
  },
  {
   "cell_type": "code",
   "execution_count": 77,
   "metadata": {
    "execution": {
     "iopub.execute_input": "2021-09-19T18:31:31.07698Z",
     "iopub.status.busy": "2021-09-19T18:31:31.076295Z",
     "iopub.status.idle": "2021-09-19T18:31:31.088668Z",
     "shell.execute_reply": "2021-09-19T18:31:31.087953Z",
     "shell.execute_reply.started": "2021-09-19T18:31:31.076767Z"
    }
   },
   "outputs": [
    {
     "data": {
      "text/html": [
       "<div>\n",
       "<style scoped>\n",
       "    .dataframe tbody tr th:only-of-type {\n",
       "        vertical-align: middle;\n",
       "    }\n",
       "\n",
       "    .dataframe tbody tr th {\n",
       "        vertical-align: top;\n",
       "    }\n",
       "\n",
       "    .dataframe thead th {\n",
       "        text-align: right;\n",
       "    }\n",
       "</style>\n",
       "<table border=\"1\" class=\"dataframe\">\n",
       "  <thead>\n",
       "    <tr style=\"text-align: right;\">\n",
       "      <th></th>\n",
       "      <th>Restaurant_id</th>\n",
       "      <th>Rating</th>\n",
       "    </tr>\n",
       "  </thead>\n",
       "  <tbody>\n",
       "    <tr>\n",
       "      <th>0</th>\n",
       "      <td>id_0</td>\n",
       "      <td>3.0</td>\n",
       "    </tr>\n",
       "    <tr>\n",
       "      <th>1</th>\n",
       "      <td>id_1</td>\n",
       "      <td>4.0</td>\n",
       "    </tr>\n",
       "    <tr>\n",
       "      <th>2</th>\n",
       "      <td>id_2</td>\n",
       "      <td>4.5</td>\n",
       "    </tr>\n",
       "    <tr>\n",
       "      <th>3</th>\n",
       "      <td>id_3</td>\n",
       "      <td>4.5</td>\n",
       "    </tr>\n",
       "    <tr>\n",
       "      <th>4</th>\n",
       "      <td>id_4</td>\n",
       "      <td>4.5</td>\n",
       "    </tr>\n",
       "    <tr>\n",
       "      <th>5</th>\n",
       "      <td>id_5</td>\n",
       "      <td>4.5</td>\n",
       "    </tr>\n",
       "    <tr>\n",
       "      <th>6</th>\n",
       "      <td>id_6</td>\n",
       "      <td>2.0</td>\n",
       "    </tr>\n",
       "    <tr>\n",
       "      <th>7</th>\n",
       "      <td>id_7</td>\n",
       "      <td>2.5</td>\n",
       "    </tr>\n",
       "    <tr>\n",
       "      <th>8</th>\n",
       "      <td>id_8</td>\n",
       "      <td>4.5</td>\n",
       "    </tr>\n",
       "    <tr>\n",
       "      <th>9</th>\n",
       "      <td>id_9</td>\n",
       "      <td>4.5</td>\n",
       "    </tr>\n",
       "  </tbody>\n",
       "</table>\n",
       "</div>"
      ],
      "text/plain": [
       "  Restaurant_id  Rating\n",
       "0          id_0     3.0\n",
       "1          id_1     4.0\n",
       "2          id_2     4.5\n",
       "3          id_3     4.5\n",
       "4          id_4     4.5\n",
       "5          id_5     4.5\n",
       "6          id_6     2.0\n",
       "7          id_7     2.5\n",
       "8          id_8     4.5\n",
       "9          id_9     4.5"
      ]
     },
     "execution_count": 77,
     "metadata": {},
     "output_type": "execute_result"
    }
   ],
   "source": [
    "sample_submission.head(10)"
   ]
  },
  {
   "cell_type": "code",
   "execution_count": null,
   "metadata": {},
   "outputs": [],
   "source": []
  }
 ],
 "metadata": {
  "kernelspec": {
   "display_name": "Python 3",
   "language": "python",
   "name": "python3"
  },
  "language_info": {
   "codemirror_mode": {
    "name": "ipython",
    "version": 3
   },
   "file_extension": ".py",
   "mimetype": "text/x-python",
   "name": "python",
   "nbconvert_exporter": "python",
   "pygments_lexer": "ipython3",
   "version": "3.8.8"
  },
  "varInspector": {
   "cols": {
    "lenName": 16,
    "lenType": 16,
    "lenVar": 40
   },
   "kernels_config": {
    "python": {
     "delete_cmd_postfix": "",
     "delete_cmd_prefix": "del ",
     "library": "var_list.py",
     "varRefreshCmd": "print(var_dic_list())"
    },
    "r": {
     "delete_cmd_postfix": ") ",
     "delete_cmd_prefix": "rm(",
     "library": "var_list.r",
     "varRefreshCmd": "cat(var_dic_list()) "
    }
   },
   "types_to_exclude": [
    "module",
    "function",
    "builtin_function_or_method",
    "instance",
    "_Feature"
   ],
   "window_display": false
  }
 },
 "nbformat": 4,
 "nbformat_minor": 4
}
