{
 "cells": [
  {
   "cell_type": "markdown",
   "id": "f4c70339",
   "metadata": {},
   "source": [
    "# Проект \"Авиарейсы без потерь\""
   ]
  },
  {
   "cell_type": "markdown",
   "id": "ad1b904c",
   "metadata": {},
   "source": [
    "Цель проекта - отобрать среди рейсов за зимнее время 2017 года с вылетом из Анапы самые малоприбыльные, от которых можно отказаться.\n",
    "С помощью SQL уже сформирован csv-документ с необходимыми для анализа данными по этим рейсам.\n",
    "Дальнейший анализ - в данном ноутбуке."
   ]
  },
  {
   "cell_type": "code",
   "execution_count": 77,
   "id": "892f83b6",
   "metadata": {},
   "outputs": [],
   "source": [
    "# библиоткеи для анализа данных\n",
    "import pandas as pd\n",
    "import numpy as np\n",
    "\n",
    "# библиотека для работы с датами\n",
    "from datetime import datetime\n",
    "\n",
    "# библиотеки для визуализации\n",
    "import matplotlib.pyplot as plt\n",
    "import seaborn as sns\n",
    "\n",
    "sns.set()\n",
    "%matplotlib inline"
   ]
  },
  {
   "cell_type": "code",
   "execution_count": 78,
   "id": "dc82138f",
   "metadata": {},
   "outputs": [],
   "source": [
    "# Подгружаем сформированный с помощью SQL датасет\n",
    "data = pd.read_csv('data_Anapa_SQL.csv')"
   ]
  },
  {
   "cell_type": "code",
   "execution_count": 79,
   "id": "54d138de",
   "metadata": {
    "scrolled": true
   },
   "outputs": [
    {
     "name": "stdout",
     "output_type": "stream",
     "text": [
      "<class 'pandas.core.frame.DataFrame'>\n",
      "RangeIndex: 127 entries, 0 to 126\n",
      "Data columns (total 9 columns):\n",
      " #   Column                 Non-Null Count  Dtype  \n",
      "---  ------                 --------------  -----  \n",
      " 0   flight_id              127 non-null    int64  \n",
      " 1   arrival_city           127 non-null    object \n",
      " 2   date_departure_planed  127 non-null    object \n",
      " 3   sold_tickets           127 non-null    int64  \n",
      " 4   money_sold_tickets     118 non-null    float64\n",
      " 5   day_of_week            127 non-null    float64\n",
      " 6   flight_minutes_fact    127 non-null    float64\n",
      " 7   departure_delay        127 non-null    float64\n",
      " 8   aircraft_model         127 non-null    object \n",
      "dtypes: float64(4), int64(2), object(3)\n",
      "memory usage: 9.1+ KB\n"
     ]
    },
    {
     "data": {
      "text/html": [
       "<div>\n",
       "<style scoped>\n",
       "    .dataframe tbody tr th:only-of-type {\n",
       "        vertical-align: middle;\n",
       "    }\n",
       "\n",
       "    .dataframe tbody tr th {\n",
       "        vertical-align: top;\n",
       "    }\n",
       "\n",
       "    .dataframe thead th {\n",
       "        text-align: right;\n",
       "    }\n",
       "</style>\n",
       "<table border=\"1\" class=\"dataframe\">\n",
       "  <thead>\n",
       "    <tr style=\"text-align: right;\">\n",
       "      <th></th>\n",
       "      <th>flight_id</th>\n",
       "      <th>arrival_city</th>\n",
       "      <th>date_departure_planed</th>\n",
       "      <th>sold_tickets</th>\n",
       "      <th>money_sold_tickets</th>\n",
       "      <th>day_of_week</th>\n",
       "      <th>flight_minutes_fact</th>\n",
       "      <th>departure_delay</th>\n",
       "      <th>aircraft_model</th>\n",
       "    </tr>\n",
       "  </thead>\n",
       "  <tbody>\n",
       "    <tr>\n",
       "      <th>85</th>\n",
       "      <td>136666</td>\n",
       "      <td>Belgorod</td>\n",
       "      <td>2017-02-09</td>\n",
       "      <td>87</td>\n",
       "      <td>664500.0</td>\n",
       "      <td>4.0</td>\n",
       "      <td>50.0</td>\n",
       "      <td>1.0</td>\n",
       "      <td>Sukhoi Superjet-100</td>\n",
       "    </tr>\n",
       "    <tr>\n",
       "      <th>8</th>\n",
       "      <td>136819</td>\n",
       "      <td>Belgorod</td>\n",
       "      <td>2017-01-04</td>\n",
       "      <td>96</td>\n",
       "      <td>759000.0</td>\n",
       "      <td>3.0</td>\n",
       "      <td>50.0</td>\n",
       "      <td>4.0</td>\n",
       "      <td>Sukhoi Superjet-100</td>\n",
       "    </tr>\n",
       "    <tr>\n",
       "      <th>111</th>\n",
       "      <td>136612</td>\n",
       "      <td>Belgorod</td>\n",
       "      <td>2017-02-21</td>\n",
       "      <td>94</td>\n",
       "      <td>746400.0</td>\n",
       "      <td>2.0</td>\n",
       "      <td>50.0</td>\n",
       "      <td>2.0</td>\n",
       "      <td>Sukhoi Superjet-100</td>\n",
       "    </tr>\n",
       "    <tr>\n",
       "      <th>61</th>\n",
       "      <td>136729</td>\n",
       "      <td>Belgorod</td>\n",
       "      <td>2017-01-29</td>\n",
       "      <td>88</td>\n",
       "      <td>695400.0</td>\n",
       "      <td>7.0</td>\n",
       "      <td>50.0</td>\n",
       "      <td>4.0</td>\n",
       "      <td>Sukhoi Superjet-100</td>\n",
       "    </tr>\n",
       "    <tr>\n",
       "      <th>63</th>\n",
       "      <td>136642</td>\n",
       "      <td>Belgorod</td>\n",
       "      <td>2017-01-30</td>\n",
       "      <td>64</td>\n",
       "      <td>531000.0</td>\n",
       "      <td>1.0</td>\n",
       "      <td>49.0</td>\n",
       "      <td>3.0</td>\n",
       "      <td>Sukhoi Superjet-100</td>\n",
       "    </tr>\n",
       "  </tbody>\n",
       "</table>\n",
       "</div>"
      ],
      "text/plain": [
       "     flight_id arrival_city date_departure_planed  sold_tickets  \\\n",
       "85      136666     Belgorod            2017-02-09            87   \n",
       "8       136819     Belgorod            2017-01-04            96   \n",
       "111     136612     Belgorod            2017-02-21            94   \n",
       "61      136729     Belgorod            2017-01-29            88   \n",
       "63      136642     Belgorod            2017-01-30            64   \n",
       "\n",
       "     money_sold_tickets  day_of_week  flight_minutes_fact  departure_delay  \\\n",
       "85             664500.0          4.0                 50.0              1.0   \n",
       "8              759000.0          3.0                 50.0              4.0   \n",
       "111            746400.0          2.0                 50.0              2.0   \n",
       "61             695400.0          7.0                 50.0              4.0   \n",
       "63             531000.0          1.0                 49.0              3.0   \n",
       "\n",
       "          aircraft_model  \n",
       "85   Sukhoi Superjet-100  \n",
       "8    Sukhoi Superjet-100  \n",
       "111  Sukhoi Superjet-100  \n",
       "61   Sukhoi Superjet-100  \n",
       "63   Sukhoi Superjet-100  "
      ]
     },
     "execution_count": 79,
     "metadata": {},
     "output_type": "execute_result"
    }
   ],
   "source": [
    "data.info()\n",
    "data.sample(5)"
   ]
  },
  {
   "cell_type": "code",
   "execution_count": 80,
   "id": "53350aa0",
   "metadata": {},
   "outputs": [
    {
     "name": "stderr",
     "output_type": "stream",
     "text": [
      "<ipython-input-80-faf89e3b3bc7>:4: SettingWithCopyWarning: \n",
      "A value is trying to be set on a copy of a slice from a DataFrame\n",
      "\n",
      "See the caveats in the documentation: https://pandas.pydata.org/pandas-docs/stable/user_guide/indexing.html#returning-a-view-versus-a-copy\n",
      "  data.date_departure_planed[i] = f'{data.date_departure_planed[i].day} - 0{data.date_departure_planed[i].month}'\n"
     ]
    }
   ],
   "source": [
    "# Приводим столбец date_departure_planed к типу datetime \n",
    "data.date_departure_planed = pd.to_datetime(data.date_departure_planed)\n",
    "for i in range(len(data.date_departure_planed)): \n",
    "    data.date_departure_planed[i] = f'{data.date_departure_planed[i].day} - 0{data.date_departure_planed[i].month}'"
   ]
  },
  {
   "cell_type": "markdown",
   "id": "8e2b7763",
   "metadata": {},
   "source": [
    "Важный момент: среди данных не представлены вылеты из Анапы в декабре в 2017, а только за январь-февраль 2017. Поэтому будем рассматривать зимнее время как январь-февраль"
   ]
  },
  {
   "cell_type": "code",
   "execution_count": 81,
   "id": "f9a5287a",
   "metadata": {},
   "outputs": [
    {
     "data": {
      "text/html": [
       "<div>\n",
       "<style scoped>\n",
       "    .dataframe tbody tr th:only-of-type {\n",
       "        vertical-align: middle;\n",
       "    }\n",
       "\n",
       "    .dataframe tbody tr th {\n",
       "        vertical-align: top;\n",
       "    }\n",
       "\n",
       "    .dataframe thead th {\n",
       "        text-align: right;\n",
       "    }\n",
       "</style>\n",
       "<table border=\"1\" class=\"dataframe\">\n",
       "  <thead>\n",
       "    <tr style=\"text-align: right;\">\n",
       "      <th></th>\n",
       "      <th>flight_id</th>\n",
       "      <th>arrival_city</th>\n",
       "      <th>date_departure_planed</th>\n",
       "      <th>sold_tickets</th>\n",
       "      <th>money_sold_tickets</th>\n",
       "      <th>day_of_week</th>\n",
       "      <th>flight_minutes_fact</th>\n",
       "      <th>departure_delay</th>\n",
       "      <th>aircraft_model</th>\n",
       "    </tr>\n",
       "  </thead>\n",
       "  <tbody>\n",
       "    <tr>\n",
       "      <th>5</th>\n",
       "      <td>136546</td>\n",
       "      <td>Novokuznetsk</td>\n",
       "      <td>3 - 01</td>\n",
       "      <td>0</td>\n",
       "      <td>NaN</td>\n",
       "      <td>2.0</td>\n",
       "      <td>302.0</td>\n",
       "      <td>3.0</td>\n",
       "      <td>Boeing 737-300</td>\n",
       "    </tr>\n",
       "    <tr>\n",
       "      <th>20</th>\n",
       "      <td>136523</td>\n",
       "      <td>Novokuznetsk</td>\n",
       "      <td>10 - 01</td>\n",
       "      <td>0</td>\n",
       "      <td>NaN</td>\n",
       "      <td>2.0</td>\n",
       "      <td>312.0</td>\n",
       "      <td>4.0</td>\n",
       "      <td>Boeing 737-300</td>\n",
       "    </tr>\n",
       "    <tr>\n",
       "      <th>35</th>\n",
       "      <td>136540</td>\n",
       "      <td>Novokuznetsk</td>\n",
       "      <td>17 - 01</td>\n",
       "      <td>0</td>\n",
       "      <td>NaN</td>\n",
       "      <td>2.0</td>\n",
       "      <td>307.0</td>\n",
       "      <td>4.0</td>\n",
       "      <td>Boeing 737-300</td>\n",
       "    </tr>\n",
       "    <tr>\n",
       "      <th>50</th>\n",
       "      <td>136560</td>\n",
       "      <td>Novokuznetsk</td>\n",
       "      <td>24 - 01</td>\n",
       "      <td>0</td>\n",
       "      <td>NaN</td>\n",
       "      <td>2.0</td>\n",
       "      <td>305.0</td>\n",
       "      <td>3.0</td>\n",
       "      <td>Boeing 737-300</td>\n",
       "    </tr>\n",
       "    <tr>\n",
       "      <th>65</th>\n",
       "      <td>136544</td>\n",
       "      <td>Novokuznetsk</td>\n",
       "      <td>31 - 01</td>\n",
       "      <td>0</td>\n",
       "      <td>NaN</td>\n",
       "      <td>2.0</td>\n",
       "      <td>304.0</td>\n",
       "      <td>0.0</td>\n",
       "      <td>Boeing 737-300</td>\n",
       "    </tr>\n",
       "    <tr>\n",
       "      <th>80</th>\n",
       "      <td>136514</td>\n",
       "      <td>Novokuznetsk</td>\n",
       "      <td>7 - 02</td>\n",
       "      <td>0</td>\n",
       "      <td>NaN</td>\n",
       "      <td>2.0</td>\n",
       "      <td>299.0</td>\n",
       "      <td>4.0</td>\n",
       "      <td>Boeing 737-300</td>\n",
       "    </tr>\n",
       "    <tr>\n",
       "      <th>95</th>\n",
       "      <td>136567</td>\n",
       "      <td>Novokuznetsk</td>\n",
       "      <td>14 - 02</td>\n",
       "      <td>0</td>\n",
       "      <td>NaN</td>\n",
       "      <td>2.0</td>\n",
       "      <td>311.0</td>\n",
       "      <td>2.0</td>\n",
       "      <td>Boeing 737-300</td>\n",
       "    </tr>\n",
       "    <tr>\n",
       "      <th>110</th>\n",
       "      <td>136511</td>\n",
       "      <td>Novokuznetsk</td>\n",
       "      <td>21 - 02</td>\n",
       "      <td>0</td>\n",
       "      <td>NaN</td>\n",
       "      <td>2.0</td>\n",
       "      <td>310.0</td>\n",
       "      <td>5.0</td>\n",
       "      <td>Boeing 737-300</td>\n",
       "    </tr>\n",
       "    <tr>\n",
       "      <th>125</th>\n",
       "      <td>136513</td>\n",
       "      <td>Novokuznetsk</td>\n",
       "      <td>28 - 02</td>\n",
       "      <td>0</td>\n",
       "      <td>NaN</td>\n",
       "      <td>2.0</td>\n",
       "      <td>310.0</td>\n",
       "      <td>3.0</td>\n",
       "      <td>Boeing 737-300</td>\n",
       "    </tr>\n",
       "  </tbody>\n",
       "</table>\n",
       "</div>"
      ],
      "text/plain": [
       "     flight_id  arrival_city date_departure_planed  sold_tickets  \\\n",
       "5       136546  Novokuznetsk                3 - 01             0   \n",
       "20      136523  Novokuznetsk               10 - 01             0   \n",
       "35      136540  Novokuznetsk               17 - 01             0   \n",
       "50      136560  Novokuznetsk               24 - 01             0   \n",
       "65      136544  Novokuznetsk               31 - 01             0   \n",
       "80      136514  Novokuznetsk                7 - 02             0   \n",
       "95      136567  Novokuznetsk               14 - 02             0   \n",
       "110     136511  Novokuznetsk               21 - 02             0   \n",
       "125     136513  Novokuznetsk               28 - 02             0   \n",
       "\n",
       "     money_sold_tickets  day_of_week  flight_minutes_fact  departure_delay  \\\n",
       "5                   NaN          2.0                302.0              3.0   \n",
       "20                  NaN          2.0                312.0              4.0   \n",
       "35                  NaN          2.0                307.0              4.0   \n",
       "50                  NaN          2.0                305.0              3.0   \n",
       "65                  NaN          2.0                304.0              0.0   \n",
       "80                  NaN          2.0                299.0              4.0   \n",
       "95                  NaN          2.0                311.0              2.0   \n",
       "110                 NaN          2.0                310.0              5.0   \n",
       "125                 NaN          2.0                310.0              3.0   \n",
       "\n",
       "     aircraft_model  \n",
       "5    Boeing 737-300  \n",
       "20   Boeing 737-300  \n",
       "35   Boeing 737-300  \n",
       "50   Boeing 737-300  \n",
       "65   Boeing 737-300  \n",
       "80   Boeing 737-300  \n",
       "95   Boeing 737-300  \n",
       "110  Boeing 737-300  \n",
       "125  Boeing 737-300  "
      ]
     },
     "execution_count": 81,
     "metadata": {},
     "output_type": "execute_result"
    }
   ],
   "source": [
    "data.query('sold_tickets == 0 or arrival_city == \"Novokuznetsk\"')"
   ]
  },
  {
   "cell_type": "markdown",
   "id": "b4cb61a0",
   "metadata": {},
   "source": [
    "Видно, что имеются пропуски или нулевые значения sold_tickets, money_sold_tickets. \n",
    "Покажем, что такая ситуация имеется во всех вылетах в Новокузнецк:"
   ]
  },
  {
   "cell_type": "markdown",
   "id": "5de1684b",
   "metadata": {},
   "source": [
    "Промежуточный итог - вылеты в Новокузнецк не имет данных о количестве проданных билетов и о вырученных средствах с продажи билетов. Поэтому дальнейший анализ проводим без этих вылетов (9 штук)."
   ]
  },
  {
   "cell_type": "code",
   "execution_count": 82,
   "id": "52ede51d",
   "metadata": {},
   "outputs": [
    {
     "data": {
      "text/html": [
       "<div>\n",
       "<style scoped>\n",
       "    .dataframe tbody tr th:only-of-type {\n",
       "        vertical-align: middle;\n",
       "    }\n",
       "\n",
       "    .dataframe tbody tr th {\n",
       "        vertical-align: top;\n",
       "    }\n",
       "\n",
       "    .dataframe thead th {\n",
       "        text-align: right;\n",
       "    }\n",
       "</style>\n",
       "<table border=\"1\" class=\"dataframe\">\n",
       "  <thead>\n",
       "    <tr style=\"text-align: right;\">\n",
       "      <th></th>\n",
       "      <th>flight_id</th>\n",
       "      <th>arrival_city</th>\n",
       "      <th>date_departure_planed</th>\n",
       "      <th>sold_tickets</th>\n",
       "      <th>money_sold_tickets</th>\n",
       "      <th>day_of_week</th>\n",
       "      <th>flight_minutes_fact</th>\n",
       "      <th>departure_delay</th>\n",
       "      <th>aircraft_model</th>\n",
       "    </tr>\n",
       "  </thead>\n",
       "  <tbody>\n",
       "    <tr>\n",
       "      <th>0</th>\n",
       "      <td>136420</td>\n",
       "      <td>Moscow</td>\n",
       "      <td>1 - 01</td>\n",
       "      <td>104</td>\n",
       "      <td>1542000.0</td>\n",
       "      <td>7.0</td>\n",
       "      <td>98.0</td>\n",
       "      <td>4.0</td>\n",
       "      <td>Boeing 737-300</td>\n",
       "    </tr>\n",
       "    <tr>\n",
       "      <th>1</th>\n",
       "      <td>136661</td>\n",
       "      <td>Belgorod</td>\n",
       "      <td>1 - 01</td>\n",
       "      <td>96</td>\n",
       "      <td>759000.0</td>\n",
       "      <td>7.0</td>\n",
       "      <td>50.0</td>\n",
       "      <td>2.0</td>\n",
       "      <td>Sukhoi Superjet-100</td>\n",
       "    </tr>\n",
       "    <tr>\n",
       "      <th>2</th>\n",
       "      <td>136458</td>\n",
       "      <td>Moscow</td>\n",
       "      <td>2 - 01</td>\n",
       "      <td>110</td>\n",
       "      <td>1568800.0</td>\n",
       "      <td>1.0</td>\n",
       "      <td>99.0</td>\n",
       "      <td>2.0</td>\n",
       "      <td>Boeing 737-300</td>\n",
       "    </tr>\n",
       "    <tr>\n",
       "      <th>3</th>\n",
       "      <td>136936</td>\n",
       "      <td>Belgorod</td>\n",
       "      <td>2 - 01</td>\n",
       "      <td>82</td>\n",
       "      <td>632400.0</td>\n",
       "      <td>1.0</td>\n",
       "      <td>50.0</td>\n",
       "      <td>3.0</td>\n",
       "      <td>Sukhoi Superjet-100</td>\n",
       "    </tr>\n",
       "    <tr>\n",
       "      <th>4</th>\n",
       "      <td>136119</td>\n",
       "      <td>Moscow</td>\n",
       "      <td>3 - 01</td>\n",
       "      <td>113</td>\n",
       "      <td>1653000.0</td>\n",
       "      <td>2.0</td>\n",
       "      <td>101.0</td>\n",
       "      <td>3.0</td>\n",
       "      <td>Boeing 737-300</td>\n",
       "    </tr>\n",
       "    <tr>\n",
       "      <th>...</th>\n",
       "      <td>...</td>\n",
       "      <td>...</td>\n",
       "      <td>...</td>\n",
       "      <td>...</td>\n",
       "      <td>...</td>\n",
       "      <td>...</td>\n",
       "      <td>...</td>\n",
       "      <td>...</td>\n",
       "      <td>...</td>\n",
       "    </tr>\n",
       "    <tr>\n",
       "      <th>121</th>\n",
       "      <td>136802</td>\n",
       "      <td>Belgorod</td>\n",
       "      <td>26 - 02</td>\n",
       "      <td>96</td>\n",
       "      <td>746400.0</td>\n",
       "      <td>7.0</td>\n",
       "      <td>50.0</td>\n",
       "      <td>7.0</td>\n",
       "      <td>Sukhoi Superjet-100</td>\n",
       "    </tr>\n",
       "    <tr>\n",
       "      <th>122</th>\n",
       "      <td>136266</td>\n",
       "      <td>Moscow</td>\n",
       "      <td>27 - 02</td>\n",
       "      <td>108</td>\n",
       "      <td>1566400.0</td>\n",
       "      <td>1.0</td>\n",
       "      <td>100.0</td>\n",
       "      <td>3.0</td>\n",
       "      <td>Boeing 737-300</td>\n",
       "    </tr>\n",
       "    <tr>\n",
       "      <th>123</th>\n",
       "      <td>136953</td>\n",
       "      <td>Belgorod</td>\n",
       "      <td>27 - 02</td>\n",
       "      <td>97</td>\n",
       "      <td>765300.0</td>\n",
       "      <td>1.0</td>\n",
       "      <td>50.0</td>\n",
       "      <td>2.0</td>\n",
       "      <td>Sukhoi Superjet-100</td>\n",
       "    </tr>\n",
       "    <tr>\n",
       "      <th>124</th>\n",
       "      <td>136215</td>\n",
       "      <td>Moscow</td>\n",
       "      <td>28 - 02</td>\n",
       "      <td>114</td>\n",
       "      <td>1664000.0</td>\n",
       "      <td>2.0</td>\n",
       "      <td>100.0</td>\n",
       "      <td>4.0</td>\n",
       "      <td>Boeing 737-300</td>\n",
       "    </tr>\n",
       "    <tr>\n",
       "      <th>126</th>\n",
       "      <td>136844</td>\n",
       "      <td>Belgorod</td>\n",
       "      <td>28 - 02</td>\n",
       "      <td>79</td>\n",
       "      <td>575100.0</td>\n",
       "      <td>2.0</td>\n",
       "      <td>50.0</td>\n",
       "      <td>1.0</td>\n",
       "      <td>Sukhoi Superjet-100</td>\n",
       "    </tr>\n",
       "  </tbody>\n",
       "</table>\n",
       "<p>118 rows × 9 columns</p>\n",
       "</div>"
      ],
      "text/plain": [
       "     flight_id arrival_city date_departure_planed  sold_tickets  \\\n",
       "0       136420       Moscow                1 - 01           104   \n",
       "1       136661     Belgorod                1 - 01            96   \n",
       "2       136458       Moscow                2 - 01           110   \n",
       "3       136936     Belgorod                2 - 01            82   \n",
       "4       136119       Moscow                3 - 01           113   \n",
       "..         ...          ...                   ...           ...   \n",
       "121     136802     Belgorod               26 - 02            96   \n",
       "122     136266       Moscow               27 - 02           108   \n",
       "123     136953     Belgorod               27 - 02            97   \n",
       "124     136215       Moscow               28 - 02           114   \n",
       "126     136844     Belgorod               28 - 02            79   \n",
       "\n",
       "     money_sold_tickets  day_of_week  flight_minutes_fact  departure_delay  \\\n",
       "0             1542000.0          7.0                 98.0              4.0   \n",
       "1              759000.0          7.0                 50.0              2.0   \n",
       "2             1568800.0          1.0                 99.0              2.0   \n",
       "3              632400.0          1.0                 50.0              3.0   \n",
       "4             1653000.0          2.0                101.0              3.0   \n",
       "..                  ...          ...                  ...              ...   \n",
       "121            746400.0          7.0                 50.0              7.0   \n",
       "122           1566400.0          1.0                100.0              3.0   \n",
       "123            765300.0          1.0                 50.0              2.0   \n",
       "124           1664000.0          2.0                100.0              4.0   \n",
       "126            575100.0          2.0                 50.0              1.0   \n",
       "\n",
       "          aircraft_model  \n",
       "0         Boeing 737-300  \n",
       "1    Sukhoi Superjet-100  \n",
       "2         Boeing 737-300  \n",
       "3    Sukhoi Superjet-100  \n",
       "4         Boeing 737-300  \n",
       "..                   ...  \n",
       "121  Sukhoi Superjet-100  \n",
       "122       Boeing 737-300  \n",
       "123  Sukhoi Superjet-100  \n",
       "124       Boeing 737-300  \n",
       "126  Sukhoi Superjet-100  \n",
       "\n",
       "[118 rows x 9 columns]"
      ]
     },
     "execution_count": 82,
     "metadata": {},
     "output_type": "execute_result"
    }
   ],
   "source": [
    "# Убираем из датасета вылеты в Новокузнецк\n",
    "data.drop([5,20,35,50,65,80,95,110,125], inplace = True)\n",
    "data"
   ]
  },
  {
   "cell_type": "code",
   "execution_count": 83,
   "id": "a5f3c387",
   "metadata": {},
   "outputs": [
    {
     "name": "stdout",
     "output_type": "stream",
     "text": [
      "<class 'pandas.core.frame.DataFrame'>\n",
      "Int64Index: 118 entries, 0 to 126\n",
      "Data columns (total 9 columns):\n",
      " #   Column                 Non-Null Count  Dtype  \n",
      "---  ------                 --------------  -----  \n",
      " 0   flight_id              118 non-null    int64  \n",
      " 1   arrival_city           118 non-null    object \n",
      " 2   date_departure_planed  118 non-null    object \n",
      " 3   sold_tickets           118 non-null    int64  \n",
      " 4   money_sold_tickets     118 non-null    float64\n",
      " 5   day_of_week            118 non-null    float64\n",
      " 6   flight_minutes_fact    118 non-null    float64\n",
      " 7   departure_delay        118 non-null    float64\n",
      " 8   aircraft_model         118 non-null    object \n",
      "dtypes: float64(4), int64(2), object(3)\n",
      "memory usage: 9.2+ KB\n"
     ]
    }
   ],
   "source": [
    "# Проверяем информацию по новому датасету\n",
    "data.info()"
   ]
  },
  {
   "cell_type": "code",
   "execution_count": 84,
   "id": "236a41e0",
   "metadata": {},
   "outputs": [
    {
     "data": {
      "text/plain": [
       "Belgorod    59\n",
       "Moscow      59\n",
       "Name: arrival_city, dtype: int64"
      ]
     },
     "execution_count": 84,
     "metadata": {},
     "output_type": "execute_result"
    }
   ],
   "source": [
    "# В результате будем проводить анализ по 59 вылетам в Москву и 59 в Белгород\n",
    "data.arrival_city.value_counts()"
   ]
  },
  {
   "cell_type": "code",
   "execution_count": 85,
   "id": "29593f49",
   "metadata": {},
   "outputs": [],
   "source": [
    "# Значения в стоблцах № 4, 5, 6, 7 - целочисленные. Приведем их к этому виду\n",
    "data.money_sold_tickets = data.money_sold_tickets.astype(int)\n",
    "data.day_of_week = data.day_of_week.astype(int)\n",
    "data.flight_minutes_fact = data.flight_minutes_fact.astype(int)\n",
    "data.departure_delay = data.departure_delay.astype(int)"
   ]
  },
  {
   "cell_type": "code",
   "execution_count": 86,
   "id": "07e979da",
   "metadata": {
    "scrolled": true
   },
   "outputs": [
    {
     "data": {
      "text/plain": [
       "Boeing 737-300         59\n",
       "Sukhoi Superjet-100    59\n",
       "Name: aircraft_model, dtype: int64"
      ]
     },
     "execution_count": 86,
     "metadata": {},
     "output_type": "execute_result"
    }
   ],
   "source": [
    "# Модели самолетов в датасете\n",
    "data.aircraft_model.value_counts()"
   ]
  },
  {
   "cell_type": "markdown",
   "id": "e456e9c3",
   "metadata": {},
   "source": [
    "Всего в датасете представлено 2 модели самолетов. Ниже будут представлены дополнительные характеристики данных моделей самолетов. Эти данные помогут оценить рентабельность рейсов."
   ]
  },
  {
   "cell_type": "code",
   "execution_count": 87,
   "id": "e6c9bc69",
   "metadata": {},
   "outputs": [
    {
     "data": {
      "text/html": [
       "<div>\n",
       "<style scoped>\n",
       "    .dataframe tbody tr th:only-of-type {\n",
       "        vertical-align: middle;\n",
       "    }\n",
       "\n",
       "    .dataframe tbody tr th {\n",
       "        vertical-align: top;\n",
       "    }\n",
       "\n",
       "    .dataframe thead th {\n",
       "        text-align: right;\n",
       "    }\n",
       "</style>\n",
       "<table border=\"1\" class=\"dataframe\">\n",
       "  <thead>\n",
       "    <tr style=\"text-align: right;\">\n",
       "      <th></th>\n",
       "      <th>aircraft_model</th>\n",
       "      <th>seats</th>\n",
       "      <th>fuel_minute</th>\n",
       "      <th>price_fuel_mean</th>\n",
       "    </tr>\n",
       "  </thead>\n",
       "  <tbody>\n",
       "    <tr>\n",
       "      <th>0</th>\n",
       "      <td>Boeing 737-300</td>\n",
       "      <td>130</td>\n",
       "      <td>40.000000</td>\n",
       "      <td>40.494</td>\n",
       "    </tr>\n",
       "    <tr>\n",
       "      <th>1</th>\n",
       "      <td>Sukhoi Superjet-100</td>\n",
       "      <td>97</td>\n",
       "      <td>28.333333</td>\n",
       "      <td>40.494</td>\n",
       "    </tr>\n",
       "  </tbody>\n",
       "</table>\n",
       "</div>"
      ],
      "text/plain": [
       "        aircraft_model  seats  fuel_minute  price_fuel_mean\n",
       "0       Boeing 737-300    130    40.000000           40.494\n",
       "1  Sukhoi Superjet-100     97    28.333333           40.494"
      ]
     },
     "execution_count": 87,
     "metadata": {},
     "output_type": "execute_result"
    }
   ],
   "source": [
    "aircrafts = pd.DataFrame()\n",
    "aircrafts['aircraft_model'] = ['Boeing 737-300','Sukhoi Superjet-100']  # модели\n",
    "aircrafts['seats'] = [130,97]  # количество мест в самолетах\n",
    "aircrafts['fuel_minute'] = [2400/60,1700/60]  # расход топлива кг/мин.\n",
    "aircrafts['price_fuel_mean'] = [40.494,40.494]  # средняя стоимость топлива в Анапе в январе-феврале 2017 за 1 кг.\n",
    "aircrafts"
   ]
  },
  {
   "cell_type": "markdown",
   "id": "0f648312",
   "metadata": {},
   "source": [
    "Теперь соединим датафреймы"
   ]
  },
  {
   "cell_type": "code",
   "execution_count": 88,
   "id": "d32d6e11",
   "metadata": {},
   "outputs": [],
   "source": [
    "data = data.merge(aircrafts, on = 'aircraft_model', how = 'left')"
   ]
  },
  {
   "cell_type": "code",
   "execution_count": 89,
   "id": "58e834cd",
   "metadata": {},
   "outputs": [],
   "source": [
    "data['seats_otnosit'] = data['sold_tickets'] / data['seats']  # заполненность рейса\n",
    "data['fuel_cost'] = data['flight_minutes_fact'] * data['fuel_minute'] * data['price_fuel_mean']  # стоимость топлива за рейс\n",
    "data['profit'] = data['money_sold_tickets'] - data['fuel_cost']  # прибыль как разница стоимости билетов и затратами за топливо"
   ]
  },
  {
   "cell_type": "markdown",
   "id": "ff3fa99f",
   "metadata": {},
   "source": [
    "## Анализ вылетов из Анапы в зимний период 2017 года"
   ]
  },
  {
   "cell_type": "code",
   "execution_count": 107,
   "id": "5e2df947",
   "metadata": {},
   "outputs": [
    {
     "name": "stderr",
     "output_type": "stream",
     "text": [
      "/Users/sunshine/opt/anaconda3/lib/python3.8/site-packages/seaborn/distributions.py:2557: FutureWarning: `distplot` is a deprecated function and will be removed in a future version. Please adapt your code to use either `displot` (a figure-level function with similar flexibility) or `histplot` (an axes-level function for histograms).\n",
      "  warnings.warn(msg, FutureWarning)\n",
      "/Users/sunshine/opt/anaconda3/lib/python3.8/site-packages/seaborn/distributions.py:2557: FutureWarning: `distplot` is a deprecated function and will be removed in a future version. Please adapt your code to use either `displot` (a figure-level function with similar flexibility) or `histplot` (an axes-level function for histograms).\n",
      "  warnings.warn(msg, FutureWarning)\n"
     ]
    },
    {
     "data": {
      "image/png": "[encoded data removed]",
      "text/plain": [
       "<Figure size 864x576 with 1 Axes>"
      ]
     },
     "metadata": {
      "needs_background": "light"
     },
     "output_type": "display_data"
    }
   ],
   "source": [
    "# Построим на одном графике гистограмму распределния прибыли по рейсам в Москву и Белгород\n",
    "plt.rcParams[\"figure.figsize\"] = (12, 8)\n",
    "sns.distplot(data[\"profit\"][data[\"arrival_city\"] == 'Moscow'], bins = 20)\n",
    "sns.distplot(data[\"profit\"][data[\"arrival_city\"] == 'Belgorod'], bins = 20)\n",
    "plt.legend(['Moscow - Boeing 737-300', 'Belgorod - Sukhoi Superjet-100'])\n",
    "plt.show()"
   ]
  },
  {
   "cell_type": "markdown",
   "id": "a00cc97a",
   "metadata": {},
   "source": [
    "Поскольку из Анапы в Белгород летает только одна модель самолета, то она ограничена по своему количеству мест, а следовательно, и по прибыли. Поскольку билеты в Москву стоят дороже, и в модели самолета, который летает в Москву мест больше (130 против 97) - то и значения прибыли - выше."
   ]
  },
  {
   "cell_type": "markdown",
   "id": "6e372b7a",
   "metadata": {},
   "source": [
    "## Анализ вылетов из Анапы в Москву"
   ]
  },
  {
   "cell_type": "code",
   "execution_count": 108,
   "id": "7d2fb21b",
   "metadata": {
    "scrolled": true
   },
   "outputs": [
    {
     "data": {
      "image/png": "[encoded data removed]",
      "text/plain": [
       "<Figure size 864x576 with 1 Axes>"
      ]
     },
     "metadata": {
      "needs_background": "light"
     },
     "output_type": "display_data"
    }
   ],
   "source": [
    "# Прибыль по всем рейсам из Анапы в Москву \n",
    "sns.barplot(x = 'date_departure_planed', y = 'profit', data = data.query('arrival_city == \"Moscow\"'))\n",
    "plt.title('Прибыль рейсов из Анапы в Москву')\n",
    "plt.ylim(1000000, 1750000)\n",
    "plt.xlabel('Дата отправления')\n",
    "plt.ylabel('Прибыль с рейса')\n",
    "plt.xticks(rotation=90)\n",
    "plt.show()"
   ]
  },
  {
   "cell_type": "code",
   "execution_count": 92,
   "id": "604ab59b",
   "metadata": {},
   "outputs": [
    {
     "data": {
      "text/plain": [
       "1480874.806779661"
      ]
     },
     "execution_count": 92,
     "metadata": {},
     "output_type": "execute_result"
    }
   ],
   "source": [
    "# Средняя прибыль рейсов из Анапы в Москву\n",
    "data.query('arrival_city == \"Moscow\"').profit.mean()"
   ]
  },
  {
   "cell_type": "code",
   "execution_count": 93,
   "id": "91319e6e",
   "metadata": {
    "scrolled": true
   },
   "outputs": [
    {
     "data": {
      "image/png": "[encoded data removed]",
      "text/plain": [
       "<Figure size 864x576 with 1 Axes>"
      ]
     },
     "metadata": {
      "needs_background": "light"
     },
     "output_type": "display_data"
    }
   ],
   "source": [
    "# Заполненность салона по всем рейсам из Анапы в Москву \n",
    "sns.barplot(x = 'date_departure_planed', y = 'seats_otnosit', data = data.query('arrival_city == \"Moscow\"'))\n",
    "plt.title('Заполненность салона рейсов из Анапы в Москву')\n",
    "plt.ylim(0.6, 1.02)\n",
    "plt.xlabel('Дата отправления')\n",
    "plt.ylabel('Заполненность салона')\n",
    "plt.xticks(rotation=90)\n",
    "plt.show()"
   ]
  },
  {
   "cell_type": "code",
   "execution_count": 94,
   "id": "80f2f832",
   "metadata": {},
   "outputs": [
    {
     "data": {
      "text/plain": [
       "0.8701434159061276"
      ]
     },
     "execution_count": 94,
     "metadata": {},
     "output_type": "execute_result"
    }
   ],
   "source": [
    "# Средняя заполненность салона рейсов из Анапы в Москву\n",
    "data.query('arrival_city == \"Moscow\"').seats_otnosit.mean()"
   ]
  },
  {
   "cell_type": "markdown",
   "id": "7cef812b",
   "metadata": {},
   "source": [
    "Выведем 5 рейсов в Москву с минимальной прибылью и 6 рейсов с минимальной заполненностью салона:"
   ]
  },
  {
   "cell_type": "code",
   "execution_count": 95,
   "id": "5949beb3",
   "metadata": {
    "scrolled": true
   },
   "outputs": [
    {
     "data": {
      "text/plain": [
       "16    1236024.00\n",
       "76    1244204.24\n",
       "14    1269024.00\n",
       "56    1274243.76\n",
       "70    1293424.00\n",
       "Name: profit, dtype: float64"
      ]
     },
     "execution_count": 95,
     "metadata": {},
     "output_type": "execute_result"
    }
   ],
   "source": [
    "# 5 рейсов из Анапы в Москву с минимальной прибылью\n",
    "data.query('arrival_city == \"Moscow\"').profit.sort_values(ascending = True).head(5)"
   ]
  },
  {
   "cell_type": "code",
   "execution_count": 96,
   "id": "e1a39868",
   "metadata": {},
   "outputs": [
    {
     "data": {
      "text/plain": [
       "70    0.746154\n",
       "14    0.746154\n",
       "56    0.761538\n",
       "76    0.761538\n",
       "8     0.769231\n",
       "16    0.769231\n",
       "Name: seats_otnosit, dtype: float64"
      ]
     },
     "execution_count": 96,
     "metadata": {},
     "output_type": "execute_result"
    }
   ],
   "source": [
    "# 6 рейсов из Анапы в Москву с минимальной заполненностью салона\n",
    "data.query('arrival_city == \"Moscow\"').seats_otnosit.sort_values(ascending = True).head(6)"
   ]
  },
  {
   "cell_type": "markdown",
   "id": "02c585ef",
   "metadata": {},
   "source": [
    "Выводя рейсы с минимальной заполняенностью, данные 5 рейсов входят в топ-6 худших по заполненности. Поскольку фактор прибыльности рейса более важен, чпем заполненность (кроме того, существует прямая зависимость этих факторов), далее будем рассматривать только прибыльность рейсов."
   ]
  },
  {
   "cell_type": "code",
   "execution_count": 97,
   "id": "8696bac1",
   "metadata": {
    "scrolled": true
   },
   "outputs": [
    {
     "data": {
      "text/html": [
       "<div>\n",
       "<style scoped>\n",
       "    .dataframe tbody tr th:only-of-type {\n",
       "        vertical-align: middle;\n",
       "    }\n",
       "\n",
       "    .dataframe tbody tr th {\n",
       "        vertical-align: top;\n",
       "    }\n",
       "\n",
       "    .dataframe thead th {\n",
       "        text-align: right;\n",
       "    }\n",
       "</style>\n",
       "<table border=\"1\" class=\"dataframe\">\n",
       "  <thead>\n",
       "    <tr style=\"text-align: right;\">\n",
       "      <th></th>\n",
       "      <th>flight_id</th>\n",
       "      <th>arrival_city</th>\n",
       "      <th>date_departure_planed</th>\n",
       "      <th>sold_tickets</th>\n",
       "      <th>money_sold_tickets</th>\n",
       "      <th>day_of_week</th>\n",
       "      <th>flight_minutes_fact</th>\n",
       "      <th>departure_delay</th>\n",
       "      <th>aircraft_model</th>\n",
       "      <th>seats</th>\n",
       "      <th>fuel_minute</th>\n",
       "      <th>price_fuel_mean</th>\n",
       "      <th>seats_otnosit</th>\n",
       "      <th>fuel_cost</th>\n",
       "      <th>profit</th>\n",
       "    </tr>\n",
       "  </thead>\n",
       "  <tbody>\n",
       "    <tr>\n",
       "      <th>16</th>\n",
       "      <td>136464</td>\n",
       "      <td>Moscow</td>\n",
       "      <td>9 - 01</td>\n",
       "      <td>100</td>\n",
       "      <td>1398000</td>\n",
       "      <td>1</td>\n",
       "      <td>100</td>\n",
       "      <td>2</td>\n",
       "      <td>Boeing 737-300</td>\n",
       "      <td>130</td>\n",
       "      <td>40.0</td>\n",
       "      <td>40.494</td>\n",
       "      <td>0.769231</td>\n",
       "      <td>161976.00</td>\n",
       "      <td>1236024.00</td>\n",
       "    </tr>\n",
       "    <tr>\n",
       "      <th>76</th>\n",
       "      <td>136250</td>\n",
       "      <td>Moscow</td>\n",
       "      <td>8 - 02</td>\n",
       "      <td>99</td>\n",
       "      <td>1407800</td>\n",
       "      <td>3</td>\n",
       "      <td>101</td>\n",
       "      <td>1</td>\n",
       "      <td>Boeing 737-300</td>\n",
       "      <td>130</td>\n",
       "      <td>40.0</td>\n",
       "      <td>40.494</td>\n",
       "      <td>0.761538</td>\n",
       "      <td>163595.76</td>\n",
       "      <td>1244204.24</td>\n",
       "    </tr>\n",
       "    <tr>\n",
       "      <th>14</th>\n",
       "      <td>136122</td>\n",
       "      <td>Moscow</td>\n",
       "      <td>8 - 01</td>\n",
       "      <td>97</td>\n",
       "      <td>1431000</td>\n",
       "      <td>7</td>\n",
       "      <td>100</td>\n",
       "      <td>3</td>\n",
       "      <td>Boeing 737-300</td>\n",
       "      <td>130</td>\n",
       "      <td>40.0</td>\n",
       "      <td>40.494</td>\n",
       "      <td>0.746154</td>\n",
       "      <td>161976.00</td>\n",
       "      <td>1269024.00</td>\n",
       "    </tr>\n",
       "    <tr>\n",
       "      <th>56</th>\n",
       "      <td>136178</td>\n",
       "      <td>Moscow</td>\n",
       "      <td>29 - 01</td>\n",
       "      <td>99</td>\n",
       "      <td>1434600</td>\n",
       "      <td>7</td>\n",
       "      <td>99</td>\n",
       "      <td>5</td>\n",
       "      <td>Boeing 737-300</td>\n",
       "      <td>130</td>\n",
       "      <td>40.0</td>\n",
       "      <td>40.494</td>\n",
       "      <td>0.761538</td>\n",
       "      <td>160356.24</td>\n",
       "      <td>1274243.76</td>\n",
       "    </tr>\n",
       "    <tr>\n",
       "      <th>70</th>\n",
       "      <td>136360</td>\n",
       "      <td>Moscow</td>\n",
       "      <td>5 - 02</td>\n",
       "      <td>97</td>\n",
       "      <td>1455400</td>\n",
       "      <td>7</td>\n",
       "      <td>100</td>\n",
       "      <td>3</td>\n",
       "      <td>Boeing 737-300</td>\n",
       "      <td>130</td>\n",
       "      <td>40.0</td>\n",
       "      <td>40.494</td>\n",
       "      <td>0.746154</td>\n",
       "      <td>161976.00</td>\n",
       "      <td>1293424.00</td>\n",
       "    </tr>\n",
       "  </tbody>\n",
       "</table>\n",
       "</div>"
      ],
      "text/plain": [
       "    flight_id arrival_city date_departure_planed  sold_tickets  \\\n",
       "16     136464       Moscow                9 - 01           100   \n",
       "76     136250       Moscow                8 - 02            99   \n",
       "14     136122       Moscow                8 - 01            97   \n",
       "56     136178       Moscow               29 - 01            99   \n",
       "70     136360       Moscow                5 - 02            97   \n",
       "\n",
       "    money_sold_tickets  day_of_week  flight_minutes_fact  departure_delay  \\\n",
       "16             1398000            1                  100                2   \n",
       "76             1407800            3                  101                1   \n",
       "14             1431000            7                  100                3   \n",
       "56             1434600            7                   99                5   \n",
       "70             1455400            7                  100                3   \n",
       "\n",
       "    aircraft_model  seats  fuel_minute  price_fuel_mean  seats_otnosit  \\\n",
       "16  Boeing 737-300    130         40.0           40.494       0.769231   \n",
       "76  Boeing 737-300    130         40.0           40.494       0.761538   \n",
       "14  Boeing 737-300    130         40.0           40.494       0.746154   \n",
       "56  Boeing 737-300    130         40.0           40.494       0.761538   \n",
       "70  Boeing 737-300    130         40.0           40.494       0.746154   \n",
       "\n",
       "    fuel_cost      profit  \n",
       "16  161976.00  1236024.00  \n",
       "76  163595.76  1244204.24  \n",
       "14  161976.00  1269024.00  \n",
       "56  160356.24  1274243.76  \n",
       "70  161976.00  1293424.00  "
      ]
     },
     "execution_count": 97,
     "metadata": {},
     "output_type": "execute_result"
    }
   ],
   "source": [
    "# 5 рейсов из Анапы в Москву с минимальной прибылью\n",
    "indexes = data.query('arrival_city == \"Moscow\"').profit.sort_values(ascending = True).head(5).index\n",
    "data.iloc[indexes].sort_values('profit')"
   ]
  },
  {
   "cell_type": "markdown",
   "id": "d2b087aa",
   "metadata": {},
   "source": [
    "Все 5 рейсов - имеют примерно одинаковую заполненность салона (от 97 до 100 билетов продано). \n",
    "\n",
    "Однако, исходя из общей картины по рейсам в Москву предлагаю убрать 4 рейса, а именно:\n",
    "1) Рейс № 136122 - вылет 8 января (воскресенье);\n",
    "2) Рейс № 136250 - вылет 8 февраля (среда);\n",
    "3) Рейс № 136178 - вылет 29 января (воскресенье);\n",
    "4) Рейс № 136360 - вылет 5 февраля (воскресенье);\n",
    "\n",
    "Касаемо рейса № 136464 (9 января понедельник) - его предлагаю оставить, поскольку из-за того, что у берем рейс № 136122 - пассажиры купят билеты на соседние даты, а с учетом того, что это новогодние праздники - будут стараться улететь как можно позже. Поэтому, выбирая из примерно одинаковых по прибыльности рейсов 8 и 9 января предлагается убрать именно ерйс 8 января, а рейс 9 января оставить.\n",
    "\n",
    "Интересный тренд - среди 5 минимальных по прибыльности рейсов, 3 рейса - с вылетом в воскресенье. Проверим среднюю прибыльность по дням недели:"
   ]
  },
  {
   "cell_type": "code",
   "execution_count": 98,
   "id": "c1439fb3",
   "metadata": {
    "scrolled": true
   },
   "outputs": [
    {
     "data": {
      "image/png": "[encoded data removed]",
      "text/plain": [
       "<Figure size 864x576 with 1 Axes>"
      ]
     },
     "metadata": {
      "needs_background": "light"
     },
     "output_type": "display_data"
    }
   ],
   "source": [
    "sns.barplot(x = 'day_of_week', y = 'profit', data = data.query('arrival_city == \"Moscow\"'));\n",
    "plt.title('Средняя прибыль от рейсов в Москву по дням недели (1 - пн, 7 - вс)')\n",
    "plt.ylim(1000000, 1700000)\n",
    "plt.xlabel('День недели')\n",
    "plt.ylabel('Средняя прибыль')\n",
    "plt.show()"
   ]
  },
  {
   "cell_type": "markdown",
   "id": "bbc1e5eb",
   "metadata": {},
   "source": [
    "Вывод: средняя прибыль по воскресеньям ниже, чем в остальные дни. Тот факт, что убираем 4 рейса, среди которых 3 рейса - с вылетом в воскресенье подтверждает правильность наших выводов."
   ]
  },
  {
   "cell_type": "markdown",
   "id": "7054d692",
   "metadata": {},
   "source": [
    "## Перейдем к анализу рейсов из Анапы в Белгород, аналогично вылетам в Москву"
   ]
  },
  {
   "cell_type": "code",
   "execution_count": 99,
   "id": "39ef7f06",
   "metadata": {},
   "outputs": [
    {
     "data": {
      "image/png": "[encoded data removed]",
      "text/plain": [
       "<Figure size 864x576 with 1 Axes>"
      ]
     },
     "metadata": {
      "needs_background": "light"
     },
     "output_type": "display_data"
    }
   ],
   "source": [
    "# Прибыль по всем рейсам из Анапы в Белгород\n",
    "plt.rcParams[\"figure.figsize\"] = (12, 8)\n",
    "sns.barplot(x = 'date_departure_planed', y = 'profit', data = data.query('arrival_city == \"Belgorod\"'))\n",
    "plt.title('Прибыль рейсов из Анапы в Белгород')\n",
    "plt.ylim(400000, 750000)\n",
    "plt.xlabel('Дата отправления')\n",
    "plt.ylabel('Прибыль с рейса')\n",
    "plt.xticks(rotation=90)\n",
    "plt.show()"
   ]
  },
  {
   "cell_type": "code",
   "execution_count": 100,
   "id": "0909903e",
   "metadata": {},
   "outputs": [
    {
     "data": {
      "text/plain": [
       "652971.8618644068"
      ]
     },
     "execution_count": 100,
     "metadata": {},
     "output_type": "execute_result"
    }
   ],
   "source": [
    "# Средняя прибыль рейсов из Анапы в Белгород\n",
    "data.query('arrival_city == \"Belgorod\"').profit.mean()"
   ]
  },
  {
   "cell_type": "code",
   "execution_count": 101,
   "id": "759bedba",
   "metadata": {
    "scrolled": true
   },
   "outputs": [
    {
     "data": {
      "image/png": "[encoded data removed]",
      "text/plain": [
       "<Figure size 864x576 with 1 Axes>"
      ]
     },
     "metadata": {
      "needs_background": "light"
     },
     "output_type": "display_data"
    }
   ],
   "source": [
    "# Заполненность салона по всем рейсам из Анапы в Белгород\n",
    "plt.rcParams[\"figure.figsize\"] = (12, 8)\n",
    "sns.barplot(x = 'date_departure_planed', y = 'seats_otnosit', data = data.query('arrival_city == \"Belgorod\"'))\n",
    "plt.title('Заполненность салона рейсов из Анапы в Белгород')\n",
    "plt.ylim(0.6, 1.02)\n",
    "plt.xlabel('Дата отправления')\n",
    "plt.ylabel('Заполненность салона')\n",
    "plt.xticks(rotation=90)\n",
    "plt.show()"
   ]
  },
  {
   "cell_type": "code",
   "execution_count": 102,
   "id": "ae051901",
   "metadata": {},
   "outputs": [
    {
     "data": {
      "text/plain": [
       "0.9297571203914029"
      ]
     },
     "execution_count": 102,
     "metadata": {},
     "output_type": "execute_result"
    }
   ],
   "source": [
    "# Средняя заполненность салонов рейсов из Анапы в Белгород\n",
    "data.query('arrival_city == \"Belgorod\"').seats_otnosit.mean()"
   ]
  },
  {
   "cell_type": "markdown",
   "id": "d741f056",
   "metadata": {},
   "source": [
    "Выведем 5 рейсов в Белгород с минимальной прибылью и 6 рейсов с минимальной заполненностью салона:"
   ]
  },
  {
   "cell_type": "code",
   "execution_count": 103,
   "id": "8d8f8524",
   "metadata": {
    "scrolled": true
   },
   "outputs": [
    {
     "data": {
      "text/plain": [
       "107    473633.50\n",
       "59     474780.83\n",
       "117    517733.50\n",
       "39     538980.83\n",
       "83     550433.50\n",
       "Name: profit, dtype: float64"
      ]
     },
     "execution_count": 103,
     "metadata": {},
     "output_type": "execute_result"
    }
   ],
   "source": [
    "# 5 рейсов из Анапы в Белгород с минимальной прибылью\n",
    "data.query('arrival_city == \"Belgorod\"').profit.sort_values(ascending = True).head(5)"
   ]
  },
  {
   "cell_type": "code",
   "execution_count": 104,
   "id": "b0781cd8",
   "metadata": {},
   "outputs": [
    {
     "data": {
      "text/plain": [
       "59     0.659794\n",
       "107    0.701031\n",
       "83     0.783505\n",
       "71     0.804124\n",
       "39     0.804124\n",
       "95     0.814433\n",
       "89     0.814433\n",
       "117    0.814433\n",
       "Name: seats_otnosit, dtype: float64"
      ]
     },
     "execution_count": 104,
     "metadata": {},
     "output_type": "execute_result"
    }
   ],
   "source": [
    "# 6 рейсов из Анапы в Белгород с минимальной заполненностью салона\n",
    "data.query('arrival_city == \"Belgorod\"').seats_otnosit.sort_values(ascending = True).head(8)"
   ]
  },
  {
   "cell_type": "markdown",
   "id": "7d6e592d",
   "metadata": {},
   "source": [
    "Выводя рейсы с минимальной заполняенностью, данные 5 рейсов входят в топ-8 худших по заполненности. Поскольку фактор прибыльности рейса более важен, чпем заполненность (кроме того, существует прямая зависимость этих факторов), далее будем рассматривать только прибыльность рейсов."
   ]
  },
  {
   "cell_type": "code",
   "execution_count": 105,
   "id": "e60c4274",
   "metadata": {
    "scrolled": true
   },
   "outputs": [
    {
     "data": {
      "text/html": [
       "<div>\n",
       "<style scoped>\n",
       "    .dataframe tbody tr th:only-of-type {\n",
       "        vertical-align: middle;\n",
       "    }\n",
       "\n",
       "    .dataframe tbody tr th {\n",
       "        vertical-align: top;\n",
       "    }\n",
       "\n",
       "    .dataframe thead th {\n",
       "        text-align: right;\n",
       "    }\n",
       "</style>\n",
       "<table border=\"1\" class=\"dataframe\">\n",
       "  <thead>\n",
       "    <tr style=\"text-align: right;\">\n",
       "      <th></th>\n",
       "      <th>flight_id</th>\n",
       "      <th>arrival_city</th>\n",
       "      <th>date_departure_planed</th>\n",
       "      <th>sold_tickets</th>\n",
       "      <th>money_sold_tickets</th>\n",
       "      <th>day_of_week</th>\n",
       "      <th>flight_minutes_fact</th>\n",
       "      <th>departure_delay</th>\n",
       "      <th>aircraft_model</th>\n",
       "      <th>seats</th>\n",
       "      <th>fuel_minute</th>\n",
       "      <th>price_fuel_mean</th>\n",
       "      <th>seats_otnosit</th>\n",
       "      <th>fuel_cost</th>\n",
       "      <th>profit</th>\n",
       "    </tr>\n",
       "  </thead>\n",
       "  <tbody>\n",
       "    <tr>\n",
       "      <th>107</th>\n",
       "      <td>136807</td>\n",
       "      <td>Belgorod</td>\n",
       "      <td>23 - 02</td>\n",
       "      <td>68</td>\n",
       "      <td>531000</td>\n",
       "      <td>4</td>\n",
       "      <td>50</td>\n",
       "      <td>3</td>\n",
       "      <td>Sukhoi Superjet-100</td>\n",
       "      <td>97</td>\n",
       "      <td>28.333333</td>\n",
       "      <td>40.494</td>\n",
       "      <td>0.701031</td>\n",
       "      <td>57366.50</td>\n",
       "      <td>473633.50</td>\n",
       "    </tr>\n",
       "    <tr>\n",
       "      <th>59</th>\n",
       "      <td>136642</td>\n",
       "      <td>Belgorod</td>\n",
       "      <td>30 - 01</td>\n",
       "      <td>64</td>\n",
       "      <td>531000</td>\n",
       "      <td>1</td>\n",
       "      <td>49</td>\n",
       "      <td>3</td>\n",
       "      <td>Sukhoi Superjet-100</td>\n",
       "      <td>97</td>\n",
       "      <td>28.333333</td>\n",
       "      <td>40.494</td>\n",
       "      <td>0.659794</td>\n",
       "      <td>56219.17</td>\n",
       "      <td>474780.83</td>\n",
       "    </tr>\n",
       "    <tr>\n",
       "      <th>117</th>\n",
       "      <td>136844</td>\n",
       "      <td>Belgorod</td>\n",
       "      <td>28 - 02</td>\n",
       "      <td>79</td>\n",
       "      <td>575100</td>\n",
       "      <td>2</td>\n",
       "      <td>50</td>\n",
       "      <td>1</td>\n",
       "      <td>Sukhoi Superjet-100</td>\n",
       "      <td>97</td>\n",
       "      <td>28.333333</td>\n",
       "      <td>40.494</td>\n",
       "      <td>0.814433</td>\n",
       "      <td>57366.50</td>\n",
       "      <td>517733.50</td>\n",
       "    </tr>\n",
       "    <tr>\n",
       "      <th>39</th>\n",
       "      <td>136887</td>\n",
       "      <td>Belgorod</td>\n",
       "      <td>20 - 01</td>\n",
       "      <td>78</td>\n",
       "      <td>595200</td>\n",
       "      <td>5</td>\n",
       "      <td>49</td>\n",
       "      <td>5</td>\n",
       "      <td>Sukhoi Superjet-100</td>\n",
       "      <td>97</td>\n",
       "      <td>28.333333</td>\n",
       "      <td>40.494</td>\n",
       "      <td>0.804124</td>\n",
       "      <td>56219.17</td>\n",
       "      <td>538980.83</td>\n",
       "    </tr>\n",
       "    <tr>\n",
       "      <th>83</th>\n",
       "      <td>136922</td>\n",
       "      <td>Belgorod</td>\n",
       "      <td>11 - 02</td>\n",
       "      <td>76</td>\n",
       "      <td>607800</td>\n",
       "      <td>6</td>\n",
       "      <td>50</td>\n",
       "      <td>2</td>\n",
       "      <td>Sukhoi Superjet-100</td>\n",
       "      <td>97</td>\n",
       "      <td>28.333333</td>\n",
       "      <td>40.494</td>\n",
       "      <td>0.783505</td>\n",
       "      <td>57366.50</td>\n",
       "      <td>550433.50</td>\n",
       "    </tr>\n",
       "  </tbody>\n",
       "</table>\n",
       "</div>"
      ],
      "text/plain": [
       "     flight_id arrival_city date_departure_planed  sold_tickets  \\\n",
       "107     136807     Belgorod               23 - 02            68   \n",
       "59      136642     Belgorod               30 - 01            64   \n",
       "117     136844     Belgorod               28 - 02            79   \n",
       "39      136887     Belgorod               20 - 01            78   \n",
       "83      136922     Belgorod               11 - 02            76   \n",
       "\n",
       "     money_sold_tickets  day_of_week  flight_minutes_fact  departure_delay  \\\n",
       "107              531000            4                   50                3   \n",
       "59               531000            1                   49                3   \n",
       "117              575100            2                   50                1   \n",
       "39               595200            5                   49                5   \n",
       "83               607800            6                   50                2   \n",
       "\n",
       "          aircraft_model  seats  fuel_minute  price_fuel_mean  seats_otnosit  \\\n",
       "107  Sukhoi Superjet-100     97    28.333333           40.494       0.701031   \n",
       "59   Sukhoi Superjet-100     97    28.333333           40.494       0.659794   \n",
       "117  Sukhoi Superjet-100     97    28.333333           40.494       0.814433   \n",
       "39   Sukhoi Superjet-100     97    28.333333           40.494       0.804124   \n",
       "83   Sukhoi Superjet-100     97    28.333333           40.494       0.783505   \n",
       "\n",
       "     fuel_cost     profit  \n",
       "107   57366.50  473633.50  \n",
       "59    56219.17  474780.83  \n",
       "117   57366.50  517733.50  \n",
       "39    56219.17  538980.83  \n",
       "83    57366.50  550433.50  "
      ]
     },
     "execution_count": 105,
     "metadata": {},
     "output_type": "execute_result"
    }
   ],
   "source": [
    "# 5 рейсов из Анапы в Белгород с минимальной прибылью\n",
    "indexes = data.query('arrival_city == \"Belgorod\"').profit.sort_values(ascending = True).head(5).index\n",
    "data.iloc[indexes].sort_values('profit')"
   ]
  },
  {
   "cell_type": "markdown",
   "id": "b2118e62",
   "metadata": {},
   "source": [
    "Все 5 рейсов - имеют невысокую заполненность салона (от 64 до 79 билетов продано из 97 мест суммарно). \n",
    "\n",
    "Однако, исходя из общей картины по рейсам в Белгород предлагаю убрать 4 рейса, которые наиболее сильно выбиваются по низкому значению прибыли:\n",
    "1) Рейс № 136807 - вылет 23 февраля (четверг);\n",
    "2) Рейс № 136642 - вылет 30 января (понедельник);\n",
    "3) Рейс № 136844 - вылет 28 февраля (вторник);\n",
    "4) Рейс № 136887 - вылет 20 января (пятница);\n",
    "\n",
    "Именно эти 4 рейса крайне выделяются среди остальных (можно увидеть по графику прибыли по рейсам).\n",
    "\n",
    "Интересно посмотреть на ситуацию с вылетами в Белгоролд по средней прибыли по дням недели:"
   ]
  },
  {
   "cell_type": "code",
   "execution_count": 106,
   "id": "5167d1bd",
   "metadata": {
    "scrolled": true
   },
   "outputs": [
    {
     "data": {
      "image/png": "[encoded data removed]",
      "text/plain": [
       "<Figure size 864x576 with 1 Axes>"
      ]
     },
     "metadata": {
      "needs_background": "light"
     },
     "output_type": "display_data"
    }
   ],
   "source": [
    "sns.barplot(x = 'day_of_week', y = 'profit', data = data.query('arrival_city == \"Belgorod\"'));\n",
    "plt.title('Средняя прибыль от рейсов в Белгород по дням недели (1 - пн, 7 - вс)')\n",
    "plt.ylim(400000, 750000)\n",
    "plt.xlabel('День недели')\n",
    "plt.ylabel('Средняя прибыль')\n",
    "plt.show()"
   ]
  },
  {
   "cell_type": "markdown",
   "id": "2d3adae8",
   "metadata": {},
   "source": [
    "Вывод: средняя прибыль по понедельникам ниже всего. Здесь видно, что по средам самая высокая средняя прибыль, и разброс в этот день самый маленький. Можно с уверенностью сказать, что в среду выгоднее всего запускать рейсы из анапы в Белгород."
   ]
  },
  {
   "cell_type": "markdown",
   "id": "de8dcc3f",
   "metadata": {},
   "source": [
    "# Выводы по проекту:"
   ]
  },
  {
   "cell_type": "markdown",
   "id": "1f322202",
   "metadata": {},
   "source": [
    "1. В датасете имеется 127 строк, среди которых 9 - вылеты в Новокузнецк, данные о продажах билетов и их стоимости отсутствуют. Поэтому дальнейший анализ проводился по 118 строкам - вылеты из Анапы в Моску (59 шт) и в Белгород (59 шт).\n",
    "\n",
    "\n",
    "2. В датасете отсутствуют данные по декабрю 2017 года. Это связано с отстутствием этих значений в Базе данных.\n",
    "\n",
    "\n",
    "3. Представлено всего 2 модели самолетов, которые совершали вылеты: в Москву - Boeing 737-300; в Белгород - Sukhoi Superjet-100. Данные по расходу топлива, количеству мест и стоимости топлива в январе-феврале 2017 года добавлены к существующему датасету.\n",
    "\n",
    "\n",
    "4. Средняя прибыль рейсов из Анапы в Москву - 1.480.874 руб.; в Белгород - 652.971 руб.\n",
    "\n",
    "\n",
    "5. Средняя заполненность салона рейсов из Анапы в Москву - 0,87; в Белгород - 0,93.\n",
    "\n",
    "\n",
    "6. Предложено убрать 4 рейса в Москву (каждый из этих рейсов - имеет показатели прибыли и заполненности ниже, чем средние по рейсам): \n",
    "    1) Рейс № 136122 - вылет 8 января (воскресенье);\n",
    "    2) Рейс № 136250 - вылет 8 февраля (среда);\n",
    "    3) Рейс № 136178 - вылет 29 января (воскресенье);\n",
    "    4) Рейс № 136360 - вылет 5 февраля (воскресенье).\n",
    "    \n",
    "    \n",
    "7. Предложено убрать 4 рейса в Белгород (каждый из этих рейсов - имеет показатели прибыли и заполненности ниже, чем средние по рейсам): \n",
    "    1) Рейс № 136807 - вылет 23 февраля (четверг); \n",
    "    2) Рейс № 136642 - вылет 30 января (понедельник);\n",
    "    3) Рейс № 136844 - вылет 28 февраля (вторник);\n",
    "    4) Рейс № 136887 - вылет 20 января (пятница).\n",
    "    \n",
    "    \n",
    "8. Среди рейсов в Москву видно, что в воскресенье - самые низкие показатели по прибыли. Среди 4 рейсов, которые предложены к сокращению - 3 с вылетами в воскресенье."
   ]
  },
  {
   "cell_type": "code",
   "execution_count": null,
   "id": "77d64b58",
   "metadata": {},
   "outputs": [],
   "source": []
  }
 ],
 "metadata": {
  "kernelspec": {
   "display_name": "Python 3",
   "language": "python",
   "name": "python3"
  },
  "language_info": {
   "codemirror_mode": {
    "name": "ipython",
    "version": 3
   },
   "file_extension": ".py",
   "mimetype": "text/x-python",
   "name": "python",
   "nbconvert_exporter": "python",
   "pygments_lexer": "ipython3",
   "version": "3.8.8"
  },
  "varInspector": {
   "cols": {
    "lenName": 16,
    "lenType": 16,
    "lenVar": 40
   },
   "kernels_config": {
    "python": {
     "delete_cmd_postfix": "",
     "delete_cmd_prefix": "del ",
     "library": "var_list.py",
     "varRefreshCmd": "print(var_dic_list())"
    },
    "r": {
     "delete_cmd_postfix": ") ",
     "delete_cmd_prefix": "rm(",
     "library": "var_list.r",
     "varRefreshCmd": "cat(var_dic_list()) "
    }
   },
   "types_to_exclude": [
    "module",
    "function",
    "builtin_function_or_method",
    "instance",
    "_Feature"
   ],
   "window_display": false
  }
 },
 "nbformat": 4,
 "nbformat_minor": 5
}
