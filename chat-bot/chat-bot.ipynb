{
 "cells": [
  {
   "cell_type": "markdown",
   "id": "ca97ebd7",
   "metadata": {},
   "source": [
    "# Проект \"чат-бот\""
   ]
  },
  {
   "cell_type": "markdown",
   "id": "2fecfa65",
   "metadata": {},
   "source": [
    "В чат-боте реализована оценка запроса, в результате которого идет либо обращение в \"болталку\" (ответы с мэйл.ру) либо поиск по действительно поисковому запросу - данные id товара и его title"
   ]
  },
  {
   "cell_type": "markdown",
   "id": "d2229a3e",
   "metadata": {},
   "source": [
    "## Импортируем библиотеки"
   ]
  },
  {
   "cell_type": "code",
   "execution_count": 1,
   "id": "00250974",
   "metadata": {},
   "outputs": [],
   "source": [
    "import os\n",
    "import string\n",
    "import annoy\n",
    "\n",
    "from pymorphy2 import MorphAnalyzer\n",
    "from stop_words import get_stop_words\n",
    "from gensim.models import Word2Vec\n",
    "\n",
    "import numpy as np\n",
    "from tqdm import tqdm_notebook\n",
    "import pandas as pd"
   ]
  },
  {
   "cell_type": "markdown",
   "id": "67379838",
   "metadata": {},
   "source": [
    "## Предобработка текста, чтобы обучить word2vec и получить эмбеддинги. Удаляем знаки препинания и делаем лемматизацию"
   ]
  },
  {
   "cell_type": "code",
   "execution_count": 184,
   "id": "f410cbdc",
   "metadata": {},
   "outputs": [],
   "source": [
    "# Функция предобработки текста\n",
    "def preprocess_txt(line):\n",
    "    spls = \"\".join(i for i in line.strip() if i not in exclude).split()\n",
    "    spls = [morpher.parse(i.lower())[0].normal_form for i in spls]\n",
    "    spls = [i for i in spls if i not in sw and i != \"\"]\n",
    "    return spls"
   ]
  },
  {
   "cell_type": "markdown",
   "id": "fb4e0e0e",
   "metadata": {},
   "source": [
    "## Работа над \"болталкой\""
   ]
  },
  {
   "cell_type": "code",
   "execution_count": 5,
   "id": "ce3d118d",
   "metadata": {},
   "outputs": [
    {
     "name": "stderr",
     "output_type": "stream",
     "text": [
      "<ipython-input-5-22e9d148421c>:9: TqdmDeprecationWarning: This function will be removed in tqdm==5.0.0\n",
      "Please use `tqdm.notebook.tqdm` instead of `tqdm.tqdm_notebook`\n",
      "  for line in tqdm_notebook(fin):\n"
     ]
    },
    {
     "data": {
      "application/vnd.jupyter.widget-view+json": {
       "model_id": "",
       "version_major": 2,
       "version_minor": 0
      },
      "text/plain": [
       "0it [00:00, ?it/s]"
      ]
     },
     "metadata": {},
     "output_type": "display_data"
    }
   ],
   "source": [
    "sentences = []\n",
    "\n",
    "morpher = MorphAnalyzer()\n",
    "sw = set(get_stop_words(\"ru\"))\n",
    "exclude = set(string.punctuation)\n",
    "c = 0\n",
    "\n",
    "with open(\"Otvety.txt\", \"r\") as fin:\n",
    "    for line in tqdm_notebook(fin):\n",
    "        spls = preprocess_txt(line)\n",
    "        sentences.append(spls)\n",
    "        c += 1\n",
    "        if c > 500000:\n",
    "            break"
   ]
  },
  {
   "cell_type": "code",
   "execution_count": 185,
   "id": "c6d1d9dc",
   "metadata": {},
   "outputs": [],
   "source": [
    "# Обучаем модель word2vec на вопросах sentences\n",
    "sentences = [i for i in sentences if len(i) > 2]\n",
    "model = Word2Vec(sentences=sentences, vector_size=100, min_count=1, window=5)\n",
    "model.save(\"w2v_model\")"
   ]
  },
  {
   "cell_type": "code",
   "execution_count": 2,
   "id": "75c7012e",
   "metadata": {
    "scrolled": false
   },
   "outputs": [
    {
     "name": "stderr",
     "output_type": "stream",
     "text": [
      "<ipython-input-2-2f773e5bf4ec>:8: TqdmDeprecationWarning: This function will be removed in tqdm==5.0.0\n",
      "Please use `tqdm.notebook.tqdm` instead of `tqdm.tqdm_notebook`\n",
      "  for line in tqdm_notebook(fin):\n"
     ]
    },
    {
     "data": {
      "application/vnd.jupyter.widget-view+json": {
       "model_id": "",
       "version_major": 2,
       "version_minor": 0
      },
      "text/plain": [
       "0it [00:00, ?it/s]"
      ]
     },
     "metadata": {},
     "output_type": "display_data"
    }
   ],
   "source": [
    "question = None\n",
    "written = False\n",
    "\n",
    "#Мы идем по всем записям, берем первую строку как вопрос\n",
    "# и после знака --- находим ответ\n",
    "with open(\"prepared_answers.txt\", \"w\") as fout:\n",
    "    with open(\"Otvety.txt\", \"r\") as fin:\n",
    "        for line in tqdm_notebook(fin):\n",
    "            if line.startswith(\"---\"):\n",
    "                written = False\n",
    "                continue\n",
    "            if not written and question is not None:\n",
    "                fout.write(question.replace(\"\\t\", \" \").strip() + \"\\t\" + line.replace(\"\\t\", \" \"))\n",
    "                written = True\n",
    "                question = None\n",
    "                continue\n",
    "            if not written:\n",
    "                question = line.strip()\n",
    "                continue"
   ]
  },
  {
   "cell_type": "markdown",
   "id": "842c3220",
   "metadata": {},
   "source": [
    "Теперь нам нужно сложить в индекс все вопросы. Используем библиотеку annoy. Проходимся по всем ответам, считаем, что вектор предложения - усредненная сумма word2vecов слов, которые входят в него"
   ]
  },
  {
   "cell_type": "code",
   "execution_count": 7,
   "id": "088fea7b",
   "metadata": {},
   "outputs": [
    {
     "name": "stderr",
     "output_type": "stream",
     "text": [
      "<ipython-input-7-461dd520c7f8>:7: TqdmDeprecationWarning: This function will be removed in tqdm==5.0.0\n",
      "Please use `tqdm.notebook.tqdm` instead of `tqdm.tqdm_notebook`\n",
      "  for line in tqdm_notebook(f):\n"
     ]
    },
    {
     "data": {
      "application/vnd.jupyter.widget-view+json": {
       "model_id": "",
       "version_major": 2,
       "version_minor": 0
      },
      "text/plain": [
       "0it [00:00, ?it/s]"
      ]
     },
     "metadata": {},
     "output_type": "display_data"
    },
    {
     "data": {
      "text/plain": [
       "True"
      ]
     },
     "execution_count": 7,
     "metadata": {},
     "output_type": "execute_result"
    }
   ],
   "source": [
    "# Индексируем\n",
    "index = annoy.AnnoyIndex(100 ,'angular')\n",
    "\n",
    "index_map = {}\n",
    "counter = 0\n",
    "\n",
    "with open(\"prepared_answers.txt\", \"r\") as f:\n",
    "    for line in tqdm_notebook(f):\n",
    "        n_w2v = 0\n",
    "        spls = line.split(\"\\t\")\n",
    "        index_map[counter] = spls[1]\n",
    "        question = preprocess_txt(spls[0])\n",
    "        vector = np.zeros(100)\n",
    "        for word in question:\n",
    "            if word in model.wv:\n",
    "                vector += model.wv[word]\n",
    "                n_w2v += 1\n",
    "        if n_w2v > 0:\n",
    "            vector = vector / n_w2v\n",
    "        index.add_item(counter, vector)\n",
    "            \n",
    "        counter += 1\n",
    "\n",
    "index.build(10)\n",
    "index.save('speaker.ann')"
   ]
  },
  {
   "cell_type": "markdown",
   "id": "7d2157f7",
   "metadata": {},
   "source": [
    "## Работа над продуктовым запросом"
   ]
  },
  {
   "cell_type": "code",
   "execution_count": 186,
   "id": "2b997173",
   "metadata": {
    "scrolled": true
   },
   "outputs": [
    {
     "data": {
      "text/html": [
       "<div>\n",
       "<style scoped>\n",
       "    .dataframe tbody tr th:only-of-type {\n",
       "        vertical-align: middle;\n",
       "    }\n",
       "\n",
       "    .dataframe tbody tr th {\n",
       "        vertical-align: top;\n",
       "    }\n",
       "\n",
       "    .dataframe thead th {\n",
       "        text-align: right;\n",
       "    }\n",
       "</style>\n",
       "<table border=\"1\" class=\"dataframe\">\n",
       "  <thead>\n",
       "    <tr style=\"text-align: right;\">\n",
       "      <th></th>\n",
       "      <th>product_id</th>\n",
       "      <th>title</th>\n",
       "      <th>answer</th>\n",
       "    </tr>\n",
       "  </thead>\n",
       "  <tbody>\n",
       "    <tr>\n",
       "      <th>0</th>\n",
       "      <td>58e3cfe6132ca50e053f5f82</td>\n",
       "      <td>Юбка детская ORBY</td>\n",
       "      <td>58e3cfe6132ca50e053f5f82 Юбка детская ORBY</td>\n",
       "    </tr>\n",
       "    <tr>\n",
       "      <th>1</th>\n",
       "      <td>5667531b2b7f8d127d838c34</td>\n",
       "      <td>Ботильоны</td>\n",
       "      <td>5667531b2b7f8d127d838c34 Ботильоны</td>\n",
       "    </tr>\n",
       "    <tr>\n",
       "      <th>2</th>\n",
       "      <td>59534826aaab284cba337e06</td>\n",
       "      <td>Брюки</td>\n",
       "      <td>59534826aaab284cba337e06 Брюки</td>\n",
       "    </tr>\n",
       "    <tr>\n",
       "      <th>3</th>\n",
       "      <td>57de544096ad842e26de8027</td>\n",
       "      <td>Продам детские шапки</td>\n",
       "      <td>57de544096ad842e26de8027 Продам детские шапки</td>\n",
       "    </tr>\n",
       "    <tr>\n",
       "      <th>4</th>\n",
       "      <td>5ad4d2626c86cb168d212022</td>\n",
       "      <td>Блузка</td>\n",
       "      <td>5ad4d2626c86cb168d212022 Блузка</td>\n",
       "    </tr>\n",
       "  </tbody>\n",
       "</table>\n",
       "</div>"
      ],
      "text/plain": [
       "                 product_id                 title  \\\n",
       "0  58e3cfe6132ca50e053f5f82     Юбка детская ORBY   \n",
       "1  5667531b2b7f8d127d838c34             Ботильоны   \n",
       "2  59534826aaab284cba337e06                 Брюки   \n",
       "3  57de544096ad842e26de8027  Продам детские шапки   \n",
       "4  5ad4d2626c86cb168d212022                Блузка   \n",
       "\n",
       "                                          answer  \n",
       "0     58e3cfe6132ca50e053f5f82 Юбка детская ORBY  \n",
       "1             5667531b2b7f8d127d838c34 Ботильоны  \n",
       "2                 59534826aaab284cba337e06 Брюки  \n",
       "3  57de544096ad842e26de8027 Продам детские шапки  \n",
       "4                5ad4d2626c86cb168d212022 Блузка  "
      ]
     },
     "execution_count": 186,
     "metadata": {},
     "output_type": "execute_result"
    }
   ],
   "source": [
    "# Загружаем датасет, убирая лишние столбцы\n",
    "modul_dataset = pd.read_csv('ProductsDataset.csv')\n",
    "cols = ['product_id', 'title']\n",
    "modul_dataset = modul_dataset[cols]\n",
    "\n",
    "# Убираем строки с пустыми product_id\n",
    "modul_dataset = modul_dataset.dropna(subset=['product_id'])\n",
    "\n",
    "# Реализуем столбец для будущих ответов\n",
    "modul_dataset['answer'] = modul_dataset[cols].apply(lambda row: ' '.join(row.values.astype(str)), axis=1)\n",
    "\n",
    "modul_dataset.head()"
   ]
  },
  {
   "cell_type": "code",
   "execution_count": 187,
   "id": "0a365c41",
   "metadata": {},
   "outputs": [],
   "source": [
    "# Обучаем модель word2vec на названиях товаров title\n",
    "\n",
    "titles = []\n",
    "for line in  modul_dataset['title']:\n",
    "    title = preprocess_txt(line)\n",
    "    titles.append(title)\n",
    "    c += 1\n",
    "    \n",
    "titles_for_model = [i for i in titles if len(i)>2]\n",
    "\n",
    "model_product = Word2Vec(sentences=titles_for_model, vector_size=100, min_count=1, window=5)\n",
    "model_product.save(\"w2v_product_model\")"
   ]
  },
  {
   "cell_type": "code",
   "execution_count": 188,
   "id": "60dca334",
   "metadata": {
    "scrolled": true
   },
   "outputs": [
    {
     "data": {
      "text/plain": [
       "True"
      ]
     },
     "execution_count": 188,
     "metadata": {},
     "output_type": "execute_result"
    }
   ],
   "source": [
    "# Индексируем\n",
    "index_product = annoy.AnnoyIndex(100 ,'angular')\n",
    "\n",
    "index_map_product = {}\n",
    "counter_product = 0\n",
    "\n",
    "for line in modul_dataset['answer'].str.split(' ', n=1):\n",
    "    n_w2v_product = 0\n",
    "    index_map_product[counter_product] = line[0] + ' ' + line[1]\n",
    "    question = preprocess_txt(line[1])\n",
    "    vector_product = np.zeros(100)\n",
    "    for word in question:\n",
    "        if word in model_product.wv:\n",
    "            vector_product += model_product.wv[word]\n",
    "            n_w2v_product += 1\n",
    "    if n_w2v_product > 0:\n",
    "        vector_product = vector_product / n_w2v_product\n",
    "    index_product.add_item(counter_product, vector_product)\n",
    "            \n",
    "    counter_product += 1\n",
    "\n",
    "index_product.build(10)\n",
    "index_product.save('speaker_product.ann')"
   ]
  },
  {
   "cell_type": "markdown",
   "id": "ac73536f",
   "metadata": {},
   "source": [
    "## Обучаем классификатор запроса - продуктовый или болтовня (Логистическая регрессия)"
   ]
  },
  {
   "cell_type": "code",
   "execution_count": 189,
   "id": "374c8dd9",
   "metadata": {},
   "outputs": [],
   "source": [
    "from sklearn.linear_model import LogisticRegression\n",
    "from sklearn.feature_extraction.text import TfidfVectorizer\n",
    "from sklearn.model_selection import train_test_split\n",
    "from sklearn.metrics import accuracy_score, precision_score, recall_score, f1_score"
   ]
  },
  {
   "cell_type": "markdown",
   "id": "14c16533",
   "metadata": {},
   "source": [
    "Собираем датасет для построения модели"
   ]
  },
  {
   "cell_type": "code",
   "execution_count": 244,
   "id": "3603bb4c",
   "metadata": {},
   "outputs": [],
   "source": [
    "# Датасет из болталки\n",
    "df_sentences = pd.DataFrame()\n",
    "df_sentences['question'] = sentences\n",
    "df_sentences['question'] = df_sentences['question'].apply(' '.join)\n",
    "df_sentences['target'] = 0"
   ]
  },
  {
   "cell_type": "code",
   "execution_count": 245,
   "id": "835fffa5",
   "metadata": {},
   "outputs": [],
   "source": [
    "# Датасет из продуктовых данных\n",
    "df_titles = pd.DataFrame()\n",
    "df_titles['question'] = titles_for_model\n",
    "df_titles['question'] = df_titles['question'].apply(' '.join)\n",
    "df_titles['target'] = 1"
   ]
  },
  {
   "cell_type": "code",
   "execution_count": 246,
   "id": "c052d4e1",
   "metadata": {
    "scrolled": false
   },
   "outputs": [],
   "source": [
    "# Итоговый датасет\n",
    "df_result = pd.concat([df_sentences, df_titles])"
   ]
  },
  {
   "cell_type": "code",
   "execution_count": 247,
   "id": "9aea3026",
   "metadata": {},
   "outputs": [],
   "source": [
    "# Разбиваем на train - test\n",
    "x = df_result.question\n",
    "y = df_result.target\n",
    "x_train, x_test, y_train, y_test = train_test_split(x, y, test_size = 0.2)"
   ]
  },
  {
   "cell_type": "code",
   "execution_count": 248,
   "id": "4891e7fc",
   "metadata": {},
   "outputs": [],
   "source": [
    "# Векторизируем\n",
    "vectorizer = TfidfVectorizer()\n",
    "values = vectorizer.fit(x_train, y_train)"
   ]
  },
  {
   "cell_type": "code",
   "execution_count": 249,
   "id": "7f3c7298",
   "metadata": {},
   "outputs": [],
   "source": [
    "x_train = values.transform(x_train)\n",
    "y_train = np.array(y_train)\n",
    "\n",
    "x_test = values.transform(x_test)\n",
    "y_test = np.array(y_test)"
   ]
  },
  {
   "cell_type": "code",
   "execution_count": 250,
   "id": "1726aa97",
   "metadata": {},
   "outputs": [
    {
     "data": {
      "text/plain": [
       "LogisticRegression()"
      ]
     },
     "execution_count": 250,
     "metadata": {},
     "output_type": "execute_result"
    }
   ],
   "source": [
    "# Логистическая регрессия\n",
    "clf_model = LogisticRegression()\n",
    "clf_model.fit(x_train, y_train)"
   ]
  },
  {
   "cell_type": "code",
   "execution_count": 251,
   "id": "5ebd2a16",
   "metadata": {},
   "outputs": [
    {
     "name": "stdout",
     "output_type": "stream",
     "text": [
      "0.9898188529836417\n"
     ]
    }
   ],
   "source": [
    "# Предсказываем значения на тестовой выборке\n",
    "predictions = clf_model.predict(x_test)\n",
    "\n",
    "# Точность классификации\n",
    "print(accuracy_score(y_test, predictions))"
   ]
  },
  {
   "cell_type": "markdown",
   "id": "8b21e3ea",
   "metadata": {},
   "source": [
    "## Сводим обе модели (болтовня + запрос) с классификатором и заворачиваем в одну функцию get_answer()"
   ]
  },
  {
   "cell_type": "code",
   "execution_count": 253,
   "id": "54e8512c",
   "metadata": {},
   "outputs": [],
   "source": [
    "# Итоговая функция по модели\n",
    "def get_answer(question):\n",
    "    \"\"\"Функция получения ответа на вопрос\"\"\"\n",
    "    preprocessed_question = preprocess_txt(question)\n",
    "    preprocessed_question = \" \".join(c for c in preprocessed_question)\n",
    "    n_w2v = 0\n",
    "    vector = np.zeros(100)\n",
    "    question_vec = vectorizer.transform([preprocessed_question])\n",
    "    print(clf_model.predict(question_vec))\n",
    "    if clf_model.predict(question_vec) == 0:  # Определяем болтовня (0) или запрос (1)\n",
    "        for word in preprocessed_question:\n",
    "            if word in model.wv:\n",
    "                vector += model.wv[word]\n",
    "                n_w2v += 1\n",
    "        if n_w2v > 0:\n",
    "            vector = vector / n_w2v\n",
    "        answer_index = index.get_nns_by_vector(vector, 1)\n",
    "        return index_map[answer_index[0]]  # Выводим ответ\n",
    "    elif clf_model.predict(question_vec) == 1:   # Определяем болтовня (0) или запрос (1)\n",
    "        for word in preprocessed_question:\n",
    "            if word in model_product.wv:\n",
    "                vector += model_product.wv[word]\n",
    "                n_w2v += 1\n",
    "        if n_w2v > 0:\n",
    "            vector = vector / n_w2v\n",
    "        answer_index = index_product.get_nns_by_vector(vector, 1)\n",
    "        return index_map_product[answer_index[0]] # Выводим ответ"
   ]
  },
  {
   "cell_type": "code",
   "execution_count": 220,
   "id": "349f3503",
   "metadata": {},
   "outputs": [],
   "source": [
    "# Тестовая функция для болтовни\n",
    "# def get_answer_0(question):\n",
    "#     preprocessed_question = preprocess_txt(question)\n",
    "#     n_w2v = 0\n",
    "#     vector = np.zeros(100)\n",
    "#     for word in preprocessed_question:\n",
    "#         if word in model.wv:\n",
    "#             vector += model.wv[word]\n",
    "#             n_w2v += 1\n",
    "#     if n_w2v > 0:\n",
    "#         vector = vector / n_w2v\n",
    "#     answer_index = index.get_nns_by_vector(vector, 1)\n",
    "#     return index_map[answer_index[0]]"
   ]
  },
  {
   "cell_type": "code",
   "execution_count": 221,
   "id": "90a39955",
   "metadata": {},
   "outputs": [],
   "source": [
    "# Тестовая функция для продуктового запроса\n",
    "# def get_answer_1(question):\n",
    "#     preprocessed_question = preprocess_txt(question)\n",
    "#     n_w2v = 0\n",
    "#     vector = np.zeros(100)\n",
    "#     for word in preprocessed_question:\n",
    "#         if word in model_product.wv:\n",
    "#             vector += model_product.wv[word]\n",
    "#             n_w2v += 1\n",
    "#     if n_w2v > 0:\n",
    "#         vector = vector / n_w2v\n",
    "#     answer_index = index_product.get_nns_by_vector(vector, 1)\n",
    "#     return index_map_product[answer_index[0]]"
   ]
  },
  {
   "cell_type": "code",
   "execution_count": 264,
   "id": "fd220218",
   "metadata": {},
   "outputs": [
    {
     "name": "stdout",
     "output_type": "stream",
     "text": [
      "[1]\n"
     ]
    },
    {
     "data": {
      "text/plain": [
       "'59afc7a0dbdf0f353234bb03 Летние шорты, размер 48-50'"
      ]
     },
     "execution_count": 264,
     "metadata": {},
     "output_type": "execute_result"
    }
   ],
   "source": [
    "get_answer('брюки')"
   ]
  }
 ],
 "metadata": {
  "kernelspec": {
   "display_name": "Python 3",
   "language": "python",
   "name": "python3"
  },
  "language_info": {
   "codemirror_mode": {
    "name": "ipython",
    "version": 3
   },
   "file_extension": ".py",
   "mimetype": "text/x-python",
   "name": "python",
   "nbconvert_exporter": "python",
   "pygments_lexer": "ipython3",
   "version": "3.8.8"
  },
  "varInspector": {
   "cols": {
    "lenName": 16,
    "lenType": 16,
    "lenVar": 40
   },
   "kernels_config": {
    "python": {
     "delete_cmd_postfix": "",
     "delete_cmd_prefix": "del ",
     "library": "var_list.py",
     "varRefreshCmd": "print(var_dic_list())"
    },
    "r": {
     "delete_cmd_postfix": ") ",
     "delete_cmd_prefix": "rm(",
     "library": "var_list.r",
     "varRefreshCmd": "cat(var_dic_list()) "
    }
   },
   "types_to_exclude": [
    "module",
    "function",
    "builtin_function_or_method",
    "instance",
    "_Feature"
   ],
   "window_display": false
  }
 },
 "nbformat": 4,
 "nbformat_minor": 5
}
